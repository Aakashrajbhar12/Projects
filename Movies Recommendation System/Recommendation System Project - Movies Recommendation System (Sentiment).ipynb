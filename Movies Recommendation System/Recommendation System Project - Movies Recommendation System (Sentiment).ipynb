{
 "cells": [
  {
   "cell_type": "markdown",
   "id": "926d9216",
   "metadata": {},
   "source": [
    "### Recommendation System Project - Movies Recommendation System (Sentiment)"
   ]
  },
  {
   "cell_type": "code",
   "execution_count": 1,
   "id": "ad0c50e6",
   "metadata": {},
   "outputs": [],
   "source": [
    "#Importing Required Libaries\n",
    "import pandas as pd\n",
    "import numpy as np\n",
    "\n",
    "#NLP \n",
    "import nltk\n",
    "from nltk.corpus import stopwords\n",
    "from sklearn.feature_extraction.text import TfidfVectorizer\n",
    "\n",
    "#For Model Building\n",
    "from sklearn import naive_bayes\n",
    "from sklearn.model_selection import train_test_split\n",
    "from sklearn.metrics import accuracy_score\n",
    "\n",
    "#To Save the Model.\n",
    "import pickle\n",
    "\n",
    "import warnings\n",
    "warnings.filterwarnings(\"ignore\")  #--to ignore warnings"
   ]
  },
  {
   "cell_type": "code",
   "execution_count": 2,
   "id": "d42895b1",
   "metadata": {},
   "outputs": [
    {
     "data": {
      "text/html": [
       "<div>\n",
       "<style scoped>\n",
       "    .dataframe tbody tr th:only-of-type {\n",
       "        vertical-align: middle;\n",
       "    }\n",
       "\n",
       "    .dataframe tbody tr th {\n",
       "        vertical-align: top;\n",
       "    }\n",
       "\n",
       "    .dataframe thead th {\n",
       "        text-align: right;\n",
       "    }\n",
       "</style>\n",
       "<table border=\"1\" class=\"dataframe\">\n",
       "  <thead>\n",
       "    <tr style=\"text-align: right;\">\n",
       "      <th></th>\n",
       "      <th>Reviews</th>\n",
       "      <th>Comments</th>\n",
       "    </tr>\n",
       "  </thead>\n",
       "  <tbody>\n",
       "    <tr>\n",
       "      <th>0</th>\n",
       "      <td>1</td>\n",
       "      <td>The Da Vinci Code book is just awesome.</td>\n",
       "    </tr>\n",
       "    <tr>\n",
       "      <th>1</th>\n",
       "      <td>1</td>\n",
       "      <td>this was the first clive cussler i've ever rea...</td>\n",
       "    </tr>\n",
       "    <tr>\n",
       "      <th>2</th>\n",
       "      <td>1</td>\n",
       "      <td>i liked the Da Vinci Code a lot.</td>\n",
       "    </tr>\n",
       "    <tr>\n",
       "      <th>3</th>\n",
       "      <td>1</td>\n",
       "      <td>i liked the Da Vinci Code a lot.</td>\n",
       "    </tr>\n",
       "    <tr>\n",
       "      <th>4</th>\n",
       "      <td>1</td>\n",
       "      <td>I liked the Da Vinci Code but it ultimatly did...</td>\n",
       "    </tr>\n",
       "  </tbody>\n",
       "</table>\n",
       "</div>"
      ],
      "text/plain": [
       "   Reviews                                           Comments\n",
       "0        1            The Da Vinci Code book is just awesome.\n",
       "1        1  this was the first clive cussler i've ever rea...\n",
       "2        1                   i liked the Da Vinci Code a lot.\n",
       "3        1                   i liked the Da Vinci Code a lot.\n",
       "4        1  I liked the Da Vinci Code but it ultimatly did..."
      ]
     },
     "execution_count": 2,
     "metadata": {},
     "output_type": "execute_result"
    }
   ],
   "source": [
    "#Loading the reviews file\n",
    "reviews = pd.read_csv('C:/Users/Akaash/Downloads/reviews.txt',sep = '\\t', names = ['Reviews','Comments'])\n",
    "reviews.head()"
   ]
  },
  {
   "cell_type": "markdown",
   "id": "1f7cc745",
   "metadata": {},
   "source": [
    "Inference: 1 beens Positive 0 been Negative reviews"
   ]
  },
  {
   "cell_type": "markdown",
   "id": "dc92ae4a",
   "metadata": {},
   "source": [
    "#### Vectorizing"
   ]
  },
  {
   "cell_type": "code",
   "execution_count": 3,
   "id": "0ff39dbc",
   "metadata": {},
   "outputs": [],
   "source": [
    "#Initializing the stopwords\n",
    "stopset = set(stopwords.words('english'))\n",
    "#Initialize\n",
    "vectorizer = TfidfVectorizer(use_idf = True,lowercase = True, strip_accents='ascii',stop_words=stopset)"
   ]
  },
  {
   "cell_type": "code",
   "execution_count": 4,
   "id": "cd30acee",
   "metadata": {},
   "outputs": [],
   "source": [
    "X = vectorizer.fit_transform(reviews.Comments)\n",
    "y = reviews.Reviews\n",
    "#Dumping the vectorizer\n",
    "pickle.dump(vectorizer, open('C:/Users/Akaash/Downloads/vectorizer.pkl', 'wb'))"
   ]
  },
  {
   "cell_type": "markdown",
   "id": "be0b5742",
   "metadata": {},
   "source": [
    "#### Train Test Split"
   ]
  },
  {
   "cell_type": "code",
   "execution_count": 5,
   "id": "a9bf2fa4",
   "metadata": {},
   "outputs": [],
   "source": [
    "#Splitting\n",
    "X_train, X_test, y_train, y_test = train_test_split(X, y, test_size=0.20, random_state=42)"
   ]
  },
  {
   "cell_type": "markdown",
   "id": "249dea17",
   "metadata": {},
   "source": [
    "#### Building Model (Naive Bayes)"
   ]
  },
  {
   "cell_type": "code",
   "execution_count": 6,
   "id": "ed6cb730",
   "metadata": {},
   "outputs": [
    {
     "data": {
      "text/plain": [
       "97.47109826589595"
      ]
     },
     "execution_count": 6,
     "metadata": {},
     "output_type": "execute_result"
    }
   ],
   "source": [
    "#Initializing the Model\n",
    "clf = naive_bayes.MultinomialNB()\n",
    "#Training on Splitted Data\n",
    "clf.fit(X_train,y_train)\n",
    "#Checking Accuracy\n",
    "accuracy_score(y_test,clf.predict(X_test))*100"
   ]
  },
  {
   "cell_type": "code",
   "execution_count": 7,
   "id": "cce522d8",
   "metadata": {},
   "outputs": [
    {
     "data": {
      "text/plain": [
       "98.77167630057804"
      ]
     },
     "execution_count": 7,
     "metadata": {},
     "output_type": "execute_result"
    }
   ],
   "source": [
    "#Building on Entire Data\n",
    "clf.fit(X,y)\n",
    "#Checking Accuracy\n",
    "accuracy_score(y_test,clf.predict(X_test))*100"
   ]
  },
  {
   "cell_type": "markdown",
   "id": "e41a5cc9",
   "metadata": {},
   "source": [
    "#### Saving the Model"
   ]
  },
  {
   "cell_type": "code",
   "execution_count": 8,
   "id": "84d34942",
   "metadata": {},
   "outputs": [],
   "source": [
    "#Saving\n",
    "pickle.dump(clf, open('C:/Users/Akaash/Downloads/sentiment.pkl', 'wb'))"
   ]
  }
 ],
 "metadata": {
  "kernelspec": {
   "display_name": "Python 3 (ipykernel)",
   "language": "python",
   "name": "python3"
  },
  "language_info": {
   "codemirror_mode": {
    "name": "ipython",
    "version": 3
   },
   "file_extension": ".py",
   "mimetype": "text/x-python",
   "name": "python",
   "nbconvert_exporter": "python",
   "pygments_lexer": "ipython3",
   "version": "3.9.7"
  }
 },
 "nbformat": 4,
 "nbformat_minor": 5
}
