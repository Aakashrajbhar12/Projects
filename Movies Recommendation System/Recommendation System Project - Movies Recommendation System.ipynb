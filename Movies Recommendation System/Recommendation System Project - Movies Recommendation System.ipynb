{
 "cells": [
  {
   "cell_type": "markdown",
   "id": "5ca7ca7a",
   "metadata": {},
   "source": [
    "### Project - Movies Recommendation System\n",
    "\n",
    "Dataset - Kaggle TMDB Movies Dataset\n",
    "\n",
    "Content based Recommendation System\n",
    "\n",
    "Approach:\n",
    "\n",
    "1.Merge Both the Dataset (Dataset with Movies till 2016 + Dataset of Movies 2017)\n",
    "\n",
    "2.Then will Web Scrape for Movies of 2018,2019,2020,2021,2022 (Wikipedia & TMDB Database site)\n",
    "\n",
    "3.Will Create a Features Called \"Detail\" that will include the Genres,overview keywords, Top 3 Cast & Lastly Director Names.\n",
    "\n",
    "4.Now will Create Vector of Each Movies Using the Detail Feature.\n",
    "\n",
    "5.Movies will be recommended based on Simliar Vector.\n",
    "\n",
    "6.So When a User Enters his/her Favorite Movies. then Based on that Movies.similar Movies will be Recommended using the cosine similarity technique"
   ]
  },
  {
   "cell_type": "code",
   "execution_count": 1,
   "id": "e81f09e5",
   "metadata": {},
   "outputs": [],
   "source": [
    "#Importing the Required Libaries\n",
    "import numpy as np\n",
    "import pandas as pd\n",
    "import ast\n",
    "import matplotlib.pyplot as plt\n",
    "\n",
    "# For Movie Web Scrapping\n",
    "from tmdbv3api import TMDb\n",
    "from tmdbv3api import Movie\n",
    "import json\n",
    "import requests\n",
    "\n",
    "#Model & Feature Extraction\n",
    "from sklearn.feature_extraction.text import CountVectorizer\n",
    "from sklearn.metrics.pairwise import cosine_similarity\n",
    "\n",
    "#To Save the Model.\n",
    "import pickle\n",
    "\n",
    "import warnings\n",
    "warnings.filterwarnings(\"ignore\")  #--to ignore warnings"
   ]
  },
  {
   "cell_type": "code",
   "execution_count": 2,
   "id": "f00ebc59",
   "metadata": {},
   "outputs": [],
   "source": [
    "#Loading the Dataset\n",
    "movies = pd.read_csv('C:/Users/Akaash/Downloads/movies_data.csv')\n",
    "credits = pd.read_csv('C:/Users/Akaash/Downloads/credits.csv')"
   ]
  },
  {
   "cell_type": "code",
   "execution_count": 3,
   "id": "6af0b3dc",
   "metadata": {},
   "outputs": [
    {
     "data": {
      "text/html": [
       "<div>\n",
       "<style scoped>\n",
       "    .dataframe tbody tr th:only-of-type {\n",
       "        vertical-align: middle;\n",
       "    }\n",
       "\n",
       "    .dataframe tbody tr th {\n",
       "        vertical-align: top;\n",
       "    }\n",
       "\n",
       "    .dataframe thead th {\n",
       "        text-align: right;\n",
       "    }\n",
       "</style>\n",
       "<table border=\"1\" class=\"dataframe\">\n",
       "  <thead>\n",
       "    <tr style=\"text-align: right;\">\n",
       "      <th></th>\n",
       "      <th>budget</th>\n",
       "      <th>genres</th>\n",
       "      <th>homepage</th>\n",
       "      <th>id</th>\n",
       "      <th>keywords</th>\n",
       "      <th>original_language</th>\n",
       "      <th>original_title</th>\n",
       "      <th>overview</th>\n",
       "      <th>popularity</th>\n",
       "      <th>production_companies</th>\n",
       "      <th>production_countries</th>\n",
       "      <th>release_date</th>\n",
       "      <th>revenue</th>\n",
       "      <th>runtime</th>\n",
       "      <th>spoken_languages</th>\n",
       "      <th>status</th>\n",
       "      <th>tagline</th>\n",
       "      <th>title</th>\n",
       "      <th>vote_average</th>\n",
       "      <th>vote_count</th>\n",
       "    </tr>\n",
       "  </thead>\n",
       "  <tbody>\n",
       "    <tr>\n",
       "      <th>0</th>\n",
       "      <td>237000000</td>\n",
       "      <td>[{\"id\": 28, \"name\": \"Action\"}, {\"id\": 12, \"nam...</td>\n",
       "      <td>http://www.avatarmovie.com/</td>\n",
       "      <td>19995</td>\n",
       "      <td>[{\"id\": 1463, \"name\": \"culture clash\"}, {\"id\":...</td>\n",
       "      <td>en</td>\n",
       "      <td>Avatar</td>\n",
       "      <td>In the 22nd century, a paraplegic Marine is di...</td>\n",
       "      <td>150.437577</td>\n",
       "      <td>[{\"name\": \"Ingenious Film Partners\", \"id\": 289...</td>\n",
       "      <td>[{\"iso_3166_1\": \"US\", \"name\": \"United States o...</td>\n",
       "      <td>2009-12-10</td>\n",
       "      <td>2787965087</td>\n",
       "      <td>162.0</td>\n",
       "      <td>[{\"iso_639_1\": \"en\", \"name\": \"English\"}, {\"iso...</td>\n",
       "      <td>Released</td>\n",
       "      <td>Enter the World of Pandora.</td>\n",
       "      <td>Avatar</td>\n",
       "      <td>7.2</td>\n",
       "      <td>11800</td>\n",
       "    </tr>\n",
       "    <tr>\n",
       "      <th>1</th>\n",
       "      <td>300000000</td>\n",
       "      <td>[{\"id\": 12, \"name\": \"Adventure\"}, {\"id\": 14, \"...</td>\n",
       "      <td>http://disney.go.com/disneypictures/pirates/</td>\n",
       "      <td>285</td>\n",
       "      <td>[{\"id\": 270, \"name\": \"ocean\"}, {\"id\": 726, \"na...</td>\n",
       "      <td>en</td>\n",
       "      <td>Pirates of the Caribbean: At World's End</td>\n",
       "      <td>Captain Barbossa, long believed to be dead, ha...</td>\n",
       "      <td>139.082615</td>\n",
       "      <td>[{\"name\": \"Walt Disney Pictures\", \"id\": 2}, {\"...</td>\n",
       "      <td>[{\"iso_3166_1\": \"US\", \"name\": \"United States o...</td>\n",
       "      <td>2007-05-19</td>\n",
       "      <td>961000000</td>\n",
       "      <td>169.0</td>\n",
       "      <td>[{\"iso_639_1\": \"en\", \"name\": \"English\"}]</td>\n",
       "      <td>Released</td>\n",
       "      <td>At the end of the world, the adventure begins.</td>\n",
       "      <td>Pirates of the Caribbean: At World's End</td>\n",
       "      <td>6.9</td>\n",
       "      <td>4500</td>\n",
       "    </tr>\n",
       "  </tbody>\n",
       "</table>\n",
       "</div>"
      ],
      "text/plain": [
       "      budget                                             genres  \\\n",
       "0  237000000  [{\"id\": 28, \"name\": \"Action\"}, {\"id\": 12, \"nam...   \n",
       "1  300000000  [{\"id\": 12, \"name\": \"Adventure\"}, {\"id\": 14, \"...   \n",
       "\n",
       "                                       homepage     id  \\\n",
       "0                   http://www.avatarmovie.com/  19995   \n",
       "1  http://disney.go.com/disneypictures/pirates/    285   \n",
       "\n",
       "                                            keywords original_language  \\\n",
       "0  [{\"id\": 1463, \"name\": \"culture clash\"}, {\"id\":...                en   \n",
       "1  [{\"id\": 270, \"name\": \"ocean\"}, {\"id\": 726, \"na...                en   \n",
       "\n",
       "                             original_title  \\\n",
       "0                                    Avatar   \n",
       "1  Pirates of the Caribbean: At World's End   \n",
       "\n",
       "                                            overview  popularity  \\\n",
       "0  In the 22nd century, a paraplegic Marine is di...  150.437577   \n",
       "1  Captain Barbossa, long believed to be dead, ha...  139.082615   \n",
       "\n",
       "                                production_companies  \\\n",
       "0  [{\"name\": \"Ingenious Film Partners\", \"id\": 289...   \n",
       "1  [{\"name\": \"Walt Disney Pictures\", \"id\": 2}, {\"...   \n",
       "\n",
       "                                production_countries release_date     revenue  \\\n",
       "0  [{\"iso_3166_1\": \"US\", \"name\": \"United States o...   2009-12-10  2787965087   \n",
       "1  [{\"iso_3166_1\": \"US\", \"name\": \"United States o...   2007-05-19   961000000   \n",
       "\n",
       "   runtime                                   spoken_languages    status  \\\n",
       "0    162.0  [{\"iso_639_1\": \"en\", \"name\": \"English\"}, {\"iso...  Released   \n",
       "1    169.0           [{\"iso_639_1\": \"en\", \"name\": \"English\"}]  Released   \n",
       "\n",
       "                                          tagline  \\\n",
       "0                     Enter the World of Pandora.   \n",
       "1  At the end of the world, the adventure begins.   \n",
       "\n",
       "                                      title  vote_average  vote_count  \n",
       "0                                    Avatar           7.2       11800  \n",
       "1  Pirates of the Caribbean: At World's End           6.9        4500  "
      ]
     },
     "execution_count": 3,
     "metadata": {},
     "output_type": "execute_result"
    }
   ],
   "source": [
    "#Checking movies Data\n",
    "movies.head(2)"
   ]
  },
  {
   "cell_type": "code",
   "execution_count": 4,
   "id": "f9b0bc52",
   "metadata": {},
   "outputs": [
    {
     "data": {
      "text/plain": [
       "(4803, 20)"
      ]
     },
     "execution_count": 4,
     "metadata": {},
     "output_type": "execute_result"
    }
   ],
   "source": [
    "#Checking the Shape of Movies Dataset\n",
    "movies.shape"
   ]
  },
  {
   "cell_type": "code",
   "execution_count": 5,
   "id": "bf5b6697",
   "metadata": {},
   "outputs": [
    {
     "data": {
      "text/plain": [
       "1916.0      1\n",
       "1925.0      1\n",
       "1927.0      1\n",
       "1929.0      2\n",
       "1930.0      1\n",
       "         ... \n",
       "2013.0    231\n",
       "2014.0    238\n",
       "2015.0    216\n",
       "2016.0    104\n",
       "2017.0      1\n",
       "Name: year, Length: 90, dtype: int64"
      ]
     },
     "execution_count": 5,
     "metadata": {},
     "output_type": "execute_result"
    }
   ],
   "source": [
    "#Converting the Release_date Feature to DateTime\n",
    "movies['release_date'] = pd.to_datetime(movies['release_date'], errors='coerce')\n",
    "#Creating A Year Column Feature\n",
    "movies['year'] = movies['release_date'].dt.year\n",
    "#Dropping Original Columns\n",
    "movies = movies.drop(columns=['release_date'])\n",
    "movies['year'].value_counts().sort_index()"
   ]
  },
  {
   "cell_type": "markdown",
   "id": "084696a8",
   "metadata": {},
   "source": [
    "Inference:\n",
    "We don't have enough data for the movies from 2017, 2018, 2019,2020 & 2021,We'll deal with it in the upcoming preprocessing steps"
   ]
  },
  {
   "cell_type": "code",
   "execution_count": 6,
   "id": "a5443811",
   "metadata": {
    "scrolled": false
   },
   "outputs": [
    {
     "data": {
      "text/html": [
       "<div>\n",
       "<style scoped>\n",
       "    .dataframe tbody tr th:only-of-type {\n",
       "        vertical-align: middle;\n",
       "    }\n",
       "\n",
       "    .dataframe tbody tr th {\n",
       "        vertical-align: top;\n",
       "    }\n",
       "\n",
       "    .dataframe thead th {\n",
       "        text-align: right;\n",
       "    }\n",
       "</style>\n",
       "<table border=\"1\" class=\"dataframe\">\n",
       "  <thead>\n",
       "    <tr style=\"text-align: right;\">\n",
       "      <th></th>\n",
       "      <th>movie_id</th>\n",
       "      <th>title</th>\n",
       "      <th>cast</th>\n",
       "      <th>crew</th>\n",
       "    </tr>\n",
       "  </thead>\n",
       "  <tbody>\n",
       "    <tr>\n",
       "      <th>0</th>\n",
       "      <td>19995</td>\n",
       "      <td>Avatar</td>\n",
       "      <td>[{\"cast_id\": 242, \"character\": \"Jake Sully\", \"...</td>\n",
       "      <td>[{\"credit_id\": \"52fe48009251416c750aca23\", \"de...</td>\n",
       "    </tr>\n",
       "    <tr>\n",
       "      <th>1</th>\n",
       "      <td>285</td>\n",
       "      <td>Pirates of the Caribbean: At World's End</td>\n",
       "      <td>[{\"cast_id\": 4, \"character\": \"Captain Jack Spa...</td>\n",
       "      <td>[{\"credit_id\": \"52fe4232c3a36847f800b579\", \"de...</td>\n",
       "    </tr>\n",
       "    <tr>\n",
       "      <th>2</th>\n",
       "      <td>206647</td>\n",
       "      <td>Spectre</td>\n",
       "      <td>[{\"cast_id\": 1, \"character\": \"James Bond\", \"cr...</td>\n",
       "      <td>[{\"credit_id\": \"54805967c3a36829b5002c41\", \"de...</td>\n",
       "    </tr>\n",
       "    <tr>\n",
       "      <th>3</th>\n",
       "      <td>49026</td>\n",
       "      <td>The Dark Knight Rises</td>\n",
       "      <td>[{\"cast_id\": 2, \"character\": \"Bruce Wayne / Ba...</td>\n",
       "      <td>[{\"credit_id\": \"52fe4781c3a36847f81398c3\", \"de...</td>\n",
       "    </tr>\n",
       "    <tr>\n",
       "      <th>4</th>\n",
       "      <td>49529</td>\n",
       "      <td>John Carter</td>\n",
       "      <td>[{\"cast_id\": 5, \"character\": \"John Carter\", \"c...</td>\n",
       "      <td>[{\"credit_id\": \"52fe479ac3a36847f813eaa3\", \"de...</td>\n",
       "    </tr>\n",
       "  </tbody>\n",
       "</table>\n",
       "</div>"
      ],
      "text/plain": [
       "   movie_id                                     title  \\\n",
       "0     19995                                    Avatar   \n",
       "1       285  Pirates of the Caribbean: At World's End   \n",
       "2    206647                                   Spectre   \n",
       "3     49026                     The Dark Knight Rises   \n",
       "4     49529                               John Carter   \n",
       "\n",
       "                                                cast  \\\n",
       "0  [{\"cast_id\": 242, \"character\": \"Jake Sully\", \"...   \n",
       "1  [{\"cast_id\": 4, \"character\": \"Captain Jack Spa...   \n",
       "2  [{\"cast_id\": 1, \"character\": \"James Bond\", \"cr...   \n",
       "3  [{\"cast_id\": 2, \"character\": \"Bruce Wayne / Ba...   \n",
       "4  [{\"cast_id\": 5, \"character\": \"John Carter\", \"c...   \n",
       "\n",
       "                                                crew  \n",
       "0  [{\"credit_id\": \"52fe48009251416c750aca23\", \"de...  \n",
       "1  [{\"credit_id\": \"52fe4232c3a36847f800b579\", \"de...  \n",
       "2  [{\"credit_id\": \"54805967c3a36829b5002c41\", \"de...  \n",
       "3  [{\"credit_id\": \"52fe4781c3a36847f81398c3\", \"de...  \n",
       "4  [{\"credit_id\": \"52fe479ac3a36847f813eaa3\", \"de...  "
      ]
     },
     "execution_count": 6,
     "metadata": {},
     "output_type": "execute_result"
    }
   ],
   "source": [
    "#Checking credit Data\n",
    "credits.head()"
   ]
  },
  {
   "cell_type": "code",
   "execution_count": 7,
   "id": "91616c6d",
   "metadata": {
    "scrolled": true
   },
   "outputs": [
    {
     "data": {
      "text/plain": [
       "(4809, 23)"
      ]
     },
     "execution_count": 7,
     "metadata": {},
     "output_type": "execute_result"
    }
   ],
   "source": [
    "#Mergeing Both the Dataset\n",
    "df = movies.merge(credits,on='title')\n",
    "df.shape"
   ]
  },
  {
   "cell_type": "code",
   "execution_count": 8,
   "id": "e37bc5a0",
   "metadata": {
    "scrolled": true
   },
   "outputs": [
    {
     "data": {
      "text/html": [
       "<div>\n",
       "<style scoped>\n",
       "    .dataframe tbody tr th:only-of-type {\n",
       "        vertical-align: middle;\n",
       "    }\n",
       "\n",
       "    .dataframe tbody tr th {\n",
       "        vertical-align: top;\n",
       "    }\n",
       "\n",
       "    .dataframe thead th {\n",
       "        text-align: right;\n",
       "    }\n",
       "</style>\n",
       "<table border=\"1\" class=\"dataframe\">\n",
       "  <thead>\n",
       "    <tr style=\"text-align: right;\">\n",
       "      <th></th>\n",
       "      <th>id</th>\n",
       "      <th>title</th>\n",
       "      <th>overview</th>\n",
       "      <th>genres</th>\n",
       "      <th>keywords</th>\n",
       "      <th>cast</th>\n",
       "      <th>crew</th>\n",
       "    </tr>\n",
       "  </thead>\n",
       "  <tbody>\n",
       "    <tr>\n",
       "      <th>0</th>\n",
       "      <td>19995</td>\n",
       "      <td>Avatar</td>\n",
       "      <td>In the 22nd century, a paraplegic Marine is di...</td>\n",
       "      <td>[{\"id\": 28, \"name\": \"Action\"}, {\"id\": 12, \"nam...</td>\n",
       "      <td>[{\"id\": 1463, \"name\": \"culture clash\"}, {\"id\":...</td>\n",
       "      <td>[{\"cast_id\": 242, \"character\": \"Jake Sully\", \"...</td>\n",
       "      <td>[{\"credit_id\": \"52fe48009251416c750aca23\", \"de...</td>\n",
       "    </tr>\n",
       "    <tr>\n",
       "      <th>1</th>\n",
       "      <td>285</td>\n",
       "      <td>Pirates of the Caribbean: At World's End</td>\n",
       "      <td>Captain Barbossa, long believed to be dead, ha...</td>\n",
       "      <td>[{\"id\": 12, \"name\": \"Adventure\"}, {\"id\": 14, \"...</td>\n",
       "      <td>[{\"id\": 270, \"name\": \"ocean\"}, {\"id\": 726, \"na...</td>\n",
       "      <td>[{\"cast_id\": 4, \"character\": \"Captain Jack Spa...</td>\n",
       "      <td>[{\"credit_id\": \"52fe4232c3a36847f800b579\", \"de...</td>\n",
       "    </tr>\n",
       "    <tr>\n",
       "      <th>2</th>\n",
       "      <td>206647</td>\n",
       "      <td>Spectre</td>\n",
       "      <td>A cryptic message from Bond’s past sends him o...</td>\n",
       "      <td>[{\"id\": 28, \"name\": \"Action\"}, {\"id\": 12, \"nam...</td>\n",
       "      <td>[{\"id\": 470, \"name\": \"spy\"}, {\"id\": 818, \"name...</td>\n",
       "      <td>[{\"cast_id\": 1, \"character\": \"James Bond\", \"cr...</td>\n",
       "      <td>[{\"credit_id\": \"54805967c3a36829b5002c41\", \"de...</td>\n",
       "    </tr>\n",
       "    <tr>\n",
       "      <th>3</th>\n",
       "      <td>49026</td>\n",
       "      <td>The Dark Knight Rises</td>\n",
       "      <td>Following the death of District Attorney Harve...</td>\n",
       "      <td>[{\"id\": 28, \"name\": \"Action\"}, {\"id\": 80, \"nam...</td>\n",
       "      <td>[{\"id\": 849, \"name\": \"dc comics\"}, {\"id\": 853,...</td>\n",
       "      <td>[{\"cast_id\": 2, \"character\": \"Bruce Wayne / Ba...</td>\n",
       "      <td>[{\"credit_id\": \"52fe4781c3a36847f81398c3\", \"de...</td>\n",
       "    </tr>\n",
       "    <tr>\n",
       "      <th>4</th>\n",
       "      <td>49529</td>\n",
       "      <td>John Carter</td>\n",
       "      <td>John Carter is a war-weary, former military ca...</td>\n",
       "      <td>[{\"id\": 28, \"name\": \"Action\"}, {\"id\": 12, \"nam...</td>\n",
       "      <td>[{\"id\": 818, \"name\": \"based on novel\"}, {\"id\":...</td>\n",
       "      <td>[{\"cast_id\": 5, \"character\": \"John Carter\", \"c...</td>\n",
       "      <td>[{\"credit_id\": \"52fe479ac3a36847f813eaa3\", \"de...</td>\n",
       "    </tr>\n",
       "  </tbody>\n",
       "</table>\n",
       "</div>"
      ],
      "text/plain": [
       "       id                                     title  \\\n",
       "0   19995                                    Avatar   \n",
       "1     285  Pirates of the Caribbean: At World's End   \n",
       "2  206647                                   Spectre   \n",
       "3   49026                     The Dark Knight Rises   \n",
       "4   49529                               John Carter   \n",
       "\n",
       "                                            overview  \\\n",
       "0  In the 22nd century, a paraplegic Marine is di...   \n",
       "1  Captain Barbossa, long believed to be dead, ha...   \n",
       "2  A cryptic message from Bond’s past sends him o...   \n",
       "3  Following the death of District Attorney Harve...   \n",
       "4  John Carter is a war-weary, former military ca...   \n",
       "\n",
       "                                              genres  \\\n",
       "0  [{\"id\": 28, \"name\": \"Action\"}, {\"id\": 12, \"nam...   \n",
       "1  [{\"id\": 12, \"name\": \"Adventure\"}, {\"id\": 14, \"...   \n",
       "2  [{\"id\": 28, \"name\": \"Action\"}, {\"id\": 12, \"nam...   \n",
       "3  [{\"id\": 28, \"name\": \"Action\"}, {\"id\": 80, \"nam...   \n",
       "4  [{\"id\": 28, \"name\": \"Action\"}, {\"id\": 12, \"nam...   \n",
       "\n",
       "                                            keywords  \\\n",
       "0  [{\"id\": 1463, \"name\": \"culture clash\"}, {\"id\":...   \n",
       "1  [{\"id\": 270, \"name\": \"ocean\"}, {\"id\": 726, \"na...   \n",
       "2  [{\"id\": 470, \"name\": \"spy\"}, {\"id\": 818, \"name...   \n",
       "3  [{\"id\": 849, \"name\": \"dc comics\"}, {\"id\": 853,...   \n",
       "4  [{\"id\": 818, \"name\": \"based on novel\"}, {\"id\":...   \n",
       "\n",
       "                                                cast  \\\n",
       "0  [{\"cast_id\": 242, \"character\": \"Jake Sully\", \"...   \n",
       "1  [{\"cast_id\": 4, \"character\": \"Captain Jack Spa...   \n",
       "2  [{\"cast_id\": 1, \"character\": \"James Bond\", \"cr...   \n",
       "3  [{\"cast_id\": 2, \"character\": \"Bruce Wayne / Ba...   \n",
       "4  [{\"cast_id\": 5, \"character\": \"John Carter\", \"c...   \n",
       "\n",
       "                                                crew  \n",
       "0  [{\"credit_id\": \"52fe48009251416c750aca23\", \"de...  \n",
       "1  [{\"credit_id\": \"52fe4232c3a36847f800b579\", \"de...  \n",
       "2  [{\"credit_id\": \"54805967c3a36829b5002c41\", \"de...  \n",
       "3  [{\"credit_id\": \"52fe4781c3a36847f81398c3\", \"de...  \n",
       "4  [{\"credit_id\": \"52fe479ac3a36847f813eaa3\", \"de...  "
      ]
     },
     "execution_count": 8,
     "metadata": {},
     "output_type": "execute_result"
    }
   ],
   "source": [
    "# Will Use these Feature to Create the Recommendation system\n",
    "df1 = df[['id','title','overview','genres','keywords','cast','crew']]\n",
    "df1.head()"
   ]
  },
  {
   "cell_type": "code",
   "execution_count": 9,
   "id": "c1e4654b",
   "metadata": {},
   "outputs": [
    {
     "data": {
      "text/plain": [
       "id          0\n",
       "title       0\n",
       "overview    3\n",
       "genres      0\n",
       "keywords    0\n",
       "cast        0\n",
       "crew        0\n",
       "dtype: int64"
      ]
     },
     "execution_count": 9,
     "metadata": {},
     "output_type": "execute_result"
    }
   ],
   "source": [
    "#Checking NA Values\n",
    "df1.isnull().sum()"
   ]
  },
  {
   "cell_type": "code",
   "execution_count": 10,
   "id": "a67c6ed0",
   "metadata": {},
   "outputs": [
    {
     "data": {
      "text/plain": [
       "(4806, 7)"
      ]
     },
     "execution_count": 10,
     "metadata": {},
     "output_type": "execute_result"
    }
   ],
   "source": [
    "# Dropping the NA Values as Count of NA Value is Small\n",
    "df1.dropna(inplace=True)\n",
    "df1.shape"
   ]
  },
  {
   "cell_type": "code",
   "execution_count": 11,
   "id": "0bd9cbbf",
   "metadata": {
    "scrolled": true
   },
   "outputs": [
    {
     "data": {
      "text/plain": [
       "'[{\"id\": 28, \"name\": \"Action\"}, {\"id\": 12, \"name\": \"Adventure\"}, {\"id\": 14, \"name\": \"Fantasy\"}, {\"id\": 878, \"name\": \"Science Fiction\"}]'"
      ]
     },
     "execution_count": 11,
     "metadata": {},
     "output_type": "execute_result"
    }
   ],
   "source": [
    "#Checking the genres Features for Preprocessing\n",
    "df1.genres[0]"
   ]
  },
  {
   "cell_type": "markdown",
   "id": "8183d830",
   "metadata": {},
   "source": [
    "Inference: It is a List of Dictionary, We want only a List of Genres. So will Preprocess this Feature"
   ]
  },
  {
   "cell_type": "code",
   "execution_count": 12,
   "id": "6a12efef",
   "metadata": {},
   "outputs": [],
   "source": [
    "#To get a list of genres\n",
    "def convert(text):\n",
    "    List = []\n",
    "    for i in ast.literal_eval(text):\n",
    "        List.append(i['name']) \n",
    "    return List"
   ]
  },
  {
   "cell_type": "code",
   "execution_count": 13,
   "id": "f440aba4",
   "metadata": {},
   "outputs": [
    {
     "data": {
      "text/html": [
       "<div>\n",
       "<style scoped>\n",
       "    .dataframe tbody tr th:only-of-type {\n",
       "        vertical-align: middle;\n",
       "    }\n",
       "\n",
       "    .dataframe tbody tr th {\n",
       "        vertical-align: top;\n",
       "    }\n",
       "\n",
       "    .dataframe thead th {\n",
       "        text-align: right;\n",
       "    }\n",
       "</style>\n",
       "<table border=\"1\" class=\"dataframe\">\n",
       "  <thead>\n",
       "    <tr style=\"text-align: right;\">\n",
       "      <th></th>\n",
       "      <th>id</th>\n",
       "      <th>title</th>\n",
       "      <th>overview</th>\n",
       "      <th>genres</th>\n",
       "      <th>keywords</th>\n",
       "      <th>cast</th>\n",
       "      <th>crew</th>\n",
       "    </tr>\n",
       "  </thead>\n",
       "  <tbody>\n",
       "    <tr>\n",
       "      <th>0</th>\n",
       "      <td>19995</td>\n",
       "      <td>Avatar</td>\n",
       "      <td>In the 22nd century, a paraplegic Marine is di...</td>\n",
       "      <td>[Action, Adventure, Fantasy, Science Fiction]</td>\n",
       "      <td>[culture clash, future, space war, space colon...</td>\n",
       "      <td>[Sam Worthington, Zoe Saldana, Sigourney Weave...</td>\n",
       "      <td>[{\"credit_id\": \"52fe48009251416c750aca23\", \"de...</td>\n",
       "    </tr>\n",
       "    <tr>\n",
       "      <th>1</th>\n",
       "      <td>285</td>\n",
       "      <td>Pirates of the Caribbean: At World's End</td>\n",
       "      <td>Captain Barbossa, long believed to be dead, ha...</td>\n",
       "      <td>[Adventure, Fantasy, Action]</td>\n",
       "      <td>[ocean, drug abuse, exotic island, east india ...</td>\n",
       "      <td>[Johnny Depp, Orlando Bloom, Keira Knightley, ...</td>\n",
       "      <td>[{\"credit_id\": \"52fe4232c3a36847f800b579\", \"de...</td>\n",
       "    </tr>\n",
       "  </tbody>\n",
       "</table>\n",
       "</div>"
      ],
      "text/plain": [
       "      id                                     title  \\\n",
       "0  19995                                    Avatar   \n",
       "1    285  Pirates of the Caribbean: At World's End   \n",
       "\n",
       "                                            overview  \\\n",
       "0  In the 22nd century, a paraplegic Marine is di...   \n",
       "1  Captain Barbossa, long believed to be dead, ha...   \n",
       "\n",
       "                                          genres  \\\n",
       "0  [Action, Adventure, Fantasy, Science Fiction]   \n",
       "1                   [Adventure, Fantasy, Action]   \n",
       "\n",
       "                                            keywords  \\\n",
       "0  [culture clash, future, space war, space colon...   \n",
       "1  [ocean, drug abuse, exotic island, east india ...   \n",
       "\n",
       "                                                cast  \\\n",
       "0  [Sam Worthington, Zoe Saldana, Sigourney Weave...   \n",
       "1  [Johnny Depp, Orlando Bloom, Keira Knightley, ...   \n",
       "\n",
       "                                                crew  \n",
       "0  [{\"credit_id\": \"52fe48009251416c750aca23\", \"de...  \n",
       "1  [{\"credit_id\": \"52fe4232c3a36847f800b579\", \"de...  "
      ]
     },
     "execution_count": 13,
     "metadata": {},
     "output_type": "execute_result"
    }
   ],
   "source": [
    "#Calling the Function to get list of genres,keywords,cast\n",
    "df1['genres'] = df1['genres'].apply(convert)\n",
    "df1['keywords'] = df1['keywords'].apply(convert)\n",
    "df1['cast'] = df1['cast'].apply(convert)\n",
    "df1.head(2)"
   ]
  },
  {
   "cell_type": "code",
   "execution_count": 14,
   "id": "97faeb31",
   "metadata": {},
   "outputs": [
    {
     "data": {
      "text/html": [
       "<div>\n",
       "<style scoped>\n",
       "    .dataframe tbody tr th:only-of-type {\n",
       "        vertical-align: middle;\n",
       "    }\n",
       "\n",
       "    .dataframe tbody tr th {\n",
       "        vertical-align: top;\n",
       "    }\n",
       "\n",
       "    .dataframe thead th {\n",
       "        text-align: right;\n",
       "    }\n",
       "</style>\n",
       "<table border=\"1\" class=\"dataframe\">\n",
       "  <thead>\n",
       "    <tr style=\"text-align: right;\">\n",
       "      <th></th>\n",
       "      <th>id</th>\n",
       "      <th>title</th>\n",
       "      <th>overview</th>\n",
       "      <th>genres</th>\n",
       "      <th>keywords</th>\n",
       "      <th>cast</th>\n",
       "      <th>crew</th>\n",
       "    </tr>\n",
       "  </thead>\n",
       "  <tbody>\n",
       "    <tr>\n",
       "      <th>0</th>\n",
       "      <td>19995</td>\n",
       "      <td>Avatar</td>\n",
       "      <td>In the 22nd century, a paraplegic Marine is di...</td>\n",
       "      <td>[Action, Adventure, Fantasy, Science Fiction]</td>\n",
       "      <td>[culture clash, future, space war, space colon...</td>\n",
       "      <td>[Sam Worthington, Zoe Saldana, Sigourney Weaver]</td>\n",
       "      <td>[{\"credit_id\": \"52fe48009251416c750aca23\", \"de...</td>\n",
       "    </tr>\n",
       "    <tr>\n",
       "      <th>1</th>\n",
       "      <td>285</td>\n",
       "      <td>Pirates of the Caribbean: At World's End</td>\n",
       "      <td>Captain Barbossa, long believed to be dead, ha...</td>\n",
       "      <td>[Adventure, Fantasy, Action]</td>\n",
       "      <td>[ocean, drug abuse, exotic island, east india ...</td>\n",
       "      <td>[Johnny Depp, Orlando Bloom, Keira Knightley]</td>\n",
       "      <td>[{\"credit_id\": \"52fe4232c3a36847f800b579\", \"de...</td>\n",
       "    </tr>\n",
       "  </tbody>\n",
       "</table>\n",
       "</div>"
      ],
      "text/plain": [
       "      id                                     title  \\\n",
       "0  19995                                    Avatar   \n",
       "1    285  Pirates of the Caribbean: At World's End   \n",
       "\n",
       "                                            overview  \\\n",
       "0  In the 22nd century, a paraplegic Marine is di...   \n",
       "1  Captain Barbossa, long believed to be dead, ha...   \n",
       "\n",
       "                                          genres  \\\n",
       "0  [Action, Adventure, Fantasy, Science Fiction]   \n",
       "1                   [Adventure, Fantasy, Action]   \n",
       "\n",
       "                                            keywords  \\\n",
       "0  [culture clash, future, space war, space colon...   \n",
       "1  [ocean, drug abuse, exotic island, east india ...   \n",
       "\n",
       "                                               cast  \\\n",
       "0  [Sam Worthington, Zoe Saldana, Sigourney Weaver]   \n",
       "1     [Johnny Depp, Orlando Bloom, Keira Knightley]   \n",
       "\n",
       "                                                crew  \n",
       "0  [{\"credit_id\": \"52fe48009251416c750aca23\", \"de...  \n",
       "1  [{\"credit_id\": \"52fe4232c3a36847f800b579\", \"de...  "
      ]
     },
     "execution_count": 14,
     "metadata": {},
     "output_type": "execute_result"
    }
   ],
   "source": [
    "#Getting only First 3 Actors of the Movies\n",
    "df1['cast'] = df1['cast'].apply(lambda x:x[0:3])\n",
    "df1.head(2)"
   ]
  },
  {
   "cell_type": "code",
   "execution_count": 15,
   "id": "198c280a",
   "metadata": {},
   "outputs": [],
   "source": [
    "#Function to Get only the Director Name from Crew Features\n",
    "def fetch_director(text):\n",
    "    List = []\n",
    "    for i in ast.literal_eval(text):\n",
    "        if i['job'] == 'Director':\n",
    "            List.append(i['name'])\n",
    "    return List"
   ]
  },
  {
   "cell_type": "code",
   "execution_count": 16,
   "id": "51bd504b",
   "metadata": {},
   "outputs": [
    {
     "data": {
      "text/html": [
       "<div>\n",
       "<style scoped>\n",
       "    .dataframe tbody tr th:only-of-type {\n",
       "        vertical-align: middle;\n",
       "    }\n",
       "\n",
       "    .dataframe tbody tr th {\n",
       "        vertical-align: top;\n",
       "    }\n",
       "\n",
       "    .dataframe thead th {\n",
       "        text-align: right;\n",
       "    }\n",
       "</style>\n",
       "<table border=\"1\" class=\"dataframe\">\n",
       "  <thead>\n",
       "    <tr style=\"text-align: right;\">\n",
       "      <th></th>\n",
       "      <th>id</th>\n",
       "      <th>title</th>\n",
       "      <th>overview</th>\n",
       "      <th>genres</th>\n",
       "      <th>keywords</th>\n",
       "      <th>cast</th>\n",
       "      <th>crew</th>\n",
       "    </tr>\n",
       "  </thead>\n",
       "  <tbody>\n",
       "    <tr>\n",
       "      <th>0</th>\n",
       "      <td>19995</td>\n",
       "      <td>Avatar</td>\n",
       "      <td>In the 22nd century, a paraplegic Marine is di...</td>\n",
       "      <td>[Action, Adventure, Fantasy, Science Fiction]</td>\n",
       "      <td>[culture clash, future, space war, space colon...</td>\n",
       "      <td>[Sam Worthington, Zoe Saldana, Sigourney Weaver]</td>\n",
       "      <td>[James Cameron]</td>\n",
       "    </tr>\n",
       "    <tr>\n",
       "      <th>1</th>\n",
       "      <td>285</td>\n",
       "      <td>Pirates of the Caribbean: At World's End</td>\n",
       "      <td>Captain Barbossa, long believed to be dead, ha...</td>\n",
       "      <td>[Adventure, Fantasy, Action]</td>\n",
       "      <td>[ocean, drug abuse, exotic island, east india ...</td>\n",
       "      <td>[Johnny Depp, Orlando Bloom, Keira Knightley]</td>\n",
       "      <td>[Gore Verbinski]</td>\n",
       "    </tr>\n",
       "  </tbody>\n",
       "</table>\n",
       "</div>"
      ],
      "text/plain": [
       "      id                                     title  \\\n",
       "0  19995                                    Avatar   \n",
       "1    285  Pirates of the Caribbean: At World's End   \n",
       "\n",
       "                                            overview  \\\n",
       "0  In the 22nd century, a paraplegic Marine is di...   \n",
       "1  Captain Barbossa, long believed to be dead, ha...   \n",
       "\n",
       "                                          genres  \\\n",
       "0  [Action, Adventure, Fantasy, Science Fiction]   \n",
       "1                   [Adventure, Fantasy, Action]   \n",
       "\n",
       "                                            keywords  \\\n",
       "0  [culture clash, future, space war, space colon...   \n",
       "1  [ocean, drug abuse, exotic island, east india ...   \n",
       "\n",
       "                                               cast              crew  \n",
       "0  [Sam Worthington, Zoe Saldana, Sigourney Weaver]   [James Cameron]  \n",
       "1     [Johnny Depp, Orlando Bloom, Keira Knightley]  [Gore Verbinski]  "
      ]
     },
     "execution_count": 16,
     "metadata": {},
     "output_type": "execute_result"
    }
   ],
   "source": [
    "#Calling the fetch_director function to get Director Name's\n",
    "df1['crew'] = df1['crew'].apply(fetch_director)\n",
    "df1.head(2)"
   ]
  },
  {
   "cell_type": "code",
   "execution_count": 17,
   "id": "c8172588",
   "metadata": {},
   "outputs": [
    {
     "data": {
      "text/plain": [
       "'In the 22nd century, a paraplegic Marine is dispatched to the moon Pandora on a unique mission, but becomes torn between following orders and protecting an alien civilization.'"
      ]
     },
     "execution_count": 17,
     "metadata": {},
     "output_type": "execute_result"
    }
   ],
   "source": [
    "#Checking the Overview Feature\n",
    "df1['overview'][0]"
   ]
  },
  {
   "cell_type": "markdown",
   "id": "2d1402e1",
   "metadata": {},
   "source": [
    "Inference: Overview Feature is a String will Convert this into a List so we can concat with other list"
   ]
  },
  {
   "cell_type": "code",
   "execution_count": 18,
   "id": "4c5cbb07",
   "metadata": {},
   "outputs": [
    {
     "data": {
      "text/html": [
       "<div>\n",
       "<style scoped>\n",
       "    .dataframe tbody tr th:only-of-type {\n",
       "        vertical-align: middle;\n",
       "    }\n",
       "\n",
       "    .dataframe tbody tr th {\n",
       "        vertical-align: top;\n",
       "    }\n",
       "\n",
       "    .dataframe thead th {\n",
       "        text-align: right;\n",
       "    }\n",
       "</style>\n",
       "<table border=\"1\" class=\"dataframe\">\n",
       "  <thead>\n",
       "    <tr style=\"text-align: right;\">\n",
       "      <th></th>\n",
       "      <th>id</th>\n",
       "      <th>title</th>\n",
       "      <th>overview</th>\n",
       "      <th>genres</th>\n",
       "      <th>keywords</th>\n",
       "      <th>cast</th>\n",
       "      <th>crew</th>\n",
       "    </tr>\n",
       "  </thead>\n",
       "  <tbody>\n",
       "    <tr>\n",
       "      <th>0</th>\n",
       "      <td>19995</td>\n",
       "      <td>Avatar</td>\n",
       "      <td>[In, the, 22nd, century,, a, paraplegic, Marin...</td>\n",
       "      <td>[Action, Adventure, Fantasy, Science Fiction]</td>\n",
       "      <td>[culture clash, future, space war, space colon...</td>\n",
       "      <td>[Sam Worthington, Zoe Saldana, Sigourney Weaver]</td>\n",
       "      <td>[James Cameron]</td>\n",
       "    </tr>\n",
       "    <tr>\n",
       "      <th>1</th>\n",
       "      <td>285</td>\n",
       "      <td>Pirates of the Caribbean: At World's End</td>\n",
       "      <td>[Captain, Barbossa,, long, believed, to, be, d...</td>\n",
       "      <td>[Adventure, Fantasy, Action]</td>\n",
       "      <td>[ocean, drug abuse, exotic island, east india ...</td>\n",
       "      <td>[Johnny Depp, Orlando Bloom, Keira Knightley]</td>\n",
       "      <td>[Gore Verbinski]</td>\n",
       "    </tr>\n",
       "  </tbody>\n",
       "</table>\n",
       "</div>"
      ],
      "text/plain": [
       "      id                                     title  \\\n",
       "0  19995                                    Avatar   \n",
       "1    285  Pirates of the Caribbean: At World's End   \n",
       "\n",
       "                                            overview  \\\n",
       "0  [In, the, 22nd, century,, a, paraplegic, Marin...   \n",
       "1  [Captain, Barbossa,, long, believed, to, be, d...   \n",
       "\n",
       "                                          genres  \\\n",
       "0  [Action, Adventure, Fantasy, Science Fiction]   \n",
       "1                   [Adventure, Fantasy, Action]   \n",
       "\n",
       "                                            keywords  \\\n",
       "0  [culture clash, future, space war, space colon...   \n",
       "1  [ocean, drug abuse, exotic island, east india ...   \n",
       "\n",
       "                                               cast              crew  \n",
       "0  [Sam Worthington, Zoe Saldana, Sigourney Weaver]   [James Cameron]  \n",
       "1     [Johnny Depp, Orlando Bloom, Keira Knightley]  [Gore Verbinski]  "
      ]
     },
     "execution_count": 18,
     "metadata": {},
     "output_type": "execute_result"
    }
   ],
   "source": [
    "#Converting Overview Feature into a List\n",
    "df1['overview'] = df1['overview'].apply(lambda x:x.split())\n",
    "df1.head(2)"
   ]
  },
  {
   "cell_type": "code",
   "execution_count": 19,
   "id": "a878da8c",
   "metadata": {},
   "outputs": [],
   "source": [
    "#To Remove Space between a Single Entity\n",
    "def collapse(L):\n",
    "    List = []\n",
    "    for i in L:\n",
    "        List.append(i.replace(\" \",\"\"))\n",
    "    return List"
   ]
  },
  {
   "cell_type": "code",
   "execution_count": 20,
   "id": "b35132a6",
   "metadata": {
    "scrolled": true
   },
   "outputs": [
    {
     "data": {
      "text/html": [
       "<div>\n",
       "<style scoped>\n",
       "    .dataframe tbody tr th:only-of-type {\n",
       "        vertical-align: middle;\n",
       "    }\n",
       "\n",
       "    .dataframe tbody tr th {\n",
       "        vertical-align: top;\n",
       "    }\n",
       "\n",
       "    .dataframe thead th {\n",
       "        text-align: right;\n",
       "    }\n",
       "</style>\n",
       "<table border=\"1\" class=\"dataframe\">\n",
       "  <thead>\n",
       "    <tr style=\"text-align: right;\">\n",
       "      <th></th>\n",
       "      <th>id</th>\n",
       "      <th>title</th>\n",
       "      <th>overview</th>\n",
       "      <th>genres</th>\n",
       "      <th>keywords</th>\n",
       "      <th>cast</th>\n",
       "      <th>crew</th>\n",
       "    </tr>\n",
       "  </thead>\n",
       "  <tbody>\n",
       "    <tr>\n",
       "      <th>0</th>\n",
       "      <td>19995</td>\n",
       "      <td>Avatar</td>\n",
       "      <td>[In, the, 22nd, century,, a, paraplegic, Marin...</td>\n",
       "      <td>[Action, Adventure, Fantasy, ScienceFiction]</td>\n",
       "      <td>[cultureclash, future, spacewar, spacecolony, ...</td>\n",
       "      <td>[SamWorthington, ZoeSaldana, SigourneyWeaver]</td>\n",
       "      <td>[JamesCameron]</td>\n",
       "    </tr>\n",
       "    <tr>\n",
       "      <th>1</th>\n",
       "      <td>285</td>\n",
       "      <td>Pirates of the Caribbean: At World's End</td>\n",
       "      <td>[Captain, Barbossa,, long, believed, to, be, d...</td>\n",
       "      <td>[Adventure, Fantasy, Action]</td>\n",
       "      <td>[ocean, drugabuse, exoticisland, eastindiatrad...</td>\n",
       "      <td>[JohnnyDepp, OrlandoBloom, KeiraKnightley]</td>\n",
       "      <td>[GoreVerbinski]</td>\n",
       "    </tr>\n",
       "    <tr>\n",
       "      <th>2</th>\n",
       "      <td>206647</td>\n",
       "      <td>Spectre</td>\n",
       "      <td>[A, cryptic, message, from, Bond’s, past, send...</td>\n",
       "      <td>[Action, Adventure, Crime]</td>\n",
       "      <td>[spy, basedonnovel, secretagent, sequel, mi6, ...</td>\n",
       "      <td>[DanielCraig, ChristophWaltz, LéaSeydoux]</td>\n",
       "      <td>[SamMendes]</td>\n",
       "    </tr>\n",
       "  </tbody>\n",
       "</table>\n",
       "</div>"
      ],
      "text/plain": [
       "       id                                     title  \\\n",
       "0   19995                                    Avatar   \n",
       "1     285  Pirates of the Caribbean: At World's End   \n",
       "2  206647                                   Spectre   \n",
       "\n",
       "                                            overview  \\\n",
       "0  [In, the, 22nd, century,, a, paraplegic, Marin...   \n",
       "1  [Captain, Barbossa,, long, believed, to, be, d...   \n",
       "2  [A, cryptic, message, from, Bond’s, past, send...   \n",
       "\n",
       "                                         genres  \\\n",
       "0  [Action, Adventure, Fantasy, ScienceFiction]   \n",
       "1                  [Adventure, Fantasy, Action]   \n",
       "2                    [Action, Adventure, Crime]   \n",
       "\n",
       "                                            keywords  \\\n",
       "0  [cultureclash, future, spacewar, spacecolony, ...   \n",
       "1  [ocean, drugabuse, exoticisland, eastindiatrad...   \n",
       "2  [spy, basedonnovel, secretagent, sequel, mi6, ...   \n",
       "\n",
       "                                            cast             crew  \n",
       "0  [SamWorthington, ZoeSaldana, SigourneyWeaver]   [JamesCameron]  \n",
       "1     [JohnnyDepp, OrlandoBloom, KeiraKnightley]  [GoreVerbinski]  \n",
       "2      [DanielCraig, ChristophWaltz, LéaSeydoux]      [SamMendes]  "
      ]
     },
     "execution_count": 20,
     "metadata": {},
     "output_type": "execute_result"
    }
   ],
   "source": [
    "#Making Single Entities by Removing Space\n",
    "df1['cast'] = df1['cast'].apply(collapse)\n",
    "df1['crew'] = df1['crew'].apply(collapse)\n",
    "df1['genres'] = df1['genres'].apply(collapse)\n",
    "df1['keywords'] = df1['keywords'].apply(collapse)\n",
    "df1.head(3)"
   ]
  },
  {
   "cell_type": "markdown",
   "id": "16f1a7fa",
   "metadata": {},
   "source": [
    "Inference: Now Will Create a Detail Feature Which will include All Overview,genres,keywords,cast and crew feature "
   ]
  },
  {
   "cell_type": "code",
   "execution_count": 21,
   "id": "80c2b955",
   "metadata": {},
   "outputs": [
    {
     "data": {
      "text/html": [
       "<div>\n",
       "<style scoped>\n",
       "    .dataframe tbody tr th:only-of-type {\n",
       "        vertical-align: middle;\n",
       "    }\n",
       "\n",
       "    .dataframe tbody tr th {\n",
       "        vertical-align: top;\n",
       "    }\n",
       "\n",
       "    .dataframe thead th {\n",
       "        text-align: right;\n",
       "    }\n",
       "</style>\n",
       "<table border=\"1\" class=\"dataframe\">\n",
       "  <thead>\n",
       "    <tr style=\"text-align: right;\">\n",
       "      <th></th>\n",
       "      <th>id</th>\n",
       "      <th>title</th>\n",
       "      <th>Detail</th>\n",
       "    </tr>\n",
       "  </thead>\n",
       "  <tbody>\n",
       "    <tr>\n",
       "      <th>0</th>\n",
       "      <td>19995</td>\n",
       "      <td>Avatar</td>\n",
       "      <td>[In, the, 22nd, century,, a, paraplegic, Marin...</td>\n",
       "    </tr>\n",
       "    <tr>\n",
       "      <th>1</th>\n",
       "      <td>285</td>\n",
       "      <td>Pirates of the Caribbean: At World's End</td>\n",
       "      <td>[Captain, Barbossa,, long, believed, to, be, d...</td>\n",
       "    </tr>\n",
       "    <tr>\n",
       "      <th>2</th>\n",
       "      <td>206647</td>\n",
       "      <td>Spectre</td>\n",
       "      <td>[A, cryptic, message, from, Bond’s, past, send...</td>\n",
       "    </tr>\n",
       "    <tr>\n",
       "      <th>3</th>\n",
       "      <td>49026</td>\n",
       "      <td>The Dark Knight Rises</td>\n",
       "      <td>[Following, the, death, of, District, Attorney...</td>\n",
       "    </tr>\n",
       "    <tr>\n",
       "      <th>4</th>\n",
       "      <td>49529</td>\n",
       "      <td>John Carter</td>\n",
       "      <td>[John, Carter, is, a, war-weary,, former, mili...</td>\n",
       "    </tr>\n",
       "  </tbody>\n",
       "</table>\n",
       "</div>"
      ],
      "text/plain": [
       "       id                                     title  \\\n",
       "0   19995                                    Avatar   \n",
       "1     285  Pirates of the Caribbean: At World's End   \n",
       "2  206647                                   Spectre   \n",
       "3   49026                     The Dark Knight Rises   \n",
       "4   49529                               John Carter   \n",
       "\n",
       "                                              Detail  \n",
       "0  [In, the, 22nd, century,, a, paraplegic, Marin...  \n",
       "1  [Captain, Barbossa,, long, believed, to, be, d...  \n",
       "2  [A, cryptic, message, from, Bond’s, past, send...  \n",
       "3  [Following, the, death, of, District, Attorney...  \n",
       "4  [John, Carter, is, a, war-weary,, former, mili...  "
      ]
     },
     "execution_count": 21,
     "metadata": {},
     "output_type": "execute_result"
    }
   ],
   "source": [
    "#Creating Detail Feature\n",
    "df1['Detail'] = df1['overview'] + df1['genres'] + df1['keywords'] + df1['cast'] + df1['crew']\n",
    "#Dropping Original Columns\n",
    "final_df = df1.drop(columns=['overview','genres','keywords','cast','crew'])\n",
    "#Checking the final_df\n",
    "final_df.head()"
   ]
  },
  {
   "cell_type": "code",
   "execution_count": 22,
   "id": "199fe338",
   "metadata": {
    "scrolled": true
   },
   "outputs": [
    {
     "data": {
      "text/html": [
       "<div>\n",
       "<style scoped>\n",
       "    .dataframe tbody tr th:only-of-type {\n",
       "        vertical-align: middle;\n",
       "    }\n",
       "\n",
       "    .dataframe tbody tr th {\n",
       "        vertical-align: top;\n",
       "    }\n",
       "\n",
       "    .dataframe thead th {\n",
       "        text-align: right;\n",
       "    }\n",
       "</style>\n",
       "<table border=\"1\" class=\"dataframe\">\n",
       "  <thead>\n",
       "    <tr style=\"text-align: right;\">\n",
       "      <th></th>\n",
       "      <th>id</th>\n",
       "      <th>title</th>\n",
       "      <th>Detail</th>\n",
       "    </tr>\n",
       "  </thead>\n",
       "  <tbody>\n",
       "    <tr>\n",
       "      <th>0</th>\n",
       "      <td>19995</td>\n",
       "      <td>Avatar</td>\n",
       "      <td>In the 22nd century, a paraplegic Marine is di...</td>\n",
       "    </tr>\n",
       "    <tr>\n",
       "      <th>1</th>\n",
       "      <td>285</td>\n",
       "      <td>Pirates of the Caribbean: At World's End</td>\n",
       "      <td>Captain Barbossa, long believed to be dead, ha...</td>\n",
       "    </tr>\n",
       "    <tr>\n",
       "      <th>2</th>\n",
       "      <td>206647</td>\n",
       "      <td>Spectre</td>\n",
       "      <td>A cryptic message from Bond’s past sends him o...</td>\n",
       "    </tr>\n",
       "    <tr>\n",
       "      <th>3</th>\n",
       "      <td>49026</td>\n",
       "      <td>The Dark Knight Rises</td>\n",
       "      <td>Following the death of District Attorney Harve...</td>\n",
       "    </tr>\n",
       "    <tr>\n",
       "      <th>4</th>\n",
       "      <td>49529</td>\n",
       "      <td>John Carter</td>\n",
       "      <td>John Carter is a war-weary, former military ca...</td>\n",
       "    </tr>\n",
       "  </tbody>\n",
       "</table>\n",
       "</div>"
      ],
      "text/plain": [
       "       id                                     title  \\\n",
       "0   19995                                    Avatar   \n",
       "1     285  Pirates of the Caribbean: At World's End   \n",
       "2  206647                                   Spectre   \n",
       "3   49026                     The Dark Knight Rises   \n",
       "4   49529                               John Carter   \n",
       "\n",
       "                                              Detail  \n",
       "0  In the 22nd century, a paraplegic Marine is di...  \n",
       "1  Captain Barbossa, long believed to be dead, ha...  \n",
       "2  A cryptic message from Bond’s past sends him o...  \n",
       "3  Following the death of District Attorney Harve...  \n",
       "4  John Carter is a war-weary, former military ca...  "
      ]
     },
     "execution_count": 22,
     "metadata": {},
     "output_type": "execute_result"
    }
   ],
   "source": [
    "#Converting the Detail column back to string/Text\n",
    "final_df['Detail'] = final_df['Detail'].apply(lambda x: \" \".join(x))\n",
    "final_df.head()"
   ]
  },
  {
   "cell_type": "markdown",
   "id": "a0c08145",
   "metadata": {},
   "source": [
    "#### Movies of 2017"
   ]
  },
  {
   "cell_type": "code",
   "execution_count": 23,
   "id": "410ac18f",
   "metadata": {},
   "outputs": [],
   "source": [
    "#Loading the Dataset\n",
    "movies17 = pd.read_csv('C:/Users/Akaash/Downloads/movies_data_17.csv')\n",
    "keywords17 = pd.read_csv('C:/Users/Akaash/Downloads/keywords_17.csv')\n",
    "credits17 = pd.read_csv('C:/Users/Akaash/Downloads/credits_17.csv')"
   ]
  },
  {
   "cell_type": "code",
   "execution_count": 24,
   "id": "4ee498db",
   "metadata": {},
   "outputs": [
    {
     "data": {
      "text/plain": [
       "1874.0       1\n",
       "1878.0       1\n",
       "1883.0       1\n",
       "1887.0       1\n",
       "1888.0       2\n",
       "          ... \n",
       "2015.0    1905\n",
       "2016.0    1604\n",
       "2017.0     532\n",
       "2018.0       5\n",
       "2020.0       1\n",
       "Name: year, Length: 135, dtype: int64"
      ]
     },
     "execution_count": 24,
     "metadata": {},
     "output_type": "execute_result"
    }
   ],
   "source": [
    "#Converting the Release_date Feature to DateTime\n",
    "movies17['release_date'] = pd.to_datetime(movies17['release_date'], errors='coerce')\n",
    "#Creating A Year Column Feature\n",
    "movies17['year'] = movies17['release_date'].dt.year\n",
    "#Dropping Original Columns\n",
    "movies17 = movies17.drop(columns=['release_date'])\n",
    "movies17['year'].value_counts().sort_index()"
   ]
  },
  {
   "cell_type": "markdown",
   "id": "dd3e546f",
   "metadata": {},
   "source": [
    "Inference: will Take 2017 movies data from here."
   ]
  },
  {
   "cell_type": "code",
   "execution_count": 25,
   "id": "ef5c2be1",
   "metadata": {},
   "outputs": [
    {
     "data": {
      "text/plain": [
       "(532, 4)"
      ]
     },
     "execution_count": 25,
     "metadata": {},
     "output_type": "execute_result"
    }
   ],
   "source": [
    "# Getting only 2017 movies as we already have movies up to the year 2016 Previously \n",
    "# We don't have enough data for the movies from 2018, 2019 and 2020. \n",
    "# We'll deal with it in the upcoming preprocessing step\n",
    "df2 = movies17.loc[movies17.year == 2017,['id','title','overview','genres']]\n",
    "df2.shape"
   ]
  },
  {
   "cell_type": "code",
   "execution_count": 26,
   "id": "12288282",
   "metadata": {
    "scrolled": true
   },
   "outputs": [
    {
     "data": {
      "text/html": [
       "<div>\n",
       "<style scoped>\n",
       "    .dataframe tbody tr th:only-of-type {\n",
       "        vertical-align: middle;\n",
       "    }\n",
       "\n",
       "    .dataframe tbody tr th {\n",
       "        vertical-align: top;\n",
       "    }\n",
       "\n",
       "    .dataframe thead th {\n",
       "        text-align: right;\n",
       "    }\n",
       "</style>\n",
       "<table border=\"1\" class=\"dataframe\">\n",
       "  <thead>\n",
       "    <tr style=\"text-align: right;\">\n",
       "      <th></th>\n",
       "      <th>id</th>\n",
       "      <th>title</th>\n",
       "      <th>overview</th>\n",
       "      <th>genres</th>\n",
       "      <th>keywords</th>\n",
       "      <th>cast</th>\n",
       "      <th>crew</th>\n",
       "    </tr>\n",
       "  </thead>\n",
       "  <tbody>\n",
       "    <tr>\n",
       "      <th>0</th>\n",
       "      <td>166426</td>\n",
       "      <td>Pirates of the Caribbean: Dead Men Tell No Tales</td>\n",
       "      <td>Thrust into an all-new paycheck, a down-on-his...</td>\n",
       "      <td>[{'id': 12, 'name': 'Adventure'}, {'id': 28, '...</td>\n",
       "      <td>[{'id': 658, 'name': 'sea'}, {'id': 3799, 'nam...</td>\n",
       "      <td>[{'cast_id': 1, 'character': 'Captain Jack Spa...</td>\n",
       "      <td>[{'credit_id': '52fe4c9cc3a36847f8236a65', 'de...</td>\n",
       "    </tr>\n",
       "    <tr>\n",
       "      <th>1</th>\n",
       "      <td>141052</td>\n",
       "      <td>Justice League</td>\n",
       "      <td>Fueled by his restored faith in humanity and i...</td>\n",
       "      <td>[{'id': 28, 'name': 'Action'}, {'id': 12, 'nam...</td>\n",
       "      <td>[{'id': 849, 'name': 'dc comics'}, {'id': 9717...</td>\n",
       "      <td>[{'cast_id': 2, 'character': 'Bruce Wayne / Ba...</td>\n",
       "      <td>[{'credit_id': '55ef66dbc3a3686f1700a52d', 'de...</td>\n",
       "    </tr>\n",
       "  </tbody>\n",
       "</table>\n",
       "</div>"
      ],
      "text/plain": [
       "       id                                             title  \\\n",
       "0  166426  Pirates of the Caribbean: Dead Men Tell No Tales   \n",
       "1  141052                                    Justice League   \n",
       "\n",
       "                                            overview  \\\n",
       "0  Thrust into an all-new paycheck, a down-on-his...   \n",
       "1  Fueled by his restored faith in humanity and i...   \n",
       "\n",
       "                                              genres  \\\n",
       "0  [{'id': 12, 'name': 'Adventure'}, {'id': 28, '...   \n",
       "1  [{'id': 28, 'name': 'Action'}, {'id': 12, 'nam...   \n",
       "\n",
       "                                            keywords  \\\n",
       "0  [{'id': 658, 'name': 'sea'}, {'id': 3799, 'nam...   \n",
       "1  [{'id': 849, 'name': 'dc comics'}, {'id': 9717...   \n",
       "\n",
       "                                                cast  \\\n",
       "0  [{'cast_id': 1, 'character': 'Captain Jack Spa...   \n",
       "1  [{'cast_id': 2, 'character': 'Bruce Wayne / Ba...   \n",
       "\n",
       "                                                crew  \n",
       "0  [{'credit_id': '52fe4c9cc3a36847f8236a65', 'de...  \n",
       "1  [{'credit_id': '55ef66dbc3a3686f1700a52d', 'de...  "
      ]
     },
     "execution_count": 26,
     "metadata": {},
     "output_type": "execute_result"
    }
   ],
   "source": [
    "#Converting id feature to int\n",
    "df2['id']=pd.to_numeric(df2['id'],errors='coerce')\n",
    "#Mergeing Movies & Keywords Dataset\n",
    "df2 = df2.merge(keywords17,on='id')\n",
    "#Mergeing Both the Dataset\n",
    "df2 = df2.merge(credits17,on='id')\n",
    "df2.head(2)"
   ]
  },
  {
   "cell_type": "code",
   "execution_count": 27,
   "id": "69aad1b2",
   "metadata": {
    "scrolled": true
   },
   "outputs": [
    {
     "data": {
      "text/plain": [
       "id           0\n",
       "title        0\n",
       "overview    12\n",
       "genres       0\n",
       "keywords     0\n",
       "cast         0\n",
       "crew         0\n",
       "dtype: int64"
      ]
     },
     "execution_count": 27,
     "metadata": {},
     "output_type": "execute_result"
    }
   ],
   "source": [
    "df2.isnull().sum()"
   ]
  },
  {
   "cell_type": "code",
   "execution_count": 28,
   "id": "a00b501f",
   "metadata": {},
   "outputs": [
    {
     "data": {
      "text/plain": [
       "(520, 7)"
      ]
     },
     "execution_count": 28,
     "metadata": {},
     "output_type": "execute_result"
    }
   ],
   "source": [
    "# Dropping the NA Values as Count of NA Value is Small\n",
    "df2.dropna(inplace=True)\n",
    "df2.shape"
   ]
  },
  {
   "cell_type": "code",
   "execution_count": 29,
   "id": "6fc452e4",
   "metadata": {
    "scrolled": true
   },
   "outputs": [
    {
     "data": {
      "text/html": [
       "<div>\n",
       "<style scoped>\n",
       "    .dataframe tbody tr th:only-of-type {\n",
       "        vertical-align: middle;\n",
       "    }\n",
       "\n",
       "    .dataframe tbody tr th {\n",
       "        vertical-align: top;\n",
       "    }\n",
       "\n",
       "    .dataframe thead th {\n",
       "        text-align: right;\n",
       "    }\n",
       "</style>\n",
       "<table border=\"1\" class=\"dataframe\">\n",
       "  <thead>\n",
       "    <tr style=\"text-align: right;\">\n",
       "      <th></th>\n",
       "      <th>id</th>\n",
       "      <th>title</th>\n",
       "      <th>Detail</th>\n",
       "    </tr>\n",
       "  </thead>\n",
       "  <tbody>\n",
       "    <tr>\n",
       "      <th>0</th>\n",
       "      <td>166426</td>\n",
       "      <td>Pirates of the Caribbean: Dead Men Tell No Tales</td>\n",
       "      <td>Thrust into an all-new paycheck, a down-on-his...</td>\n",
       "    </tr>\n",
       "    <tr>\n",
       "      <th>1</th>\n",
       "      <td>141052</td>\n",
       "      <td>Justice League</td>\n",
       "      <td>Fueled by his restored faith in humanity and i...</td>\n",
       "    </tr>\n",
       "    <tr>\n",
       "      <th>2</th>\n",
       "      <td>284053</td>\n",
       "      <td>Thor: Ragnarok</td>\n",
       "      <td>Thor is imprisoned on the other side of the un...</td>\n",
       "    </tr>\n",
       "    <tr>\n",
       "      <th>3</th>\n",
       "      <td>283995</td>\n",
       "      <td>Guardians of the Galaxy Vol. 2</td>\n",
       "      <td>The Guardians must fight to keep their newfoun...</td>\n",
       "    </tr>\n",
       "    <tr>\n",
       "      <th>4</th>\n",
       "      <td>245842</td>\n",
       "      <td>The King's Daughter</td>\n",
       "      <td>King Louis XIV's quest for immortality leads h...</td>\n",
       "    </tr>\n",
       "  </tbody>\n",
       "</table>\n",
       "</div>"
      ],
      "text/plain": [
       "       id                                             title  \\\n",
       "0  166426  Pirates of the Caribbean: Dead Men Tell No Tales   \n",
       "1  141052                                    Justice League   \n",
       "2  284053                                    Thor: Ragnarok   \n",
       "3  283995                    Guardians of the Galaxy Vol. 2   \n",
       "4  245842                               The King's Daughter   \n",
       "\n",
       "                                              Detail  \n",
       "0  Thrust into an all-new paycheck, a down-on-his...  \n",
       "1  Fueled by his restored faith in humanity and i...  \n",
       "2  Thor is imprisoned on the other side of the un...  \n",
       "3  The Guardians must fight to keep their newfoun...  \n",
       "4  King Louis XIV's quest for immortality leads h...  "
      ]
     },
     "execution_count": 29,
     "metadata": {},
     "output_type": "execute_result"
    }
   ],
   "source": [
    "#Preprocessing Movies of 2017\n",
    "\n",
    "#Calling the Function to get list of genres,keywords,cast\n",
    "df2['genres'] = df2['genres'].apply(convert)\n",
    "df2['keywords'] = df2['keywords'].apply(convert)\n",
    "df2['cast'] = df2['cast'].apply(convert)\n",
    "\n",
    "#Getting only First 3 Actors of the Movies\n",
    "df2['cast'] = df2['cast'].apply(lambda x:x[0:3])\n",
    "\n",
    "#Calling the fetch_director function to get Director Name's\n",
    "df2['crew'] = df2['crew'].apply(fetch_director)\n",
    "\n",
    "#Converting Overview Feature into a List\n",
    "df2['overview'] = df2['overview'].apply(lambda x:x.split())\n",
    "\n",
    "#Making Single Entities by Removing Space\n",
    "df2['cast'] = df2['cast'].apply(collapse)\n",
    "df2['crew'] = df2['crew'].apply(collapse)\n",
    "df2['genres'] = df2['genres'].apply(collapse)\n",
    "df2['keywords'] = df2['keywords'].apply(collapse)\n",
    "\n",
    "#Creating Detail Feature\n",
    "df2['Detail'] = df2['overview'] + df2['genres'] + df2['keywords'] + df2['cast'] + df2['crew']\n",
    "#Dropping Original Columns\n",
    "final_df17 = df2.drop(columns=['overview','genres','keywords','cast','crew'])\n",
    "\n",
    "#Converting the Detail column back to string/Text\n",
    "final_df17['Detail'] = final_df17['Detail'].apply(lambda x: \" \".join(x))\n",
    "final_df17.head()"
   ]
  },
  {
   "cell_type": "markdown",
   "id": "df6998a3",
   "metadata": {},
   "source": [
    "Inference: Now will append this 2017's movies with previous data"
   ]
  },
  {
   "cell_type": "code",
   "execution_count": 30,
   "id": "ccf85280",
   "metadata": {},
   "outputs": [
    {
     "data": {
      "text/plain": [
       "(5326, 3)"
      ]
     },
     "execution_count": 30,
     "metadata": {},
     "output_type": "execute_result"
    }
   ],
   "source": [
    "#Appending the Dataset (Previous + 2017 Movies)\n",
    "final_df = final_df.append(final_df17)\n",
    "#Checking the final_df\n",
    "final_df.shape"
   ]
  },
  {
   "cell_type": "markdown",
   "id": "b7bf2d4a",
   "metadata": {},
   "source": [
    "#### Movies of 2018\n",
    "\n",
    "Extracting features of 2018 movies from Wikipedia"
   ]
  },
  {
   "cell_type": "code",
   "execution_count": 31,
   "id": "22c64bad",
   "metadata": {},
   "outputs": [
    {
     "data": {
      "text/html": [
       "<div>\n",
       "<style scoped>\n",
       "    .dataframe tbody tr th:only-of-type {\n",
       "        vertical-align: middle;\n",
       "    }\n",
       "\n",
       "    .dataframe tbody tr th {\n",
       "        vertical-align: top;\n",
       "    }\n",
       "\n",
       "    .dataframe thead th {\n",
       "        text-align: right;\n",
       "    }\n",
       "</style>\n",
       "<table border=\"1\" class=\"dataframe\">\n",
       "  <thead>\n",
       "    <tr style=\"text-align: right;\">\n",
       "      <th></th>\n",
       "      <th>Opening</th>\n",
       "      <th>Opening.1</th>\n",
       "      <th>Title</th>\n",
       "      <th>Production company</th>\n",
       "      <th>Cast and crew</th>\n",
       "      <th>.mw-parser-output .tooltip-dotted{border-bottom:1px dotted;cursor:help}Ref.</th>\n",
       "      <th>Ref.</th>\n",
       "    </tr>\n",
       "  </thead>\n",
       "  <tbody>\n",
       "    <tr>\n",
       "      <th>0</th>\n",
       "      <td>JANUARY</td>\n",
       "      <td>5</td>\n",
       "      <td>Insidious: The Last Key</td>\n",
       "      <td>Universal Pictures / Blumhouse Productions / S...</td>\n",
       "      <td>Adam Robitel (director); Leigh Whannell (scree...</td>\n",
       "      <td>[2]</td>\n",
       "      <td>NaN</td>\n",
       "    </tr>\n",
       "    <tr>\n",
       "      <th>1</th>\n",
       "      <td>JANUARY</td>\n",
       "      <td>5</td>\n",
       "      <td>The Strange Ones</td>\n",
       "      <td>Vertical Entertainment</td>\n",
       "      <td>Lauren Wolkstein (director); Christopher Radcl...</td>\n",
       "      <td>[3]</td>\n",
       "      <td>NaN</td>\n",
       "    </tr>\n",
       "    <tr>\n",
       "      <th>2</th>\n",
       "      <td>JANUARY</td>\n",
       "      <td>5</td>\n",
       "      <td>Stratton</td>\n",
       "      <td>Momentum Pictures</td>\n",
       "      <td>Simon West (director); Duncan Falconer, Warren...</td>\n",
       "      <td>[4]</td>\n",
       "      <td>NaN</td>\n",
       "    </tr>\n",
       "    <tr>\n",
       "      <th>3</th>\n",
       "      <td>JANUARY</td>\n",
       "      <td>10</td>\n",
       "      <td>Sweet Country</td>\n",
       "      <td>Samuel Goldwyn Films</td>\n",
       "      <td>Warwick Thornton (director); David Tranter, St...</td>\n",
       "      <td>[5]</td>\n",
       "      <td>NaN</td>\n",
       "    </tr>\n",
       "    <tr>\n",
       "      <th>4</th>\n",
       "      <td>JANUARY</td>\n",
       "      <td>12</td>\n",
       "      <td>The Commuter</td>\n",
       "      <td>Lionsgate / StudioCanal / The Picture Company</td>\n",
       "      <td>Jaume Collet-Serra (director); Byron Willinger...</td>\n",
       "      <td>[6]</td>\n",
       "      <td>NaN</td>\n",
       "    </tr>\n",
       "  </tbody>\n",
       "</table>\n",
       "</div>"
      ],
      "text/plain": [
       "   Opening  Opening.1                    Title  \\\n",
       "0  JANUARY          5  Insidious: The Last Key   \n",
       "1  JANUARY          5         The Strange Ones   \n",
       "2  JANUARY          5                 Stratton   \n",
       "3  JANUARY         10            Sweet Country   \n",
       "4  JANUARY         12             The Commuter   \n",
       "\n",
       "                                  Production company  \\\n",
       "0  Universal Pictures / Blumhouse Productions / S...   \n",
       "1                             Vertical Entertainment   \n",
       "2                                  Momentum Pictures   \n",
       "3                               Samuel Goldwyn Films   \n",
       "4      Lionsgate / StudioCanal / The Picture Company   \n",
       "\n",
       "                                       Cast and crew  \\\n",
       "0  Adam Robitel (director); Leigh Whannell (scree...   \n",
       "1  Lauren Wolkstein (director); Christopher Radcl...   \n",
       "2  Simon West (director); Duncan Falconer, Warren...   \n",
       "3  Warwick Thornton (director); David Tranter, St...   \n",
       "4  Jaume Collet-Serra (director); Byron Willinger...   \n",
       "\n",
       "  .mw-parser-output .tooltip-dotted{border-bottom:1px dotted;cursor:help}Ref.  \\\n",
       "0                                                [2]                            \n",
       "1                                                [3]                            \n",
       "2                                                [4]                            \n",
       "3                                                [5]                            \n",
       "4                                                [6]                            \n",
       "\n",
       "  Ref.  \n",
       "0  NaN  \n",
       "1  NaN  \n",
       "2  NaN  \n",
       "3  NaN  \n",
       "4  NaN  "
      ]
     },
     "execution_count": 31,
     "metadata": {},
     "output_type": "execute_result"
    }
   ],
   "source": [
    "#Link\n",
    "link = \"https://en.wikipedia.org/wiki/List_of_American_films_of_2018\"\n",
    "# Getting the 4 table present in the link as 4 dfs\n",
    "df3 = pd.read_html(link, header=0)[2]\n",
    "df4 = pd.read_html(link, header=0)[3]\n",
    "df5 = pd.read_html(link, header=0)[4]\n",
    "df6 = pd.read_html(link, header=0)[5]\n",
    "\n",
    "#Appending all 4 df into 1\n",
    "df7 = df3.append(df4.append(df5.append(df6,ignore_index=True),ignore_index=True),ignore_index=True)\n",
    "df7.head()"
   ]
  },
  {
   "cell_type": "code",
   "execution_count": 32,
   "id": "f55d01d7",
   "metadata": {},
   "outputs": [],
   "source": [
    "#Initializing to Scapes the Genre\n",
    "tmdb = TMDb()\n",
    "tmdb.api_key = 'eab26b9d5f2cc3ad149a18a460342632'\n",
    "tmdb_movie = Movie()\n",
    "#For ID\n",
    "def get_id(x):\n",
    "    ID = []\n",
    "    result = tmdb_movie.search(x)\n",
    "    if not result:\n",
    "        return np.NaN\n",
    "    else:\n",
    "        movie_id = result[0].id\n",
    "        response = requests.get('https://api.themoviedb.org/3/movie/{}?api_key={}'.format(movie_id, tmdb.api_key))\n",
    "        data_json = response.json()\n",
    "        response.close()\n",
    "        if data_json['id']:\n",
    "            ID.append(data_json['id'])\n",
    "            val = ','.join(str(i) for i in ID)\n",
    "            return val\n",
    "        else:\n",
    "            np.NaN\n",
    "\n",
    "def get_genre(x):\n",
    "    genres = []\n",
    "    result = tmdb_movie.search(x)\n",
    "    if not result:\n",
    "        return np.NaN\n",
    "    else:\n",
    "        movie_id = result[0].id\n",
    "        response = requests.get('https://api.themoviedb.org/3/movie/{}?api_key={}'.format(movie_id, tmdb.api_key))\n",
    "        data_json = response.json()\n",
    "        response.close()\n",
    "        if data_json['genres']:\n",
    "            genre_str = \" \" \n",
    "            for i in range(0,len(data_json['genres'])):\n",
    "                genres.append(data_json['genres'][i]['name'])\n",
    "            return genre_str.join(genres)\n",
    "        else:\n",
    "            np.NaN\n",
    "        \n",
    "#For Overview\n",
    "def get_overview(x):\n",
    "    overview = []\n",
    "    result = tmdb_movie.search(x)\n",
    "    if not result:\n",
    "        return np.NaN\n",
    "    else:\n",
    "        movie_id = result[0].id\n",
    "        response = requests.get('https://api.themoviedb.org/3/movie/{}?api_key={}'.format(movie_id, tmdb.api_key))\n",
    "        data_json = response.json()\n",
    "        response.close()\n",
    "        if data_json['overview']:\n",
    "            overview_str = \" \" \n",
    "            for i in range(0,len(data_json['overview'])):\n",
    "                overview.append(data_json['overview'])\n",
    "            return overview_str.join(overview)\n",
    "        else:\n",
    "            np.NaN"
   ]
  },
  {
   "cell_type": "code",
   "execution_count": 33,
   "id": "c36315c9",
   "metadata": {
    "scrolled": true
   },
   "outputs": [
    {
     "data": {
      "text/html": [
       "<div>\n",
       "<style scoped>\n",
       "    .dataframe tbody tr th:only-of-type {\n",
       "        vertical-align: middle;\n",
       "    }\n",
       "\n",
       "    .dataframe tbody tr th {\n",
       "        vertical-align: top;\n",
       "    }\n",
       "\n",
       "    .dataframe thead th {\n",
       "        text-align: right;\n",
       "    }\n",
       "</style>\n",
       "<table border=\"1\" class=\"dataframe\">\n",
       "  <thead>\n",
       "    <tr style=\"text-align: right;\">\n",
       "      <th></th>\n",
       "      <th>Opening</th>\n",
       "      <th>Opening.1</th>\n",
       "      <th>Title</th>\n",
       "      <th>Production company</th>\n",
       "      <th>Cast and crew</th>\n",
       "      <th>.mw-parser-output .tooltip-dotted{border-bottom:1px dotted;cursor:help}Ref.</th>\n",
       "      <th>Ref.</th>\n",
       "      <th>id</th>\n",
       "      <th>genres</th>\n",
       "      <th>overview</th>\n",
       "    </tr>\n",
       "  </thead>\n",
       "  <tbody>\n",
       "    <tr>\n",
       "      <th>0</th>\n",
       "      <td>JANUARY</td>\n",
       "      <td>5</td>\n",
       "      <td>Insidious: The Last Key</td>\n",
       "      <td>Universal Pictures / Blumhouse Productions / S...</td>\n",
       "      <td>Adam Robitel (director); Leigh Whannell (scree...</td>\n",
       "      <td>[2]</td>\n",
       "      <td>NaN</td>\n",
       "      <td>406563</td>\n",
       "      <td>Horror Mystery Thriller</td>\n",
       "      <td>Parapsychologist Elise Rainier and her team tr...</td>\n",
       "    </tr>\n",
       "    <tr>\n",
       "      <th>1</th>\n",
       "      <td>JANUARY</td>\n",
       "      <td>5</td>\n",
       "      <td>The Strange Ones</td>\n",
       "      <td>Vertical Entertainment</td>\n",
       "      <td>Lauren Wolkstein (director); Christopher Radcl...</td>\n",
       "      <td>[3]</td>\n",
       "      <td>NaN</td>\n",
       "      <td>426258</td>\n",
       "      <td>Thriller Drama</td>\n",
       "      <td>Mysterious events surround the travels of two ...</td>\n",
       "    </tr>\n",
       "  </tbody>\n",
       "</table>\n",
       "</div>"
      ],
      "text/plain": [
       "   Opening  Opening.1                    Title  \\\n",
       "0  JANUARY          5  Insidious: The Last Key   \n",
       "1  JANUARY          5         The Strange Ones   \n",
       "\n",
       "                                  Production company  \\\n",
       "0  Universal Pictures / Blumhouse Productions / S...   \n",
       "1                             Vertical Entertainment   \n",
       "\n",
       "                                       Cast and crew  \\\n",
       "0  Adam Robitel (director); Leigh Whannell (scree...   \n",
       "1  Lauren Wolkstein (director); Christopher Radcl...   \n",
       "\n",
       "  .mw-parser-output .tooltip-dotted{border-bottom:1px dotted;cursor:help}Ref.  \\\n",
       "0                                                [2]                            \n",
       "1                                                [3]                            \n",
       "\n",
       "  Ref.      id                   genres  \\\n",
       "0  NaN  406563  Horror Mystery Thriller   \n",
       "1  NaN  426258           Thriller Drama   \n",
       "\n",
       "                                            overview  \n",
       "0  Parapsychologist Elise Rainier and her team tr...  \n",
       "1  Mysterious events surround the travels of two ...  "
      ]
     },
     "execution_count": 33,
     "metadata": {},
     "output_type": "execute_result"
    }
   ],
   "source": [
    "#Creating the ID, Genres, overview Columns\n",
    "df7['id'] = df7['Title'].map(lambda x: get_id(str(x)))\n",
    "df7['genres'] = df7['Title'].map(lambda x: get_genre(str(x)))\n",
    "df7['overview'] = df7['Title'].map(lambda x: get_overview(str(x)))\n",
    "df7.head(2)"
   ]
  },
  {
   "cell_type": "code",
   "execution_count": 34,
   "id": "f322b11b",
   "metadata": {
    "scrolled": true
   },
   "outputs": [
    {
     "data": {
      "text/html": [
       "<div>\n",
       "<style scoped>\n",
       "    .dataframe tbody tr th:only-of-type {\n",
       "        vertical-align: middle;\n",
       "    }\n",
       "\n",
       "    .dataframe tbody tr th {\n",
       "        vertical-align: top;\n",
       "    }\n",
       "\n",
       "    .dataframe thead th {\n",
       "        text-align: right;\n",
       "    }\n",
       "</style>\n",
       "<table border=\"1\" class=\"dataframe\">\n",
       "  <thead>\n",
       "    <tr style=\"text-align: right;\">\n",
       "      <th></th>\n",
       "      <th>id</th>\n",
       "      <th>title</th>\n",
       "      <th>Cast and crew</th>\n",
       "      <th>genres</th>\n",
       "      <th>overview</th>\n",
       "    </tr>\n",
       "  </thead>\n",
       "  <tbody>\n",
       "    <tr>\n",
       "      <th>0</th>\n",
       "      <td>406563</td>\n",
       "      <td>Insidious: The Last Key</td>\n",
       "      <td>Adam Robitel (director); Leigh Whannell (scree...</td>\n",
       "      <td>Horror Mystery Thriller</td>\n",
       "      <td>Parapsychologist Elise Rainier and her team tr...</td>\n",
       "    </tr>\n",
       "    <tr>\n",
       "      <th>1</th>\n",
       "      <td>426258</td>\n",
       "      <td>The Strange Ones</td>\n",
       "      <td>Lauren Wolkstein (director); Christopher Radcl...</td>\n",
       "      <td>Thriller Drama</td>\n",
       "      <td>Mysterious events surround the travels of two ...</td>\n",
       "    </tr>\n",
       "  </tbody>\n",
       "</table>\n",
       "</div>"
      ],
      "text/plain": [
       "       id                    title  \\\n",
       "0  406563  Insidious: The Last Key   \n",
       "1  426258         The Strange Ones   \n",
       "\n",
       "                                       Cast and crew                   genres  \\\n",
       "0  Adam Robitel (director); Leigh Whannell (scree...  Horror Mystery Thriller   \n",
       "1  Lauren Wolkstein (director); Christopher Radcl...           Thriller Drama   \n",
       "\n",
       "                                            overview  \n",
       "0  Parapsychologist Elise Rainier and her team tr...  \n",
       "1  Mysterious events surround the travels of two ...  "
      ]
     },
     "execution_count": 34,
     "metadata": {},
     "output_type": "execute_result"
    }
   ],
   "source": [
    "#Taking the Important Columns\n",
    "df8 = df7[['id','Title','Cast and crew','genres','overview']]\n",
    "df8 = df8.rename(columns={'Title':'title'})\n",
    "df8.head(2)"
   ]
  },
  {
   "cell_type": "code",
   "execution_count": 35,
   "id": "eb9a1281",
   "metadata": {},
   "outputs": [
    {
     "data": {
      "text/plain": [
       "id               0\n",
       "title            0\n",
       "Cast and crew    0\n",
       "genres           2\n",
       "overview         0\n",
       "dtype: int64"
      ]
     },
     "execution_count": 35,
     "metadata": {},
     "output_type": "execute_result"
    }
   ],
   "source": [
    "#Checking NA Values.\n",
    "df8.isnull().sum()"
   ]
  },
  {
   "cell_type": "code",
   "execution_count": 36,
   "id": "997833fe",
   "metadata": {},
   "outputs": [
    {
     "data": {
      "text/plain": [
       "(270, 5)"
      ]
     },
     "execution_count": 36,
     "metadata": {},
     "output_type": "execute_result"
    }
   ],
   "source": [
    "# Dropping the NA Values as Count of NA Value is Small\n",
    "df8.dropna(inplace=True)\n",
    "df8.shape"
   ]
  },
  {
   "cell_type": "code",
   "execution_count": 37,
   "id": "b2004ebb",
   "metadata": {},
   "outputs": [],
   "source": [
    "#Get Actors Name First 3 Actors\n",
    "def get_actor(x):\n",
    "    return ((x.split(\"screenplay); \")[-1]).split(\", \")[0:3])"
   ]
  },
  {
   "cell_type": "code",
   "execution_count": 38,
   "id": "a4dd27c9",
   "metadata": {},
   "outputs": [
    {
     "data": {
      "text/html": [
       "<div>\n",
       "<style scoped>\n",
       "    .dataframe tbody tr th:only-of-type {\n",
       "        vertical-align: middle;\n",
       "    }\n",
       "\n",
       "    .dataframe tbody tr th {\n",
       "        vertical-align: top;\n",
       "    }\n",
       "\n",
       "    .dataframe thead th {\n",
       "        text-align: right;\n",
       "    }\n",
       "</style>\n",
       "<table border=\"1\" class=\"dataframe\">\n",
       "  <thead>\n",
       "    <tr style=\"text-align: right;\">\n",
       "      <th></th>\n",
       "      <th>id</th>\n",
       "      <th>title</th>\n",
       "      <th>Cast and crew</th>\n",
       "      <th>genres</th>\n",
       "      <th>overview</th>\n",
       "      <th>cast</th>\n",
       "    </tr>\n",
       "  </thead>\n",
       "  <tbody>\n",
       "    <tr>\n",
       "      <th>0</th>\n",
       "      <td>406563</td>\n",
       "      <td>Insidious: The Last Key</td>\n",
       "      <td>Adam Robitel (director); Leigh Whannell (scree...</td>\n",
       "      <td>Horror Mystery Thriller</td>\n",
       "      <td>Parapsychologist Elise Rainier and her team tr...</td>\n",
       "      <td>[Lin Shaye, Angus Sampson, Leigh Whannell]</td>\n",
       "    </tr>\n",
       "    <tr>\n",
       "      <th>1</th>\n",
       "      <td>426258</td>\n",
       "      <td>The Strange Ones</td>\n",
       "      <td>Lauren Wolkstein (director); Christopher Radcl...</td>\n",
       "      <td>Thriller Drama</td>\n",
       "      <td>Mysterious events surround the travels of two ...</td>\n",
       "      <td>[Alex Pettyfer, James Freedson-Jackson, Emily ...</td>\n",
       "    </tr>\n",
       "  </tbody>\n",
       "</table>\n",
       "</div>"
      ],
      "text/plain": [
       "       id                    title  \\\n",
       "0  406563  Insidious: The Last Key   \n",
       "1  426258         The Strange Ones   \n",
       "\n",
       "                                       Cast and crew                   genres  \\\n",
       "0  Adam Robitel (director); Leigh Whannell (scree...  Horror Mystery Thriller   \n",
       "1  Lauren Wolkstein (director); Christopher Radcl...           Thriller Drama   \n",
       "\n",
       "                                            overview  \\\n",
       "0  Parapsychologist Elise Rainier and her team tr...   \n",
       "1  Mysterious events surround the travels of two ...   \n",
       "\n",
       "                                                cast  \n",
       "0         [Lin Shaye, Angus Sampson, Leigh Whannell]  \n",
       "1  [Alex Pettyfer, James Freedson-Jackson, Emily ...  "
      ]
     },
     "execution_count": 38,
     "metadata": {},
     "output_type": "execute_result"
    }
   ],
   "source": [
    "#Calling the get actor Function.\n",
    "df8['cast'] = df8['Cast and crew'].map(lambda x: get_actor(x))\n",
    "df8.head(2)"
   ]
  },
  {
   "cell_type": "code",
   "execution_count": 39,
   "id": "e040df00",
   "metadata": {},
   "outputs": [],
   "source": [
    "#Function to fetch Directors\n",
    "def get_director(x):\n",
    "    if \" (director)\" in x:\n",
    "        return (x.split(\" (director)\")[0:1])\n",
    "    elif \" (directors)\" in x:\n",
    "        return (x.split(\" (directors)\")[0:1])\n",
    "    else:\n",
    "        return (x.split(\" (director/screenplay)\")[0:1])"
   ]
  },
  {
   "cell_type": "code",
   "execution_count": 40,
   "id": "371dedbd",
   "metadata": {
    "scrolled": true
   },
   "outputs": [
    {
     "data": {
      "text/html": [
       "<div>\n",
       "<style scoped>\n",
       "    .dataframe tbody tr th:only-of-type {\n",
       "        vertical-align: middle;\n",
       "    }\n",
       "\n",
       "    .dataframe tbody tr th {\n",
       "        vertical-align: top;\n",
       "    }\n",
       "\n",
       "    .dataframe thead th {\n",
       "        text-align: right;\n",
       "    }\n",
       "</style>\n",
       "<table border=\"1\" class=\"dataframe\">\n",
       "  <thead>\n",
       "    <tr style=\"text-align: right;\">\n",
       "      <th></th>\n",
       "      <th>id</th>\n",
       "      <th>title</th>\n",
       "      <th>genres</th>\n",
       "      <th>overview</th>\n",
       "      <th>cast</th>\n",
       "      <th>crew</th>\n",
       "    </tr>\n",
       "  </thead>\n",
       "  <tbody>\n",
       "    <tr>\n",
       "      <th>0</th>\n",
       "      <td>406563</td>\n",
       "      <td>Insidious: The Last Key</td>\n",
       "      <td>Horror Mystery Thriller</td>\n",
       "      <td>Parapsychologist Elise Rainier and her team tr...</td>\n",
       "      <td>[Lin Shaye, Angus Sampson, Leigh Whannell]</td>\n",
       "      <td>[Adam Robitel]</td>\n",
       "    </tr>\n",
       "    <tr>\n",
       "      <th>1</th>\n",
       "      <td>426258</td>\n",
       "      <td>The Strange Ones</td>\n",
       "      <td>Thriller Drama</td>\n",
       "      <td>Mysterious events surround the travels of two ...</td>\n",
       "      <td>[Alex Pettyfer, James Freedson-Jackson, Emily ...</td>\n",
       "      <td>[Lauren Wolkstein]</td>\n",
       "    </tr>\n",
       "  </tbody>\n",
       "</table>\n",
       "</div>"
      ],
      "text/plain": [
       "       id                    title                   genres  \\\n",
       "0  406563  Insidious: The Last Key  Horror Mystery Thriller   \n",
       "1  426258         The Strange Ones           Thriller Drama   \n",
       "\n",
       "                                            overview  \\\n",
       "0  Parapsychologist Elise Rainier and her team tr...   \n",
       "1  Mysterious events surround the travels of two ...   \n",
       "\n",
       "                                                cast                crew  \n",
       "0         [Lin Shaye, Angus Sampson, Leigh Whannell]      [Adam Robitel]  \n",
       "1  [Alex Pettyfer, James Freedson-Jackson, Emily ...  [Lauren Wolkstein]  "
      ]
     },
     "execution_count": 40,
     "metadata": {},
     "output_type": "execute_result"
    }
   ],
   "source": [
    "#Calling the get_director function to get Director Name's\n",
    "df8['crew'] = df8['Cast and crew'].map(lambda x: get_director(x))\n",
    "#Dropping Original Columns\n",
    "df8 = df8.drop(columns=['Cast and crew'])\n",
    "df8.head(2)"
   ]
  },
  {
   "cell_type": "markdown",
   "id": "e7ecef3e",
   "metadata": {},
   "source": [
    "Inference: Features is a String will Convert this into a List so we can concat with other Features."
   ]
  },
  {
   "cell_type": "code",
   "execution_count": 41,
   "id": "2d68392f",
   "metadata": {
    "scrolled": true
   },
   "outputs": [
    {
     "data": {
      "text/html": [
       "<div>\n",
       "<style scoped>\n",
       "    .dataframe tbody tr th:only-of-type {\n",
       "        vertical-align: middle;\n",
       "    }\n",
       "\n",
       "    .dataframe tbody tr th {\n",
       "        vertical-align: top;\n",
       "    }\n",
       "\n",
       "    .dataframe thead th {\n",
       "        text-align: right;\n",
       "    }\n",
       "</style>\n",
       "<table border=\"1\" class=\"dataframe\">\n",
       "  <thead>\n",
       "    <tr style=\"text-align: right;\">\n",
       "      <th></th>\n",
       "      <th>id</th>\n",
       "      <th>title</th>\n",
       "      <th>genres</th>\n",
       "      <th>overview</th>\n",
       "      <th>cast</th>\n",
       "      <th>crew</th>\n",
       "    </tr>\n",
       "  </thead>\n",
       "  <tbody>\n",
       "    <tr>\n",
       "      <th>0</th>\n",
       "      <td>406563</td>\n",
       "      <td>Insidious: The Last Key</td>\n",
       "      <td>[Horror, Mystery, Thriller]</td>\n",
       "      <td>[Parapsychologist, Elise, Rainier, and, her, t...</td>\n",
       "      <td>[Lin Shaye, Angus Sampson, Leigh Whannell]</td>\n",
       "      <td>[Adam Robitel]</td>\n",
       "    </tr>\n",
       "    <tr>\n",
       "      <th>1</th>\n",
       "      <td>426258</td>\n",
       "      <td>The Strange Ones</td>\n",
       "      <td>[Thriller, Drama]</td>\n",
       "      <td>[Mysterious, events, surround, the, travels, o...</td>\n",
       "      <td>[Alex Pettyfer, James Freedson-Jackson, Emily ...</td>\n",
       "      <td>[Lauren Wolkstein]</td>\n",
       "    </tr>\n",
       "  </tbody>\n",
       "</table>\n",
       "</div>"
      ],
      "text/plain": [
       "       id                    title                       genres  \\\n",
       "0  406563  Insidious: The Last Key  [Horror, Mystery, Thriller]   \n",
       "1  426258         The Strange Ones            [Thriller, Drama]   \n",
       "\n",
       "                                            overview  \\\n",
       "0  [Parapsychologist, Elise, Rainier, and, her, t...   \n",
       "1  [Mysterious, events, surround, the, travels, o...   \n",
       "\n",
       "                                                cast                crew  \n",
       "0         [Lin Shaye, Angus Sampson, Leigh Whannell]      [Adam Robitel]  \n",
       "1  [Alex Pettyfer, James Freedson-Jackson, Emily ...  [Lauren Wolkstein]  "
      ]
     },
     "execution_count": 41,
     "metadata": {},
     "output_type": "execute_result"
    }
   ],
   "source": [
    "#Converting Feature into a List\n",
    "df8['genres'] = df8['genres'].apply(lambda x:x.split())\n",
    "df8['overview'] = df8['overview'].apply(lambda x:x.split())\n",
    "df8.head(2)"
   ]
  },
  {
   "cell_type": "code",
   "execution_count": 42,
   "id": "21287fd6",
   "metadata": {},
   "outputs": [
    {
     "data": {
      "text/html": [
       "<div>\n",
       "<style scoped>\n",
       "    .dataframe tbody tr th:only-of-type {\n",
       "        vertical-align: middle;\n",
       "    }\n",
       "\n",
       "    .dataframe tbody tr th {\n",
       "        vertical-align: top;\n",
       "    }\n",
       "\n",
       "    .dataframe thead th {\n",
       "        text-align: right;\n",
       "    }\n",
       "</style>\n",
       "<table border=\"1\" class=\"dataframe\">\n",
       "  <thead>\n",
       "    <tr style=\"text-align: right;\">\n",
       "      <th></th>\n",
       "      <th>id</th>\n",
       "      <th>title</th>\n",
       "      <th>genres</th>\n",
       "      <th>overview</th>\n",
       "      <th>cast</th>\n",
       "      <th>crew</th>\n",
       "    </tr>\n",
       "  </thead>\n",
       "  <tbody>\n",
       "    <tr>\n",
       "      <th>0</th>\n",
       "      <td>406563</td>\n",
       "      <td>Insidious: The Last Key</td>\n",
       "      <td>[Horror, Mystery, Thriller]</td>\n",
       "      <td>[Parapsychologist, Elise, Rainier, and, her, t...</td>\n",
       "      <td>[LinShaye, AngusSampson, LeighWhannell]</td>\n",
       "      <td>[AdamRobitel]</td>\n",
       "    </tr>\n",
       "    <tr>\n",
       "      <th>1</th>\n",
       "      <td>426258</td>\n",
       "      <td>The Strange Ones</td>\n",
       "      <td>[Thriller, Drama]</td>\n",
       "      <td>[Mysterious, events, surround, the, travels, o...</td>\n",
       "      <td>[AlexPettyfer, JamesFreedson-Jackson, EmilyAlt...</td>\n",
       "      <td>[LaurenWolkstein]</td>\n",
       "    </tr>\n",
       "    <tr>\n",
       "      <th>2</th>\n",
       "      <td>348389</td>\n",
       "      <td>Stratton</td>\n",
       "      <td>[Action, Thriller]</td>\n",
       "      <td>[A, British, Special, Boat, Service, commando,...</td>\n",
       "      <td>[DominicCooper, AustinStowell, GemmaChan]</td>\n",
       "      <td>[SimonWest]</td>\n",
       "    </tr>\n",
       "  </tbody>\n",
       "</table>\n",
       "</div>"
      ],
      "text/plain": [
       "       id                    title                       genres  \\\n",
       "0  406563  Insidious: The Last Key  [Horror, Mystery, Thriller]   \n",
       "1  426258         The Strange Ones            [Thriller, Drama]   \n",
       "2  348389                 Stratton           [Action, Thriller]   \n",
       "\n",
       "                                            overview  \\\n",
       "0  [Parapsychologist, Elise, Rainier, and, her, t...   \n",
       "1  [Mysterious, events, surround, the, travels, o...   \n",
       "2  [A, British, Special, Boat, Service, commando,...   \n",
       "\n",
       "                                                cast               crew  \n",
       "0            [LinShaye, AngusSampson, LeighWhannell]      [AdamRobitel]  \n",
       "1  [AlexPettyfer, JamesFreedson-Jackson, EmilyAlt...  [LaurenWolkstein]  \n",
       "2          [DominicCooper, AustinStowell, GemmaChan]        [SimonWest]  "
      ]
     },
     "execution_count": 42,
     "metadata": {},
     "output_type": "execute_result"
    }
   ],
   "source": [
    "#Making Single Entities by Removing Space\n",
    "df8['cast'] = df8['cast'].apply(collapse)\n",
    "df8['crew'] = df8['crew'].apply(collapse)\n",
    "df8['genres'] = df8['genres'].apply(collapse)\n",
    "df8.head(3)"
   ]
  },
  {
   "cell_type": "code",
   "execution_count": 43,
   "id": "fef3f7c0",
   "metadata": {
    "scrolled": true
   },
   "outputs": [
    {
     "data": {
      "text/html": [
       "<div>\n",
       "<style scoped>\n",
       "    .dataframe tbody tr th:only-of-type {\n",
       "        vertical-align: middle;\n",
       "    }\n",
       "\n",
       "    .dataframe tbody tr th {\n",
       "        vertical-align: top;\n",
       "    }\n",
       "\n",
       "    .dataframe thead th {\n",
       "        text-align: right;\n",
       "    }\n",
       "</style>\n",
       "<table border=\"1\" class=\"dataframe\">\n",
       "  <thead>\n",
       "    <tr style=\"text-align: right;\">\n",
       "      <th></th>\n",
       "      <th>id</th>\n",
       "      <th>title</th>\n",
       "      <th>Detail</th>\n",
       "    </tr>\n",
       "  </thead>\n",
       "  <tbody>\n",
       "    <tr>\n",
       "      <th>0</th>\n",
       "      <td>406563</td>\n",
       "      <td>Insidious: The Last Key</td>\n",
       "      <td>Parapsychologist Elise Rainier and her team tr...</td>\n",
       "    </tr>\n",
       "    <tr>\n",
       "      <th>1</th>\n",
       "      <td>426258</td>\n",
       "      <td>The Strange Ones</td>\n",
       "      <td>Mysterious events surround the travels of two ...</td>\n",
       "    </tr>\n",
       "    <tr>\n",
       "      <th>2</th>\n",
       "      <td>348389</td>\n",
       "      <td>Stratton</td>\n",
       "      <td>A British Special Boat Service commando tracks...</td>\n",
       "    </tr>\n",
       "    <tr>\n",
       "      <th>3</th>\n",
       "      <td>468210</td>\n",
       "      <td>Sweet Country</td>\n",
       "      <td>It’s 1929 on the vast, desert-like, Eastern Ar...</td>\n",
       "    </tr>\n",
       "    <tr>\n",
       "      <th>4</th>\n",
       "      <td>399035</td>\n",
       "      <td>The Commuter</td>\n",
       "      <td>A businessman, on his daily commute home, gets...</td>\n",
       "    </tr>\n",
       "  </tbody>\n",
       "</table>\n",
       "</div>"
      ],
      "text/plain": [
       "       id                    title  \\\n",
       "0  406563  Insidious: The Last Key   \n",
       "1  426258         The Strange Ones   \n",
       "2  348389                 Stratton   \n",
       "3  468210            Sweet Country   \n",
       "4  399035             The Commuter   \n",
       "\n",
       "                                              Detail  \n",
       "0  Parapsychologist Elise Rainier and her team tr...  \n",
       "1  Mysterious events surround the travels of two ...  \n",
       "2  A British Special Boat Service commando tracks...  \n",
       "3  It’s 1929 on the vast, desert-like, Eastern Ar...  \n",
       "4  A businessman, on his daily commute home, gets...  "
      ]
     },
     "execution_count": 43,
     "metadata": {},
     "output_type": "execute_result"
    }
   ],
   "source": [
    "#Creating Detail Feature\n",
    "df8['Detail'] = df8['overview'] + df8['genres'] + df8['cast'] + df8['crew']\n",
    "#Dropping Original Columns\n",
    "final_df18 = df8.drop(columns=['overview','genres','cast','crew'])\n",
    "\n",
    "#Converting the Detail column back to string/Text\n",
    "final_df18['Detail'] = final_df18['Detail'].apply(lambda x: \" \".join(x))\n",
    "final_df18.head()"
   ]
  },
  {
   "cell_type": "code",
   "execution_count": 44,
   "id": "2c2ee856",
   "metadata": {},
   "outputs": [
    {
     "data": {
      "text/plain": [
       "(5596, 3)"
      ]
     },
     "execution_count": 44,
     "metadata": {},
     "output_type": "execute_result"
    }
   ],
   "source": [
    "#Appending the Dataset (Previous + 2018 Movies)\n",
    "final_df = final_df.append(final_df18)\n",
    "#Checking the final_df\n",
    "final_df.shape"
   ]
  },
  {
   "cell_type": "markdown",
   "id": "e80bfd63",
   "metadata": {},
   "source": [
    "#### Movies of 2019"
   ]
  },
  {
   "cell_type": "code",
   "execution_count": 45,
   "id": "28fa37a8",
   "metadata": {
    "scrolled": true
   },
   "outputs": [
    {
     "data": {
      "text/html": [
       "<div>\n",
       "<style scoped>\n",
       "    .dataframe tbody tr th:only-of-type {\n",
       "        vertical-align: middle;\n",
       "    }\n",
       "\n",
       "    .dataframe tbody tr th {\n",
       "        vertical-align: top;\n",
       "    }\n",
       "\n",
       "    .dataframe thead th {\n",
       "        text-align: right;\n",
       "    }\n",
       "</style>\n",
       "<table border=\"1\" class=\"dataframe\">\n",
       "  <thead>\n",
       "    <tr style=\"text-align: right;\">\n",
       "      <th></th>\n",
       "      <th>Opening</th>\n",
       "      <th>Opening.1</th>\n",
       "      <th>Title</th>\n",
       "      <th>Production company</th>\n",
       "      <th>Cast and crew</th>\n",
       "      <th>Ref.</th>\n",
       "    </tr>\n",
       "  </thead>\n",
       "  <tbody>\n",
       "    <tr>\n",
       "      <th>0</th>\n",
       "      <td>JANUARY</td>\n",
       "      <td>4</td>\n",
       "      <td>Escape Room</td>\n",
       "      <td>Columbia Pictures / Original Film</td>\n",
       "      <td>Adam Robitel (director); Bragi F. Schut, Maria...</td>\n",
       "      <td>[2]</td>\n",
       "    </tr>\n",
       "    <tr>\n",
       "      <th>1</th>\n",
       "      <td>JANUARY</td>\n",
       "      <td>4</td>\n",
       "      <td>Rust Creek</td>\n",
       "      <td>IFC Films</td>\n",
       "      <td>Jen McGowan (director); Julie Lipson (screenpl...</td>\n",
       "      <td>[3]</td>\n",
       "    </tr>\n",
       "    <tr>\n",
       "      <th>2</th>\n",
       "      <td>JANUARY</td>\n",
       "      <td>4</td>\n",
       "      <td>American Hangman</td>\n",
       "      <td>Hangman Justice Productions</td>\n",
       "      <td>Wilson Coneybeare (director/screenplay); Donal...</td>\n",
       "      <td>[4]</td>\n",
       "    </tr>\n",
       "    <tr>\n",
       "      <th>3</th>\n",
       "      <td>JANUARY</td>\n",
       "      <td>11</td>\n",
       "      <td>A Dog's Way Home</td>\n",
       "      <td>Columbia Pictures</td>\n",
       "      <td>Charles Martin Smith (director); W. Bruce Came...</td>\n",
       "      <td>[5]</td>\n",
       "    </tr>\n",
       "    <tr>\n",
       "      <th>4</th>\n",
       "      <td>JANUARY</td>\n",
       "      <td>11</td>\n",
       "      <td>The Upside</td>\n",
       "      <td>STX Entertainment</td>\n",
       "      <td>Neil Burger (director); Jon Hartmere (screenpl...</td>\n",
       "      <td>[6]</td>\n",
       "    </tr>\n",
       "  </tbody>\n",
       "</table>\n",
       "</div>"
      ],
      "text/plain": [
       "   Opening  Opening.1             Title                 Production company  \\\n",
       "0  JANUARY          4       Escape Room  Columbia Pictures / Original Film   \n",
       "1  JANUARY          4        Rust Creek                          IFC Films   \n",
       "2  JANUARY          4  American Hangman        Hangman Justice Productions   \n",
       "3  JANUARY         11  A Dog's Way Home                  Columbia Pictures   \n",
       "4  JANUARY         11        The Upside                  STX Entertainment   \n",
       "\n",
       "                                       Cast and crew Ref.  \n",
       "0  Adam Robitel (director); Bragi F. Schut, Maria...  [2]  \n",
       "1  Jen McGowan (director); Julie Lipson (screenpl...  [3]  \n",
       "2  Wilson Coneybeare (director/screenplay); Donal...  [4]  \n",
       "3  Charles Martin Smith (director); W. Bruce Came...  [5]  \n",
       "4  Neil Burger (director); Jon Hartmere (screenpl...  [6]  "
      ]
     },
     "execution_count": 45,
     "metadata": {},
     "output_type": "execute_result"
    }
   ],
   "source": [
    "link = \"https://en.wikipedia.org/wiki/List_of_American_films_of_2019\"\n",
    "df9 = pd.read_html(link, header=0)[2]\n",
    "df10 = pd.read_html(link, header=0)[3]\n",
    "df11 = pd.read_html(link, header=0)[4]\n",
    "df12 = pd.read_html(link, header=0)[5]\n",
    "\n",
    "#Appending all 4 df into 1\n",
    "df13 = df9.append(df10.append(df11.append(df12,ignore_index=True),ignore_index=True),ignore_index=True)\n",
    "df13.head()"
   ]
  },
  {
   "cell_type": "code",
   "execution_count": 46,
   "id": "325336b5",
   "metadata": {
    "scrolled": true
   },
   "outputs": [
    {
     "data": {
      "text/html": [
       "<div>\n",
       "<style scoped>\n",
       "    .dataframe tbody tr th:only-of-type {\n",
       "        vertical-align: middle;\n",
       "    }\n",
       "\n",
       "    .dataframe tbody tr th {\n",
       "        vertical-align: top;\n",
       "    }\n",
       "\n",
       "    .dataframe thead th {\n",
       "        text-align: right;\n",
       "    }\n",
       "</style>\n",
       "<table border=\"1\" class=\"dataframe\">\n",
       "  <thead>\n",
       "    <tr style=\"text-align: right;\">\n",
       "      <th></th>\n",
       "      <th>Opening</th>\n",
       "      <th>Opening.1</th>\n",
       "      <th>Title</th>\n",
       "      <th>Production company</th>\n",
       "      <th>Cast and crew</th>\n",
       "      <th>Ref.</th>\n",
       "      <th>id</th>\n",
       "      <th>genres</th>\n",
       "      <th>overview</th>\n",
       "    </tr>\n",
       "  </thead>\n",
       "  <tbody>\n",
       "    <tr>\n",
       "      <th>0</th>\n",
       "      <td>JANUARY</td>\n",
       "      <td>4</td>\n",
       "      <td>Escape Room</td>\n",
       "      <td>Columbia Pictures / Original Film</td>\n",
       "      <td>Adam Robitel (director); Bragi F. Schut, Maria...</td>\n",
       "      <td>[2]</td>\n",
       "      <td>522681</td>\n",
       "      <td>Horror Thriller Mystery</td>\n",
       "      <td>Six strangers find themselves in circumstances...</td>\n",
       "    </tr>\n",
       "    <tr>\n",
       "      <th>1</th>\n",
       "      <td>JANUARY</td>\n",
       "      <td>4</td>\n",
       "      <td>Rust Creek</td>\n",
       "      <td>IFC Films</td>\n",
       "      <td>Jen McGowan (director); Julie Lipson (screenpl...</td>\n",
       "      <td>[3]</td>\n",
       "      <td>561362</td>\n",
       "      <td>Thriller Drama</td>\n",
       "      <td>When an overachieving college senior makes a w...</td>\n",
       "    </tr>\n",
       "  </tbody>\n",
       "</table>\n",
       "</div>"
      ],
      "text/plain": [
       "   Opening  Opening.1        Title                 Production company  \\\n",
       "0  JANUARY          4  Escape Room  Columbia Pictures / Original Film   \n",
       "1  JANUARY          4   Rust Creek                          IFC Films   \n",
       "\n",
       "                                       Cast and crew Ref.      id  \\\n",
       "0  Adam Robitel (director); Bragi F. Schut, Maria...  [2]  522681   \n",
       "1  Jen McGowan (director); Julie Lipson (screenpl...  [3]  561362   \n",
       "\n",
       "                    genres                                           overview  \n",
       "0  Horror Thriller Mystery  Six strangers find themselves in circumstances...  \n",
       "1           Thriller Drama  When an overachieving college senior makes a w...  "
      ]
     },
     "execution_count": 46,
     "metadata": {},
     "output_type": "execute_result"
    }
   ],
   "source": [
    "#Creating the ID, Genres, overview Columns\n",
    "df13['id'] = df13['Title'].map(lambda x: get_id(str(x)))\n",
    "df13['genres'] = df13['Title'].map(lambda x: get_genre(str(x)))\n",
    "df13['overview'] = df13['Title'].map(lambda x: get_overview(str(x)))\n",
    "df13.head(2)"
   ]
  },
  {
   "cell_type": "code",
   "execution_count": 47,
   "id": "fc69efe5",
   "metadata": {},
   "outputs": [
    {
     "data": {
      "text/html": [
       "<div>\n",
       "<style scoped>\n",
       "    .dataframe tbody tr th:only-of-type {\n",
       "        vertical-align: middle;\n",
       "    }\n",
       "\n",
       "    .dataframe tbody tr th {\n",
       "        vertical-align: top;\n",
       "    }\n",
       "\n",
       "    .dataframe thead th {\n",
       "        text-align: right;\n",
       "    }\n",
       "</style>\n",
       "<table border=\"1\" class=\"dataframe\">\n",
       "  <thead>\n",
       "    <tr style=\"text-align: right;\">\n",
       "      <th></th>\n",
       "      <th>id</th>\n",
       "      <th>title</th>\n",
       "      <th>Cast and crew</th>\n",
       "      <th>genres</th>\n",
       "      <th>overview</th>\n",
       "    </tr>\n",
       "  </thead>\n",
       "  <tbody>\n",
       "    <tr>\n",
       "      <th>0</th>\n",
       "      <td>522681</td>\n",
       "      <td>Escape Room</td>\n",
       "      <td>Adam Robitel (director); Bragi F. Schut, Maria...</td>\n",
       "      <td>Horror Thriller Mystery</td>\n",
       "      <td>Six strangers find themselves in circumstances...</td>\n",
       "    </tr>\n",
       "    <tr>\n",
       "      <th>1</th>\n",
       "      <td>561362</td>\n",
       "      <td>Rust Creek</td>\n",
       "      <td>Jen McGowan (director); Julie Lipson (screenpl...</td>\n",
       "      <td>Thriller Drama</td>\n",
       "      <td>When an overachieving college senior makes a w...</td>\n",
       "    </tr>\n",
       "  </tbody>\n",
       "</table>\n",
       "</div>"
      ],
      "text/plain": [
       "       id        title                                      Cast and crew  \\\n",
       "0  522681  Escape Room  Adam Robitel (director); Bragi F. Schut, Maria...   \n",
       "1  561362   Rust Creek  Jen McGowan (director); Julie Lipson (screenpl...   \n",
       "\n",
       "                    genres                                           overview  \n",
       "0  Horror Thriller Mystery  Six strangers find themselves in circumstances...  \n",
       "1           Thriller Drama  When an overachieving college senior makes a w...  "
      ]
     },
     "execution_count": 47,
     "metadata": {},
     "output_type": "execute_result"
    }
   ],
   "source": [
    "#Taking the Important Columns\n",
    "df14 = df13[['id','Title','Cast and crew','genres','overview']]\n",
    "df14 = df14.rename(columns={'Title':'title'})\n",
    "df14.head(2)"
   ]
  },
  {
   "cell_type": "code",
   "execution_count": 48,
   "id": "3426ce2d",
   "metadata": {
    "scrolled": true
   },
   "outputs": [
    {
     "data": {
      "text/plain": [
       "id               0\n",
       "title            0\n",
       "Cast and crew    0\n",
       "genres           0\n",
       "overview         0\n",
       "dtype: int64"
      ]
     },
     "execution_count": 48,
     "metadata": {},
     "output_type": "execute_result"
    }
   ],
   "source": [
    "#Checking NA Values.\n",
    "df14.isnull().sum()"
   ]
  },
  {
   "cell_type": "markdown",
   "id": "97064061",
   "metadata": {},
   "source": [
    "Inference: No NA Values Presents"
   ]
  },
  {
   "cell_type": "code",
   "execution_count": 49,
   "id": "ae4cf4e0",
   "metadata": {
    "scrolled": true
   },
   "outputs": [
    {
     "data": {
      "text/html": [
       "<div>\n",
       "<style scoped>\n",
       "    .dataframe tbody tr th:only-of-type {\n",
       "        vertical-align: middle;\n",
       "    }\n",
       "\n",
       "    .dataframe tbody tr th {\n",
       "        vertical-align: top;\n",
       "    }\n",
       "\n",
       "    .dataframe thead th {\n",
       "        text-align: right;\n",
       "    }\n",
       "</style>\n",
       "<table border=\"1\" class=\"dataframe\">\n",
       "  <thead>\n",
       "    <tr style=\"text-align: right;\">\n",
       "      <th></th>\n",
       "      <th>id</th>\n",
       "      <th>title</th>\n",
       "      <th>Cast and crew</th>\n",
       "      <th>genres</th>\n",
       "      <th>overview</th>\n",
       "      <th>cast</th>\n",
       "    </tr>\n",
       "  </thead>\n",
       "  <tbody>\n",
       "    <tr>\n",
       "      <th>0</th>\n",
       "      <td>522681</td>\n",
       "      <td>Escape Room</td>\n",
       "      <td>Adam Robitel (director); Bragi F. Schut, Maria...</td>\n",
       "      <td>Horror Thriller Mystery</td>\n",
       "      <td>Six strangers find themselves in circumstances...</td>\n",
       "      <td>[Taylor Russell, Logan Miller, Deborah Ann Woll]</td>\n",
       "    </tr>\n",
       "    <tr>\n",
       "      <th>1</th>\n",
       "      <td>561362</td>\n",
       "      <td>Rust Creek</td>\n",
       "      <td>Jen McGowan (director); Julie Lipson (screenpl...</td>\n",
       "      <td>Thriller Drama</td>\n",
       "      <td>When an overachieving college senior makes a w...</td>\n",
       "      <td>[Hermione Corfield, Jay Paulson, Sean O'Bryan]</td>\n",
       "    </tr>\n",
       "  </tbody>\n",
       "</table>\n",
       "</div>"
      ],
      "text/plain": [
       "       id        title                                      Cast and crew  \\\n",
       "0  522681  Escape Room  Adam Robitel (director); Bragi F. Schut, Maria...   \n",
       "1  561362   Rust Creek  Jen McGowan (director); Julie Lipson (screenpl...   \n",
       "\n",
       "                    genres                                           overview  \\\n",
       "0  Horror Thriller Mystery  Six strangers find themselves in circumstances...   \n",
       "1           Thriller Drama  When an overachieving college senior makes a w...   \n",
       "\n",
       "                                               cast  \n",
       "0  [Taylor Russell, Logan Miller, Deborah Ann Woll]  \n",
       "1    [Hermione Corfield, Jay Paulson, Sean O'Bryan]  "
      ]
     },
     "execution_count": 49,
     "metadata": {},
     "output_type": "execute_result"
    }
   ],
   "source": [
    "#Calling the get actor Function.\n",
    "df14['cast'] = df14['Cast and crew'].map(lambda x: get_actor(x))\n",
    "df14.head(2)"
   ]
  },
  {
   "cell_type": "code",
   "execution_count": 50,
   "id": "fc7d72c6",
   "metadata": {
    "scrolled": true
   },
   "outputs": [
    {
     "data": {
      "text/html": [
       "<div>\n",
       "<style scoped>\n",
       "    .dataframe tbody tr th:only-of-type {\n",
       "        vertical-align: middle;\n",
       "    }\n",
       "\n",
       "    .dataframe tbody tr th {\n",
       "        vertical-align: top;\n",
       "    }\n",
       "\n",
       "    .dataframe thead th {\n",
       "        text-align: right;\n",
       "    }\n",
       "</style>\n",
       "<table border=\"1\" class=\"dataframe\">\n",
       "  <thead>\n",
       "    <tr style=\"text-align: right;\">\n",
       "      <th></th>\n",
       "      <th>id</th>\n",
       "      <th>title</th>\n",
       "      <th>genres</th>\n",
       "      <th>overview</th>\n",
       "      <th>cast</th>\n",
       "      <th>crew</th>\n",
       "    </tr>\n",
       "  </thead>\n",
       "  <tbody>\n",
       "    <tr>\n",
       "      <th>0</th>\n",
       "      <td>522681</td>\n",
       "      <td>Escape Room</td>\n",
       "      <td>Horror Thriller Mystery</td>\n",
       "      <td>Six strangers find themselves in circumstances...</td>\n",
       "      <td>[Taylor Russell, Logan Miller, Deborah Ann Woll]</td>\n",
       "      <td>[Adam Robitel]</td>\n",
       "    </tr>\n",
       "    <tr>\n",
       "      <th>1</th>\n",
       "      <td>561362</td>\n",
       "      <td>Rust Creek</td>\n",
       "      <td>Thriller Drama</td>\n",
       "      <td>When an overachieving college senior makes a w...</td>\n",
       "      <td>[Hermione Corfield, Jay Paulson, Sean O'Bryan]</td>\n",
       "      <td>[Jen McGowan]</td>\n",
       "    </tr>\n",
       "  </tbody>\n",
       "</table>\n",
       "</div>"
      ],
      "text/plain": [
       "       id        title                   genres  \\\n",
       "0  522681  Escape Room  Horror Thriller Mystery   \n",
       "1  561362   Rust Creek           Thriller Drama   \n",
       "\n",
       "                                            overview  \\\n",
       "0  Six strangers find themselves in circumstances...   \n",
       "1  When an overachieving college senior makes a w...   \n",
       "\n",
       "                                               cast            crew  \n",
       "0  [Taylor Russell, Logan Miller, Deborah Ann Woll]  [Adam Robitel]  \n",
       "1    [Hermione Corfield, Jay Paulson, Sean O'Bryan]   [Jen McGowan]  "
      ]
     },
     "execution_count": 50,
     "metadata": {},
     "output_type": "execute_result"
    }
   ],
   "source": [
    "#Calling the get_director function to get Director Name's\n",
    "df14['crew'] = df14['Cast and crew'].map(lambda x: get_director(x))\n",
    "#Dropping Original Columns\n",
    "df14 = df14.drop(columns=['Cast and crew'])\n",
    "df14.head(2)"
   ]
  },
  {
   "cell_type": "markdown",
   "id": "af12ad25",
   "metadata": {},
   "source": [
    "Inference: Features is a String will Convert this into a List so we can concat with other Features."
   ]
  },
  {
   "cell_type": "code",
   "execution_count": 51,
   "id": "8d5d64ba",
   "metadata": {},
   "outputs": [
    {
     "data": {
      "text/html": [
       "<div>\n",
       "<style scoped>\n",
       "    .dataframe tbody tr th:only-of-type {\n",
       "        vertical-align: middle;\n",
       "    }\n",
       "\n",
       "    .dataframe tbody tr th {\n",
       "        vertical-align: top;\n",
       "    }\n",
       "\n",
       "    .dataframe thead th {\n",
       "        text-align: right;\n",
       "    }\n",
       "</style>\n",
       "<table border=\"1\" class=\"dataframe\">\n",
       "  <thead>\n",
       "    <tr style=\"text-align: right;\">\n",
       "      <th></th>\n",
       "      <th>id</th>\n",
       "      <th>title</th>\n",
       "      <th>genres</th>\n",
       "      <th>overview</th>\n",
       "      <th>cast</th>\n",
       "      <th>crew</th>\n",
       "    </tr>\n",
       "  </thead>\n",
       "  <tbody>\n",
       "    <tr>\n",
       "      <th>0</th>\n",
       "      <td>522681</td>\n",
       "      <td>Escape Room</td>\n",
       "      <td>[Horror, Thriller, Mystery]</td>\n",
       "      <td>[Six, strangers, find, themselves, in, circums...</td>\n",
       "      <td>[Taylor Russell, Logan Miller, Deborah Ann Woll]</td>\n",
       "      <td>[Adam Robitel]</td>\n",
       "    </tr>\n",
       "    <tr>\n",
       "      <th>1</th>\n",
       "      <td>561362</td>\n",
       "      <td>Rust Creek</td>\n",
       "      <td>[Thriller, Drama]</td>\n",
       "      <td>[When, an, overachieving, college, senior, mak...</td>\n",
       "      <td>[Hermione Corfield, Jay Paulson, Sean O'Bryan]</td>\n",
       "      <td>[Jen McGowan]</td>\n",
       "    </tr>\n",
       "  </tbody>\n",
       "</table>\n",
       "</div>"
      ],
      "text/plain": [
       "       id        title                       genres  \\\n",
       "0  522681  Escape Room  [Horror, Thriller, Mystery]   \n",
       "1  561362   Rust Creek            [Thriller, Drama]   \n",
       "\n",
       "                                            overview  \\\n",
       "0  [Six, strangers, find, themselves, in, circums...   \n",
       "1  [When, an, overachieving, college, senior, mak...   \n",
       "\n",
       "                                               cast            crew  \n",
       "0  [Taylor Russell, Logan Miller, Deborah Ann Woll]  [Adam Robitel]  \n",
       "1    [Hermione Corfield, Jay Paulson, Sean O'Bryan]   [Jen McGowan]  "
      ]
     },
     "execution_count": 51,
     "metadata": {},
     "output_type": "execute_result"
    }
   ],
   "source": [
    "#Converting Feature into a List\n",
    "df14['genres'] = df14['genres'].apply(lambda x:x.split())\n",
    "df14['overview'] = df14['overview'].apply(lambda x:x.split())\n",
    "df14.head(2)"
   ]
  },
  {
   "cell_type": "code",
   "execution_count": 52,
   "id": "5bdba385",
   "metadata": {},
   "outputs": [
    {
     "data": {
      "text/html": [
       "<div>\n",
       "<style scoped>\n",
       "    .dataframe tbody tr th:only-of-type {\n",
       "        vertical-align: middle;\n",
       "    }\n",
       "\n",
       "    .dataframe tbody tr th {\n",
       "        vertical-align: top;\n",
       "    }\n",
       "\n",
       "    .dataframe thead th {\n",
       "        text-align: right;\n",
       "    }\n",
       "</style>\n",
       "<table border=\"1\" class=\"dataframe\">\n",
       "  <thead>\n",
       "    <tr style=\"text-align: right;\">\n",
       "      <th></th>\n",
       "      <th>id</th>\n",
       "      <th>title</th>\n",
       "      <th>genres</th>\n",
       "      <th>overview</th>\n",
       "      <th>cast</th>\n",
       "      <th>crew</th>\n",
       "    </tr>\n",
       "  </thead>\n",
       "  <tbody>\n",
       "    <tr>\n",
       "      <th>0</th>\n",
       "      <td>522681</td>\n",
       "      <td>Escape Room</td>\n",
       "      <td>[Horror, Thriller, Mystery]</td>\n",
       "      <td>[Six, strangers, find, themselves, in, circums...</td>\n",
       "      <td>[TaylorRussell, LoganMiller, DeborahAnnWoll]</td>\n",
       "      <td>[AdamRobitel]</td>\n",
       "    </tr>\n",
       "    <tr>\n",
       "      <th>1</th>\n",
       "      <td>561362</td>\n",
       "      <td>Rust Creek</td>\n",
       "      <td>[Thriller, Drama]</td>\n",
       "      <td>[When, an, overachieving, college, senior, mak...</td>\n",
       "      <td>[HermioneCorfield, JayPaulson, SeanO'Bryan]</td>\n",
       "      <td>[JenMcGowan]</td>\n",
       "    </tr>\n",
       "    <tr>\n",
       "      <th>2</th>\n",
       "      <td>567738</td>\n",
       "      <td>American Hangman</td>\n",
       "      <td>[Thriller]</td>\n",
       "      <td>[An, unidentified, man, posts, a, live, feed, ...</td>\n",
       "      <td>[DonaldSutherland, VincentKartheiser, OliverDe...</td>\n",
       "      <td>[WilsonConeybeare]</td>\n",
       "    </tr>\n",
       "  </tbody>\n",
       "</table>\n",
       "</div>"
      ],
      "text/plain": [
       "       id             title                       genres  \\\n",
       "0  522681       Escape Room  [Horror, Thriller, Mystery]   \n",
       "1  561362        Rust Creek            [Thriller, Drama]   \n",
       "2  567738  American Hangman                   [Thriller]   \n",
       "\n",
       "                                            overview  \\\n",
       "0  [Six, strangers, find, themselves, in, circums...   \n",
       "1  [When, an, overachieving, college, senior, mak...   \n",
       "2  [An, unidentified, man, posts, a, live, feed, ...   \n",
       "\n",
       "                                                cast                crew  \n",
       "0       [TaylorRussell, LoganMiller, DeborahAnnWoll]       [AdamRobitel]  \n",
       "1        [HermioneCorfield, JayPaulson, SeanO'Bryan]        [JenMcGowan]  \n",
       "2  [DonaldSutherland, VincentKartheiser, OliverDe...  [WilsonConeybeare]  "
      ]
     },
     "execution_count": 52,
     "metadata": {},
     "output_type": "execute_result"
    }
   ],
   "source": [
    "#Making Single Entities by Removing Space\n",
    "df14['cast'] = df14['cast'].apply(collapse)\n",
    "df14['crew'] = df14['crew'].apply(collapse)\n",
    "df14['genres'] = df14['genres'].apply(collapse)\n",
    "df14.head(3)"
   ]
  },
  {
   "cell_type": "code",
   "execution_count": 53,
   "id": "bd2a5f10",
   "metadata": {},
   "outputs": [
    {
     "data": {
      "text/html": [
       "<div>\n",
       "<style scoped>\n",
       "    .dataframe tbody tr th:only-of-type {\n",
       "        vertical-align: middle;\n",
       "    }\n",
       "\n",
       "    .dataframe tbody tr th {\n",
       "        vertical-align: top;\n",
       "    }\n",
       "\n",
       "    .dataframe thead th {\n",
       "        text-align: right;\n",
       "    }\n",
       "</style>\n",
       "<table border=\"1\" class=\"dataframe\">\n",
       "  <thead>\n",
       "    <tr style=\"text-align: right;\">\n",
       "      <th></th>\n",
       "      <th>id</th>\n",
       "      <th>title</th>\n",
       "      <th>Detail</th>\n",
       "    </tr>\n",
       "  </thead>\n",
       "  <tbody>\n",
       "    <tr>\n",
       "      <th>0</th>\n",
       "      <td>522681</td>\n",
       "      <td>Escape Room</td>\n",
       "      <td>Six strangers find themselves in circumstances...</td>\n",
       "    </tr>\n",
       "    <tr>\n",
       "      <th>1</th>\n",
       "      <td>561362</td>\n",
       "      <td>Rust Creek</td>\n",
       "      <td>When an overachieving college senior makes a w...</td>\n",
       "    </tr>\n",
       "    <tr>\n",
       "      <th>2</th>\n",
       "      <td>567738</td>\n",
       "      <td>American Hangman</td>\n",
       "      <td>An unidentified man posts a live feed on socia...</td>\n",
       "    </tr>\n",
       "    <tr>\n",
       "      <th>3</th>\n",
       "      <td>508763</td>\n",
       "      <td>A Dog's Way Home</td>\n",
       "      <td>The adventure of Bella, a dog who embarks on a...</td>\n",
       "    </tr>\n",
       "    <tr>\n",
       "      <th>4</th>\n",
       "      <td>440472</td>\n",
       "      <td>The Upside</td>\n",
       "      <td>Phillip is a wealthy quadriplegic who needs a ...</td>\n",
       "    </tr>\n",
       "  </tbody>\n",
       "</table>\n",
       "</div>"
      ],
      "text/plain": [
       "       id             title                                             Detail\n",
       "0  522681       Escape Room  Six strangers find themselves in circumstances...\n",
       "1  561362        Rust Creek  When an overachieving college senior makes a w...\n",
       "2  567738  American Hangman  An unidentified man posts a live feed on socia...\n",
       "3  508763  A Dog's Way Home  The adventure of Bella, a dog who embarks on a...\n",
       "4  440472        The Upside  Phillip is a wealthy quadriplegic who needs a ..."
      ]
     },
     "execution_count": 53,
     "metadata": {},
     "output_type": "execute_result"
    }
   ],
   "source": [
    "#Creating Detail Feature\n",
    "df14['Detail'] = df14['overview'] + df14['genres'] + df14['cast'] + df14['crew']\n",
    "#Dropping Original Columns\n",
    "final_df19 = df14.drop(columns=['overview','genres','cast','crew'])\n",
    "\n",
    "#Converting the Detail column back to string/Text\n",
    "final_df19['Detail'] = final_df19['Detail'].apply(lambda x: \" \".join(x))\n",
    "final_df19.head()"
   ]
  },
  {
   "cell_type": "code",
   "execution_count": 54,
   "id": "a6f53b4f",
   "metadata": {},
   "outputs": [
    {
     "data": {
      "text/plain": [
       "(5838, 3)"
      ]
     },
     "execution_count": 54,
     "metadata": {},
     "output_type": "execute_result"
    }
   ],
   "source": [
    "#Appending the Dataset (Previous + 2019 Movies)\n",
    "final_df = final_df.append(final_df19)\n",
    "#Checking the final_df\n",
    "final_df.shape"
   ]
  },
  {
   "cell_type": "markdown",
   "id": "a77242ce",
   "metadata": {},
   "source": [
    "#### Movies of 2020"
   ]
  },
  {
   "cell_type": "code",
   "execution_count": 55,
   "id": "518ec66a",
   "metadata": {
    "scrolled": true
   },
   "outputs": [
    {
     "data": {
      "text/html": [
       "<div>\n",
       "<style scoped>\n",
       "    .dataframe tbody tr th:only-of-type {\n",
       "        vertical-align: middle;\n",
       "    }\n",
       "\n",
       "    .dataframe tbody tr th {\n",
       "        vertical-align: top;\n",
       "    }\n",
       "\n",
       "    .dataframe thead th {\n",
       "        text-align: right;\n",
       "    }\n",
       "</style>\n",
       "<table border=\"1\" class=\"dataframe\">\n",
       "  <thead>\n",
       "    <tr style=\"text-align: right;\">\n",
       "      <th></th>\n",
       "      <th>Opening</th>\n",
       "      <th>Opening.1</th>\n",
       "      <th>Title</th>\n",
       "      <th>Production company</th>\n",
       "      <th>Cast and crew</th>\n",
       "      <th>.mw-parser-output .tooltip-dotted{border-bottom:1px dotted;cursor:help}Ref.</th>\n",
       "      <th>Ref.</th>\n",
       "    </tr>\n",
       "  </thead>\n",
       "  <tbody>\n",
       "    <tr>\n",
       "      <th>0</th>\n",
       "      <td>JANUARY</td>\n",
       "      <td>3</td>\n",
       "      <td>The Grudge</td>\n",
       "      <td>Screen Gems / Stage 6 Films / Ghost House Pict...</td>\n",
       "      <td>Nicolas Pesce (director/screenplay); Andrea Ri...</td>\n",
       "      <td>[2]</td>\n",
       "      <td>NaN</td>\n",
       "    </tr>\n",
       "    <tr>\n",
       "      <th>1</th>\n",
       "      <td>JANUARY</td>\n",
       "      <td>10</td>\n",
       "      <td>Underwater</td>\n",
       "      <td>20th Century Fox / TSG Entertainment / Chernin...</td>\n",
       "      <td>William Eubank (director); Brian Duffield, Ada...</td>\n",
       "      <td>[3]</td>\n",
       "      <td>NaN</td>\n",
       "    </tr>\n",
       "    <tr>\n",
       "      <th>2</th>\n",
       "      <td>JANUARY</td>\n",
       "      <td>10</td>\n",
       "      <td>Like a Boss</td>\n",
       "      <td>Paramount Pictures</td>\n",
       "      <td>Miguel Arteta (director); Sam Pitman, Adam Col...</td>\n",
       "      <td>[4]</td>\n",
       "      <td>NaN</td>\n",
       "    </tr>\n",
       "    <tr>\n",
       "      <th>3</th>\n",
       "      <td>JANUARY</td>\n",
       "      <td>10</td>\n",
       "      <td>Three Christs</td>\n",
       "      <td>IFC Films</td>\n",
       "      <td>Jon Avnet (director/screenplay); Eric Nazarian...</td>\n",
       "      <td>NaN</td>\n",
       "      <td>NaN</td>\n",
       "    </tr>\n",
       "    <tr>\n",
       "      <th>4</th>\n",
       "      <td>JANUARY</td>\n",
       "      <td>10</td>\n",
       "      <td>Inherit the Viper</td>\n",
       "      <td>Barry Films / Tycor International Film Company</td>\n",
       "      <td>Anthony Jerjen (director); Andrew Crabtree (sc...</td>\n",
       "      <td>[5]</td>\n",
       "      <td>NaN</td>\n",
       "    </tr>\n",
       "  </tbody>\n",
       "</table>\n",
       "</div>"
      ],
      "text/plain": [
       "   Opening  Opening.1              Title  \\\n",
       "0  JANUARY          3         The Grudge   \n",
       "1  JANUARY         10         Underwater   \n",
       "2  JANUARY         10        Like a Boss   \n",
       "3  JANUARY         10      Three Christs   \n",
       "4  JANUARY         10  Inherit the Viper   \n",
       "\n",
       "                                  Production company  \\\n",
       "0  Screen Gems / Stage 6 Films / Ghost House Pict...   \n",
       "1  20th Century Fox / TSG Entertainment / Chernin...   \n",
       "2                                 Paramount Pictures   \n",
       "3                                          IFC Films   \n",
       "4     Barry Films / Tycor International Film Company   \n",
       "\n",
       "                                       Cast and crew  \\\n",
       "0  Nicolas Pesce (director/screenplay); Andrea Ri...   \n",
       "1  William Eubank (director); Brian Duffield, Ada...   \n",
       "2  Miguel Arteta (director); Sam Pitman, Adam Col...   \n",
       "3  Jon Avnet (director/screenplay); Eric Nazarian...   \n",
       "4  Anthony Jerjen (director); Andrew Crabtree (sc...   \n",
       "\n",
       "  .mw-parser-output .tooltip-dotted{border-bottom:1px dotted;cursor:help}Ref.  \\\n",
       "0                                                [2]                            \n",
       "1                                                [3]                            \n",
       "2                                                [4]                            \n",
       "3                                                NaN                            \n",
       "4                                                [5]                            \n",
       "\n",
       "  Ref.  \n",
       "0  NaN  \n",
       "1  NaN  \n",
       "2  NaN  \n",
       "3  NaN  \n",
       "4  NaN  "
      ]
     },
     "execution_count": 55,
     "metadata": {},
     "output_type": "execute_result"
    }
   ],
   "source": [
    "link = \"https://en.wikipedia.org/wiki/List_of_American_films_of_2020\"\n",
    "df15 = pd.read_html(link, header=0)[2]\n",
    "df16 = pd.read_html(link, header=0)[3]\n",
    "df17 = pd.read_html(link, header=0)[4]\n",
    "df18 = pd.read_html(link, header=0)[5]\n",
    "\n",
    "#Appending all 4 df into 1\n",
    "df19 = df15.append(df16.append(df17.append(df18,ignore_index=True),ignore_index=True),ignore_index=True)\n",
    "df19.head()"
   ]
  },
  {
   "cell_type": "code",
   "execution_count": 56,
   "id": "ce5b5996",
   "metadata": {
    "scrolled": true
   },
   "outputs": [
    {
     "data": {
      "text/html": [
       "<div>\n",
       "<style scoped>\n",
       "    .dataframe tbody tr th:only-of-type {\n",
       "        vertical-align: middle;\n",
       "    }\n",
       "\n",
       "    .dataframe tbody tr th {\n",
       "        vertical-align: top;\n",
       "    }\n",
       "\n",
       "    .dataframe thead th {\n",
       "        text-align: right;\n",
       "    }\n",
       "</style>\n",
       "<table border=\"1\" class=\"dataframe\">\n",
       "  <thead>\n",
       "    <tr style=\"text-align: right;\">\n",
       "      <th></th>\n",
       "      <th>Opening</th>\n",
       "      <th>Opening.1</th>\n",
       "      <th>Title</th>\n",
       "      <th>Production company</th>\n",
       "      <th>Cast and crew</th>\n",
       "      <th>.mw-parser-output .tooltip-dotted{border-bottom:1px dotted;cursor:help}Ref.</th>\n",
       "      <th>Ref.</th>\n",
       "      <th>id</th>\n",
       "      <th>genres</th>\n",
       "      <th>overview</th>\n",
       "    </tr>\n",
       "  </thead>\n",
       "  <tbody>\n",
       "    <tr>\n",
       "      <th>0</th>\n",
       "      <td>JANUARY</td>\n",
       "      <td>3</td>\n",
       "      <td>The Grudge</td>\n",
       "      <td>Screen Gems / Stage 6 Films / Ghost House Pict...</td>\n",
       "      <td>Nicolas Pesce (director/screenplay); Andrea Ri...</td>\n",
       "      <td>[2]</td>\n",
       "      <td>NaN</td>\n",
       "      <td>1970</td>\n",
       "      <td>Horror Mystery Thriller</td>\n",
       "      <td>An American nurse living and working in Tokyo ...</td>\n",
       "    </tr>\n",
       "    <tr>\n",
       "      <th>1</th>\n",
       "      <td>JANUARY</td>\n",
       "      <td>10</td>\n",
       "      <td>Underwater</td>\n",
       "      <td>20th Century Fox / TSG Entertainment / Chernin...</td>\n",
       "      <td>William Eubank (director); Brian Duffield, Ada...</td>\n",
       "      <td>[3]</td>\n",
       "      <td>NaN</td>\n",
       "      <td>443791</td>\n",
       "      <td>Action Horror Science Fiction Thriller</td>\n",
       "      <td>After an earthquake destroys their underwater ...</td>\n",
       "    </tr>\n",
       "  </tbody>\n",
       "</table>\n",
       "</div>"
      ],
      "text/plain": [
       "   Opening  Opening.1       Title  \\\n",
       "0  JANUARY          3  The Grudge   \n",
       "1  JANUARY         10  Underwater   \n",
       "\n",
       "                                  Production company  \\\n",
       "0  Screen Gems / Stage 6 Films / Ghost House Pict...   \n",
       "1  20th Century Fox / TSG Entertainment / Chernin...   \n",
       "\n",
       "                                       Cast and crew  \\\n",
       "0  Nicolas Pesce (director/screenplay); Andrea Ri...   \n",
       "1  William Eubank (director); Brian Duffield, Ada...   \n",
       "\n",
       "  .mw-parser-output .tooltip-dotted{border-bottom:1px dotted;cursor:help}Ref.  \\\n",
       "0                                                [2]                            \n",
       "1                                                [3]                            \n",
       "\n",
       "  Ref.      id                                  genres  \\\n",
       "0  NaN    1970                 Horror Mystery Thriller   \n",
       "1  NaN  443791  Action Horror Science Fiction Thriller   \n",
       "\n",
       "                                            overview  \n",
       "0  An American nurse living and working in Tokyo ...  \n",
       "1  After an earthquake destroys their underwater ...  "
      ]
     },
     "execution_count": 56,
     "metadata": {},
     "output_type": "execute_result"
    }
   ],
   "source": [
    "#Creating the ID, Genres, overview Columns\n",
    "df19['id'] = df19['Title'].map(lambda x: get_id(str(x)))\n",
    "df19['genres'] = df19['Title'].map(lambda x: get_genre(str(x)))\n",
    "df19['overview'] = df19['Title'].map(lambda x: get_overview(str(x)))\n",
    "df19.head(2)"
   ]
  },
  {
   "cell_type": "code",
   "execution_count": 57,
   "id": "68265525",
   "metadata": {},
   "outputs": [
    {
     "data": {
      "text/html": [
       "<div>\n",
       "<style scoped>\n",
       "    .dataframe tbody tr th:only-of-type {\n",
       "        vertical-align: middle;\n",
       "    }\n",
       "\n",
       "    .dataframe tbody tr th {\n",
       "        vertical-align: top;\n",
       "    }\n",
       "\n",
       "    .dataframe thead th {\n",
       "        text-align: right;\n",
       "    }\n",
       "</style>\n",
       "<table border=\"1\" class=\"dataframe\">\n",
       "  <thead>\n",
       "    <tr style=\"text-align: right;\">\n",
       "      <th></th>\n",
       "      <th>id</th>\n",
       "      <th>title</th>\n",
       "      <th>Cast and crew</th>\n",
       "      <th>genres</th>\n",
       "      <th>overview</th>\n",
       "    </tr>\n",
       "  </thead>\n",
       "  <tbody>\n",
       "    <tr>\n",
       "      <th>0</th>\n",
       "      <td>1970</td>\n",
       "      <td>The Grudge</td>\n",
       "      <td>Nicolas Pesce (director/screenplay); Andrea Ri...</td>\n",
       "      <td>Horror Mystery Thriller</td>\n",
       "      <td>An American nurse living and working in Tokyo ...</td>\n",
       "    </tr>\n",
       "    <tr>\n",
       "      <th>1</th>\n",
       "      <td>443791</td>\n",
       "      <td>Underwater</td>\n",
       "      <td>William Eubank (director); Brian Duffield, Ada...</td>\n",
       "      <td>Action Horror Science Fiction Thriller</td>\n",
       "      <td>After an earthquake destroys their underwater ...</td>\n",
       "    </tr>\n",
       "  </tbody>\n",
       "</table>\n",
       "</div>"
      ],
      "text/plain": [
       "       id       title                                      Cast and crew  \\\n",
       "0    1970  The Grudge  Nicolas Pesce (director/screenplay); Andrea Ri...   \n",
       "1  443791  Underwater  William Eubank (director); Brian Duffield, Ada...   \n",
       "\n",
       "                                   genres  \\\n",
       "0                 Horror Mystery Thriller   \n",
       "1  Action Horror Science Fiction Thriller   \n",
       "\n",
       "                                            overview  \n",
       "0  An American nurse living and working in Tokyo ...  \n",
       "1  After an earthquake destroys their underwater ...  "
      ]
     },
     "execution_count": 57,
     "metadata": {},
     "output_type": "execute_result"
    }
   ],
   "source": [
    "#Taking the Important Columns\n",
    "df20 = df19[['id','Title','Cast and crew','genres','overview']]\n",
    "df20 = df20.rename(columns={'Title':'title'})\n",
    "df20.head(2)"
   ]
  },
  {
   "cell_type": "code",
   "execution_count": 58,
   "id": "a36be8d8",
   "metadata": {
    "scrolled": true
   },
   "outputs": [
    {
     "data": {
      "text/plain": [
       "id               1\n",
       "title            0\n",
       "Cast and crew    0\n",
       "genres           1\n",
       "overview         1\n",
       "dtype: int64"
      ]
     },
     "execution_count": 58,
     "metadata": {},
     "output_type": "execute_result"
    }
   ],
   "source": [
    "#Checking NA Values.\n",
    "df20.isnull().sum()"
   ]
  },
  {
   "cell_type": "code",
   "execution_count": 59,
   "id": "3c034503",
   "metadata": {},
   "outputs": [
    {
     "data": {
      "text/plain": [
       "(273, 5)"
      ]
     },
     "execution_count": 59,
     "metadata": {},
     "output_type": "execute_result"
    }
   ],
   "source": [
    "# Dropping the NA Values as Count of NA Value is Small\n",
    "df20.dropna(inplace=True)\n",
    "df20.shape"
   ]
  },
  {
   "cell_type": "code",
   "execution_count": 60,
   "id": "e4c3cd2e",
   "metadata": {},
   "outputs": [
    {
     "data": {
      "text/html": [
       "<div>\n",
       "<style scoped>\n",
       "    .dataframe tbody tr th:only-of-type {\n",
       "        vertical-align: middle;\n",
       "    }\n",
       "\n",
       "    .dataframe tbody tr th {\n",
       "        vertical-align: top;\n",
       "    }\n",
       "\n",
       "    .dataframe thead th {\n",
       "        text-align: right;\n",
       "    }\n",
       "</style>\n",
       "<table border=\"1\" class=\"dataframe\">\n",
       "  <thead>\n",
       "    <tr style=\"text-align: right;\">\n",
       "      <th></th>\n",
       "      <th>id</th>\n",
       "      <th>title</th>\n",
       "      <th>Cast and crew</th>\n",
       "      <th>genres</th>\n",
       "      <th>overview</th>\n",
       "      <th>cast</th>\n",
       "    </tr>\n",
       "  </thead>\n",
       "  <tbody>\n",
       "    <tr>\n",
       "      <th>0</th>\n",
       "      <td>1970</td>\n",
       "      <td>The Grudge</td>\n",
       "      <td>Nicolas Pesce (director/screenplay); Andrea Ri...</td>\n",
       "      <td>Horror Mystery Thriller</td>\n",
       "      <td>An American nurse living and working in Tokyo ...</td>\n",
       "      <td>[Andrea Riseborough, Demián Bichir, John Cho]</td>\n",
       "    </tr>\n",
       "    <tr>\n",
       "      <th>1</th>\n",
       "      <td>443791</td>\n",
       "      <td>Underwater</td>\n",
       "      <td>William Eubank (director); Brian Duffield, Ada...</td>\n",
       "      <td>Action Horror Science Fiction Thriller</td>\n",
       "      <td>After an earthquake destroys their underwater ...</td>\n",
       "      <td>[Kristen Stewart, Vincent Cassel, Jessica Henw...</td>\n",
       "    </tr>\n",
       "  </tbody>\n",
       "</table>\n",
       "</div>"
      ],
      "text/plain": [
       "       id       title                                      Cast and crew  \\\n",
       "0    1970  The Grudge  Nicolas Pesce (director/screenplay); Andrea Ri...   \n",
       "1  443791  Underwater  William Eubank (director); Brian Duffield, Ada...   \n",
       "\n",
       "                                   genres  \\\n",
       "0                 Horror Mystery Thriller   \n",
       "1  Action Horror Science Fiction Thriller   \n",
       "\n",
       "                                            overview  \\\n",
       "0  An American nurse living and working in Tokyo ...   \n",
       "1  After an earthquake destroys their underwater ...   \n",
       "\n",
       "                                                cast  \n",
       "0      [Andrea Riseborough, Demián Bichir, John Cho]  \n",
       "1  [Kristen Stewart, Vincent Cassel, Jessica Henw...  "
      ]
     },
     "execution_count": 60,
     "metadata": {},
     "output_type": "execute_result"
    }
   ],
   "source": [
    "#Calling the get actor Function.\n",
    "df20['cast'] = df20['Cast and crew'].map(lambda x: get_actor(x))\n",
    "df20.head(2)"
   ]
  },
  {
   "cell_type": "code",
   "execution_count": 61,
   "id": "66511cad",
   "metadata": {},
   "outputs": [
    {
     "data": {
      "text/html": [
       "<div>\n",
       "<style scoped>\n",
       "    .dataframe tbody tr th:only-of-type {\n",
       "        vertical-align: middle;\n",
       "    }\n",
       "\n",
       "    .dataframe tbody tr th {\n",
       "        vertical-align: top;\n",
       "    }\n",
       "\n",
       "    .dataframe thead th {\n",
       "        text-align: right;\n",
       "    }\n",
       "</style>\n",
       "<table border=\"1\" class=\"dataframe\">\n",
       "  <thead>\n",
       "    <tr style=\"text-align: right;\">\n",
       "      <th></th>\n",
       "      <th>id</th>\n",
       "      <th>title</th>\n",
       "      <th>genres</th>\n",
       "      <th>overview</th>\n",
       "      <th>cast</th>\n",
       "      <th>crew</th>\n",
       "    </tr>\n",
       "  </thead>\n",
       "  <tbody>\n",
       "    <tr>\n",
       "      <th>0</th>\n",
       "      <td>1970</td>\n",
       "      <td>The Grudge</td>\n",
       "      <td>Horror Mystery Thriller</td>\n",
       "      <td>An American nurse living and working in Tokyo ...</td>\n",
       "      <td>[Andrea Riseborough, Demián Bichir, John Cho]</td>\n",
       "      <td>[Nicolas Pesce]</td>\n",
       "    </tr>\n",
       "    <tr>\n",
       "      <th>1</th>\n",
       "      <td>443791</td>\n",
       "      <td>Underwater</td>\n",
       "      <td>Action Horror Science Fiction Thriller</td>\n",
       "      <td>After an earthquake destroys their underwater ...</td>\n",
       "      <td>[Kristen Stewart, Vincent Cassel, Jessica Henw...</td>\n",
       "      <td>[William Eubank]</td>\n",
       "    </tr>\n",
       "  </tbody>\n",
       "</table>\n",
       "</div>"
      ],
      "text/plain": [
       "       id       title                                  genres  \\\n",
       "0    1970  The Grudge                 Horror Mystery Thriller   \n",
       "1  443791  Underwater  Action Horror Science Fiction Thriller   \n",
       "\n",
       "                                            overview  \\\n",
       "0  An American nurse living and working in Tokyo ...   \n",
       "1  After an earthquake destroys their underwater ...   \n",
       "\n",
       "                                                cast              crew  \n",
       "0      [Andrea Riseborough, Demián Bichir, John Cho]   [Nicolas Pesce]  \n",
       "1  [Kristen Stewart, Vincent Cassel, Jessica Henw...  [William Eubank]  "
      ]
     },
     "execution_count": 61,
     "metadata": {},
     "output_type": "execute_result"
    }
   ],
   "source": [
    "#Calling the get_director function to get Director Name's\n",
    "df20['crew'] = df20['Cast and crew'].map(lambda x: get_director(x))\n",
    "#Dropping Original Columns\n",
    "df20 = df20.drop(columns=['Cast and crew'])\n",
    "df20.head(2)"
   ]
  },
  {
   "cell_type": "markdown",
   "id": "da9409de",
   "metadata": {},
   "source": [
    "Inference: Features is a String will Convert this into a List so we can concat with other Features."
   ]
  },
  {
   "cell_type": "code",
   "execution_count": 62,
   "id": "7eaf7fcf",
   "metadata": {},
   "outputs": [
    {
     "data": {
      "text/html": [
       "<div>\n",
       "<style scoped>\n",
       "    .dataframe tbody tr th:only-of-type {\n",
       "        vertical-align: middle;\n",
       "    }\n",
       "\n",
       "    .dataframe tbody tr th {\n",
       "        vertical-align: top;\n",
       "    }\n",
       "\n",
       "    .dataframe thead th {\n",
       "        text-align: right;\n",
       "    }\n",
       "</style>\n",
       "<table border=\"1\" class=\"dataframe\">\n",
       "  <thead>\n",
       "    <tr style=\"text-align: right;\">\n",
       "      <th></th>\n",
       "      <th>id</th>\n",
       "      <th>title</th>\n",
       "      <th>genres</th>\n",
       "      <th>overview</th>\n",
       "      <th>cast</th>\n",
       "      <th>crew</th>\n",
       "    </tr>\n",
       "  </thead>\n",
       "  <tbody>\n",
       "    <tr>\n",
       "      <th>0</th>\n",
       "      <td>1970</td>\n",
       "      <td>The Grudge</td>\n",
       "      <td>[Horror, Mystery, Thriller]</td>\n",
       "      <td>[An, American, nurse, living, and, working, in...</td>\n",
       "      <td>[Andrea Riseborough, Demián Bichir, John Cho]</td>\n",
       "      <td>[Nicolas Pesce]</td>\n",
       "    </tr>\n",
       "    <tr>\n",
       "      <th>1</th>\n",
       "      <td>443791</td>\n",
       "      <td>Underwater</td>\n",
       "      <td>[Action, Horror, Science, Fiction, Thriller]</td>\n",
       "      <td>[After, an, earthquake, destroys, their, under...</td>\n",
       "      <td>[Kristen Stewart, Vincent Cassel, Jessica Henw...</td>\n",
       "      <td>[William Eubank]</td>\n",
       "    </tr>\n",
       "  </tbody>\n",
       "</table>\n",
       "</div>"
      ],
      "text/plain": [
       "       id       title                                        genres  \\\n",
       "0    1970  The Grudge                   [Horror, Mystery, Thriller]   \n",
       "1  443791  Underwater  [Action, Horror, Science, Fiction, Thriller]   \n",
       "\n",
       "                                            overview  \\\n",
       "0  [An, American, nurse, living, and, working, in...   \n",
       "1  [After, an, earthquake, destroys, their, under...   \n",
       "\n",
       "                                                cast              crew  \n",
       "0      [Andrea Riseborough, Demián Bichir, John Cho]   [Nicolas Pesce]  \n",
       "1  [Kristen Stewart, Vincent Cassel, Jessica Henw...  [William Eubank]  "
      ]
     },
     "execution_count": 62,
     "metadata": {},
     "output_type": "execute_result"
    }
   ],
   "source": [
    "#Converting Feature into a List\n",
    "df20['genres'] = df20['genres'].apply(lambda x:x.split())\n",
    "df20['overview'] = df20['overview'].apply(lambda x:x.split())\n",
    "df20.head(2)"
   ]
  },
  {
   "cell_type": "code",
   "execution_count": 63,
   "id": "04e89e53",
   "metadata": {},
   "outputs": [
    {
     "data": {
      "text/html": [
       "<div>\n",
       "<style scoped>\n",
       "    .dataframe tbody tr th:only-of-type {\n",
       "        vertical-align: middle;\n",
       "    }\n",
       "\n",
       "    .dataframe tbody tr th {\n",
       "        vertical-align: top;\n",
       "    }\n",
       "\n",
       "    .dataframe thead th {\n",
       "        text-align: right;\n",
       "    }\n",
       "</style>\n",
       "<table border=\"1\" class=\"dataframe\">\n",
       "  <thead>\n",
       "    <tr style=\"text-align: right;\">\n",
       "      <th></th>\n",
       "      <th>id</th>\n",
       "      <th>title</th>\n",
       "      <th>genres</th>\n",
       "      <th>overview</th>\n",
       "      <th>cast</th>\n",
       "      <th>crew</th>\n",
       "    </tr>\n",
       "  </thead>\n",
       "  <tbody>\n",
       "    <tr>\n",
       "      <th>0</th>\n",
       "      <td>1970</td>\n",
       "      <td>The Grudge</td>\n",
       "      <td>[Horror, Mystery, Thriller]</td>\n",
       "      <td>[An, American, nurse, living, and, working, in...</td>\n",
       "      <td>[AndreaRiseborough, DemiánBichir, JohnCho]</td>\n",
       "      <td>[NicolasPesce]</td>\n",
       "    </tr>\n",
       "    <tr>\n",
       "      <th>1</th>\n",
       "      <td>443791</td>\n",
       "      <td>Underwater</td>\n",
       "      <td>[Action, Horror, Science, Fiction, Thriller]</td>\n",
       "      <td>[After, an, earthquake, destroys, their, under...</td>\n",
       "      <td>[KristenStewart, VincentCassel, JessicaHenwick]</td>\n",
       "      <td>[WilliamEubank]</td>\n",
       "    </tr>\n",
       "    <tr>\n",
       "      <th>2</th>\n",
       "      <td>526019</td>\n",
       "      <td>Like a Boss</td>\n",
       "      <td>[Comedy]</td>\n",
       "      <td>[Two, female, friends, with, very, different, ...</td>\n",
       "      <td>[TiffanyHaddish, RoseByrne, SalmaHayek]</td>\n",
       "      <td>[MiguelArteta]</td>\n",
       "    </tr>\n",
       "  </tbody>\n",
       "</table>\n",
       "</div>"
      ],
      "text/plain": [
       "       id        title                                        genres  \\\n",
       "0    1970   The Grudge                   [Horror, Mystery, Thriller]   \n",
       "1  443791   Underwater  [Action, Horror, Science, Fiction, Thriller]   \n",
       "2  526019  Like a Boss                                      [Comedy]   \n",
       "\n",
       "                                            overview  \\\n",
       "0  [An, American, nurse, living, and, working, in...   \n",
       "1  [After, an, earthquake, destroys, their, under...   \n",
       "2  [Two, female, friends, with, very, different, ...   \n",
       "\n",
       "                                              cast             crew  \n",
       "0       [AndreaRiseborough, DemiánBichir, JohnCho]   [NicolasPesce]  \n",
       "1  [KristenStewart, VincentCassel, JessicaHenwick]  [WilliamEubank]  \n",
       "2          [TiffanyHaddish, RoseByrne, SalmaHayek]   [MiguelArteta]  "
      ]
     },
     "execution_count": 63,
     "metadata": {},
     "output_type": "execute_result"
    }
   ],
   "source": [
    "#Making Single Entities by Removing Space\n",
    "df20['cast'] = df20['cast'].apply(collapse)\n",
    "df20['crew'] = df20['crew'].apply(collapse)\n",
    "df20['genres'] = df20['genres'].apply(collapse)\n",
    "df20.head(3)"
   ]
  },
  {
   "cell_type": "code",
   "execution_count": 64,
   "id": "0edc955e",
   "metadata": {},
   "outputs": [
    {
     "data": {
      "text/html": [
       "<div>\n",
       "<style scoped>\n",
       "    .dataframe tbody tr th:only-of-type {\n",
       "        vertical-align: middle;\n",
       "    }\n",
       "\n",
       "    .dataframe tbody tr th {\n",
       "        vertical-align: top;\n",
       "    }\n",
       "\n",
       "    .dataframe thead th {\n",
       "        text-align: right;\n",
       "    }\n",
       "</style>\n",
       "<table border=\"1\" class=\"dataframe\">\n",
       "  <thead>\n",
       "    <tr style=\"text-align: right;\">\n",
       "      <th></th>\n",
       "      <th>id</th>\n",
       "      <th>title</th>\n",
       "      <th>Detail</th>\n",
       "    </tr>\n",
       "  </thead>\n",
       "  <tbody>\n",
       "    <tr>\n",
       "      <th>0</th>\n",
       "      <td>1970</td>\n",
       "      <td>The Grudge</td>\n",
       "      <td>An American nurse living and working in Tokyo ...</td>\n",
       "    </tr>\n",
       "    <tr>\n",
       "      <th>1</th>\n",
       "      <td>443791</td>\n",
       "      <td>Underwater</td>\n",
       "      <td>After an earthquake destroys their underwater ...</td>\n",
       "    </tr>\n",
       "    <tr>\n",
       "      <th>2</th>\n",
       "      <td>526019</td>\n",
       "      <td>Like a Boss</td>\n",
       "      <td>Two female friends with very different ideals ...</td>\n",
       "    </tr>\n",
       "    <tr>\n",
       "      <th>3</th>\n",
       "      <td>418533</td>\n",
       "      <td>Three Christs</td>\n",
       "      <td>Dr. Alan Stone breaks new ground for treatment...</td>\n",
       "    </tr>\n",
       "    <tr>\n",
       "      <th>4</th>\n",
       "      <td>634904</td>\n",
       "      <td>Inherit the Viper</td>\n",
       "      <td>Since the death of their father, the Riley sib...</td>\n",
       "    </tr>\n",
       "  </tbody>\n",
       "</table>\n",
       "</div>"
      ],
      "text/plain": [
       "       id              title  \\\n",
       "0    1970         The Grudge   \n",
       "1  443791         Underwater   \n",
       "2  526019        Like a Boss   \n",
       "3  418533      Three Christs   \n",
       "4  634904  Inherit the Viper   \n",
       "\n",
       "                                              Detail  \n",
       "0  An American nurse living and working in Tokyo ...  \n",
       "1  After an earthquake destroys their underwater ...  \n",
       "2  Two female friends with very different ideals ...  \n",
       "3  Dr. Alan Stone breaks new ground for treatment...  \n",
       "4  Since the death of their father, the Riley sib...  "
      ]
     },
     "execution_count": 64,
     "metadata": {},
     "output_type": "execute_result"
    }
   ],
   "source": [
    "#Creating Detail Feature\n",
    "df20['Detail'] = df20['overview'] + df20['genres'] + df20['cast'] + df20['crew']\n",
    "#Dropping Original Columns\n",
    "final_df20 = df20.drop(columns=['overview','genres','cast','crew'])\n",
    "\n",
    "#Converting the Detail column back to string/Text\n",
    "final_df20['Detail'] = final_df20['Detail'].apply(lambda x: \" \".join(x))\n",
    "final_df20.head()"
   ]
  },
  {
   "cell_type": "code",
   "execution_count": 65,
   "id": "a9f2c0dd",
   "metadata": {},
   "outputs": [
    {
     "data": {
      "text/plain": [
       "(6111, 3)"
      ]
     },
     "execution_count": 65,
     "metadata": {},
     "output_type": "execute_result"
    }
   ],
   "source": [
    "#Appending the Dataset (Previous + 2020 Movies)\n",
    "final_df = final_df.append(final_df20)\n",
    "#Checking the final_df\n",
    "final_df.shape"
   ]
  },
  {
   "cell_type": "markdown",
   "id": "773a4a21",
   "metadata": {},
   "source": [
    "#### Movies of 2021"
   ]
  },
  {
   "cell_type": "code",
   "execution_count": 66,
   "id": "0ed5ebe2",
   "metadata": {},
   "outputs": [
    {
     "data": {
      "text/html": [
       "<div>\n",
       "<style scoped>\n",
       "    .dataframe tbody tr th:only-of-type {\n",
       "        vertical-align: middle;\n",
       "    }\n",
       "\n",
       "    .dataframe tbody tr th {\n",
       "        vertical-align: top;\n",
       "    }\n",
       "\n",
       "    .dataframe thead th {\n",
       "        text-align: right;\n",
       "    }\n",
       "</style>\n",
       "<table border=\"1\" class=\"dataframe\">\n",
       "  <thead>\n",
       "    <tr style=\"text-align: right;\">\n",
       "      <th></th>\n",
       "      <th>Opening</th>\n",
       "      <th>Opening.1</th>\n",
       "      <th>Title</th>\n",
       "      <th>Production company</th>\n",
       "      <th>Cast and crew</th>\n",
       "      <th>.mw-parser-output .tooltip-dotted{border-bottom:1px dotted;cursor:help}Ref.</th>\n",
       "      <th>Ref.</th>\n",
       "    </tr>\n",
       "  </thead>\n",
       "  <tbody>\n",
       "    <tr>\n",
       "      <th>0</th>\n",
       "      <td>JANUARY</td>\n",
       "      <td>1.0</td>\n",
       "      <td>Shadow in the Cloud</td>\n",
       "      <td>Vertical Entertainment</td>\n",
       "      <td>Roseanne Liang (director/screenplay); Max Land...</td>\n",
       "      <td>[2]</td>\n",
       "      <td>NaN</td>\n",
       "    </tr>\n",
       "    <tr>\n",
       "      <th>1</th>\n",
       "      <td>JANUARY</td>\n",
       "      <td>13.0</td>\n",
       "      <td>The White Tiger</td>\n",
       "      <td>Netflix</td>\n",
       "      <td>Ramin Bahrani (director/screenplay); Adarsh Go...</td>\n",
       "      <td>NaN</td>\n",
       "      <td>NaN</td>\n",
       "    </tr>\n",
       "    <tr>\n",
       "      <th>2</th>\n",
       "      <td>JANUARY</td>\n",
       "      <td>14.0</td>\n",
       "      <td>Locked Down</td>\n",
       "      <td>HBO Max / Warner Bros. Pictures</td>\n",
       "      <td>Doug Liman (director); Steven Knight (screenpl...</td>\n",
       "      <td>[3]</td>\n",
       "      <td>NaN</td>\n",
       "    </tr>\n",
       "    <tr>\n",
       "      <th>3</th>\n",
       "      <td>JANUARY</td>\n",
       "      <td>15.0</td>\n",
       "      <td>The Dig</td>\n",
       "      <td>Netflix / Clerkenwell Films</td>\n",
       "      <td>Simon Stone (director); Moira Buffini (screenp...</td>\n",
       "      <td>[4]</td>\n",
       "      <td>NaN</td>\n",
       "    </tr>\n",
       "    <tr>\n",
       "      <th>4</th>\n",
       "      <td>JANUARY</td>\n",
       "      <td>15.0</td>\n",
       "      <td>Outside the Wire</td>\n",
       "      <td>Netflix</td>\n",
       "      <td>Mikael Håfström (director); Rob Yescombe, Rowa...</td>\n",
       "      <td>[5]</td>\n",
       "      <td>NaN</td>\n",
       "    </tr>\n",
       "  </tbody>\n",
       "</table>\n",
       "</div>"
      ],
      "text/plain": [
       "   Opening  Opening.1                Title               Production company  \\\n",
       "0  JANUARY        1.0  Shadow in the Cloud           Vertical Entertainment   \n",
       "1  JANUARY       13.0      The White Tiger                          Netflix   \n",
       "2  JANUARY       14.0          Locked Down  HBO Max / Warner Bros. Pictures   \n",
       "3  JANUARY       15.0              The Dig      Netflix / Clerkenwell Films   \n",
       "4  JANUARY       15.0     Outside the Wire                          Netflix   \n",
       "\n",
       "                                       Cast and crew  \\\n",
       "0  Roseanne Liang (director/screenplay); Max Land...   \n",
       "1  Ramin Bahrani (director/screenplay); Adarsh Go...   \n",
       "2  Doug Liman (director); Steven Knight (screenpl...   \n",
       "3  Simon Stone (director); Moira Buffini (screenp...   \n",
       "4  Mikael Håfström (director); Rob Yescombe, Rowa...   \n",
       "\n",
       "  .mw-parser-output .tooltip-dotted{border-bottom:1px dotted;cursor:help}Ref.  \\\n",
       "0                                                [2]                            \n",
       "1                                                NaN                            \n",
       "2                                                [3]                            \n",
       "3                                                [4]                            \n",
       "4                                                [5]                            \n",
       "\n",
       "  Ref.  \n",
       "0  NaN  \n",
       "1  NaN  \n",
       "2  NaN  \n",
       "3  NaN  \n",
       "4  NaN  "
      ]
     },
     "execution_count": 66,
     "metadata": {},
     "output_type": "execute_result"
    }
   ],
   "source": [
    "link = \"https://en.wikipedia.org/wiki/List_of_American_films_of_2021\"\n",
    "df21 = pd.read_html(link, header=0)[3]\n",
    "df22 = pd.read_html(link, header=0)[4]\n",
    "df23 = pd.read_html(link, header=0)[5]\n",
    "df24 = pd.read_html(link, header=0)[6]\n",
    "\n",
    "#Appending all 4 df into 1\n",
    "df25 = df21.append(df22.append(df23.append(df24,ignore_index=True),ignore_index=True),ignore_index=True)\n",
    "df25.head()"
   ]
  },
  {
   "cell_type": "code",
   "execution_count": 67,
   "id": "41a5c232",
   "metadata": {},
   "outputs": [
    {
     "data": {
      "text/html": [
       "<div>\n",
       "<style scoped>\n",
       "    .dataframe tbody tr th:only-of-type {\n",
       "        vertical-align: middle;\n",
       "    }\n",
       "\n",
       "    .dataframe tbody tr th {\n",
       "        vertical-align: top;\n",
       "    }\n",
       "\n",
       "    .dataframe thead th {\n",
       "        text-align: right;\n",
       "    }\n",
       "</style>\n",
       "<table border=\"1\" class=\"dataframe\">\n",
       "  <thead>\n",
       "    <tr style=\"text-align: right;\">\n",
       "      <th></th>\n",
       "      <th>Opening</th>\n",
       "      <th>Opening.1</th>\n",
       "      <th>Title</th>\n",
       "      <th>Production company</th>\n",
       "      <th>Cast and crew</th>\n",
       "      <th>.mw-parser-output .tooltip-dotted{border-bottom:1px dotted;cursor:help}Ref.</th>\n",
       "      <th>Ref.</th>\n",
       "      <th>id</th>\n",
       "      <th>genres</th>\n",
       "      <th>overview</th>\n",
       "    </tr>\n",
       "  </thead>\n",
       "  <tbody>\n",
       "    <tr>\n",
       "      <th>0</th>\n",
       "      <td>JANUARY</td>\n",
       "      <td>1.0</td>\n",
       "      <td>Shadow in the Cloud</td>\n",
       "      <td>Vertical Entertainment</td>\n",
       "      <td>Roseanne Liang (director/screenplay); Max Land...</td>\n",
       "      <td>[2]</td>\n",
       "      <td>NaN</td>\n",
       "      <td>675327</td>\n",
       "      <td>Horror Action War</td>\n",
       "      <td>A WWII pilot traveling with top secret documen...</td>\n",
       "    </tr>\n",
       "    <tr>\n",
       "      <th>1</th>\n",
       "      <td>JANUARY</td>\n",
       "      <td>13.0</td>\n",
       "      <td>The White Tiger</td>\n",
       "      <td>Netflix</td>\n",
       "      <td>Ramin Bahrani (director/screenplay); Adarsh Go...</td>\n",
       "      <td>NaN</td>\n",
       "      <td>NaN</td>\n",
       "      <td>628534</td>\n",
       "      <td>Drama</td>\n",
       "      <td>An ambitious Indian driver uses his wit and cu...</td>\n",
       "    </tr>\n",
       "  </tbody>\n",
       "</table>\n",
       "</div>"
      ],
      "text/plain": [
       "   Opening  Opening.1                Title      Production company  \\\n",
       "0  JANUARY        1.0  Shadow in the Cloud  Vertical Entertainment   \n",
       "1  JANUARY       13.0      The White Tiger                 Netflix   \n",
       "\n",
       "                                       Cast and crew  \\\n",
       "0  Roseanne Liang (director/screenplay); Max Land...   \n",
       "1  Ramin Bahrani (director/screenplay); Adarsh Go...   \n",
       "\n",
       "  .mw-parser-output .tooltip-dotted{border-bottom:1px dotted;cursor:help}Ref.  \\\n",
       "0                                                [2]                            \n",
       "1                                                NaN                            \n",
       "\n",
       "  Ref.      id             genres  \\\n",
       "0  NaN  675327  Horror Action War   \n",
       "1  NaN  628534              Drama   \n",
       "\n",
       "                                            overview  \n",
       "0  A WWII pilot traveling with top secret documen...  \n",
       "1  An ambitious Indian driver uses his wit and cu...  "
      ]
     },
     "execution_count": 67,
     "metadata": {},
     "output_type": "execute_result"
    }
   ],
   "source": [
    "#Creating the ID, Genres, overview Columns\n",
    "df25['id'] = df25['Title'].map(lambda x: get_id(str(x)))\n",
    "df25['genres'] = df25['Title'].map(lambda x: get_genre(str(x)))\n",
    "df25['overview'] = df25['Title'].map(lambda x: get_overview(str(x)))\n",
    "df25.head(2)"
   ]
  },
  {
   "cell_type": "code",
   "execution_count": 68,
   "id": "5dc3a5d0",
   "metadata": {
    "scrolled": true
   },
   "outputs": [
    {
     "data": {
      "text/html": [
       "<div>\n",
       "<style scoped>\n",
       "    .dataframe tbody tr th:only-of-type {\n",
       "        vertical-align: middle;\n",
       "    }\n",
       "\n",
       "    .dataframe tbody tr th {\n",
       "        vertical-align: top;\n",
       "    }\n",
       "\n",
       "    .dataframe thead th {\n",
       "        text-align: right;\n",
       "    }\n",
       "</style>\n",
       "<table border=\"1\" class=\"dataframe\">\n",
       "  <thead>\n",
       "    <tr style=\"text-align: right;\">\n",
       "      <th></th>\n",
       "      <th>id</th>\n",
       "      <th>title</th>\n",
       "      <th>Cast and crew</th>\n",
       "      <th>genres</th>\n",
       "      <th>overview</th>\n",
       "    </tr>\n",
       "  </thead>\n",
       "  <tbody>\n",
       "    <tr>\n",
       "      <th>0</th>\n",
       "      <td>675327</td>\n",
       "      <td>Shadow in the Cloud</td>\n",
       "      <td>Roseanne Liang (director/screenplay); Max Land...</td>\n",
       "      <td>Horror Action War</td>\n",
       "      <td>A WWII pilot traveling with top secret documen...</td>\n",
       "    </tr>\n",
       "    <tr>\n",
       "      <th>1</th>\n",
       "      <td>628534</td>\n",
       "      <td>The White Tiger</td>\n",
       "      <td>Ramin Bahrani (director/screenplay); Adarsh Go...</td>\n",
       "      <td>Drama</td>\n",
       "      <td>An ambitious Indian driver uses his wit and cu...</td>\n",
       "    </tr>\n",
       "  </tbody>\n",
       "</table>\n",
       "</div>"
      ],
      "text/plain": [
       "       id                title  \\\n",
       "0  675327  Shadow in the Cloud   \n",
       "1  628534      The White Tiger   \n",
       "\n",
       "                                       Cast and crew             genres  \\\n",
       "0  Roseanne Liang (director/screenplay); Max Land...  Horror Action War   \n",
       "1  Ramin Bahrani (director/screenplay); Adarsh Go...              Drama   \n",
       "\n",
       "                                            overview  \n",
       "0  A WWII pilot traveling with top secret documen...  \n",
       "1  An ambitious Indian driver uses his wit and cu...  "
      ]
     },
     "execution_count": 68,
     "metadata": {},
     "output_type": "execute_result"
    }
   ],
   "source": [
    "#Taking the Important Columns\n",
    "df26 = df25[['id','Title','Cast and crew','genres','overview']]\n",
    "df26 = df26.rename(columns={'Title':'title'})\n",
    "df26.head(2)"
   ]
  },
  {
   "cell_type": "code",
   "execution_count": 69,
   "id": "0a020d09",
   "metadata": {},
   "outputs": [
    {
     "data": {
      "text/plain": [
       "id               1\n",
       "title            1\n",
       "Cast and crew    1\n",
       "genres           1\n",
       "overview         1\n",
       "dtype: int64"
      ]
     },
     "execution_count": 69,
     "metadata": {},
     "output_type": "execute_result"
    }
   ],
   "source": [
    "#Checking NA Values.\n",
    "df26.isnull().sum()"
   ]
  },
  {
   "cell_type": "code",
   "execution_count": 70,
   "id": "cba4ccb2",
   "metadata": {},
   "outputs": [
    {
     "data": {
      "text/plain": [
       "(356, 5)"
      ]
     },
     "execution_count": 70,
     "metadata": {},
     "output_type": "execute_result"
    }
   ],
   "source": [
    "# Dropping the NA Values as Count of NA Value is Small\n",
    "df26.dropna(inplace=True)\n",
    "df26.shape"
   ]
  },
  {
   "cell_type": "code",
   "execution_count": 71,
   "id": "0977ce1a",
   "metadata": {},
   "outputs": [
    {
     "data": {
      "text/html": [
       "<div>\n",
       "<style scoped>\n",
       "    .dataframe tbody tr th:only-of-type {\n",
       "        vertical-align: middle;\n",
       "    }\n",
       "\n",
       "    .dataframe tbody tr th {\n",
       "        vertical-align: top;\n",
       "    }\n",
       "\n",
       "    .dataframe thead th {\n",
       "        text-align: right;\n",
       "    }\n",
       "</style>\n",
       "<table border=\"1\" class=\"dataframe\">\n",
       "  <thead>\n",
       "    <tr style=\"text-align: right;\">\n",
       "      <th></th>\n",
       "      <th>id</th>\n",
       "      <th>title</th>\n",
       "      <th>Cast and crew</th>\n",
       "      <th>genres</th>\n",
       "      <th>overview</th>\n",
       "      <th>cast</th>\n",
       "    </tr>\n",
       "  </thead>\n",
       "  <tbody>\n",
       "    <tr>\n",
       "      <th>0</th>\n",
       "      <td>675327</td>\n",
       "      <td>Shadow in the Cloud</td>\n",
       "      <td>Roseanne Liang (director/screenplay); Max Land...</td>\n",
       "      <td>Horror Action War</td>\n",
       "      <td>A WWII pilot traveling with top secret documen...</td>\n",
       "      <td>[Chloë Grace Moretz, Taylor John Smith, Beulah...</td>\n",
       "    </tr>\n",
       "    <tr>\n",
       "      <th>1</th>\n",
       "      <td>628534</td>\n",
       "      <td>The White Tiger</td>\n",
       "      <td>Ramin Bahrani (director/screenplay); Adarsh Go...</td>\n",
       "      <td>Drama</td>\n",
       "      <td>An ambitious Indian driver uses his wit and cu...</td>\n",
       "      <td>[Adarsh Gourav, Rajkummar Rao, Priyanka Chopra...</td>\n",
       "    </tr>\n",
       "  </tbody>\n",
       "</table>\n",
       "</div>"
      ],
      "text/plain": [
       "       id                title  \\\n",
       "0  675327  Shadow in the Cloud   \n",
       "1  628534      The White Tiger   \n",
       "\n",
       "                                       Cast and crew             genres  \\\n",
       "0  Roseanne Liang (director/screenplay); Max Land...  Horror Action War   \n",
       "1  Ramin Bahrani (director/screenplay); Adarsh Go...              Drama   \n",
       "\n",
       "                                            overview  \\\n",
       "0  A WWII pilot traveling with top secret documen...   \n",
       "1  An ambitious Indian driver uses his wit and cu...   \n",
       "\n",
       "                                                cast  \n",
       "0  [Chloë Grace Moretz, Taylor John Smith, Beulah...  \n",
       "1  [Adarsh Gourav, Rajkummar Rao, Priyanka Chopra...  "
      ]
     },
     "execution_count": 71,
     "metadata": {},
     "output_type": "execute_result"
    }
   ],
   "source": [
    "#Calling the get actor Function.\n",
    "df26['cast'] = df26['Cast and crew'].map(lambda x: get_actor(x))\n",
    "df26.head(2)"
   ]
  },
  {
   "cell_type": "code",
   "execution_count": 72,
   "id": "b806d90f",
   "metadata": {},
   "outputs": [
    {
     "data": {
      "text/html": [
       "<div>\n",
       "<style scoped>\n",
       "    .dataframe tbody tr th:only-of-type {\n",
       "        vertical-align: middle;\n",
       "    }\n",
       "\n",
       "    .dataframe tbody tr th {\n",
       "        vertical-align: top;\n",
       "    }\n",
       "\n",
       "    .dataframe thead th {\n",
       "        text-align: right;\n",
       "    }\n",
       "</style>\n",
       "<table border=\"1\" class=\"dataframe\">\n",
       "  <thead>\n",
       "    <tr style=\"text-align: right;\">\n",
       "      <th></th>\n",
       "      <th>id</th>\n",
       "      <th>title</th>\n",
       "      <th>genres</th>\n",
       "      <th>overview</th>\n",
       "      <th>cast</th>\n",
       "      <th>crew</th>\n",
       "    </tr>\n",
       "  </thead>\n",
       "  <tbody>\n",
       "    <tr>\n",
       "      <th>0</th>\n",
       "      <td>675327</td>\n",
       "      <td>Shadow in the Cloud</td>\n",
       "      <td>Horror Action War</td>\n",
       "      <td>A WWII pilot traveling with top secret documen...</td>\n",
       "      <td>[Chloë Grace Moretz, Taylor John Smith, Beulah...</td>\n",
       "      <td>[Roseanne Liang]</td>\n",
       "    </tr>\n",
       "    <tr>\n",
       "      <th>1</th>\n",
       "      <td>628534</td>\n",
       "      <td>The White Tiger</td>\n",
       "      <td>Drama</td>\n",
       "      <td>An ambitious Indian driver uses his wit and cu...</td>\n",
       "      <td>[Adarsh Gourav, Rajkummar Rao, Priyanka Chopra...</td>\n",
       "      <td>[Ramin Bahrani]</td>\n",
       "    </tr>\n",
       "  </tbody>\n",
       "</table>\n",
       "</div>"
      ],
      "text/plain": [
       "       id                title             genres  \\\n",
       "0  675327  Shadow in the Cloud  Horror Action War   \n",
       "1  628534      The White Tiger              Drama   \n",
       "\n",
       "                                            overview  \\\n",
       "0  A WWII pilot traveling with top secret documen...   \n",
       "1  An ambitious Indian driver uses his wit and cu...   \n",
       "\n",
       "                                                cast              crew  \n",
       "0  [Chloë Grace Moretz, Taylor John Smith, Beulah...  [Roseanne Liang]  \n",
       "1  [Adarsh Gourav, Rajkummar Rao, Priyanka Chopra...   [Ramin Bahrani]  "
      ]
     },
     "execution_count": 72,
     "metadata": {},
     "output_type": "execute_result"
    }
   ],
   "source": [
    "#Calling the get_director function to get Director Name's\n",
    "df26['crew'] = df26['Cast and crew'].map(lambda x: get_director(x))\n",
    "#Dropping Original Columns\n",
    "df26 = df26.drop(columns=['Cast and crew'])\n",
    "df26.head(2)"
   ]
  },
  {
   "cell_type": "markdown",
   "id": "c3f95058",
   "metadata": {},
   "source": [
    "Inference: Features is a String will Convert this into a List so we can concat with other Features."
   ]
  },
  {
   "cell_type": "code",
   "execution_count": 73,
   "id": "e9d172d5",
   "metadata": {},
   "outputs": [
    {
     "data": {
      "text/html": [
       "<div>\n",
       "<style scoped>\n",
       "    .dataframe tbody tr th:only-of-type {\n",
       "        vertical-align: middle;\n",
       "    }\n",
       "\n",
       "    .dataframe tbody tr th {\n",
       "        vertical-align: top;\n",
       "    }\n",
       "\n",
       "    .dataframe thead th {\n",
       "        text-align: right;\n",
       "    }\n",
       "</style>\n",
       "<table border=\"1\" class=\"dataframe\">\n",
       "  <thead>\n",
       "    <tr style=\"text-align: right;\">\n",
       "      <th></th>\n",
       "      <th>id</th>\n",
       "      <th>title</th>\n",
       "      <th>genres</th>\n",
       "      <th>overview</th>\n",
       "      <th>cast</th>\n",
       "      <th>crew</th>\n",
       "    </tr>\n",
       "  </thead>\n",
       "  <tbody>\n",
       "    <tr>\n",
       "      <th>0</th>\n",
       "      <td>675327</td>\n",
       "      <td>Shadow in the Cloud</td>\n",
       "      <td>[Horror, Action, War]</td>\n",
       "      <td>[A, WWII, pilot, traveling, with, top, secret,...</td>\n",
       "      <td>[Chloë Grace Moretz, Taylor John Smith, Beulah...</td>\n",
       "      <td>[Roseanne Liang]</td>\n",
       "    </tr>\n",
       "    <tr>\n",
       "      <th>1</th>\n",
       "      <td>628534</td>\n",
       "      <td>The White Tiger</td>\n",
       "      <td>[Drama]</td>\n",
       "      <td>[An, ambitious, Indian, driver, uses, his, wit...</td>\n",
       "      <td>[Adarsh Gourav, Rajkummar Rao, Priyanka Chopra...</td>\n",
       "      <td>[Ramin Bahrani]</td>\n",
       "    </tr>\n",
       "  </tbody>\n",
       "</table>\n",
       "</div>"
      ],
      "text/plain": [
       "       id                title                 genres  \\\n",
       "0  675327  Shadow in the Cloud  [Horror, Action, War]   \n",
       "1  628534      The White Tiger                [Drama]   \n",
       "\n",
       "                                            overview  \\\n",
       "0  [A, WWII, pilot, traveling, with, top, secret,...   \n",
       "1  [An, ambitious, Indian, driver, uses, his, wit...   \n",
       "\n",
       "                                                cast              crew  \n",
       "0  [Chloë Grace Moretz, Taylor John Smith, Beulah...  [Roseanne Liang]  \n",
       "1  [Adarsh Gourav, Rajkummar Rao, Priyanka Chopra...   [Ramin Bahrani]  "
      ]
     },
     "execution_count": 73,
     "metadata": {},
     "output_type": "execute_result"
    }
   ],
   "source": [
    "#Converting Feature into a List\n",
    "df26['genres'] = df26['genres'].apply(lambda x:x.split())\n",
    "df26['overview'] = df26['overview'].apply(lambda x:x.split())\n",
    "df26.head(2)"
   ]
  },
  {
   "cell_type": "code",
   "execution_count": 74,
   "id": "19b0464b",
   "metadata": {},
   "outputs": [
    {
     "data": {
      "text/html": [
       "<div>\n",
       "<style scoped>\n",
       "    .dataframe tbody tr th:only-of-type {\n",
       "        vertical-align: middle;\n",
       "    }\n",
       "\n",
       "    .dataframe tbody tr th {\n",
       "        vertical-align: top;\n",
       "    }\n",
       "\n",
       "    .dataframe thead th {\n",
       "        text-align: right;\n",
       "    }\n",
       "</style>\n",
       "<table border=\"1\" class=\"dataframe\">\n",
       "  <thead>\n",
       "    <tr style=\"text-align: right;\">\n",
       "      <th></th>\n",
       "      <th>id</th>\n",
       "      <th>title</th>\n",
       "      <th>genres</th>\n",
       "      <th>overview</th>\n",
       "      <th>cast</th>\n",
       "      <th>crew</th>\n",
       "    </tr>\n",
       "  </thead>\n",
       "  <tbody>\n",
       "    <tr>\n",
       "      <th>0</th>\n",
       "      <td>675327</td>\n",
       "      <td>Shadow in the Cloud</td>\n",
       "      <td>[Horror, Action, War]</td>\n",
       "      <td>[A, WWII, pilot, traveling, with, top, secret,...</td>\n",
       "      <td>[ChloëGraceMoretz, TaylorJohnSmith, BeulahKoale]</td>\n",
       "      <td>[RoseanneLiang]</td>\n",
       "    </tr>\n",
       "    <tr>\n",
       "      <th>1</th>\n",
       "      <td>628534</td>\n",
       "      <td>The White Tiger</td>\n",
       "      <td>[Drama]</td>\n",
       "      <td>[An, ambitious, Indian, driver, uses, his, wit...</td>\n",
       "      <td>[AdarshGourav, RajkummarRao, PriyankaChopraJonas]</td>\n",
       "      <td>[RaminBahrani]</td>\n",
       "    </tr>\n",
       "    <tr>\n",
       "      <th>2</th>\n",
       "      <td>741228</td>\n",
       "      <td>Locked Down</td>\n",
       "      <td>[Comedy, Crime, Drama]</td>\n",
       "      <td>[During, a, COVID-19, lockdown,, sparring, cou...</td>\n",
       "      <td>[AnneHathaway, ChiwetelEjiofor, StephenMerchant]</td>\n",
       "      <td>[DougLiman]</td>\n",
       "    </tr>\n",
       "  </tbody>\n",
       "</table>\n",
       "</div>"
      ],
      "text/plain": [
       "       id                title                  genres  \\\n",
       "0  675327  Shadow in the Cloud   [Horror, Action, War]   \n",
       "1  628534      The White Tiger                 [Drama]   \n",
       "2  741228          Locked Down  [Comedy, Crime, Drama]   \n",
       "\n",
       "                                            overview  \\\n",
       "0  [A, WWII, pilot, traveling, with, top, secret,...   \n",
       "1  [An, ambitious, Indian, driver, uses, his, wit...   \n",
       "2  [During, a, COVID-19, lockdown,, sparring, cou...   \n",
       "\n",
       "                                                cast             crew  \n",
       "0   [ChloëGraceMoretz, TaylorJohnSmith, BeulahKoale]  [RoseanneLiang]  \n",
       "1  [AdarshGourav, RajkummarRao, PriyankaChopraJonas]   [RaminBahrani]  \n",
       "2   [AnneHathaway, ChiwetelEjiofor, StephenMerchant]      [DougLiman]  "
      ]
     },
     "execution_count": 74,
     "metadata": {},
     "output_type": "execute_result"
    }
   ],
   "source": [
    "#Making Single Entities by Removing Space\n",
    "df26['cast'] = df26['cast'].apply(collapse)\n",
    "df26['crew'] = df26['crew'].apply(collapse)\n",
    "df26['genres'] = df26['genres'].apply(collapse)\n",
    "df26.head(3)"
   ]
  },
  {
   "cell_type": "code",
   "execution_count": 75,
   "id": "dc8e2cdd",
   "metadata": {},
   "outputs": [
    {
     "data": {
      "text/html": [
       "<div>\n",
       "<style scoped>\n",
       "    .dataframe tbody tr th:only-of-type {\n",
       "        vertical-align: middle;\n",
       "    }\n",
       "\n",
       "    .dataframe tbody tr th {\n",
       "        vertical-align: top;\n",
       "    }\n",
       "\n",
       "    .dataframe thead th {\n",
       "        text-align: right;\n",
       "    }\n",
       "</style>\n",
       "<table border=\"1\" class=\"dataframe\">\n",
       "  <thead>\n",
       "    <tr style=\"text-align: right;\">\n",
       "      <th></th>\n",
       "      <th>id</th>\n",
       "      <th>title</th>\n",
       "      <th>Detail</th>\n",
       "    </tr>\n",
       "  </thead>\n",
       "  <tbody>\n",
       "    <tr>\n",
       "      <th>0</th>\n",
       "      <td>675327</td>\n",
       "      <td>Shadow in the Cloud</td>\n",
       "      <td>A WWII pilot traveling with top secret documen...</td>\n",
       "    </tr>\n",
       "    <tr>\n",
       "      <th>1</th>\n",
       "      <td>628534</td>\n",
       "      <td>The White Tiger</td>\n",
       "      <td>An ambitious Indian driver uses his wit and cu...</td>\n",
       "    </tr>\n",
       "    <tr>\n",
       "      <th>2</th>\n",
       "      <td>741228</td>\n",
       "      <td>Locked Down</td>\n",
       "      <td>During a COVID-19 lockdown, sparring couple Li...</td>\n",
       "    </tr>\n",
       "    <tr>\n",
       "      <th>3</th>\n",
       "      <td>532865</td>\n",
       "      <td>The Dig</td>\n",
       "      <td>As WWII looms, a wealthy widow hires an amateu...</td>\n",
       "    </tr>\n",
       "    <tr>\n",
       "      <th>4</th>\n",
       "      <td>775996</td>\n",
       "      <td>Outside the Wire</td>\n",
       "      <td>In the near future, a drone pilot is sent into...</td>\n",
       "    </tr>\n",
       "  </tbody>\n",
       "</table>\n",
       "</div>"
      ],
      "text/plain": [
       "       id                title  \\\n",
       "0  675327  Shadow in the Cloud   \n",
       "1  628534      The White Tiger   \n",
       "2  741228          Locked Down   \n",
       "3  532865              The Dig   \n",
       "4  775996     Outside the Wire   \n",
       "\n",
       "                                              Detail  \n",
       "0  A WWII pilot traveling with top secret documen...  \n",
       "1  An ambitious Indian driver uses his wit and cu...  \n",
       "2  During a COVID-19 lockdown, sparring couple Li...  \n",
       "3  As WWII looms, a wealthy widow hires an amateu...  \n",
       "4  In the near future, a drone pilot is sent into...  "
      ]
     },
     "execution_count": 75,
     "metadata": {},
     "output_type": "execute_result"
    }
   ],
   "source": [
    "#Creating Detail Feature\n",
    "df26['Detail'] = df26['overview'] + df26['genres'] + df26['cast'] + df26['crew']\n",
    "#Dropping Original Columns\n",
    "final_df21 = df26.drop(columns=['overview','genres','cast','crew'])\n",
    "\n",
    "#Converting the Detail column back to string/Text\n",
    "final_df21['Detail'] = final_df21['Detail'].apply(lambda x: \" \".join(x))\n",
    "final_df21.head()"
   ]
  },
  {
   "cell_type": "code",
   "execution_count": 76,
   "id": "780e76f8",
   "metadata": {},
   "outputs": [
    {
     "data": {
      "text/plain": [
       "(6467, 3)"
      ]
     },
     "execution_count": 76,
     "metadata": {},
     "output_type": "execute_result"
    }
   ],
   "source": [
    "#Appending the Dataset (Previous + 2021 Movies)\n",
    "final_df = final_df.append(final_df21)\n",
    "#Checking the final_df\n",
    "final_df.shape"
   ]
  },
  {
   "cell_type": "markdown",
   "id": "b5b8befb",
   "metadata": {},
   "source": [
    "#### Movies of 2022"
   ]
  },
  {
   "cell_type": "code",
   "execution_count": 77,
   "id": "f9058db1",
   "metadata": {},
   "outputs": [
    {
     "data": {
      "text/html": [
       "<div>\n",
       "<style scoped>\n",
       "    .dataframe tbody tr th:only-of-type {\n",
       "        vertical-align: middle;\n",
       "    }\n",
       "\n",
       "    .dataframe tbody tr th {\n",
       "        vertical-align: top;\n",
       "    }\n",
       "\n",
       "    .dataframe thead th {\n",
       "        text-align: right;\n",
       "    }\n",
       "</style>\n",
       "<table border=\"1\" class=\"dataframe\">\n",
       "  <thead>\n",
       "    <tr style=\"text-align: right;\">\n",
       "      <th></th>\n",
       "      <th>Opening</th>\n",
       "      <th>Opening.1</th>\n",
       "      <th>Title</th>\n",
       "      <th>Production company</th>\n",
       "      <th>Cast and crew</th>\n",
       "      <th>.mw-parser-output .tooltip-dotted{border-bottom:1px dotted;cursor:help}Ref.</th>\n",
       "      <th>Ref.</th>\n",
       "    </tr>\n",
       "  </thead>\n",
       "  <tbody>\n",
       "    <tr>\n",
       "      <th>0</th>\n",
       "      <td>JANUARY</td>\n",
       "      <td>7.0</td>\n",
       "      <td>The 355</td>\n",
       "      <td>Universal Pictures / Freckle Films / FilmNatio...</td>\n",
       "      <td>Simon Kinberg (director/screenplay); Theresa R...</td>\n",
       "      <td>[2]</td>\n",
       "      <td>NaN</td>\n",
       "    </tr>\n",
       "    <tr>\n",
       "      <th>1</th>\n",
       "      <td>JANUARY</td>\n",
       "      <td>7.0</td>\n",
       "      <td>The Legend of La Llorona</td>\n",
       "      <td>Saban Films</td>\n",
       "      <td>Patricia Harris Seeley (director/screenplay); ...</td>\n",
       "      <td>[3]</td>\n",
       "      <td>NaN</td>\n",
       "    </tr>\n",
       "    <tr>\n",
       "      <th>2</th>\n",
       "      <td>JANUARY</td>\n",
       "      <td>7.0</td>\n",
       "      <td>The Commando</td>\n",
       "      <td>Saban Films</td>\n",
       "      <td>Asif Akbar (director); Koji Steven Sakai (scre...</td>\n",
       "      <td>[4]</td>\n",
       "      <td>NaN</td>\n",
       "    </tr>\n",
       "    <tr>\n",
       "      <th>3</th>\n",
       "      <td>JANUARY</td>\n",
       "      <td>14.0</td>\n",
       "      <td>Scream</td>\n",
       "      <td>Paramount Pictures / Spyglass Media Group</td>\n",
       "      <td>Matt Bettinelli-Olpin, Tyler Gillett (director...</td>\n",
       "      <td>[5]</td>\n",
       "      <td>NaN</td>\n",
       "    </tr>\n",
       "    <tr>\n",
       "      <th>4</th>\n",
       "      <td>JANUARY</td>\n",
       "      <td>14.0</td>\n",
       "      <td>Hotel Transylvania: Transformania</td>\n",
       "      <td>Amazon Studios / Columbia Pictures / Sony Pict...</td>\n",
       "      <td>Jennifer Kluska, Derek Drymon (directors); Amo...</td>\n",
       "      <td>[6]</td>\n",
       "      <td>NaN</td>\n",
       "    </tr>\n",
       "  </tbody>\n",
       "</table>\n",
       "</div>"
      ],
      "text/plain": [
       "   Opening  Opening.1                              Title  \\\n",
       "0  JANUARY        7.0                            The 355   \n",
       "1  JANUARY        7.0           The Legend of La Llorona   \n",
       "2  JANUARY        7.0                       The Commando   \n",
       "3  JANUARY       14.0                             Scream   \n",
       "4  JANUARY       14.0  Hotel Transylvania: Transformania   \n",
       "\n",
       "                                  Production company  \\\n",
       "0  Universal Pictures / Freckle Films / FilmNatio...   \n",
       "1                                        Saban Films   \n",
       "2                                        Saban Films   \n",
       "3          Paramount Pictures / Spyglass Media Group   \n",
       "4  Amazon Studios / Columbia Pictures / Sony Pict...   \n",
       "\n",
       "                                       Cast and crew  \\\n",
       "0  Simon Kinberg (director/screenplay); Theresa R...   \n",
       "1  Patricia Harris Seeley (director/screenplay); ...   \n",
       "2  Asif Akbar (director); Koji Steven Sakai (scre...   \n",
       "3  Matt Bettinelli-Olpin, Tyler Gillett (director...   \n",
       "4  Jennifer Kluska, Derek Drymon (directors); Amo...   \n",
       "\n",
       "  .mw-parser-output .tooltip-dotted{border-bottom:1px dotted;cursor:help}Ref.  \\\n",
       "0                                                [2]                            \n",
       "1                                                [3]                            \n",
       "2                                                [4]                            \n",
       "3                                                [5]                            \n",
       "4                                                [6]                            \n",
       "\n",
       "  Ref.  \n",
       "0  NaN  \n",
       "1  NaN  \n",
       "2  NaN  \n",
       "3  NaN  \n",
       "4  NaN  "
      ]
     },
     "execution_count": 77,
     "metadata": {},
     "output_type": "execute_result"
    }
   ],
   "source": [
    "link = \"https://en.wikipedia.org/wiki/List_of_American_films_of_2022\"\n",
    "df27 = pd.read_html(link, header=0)[3]\n",
    "df28 = pd.read_html(link, header=0)[4]\n",
    "df29 = pd.read_html(link, header=0)[5]\n",
    "df30 = pd.read_html(link, header=0)[6]\n",
    "\n",
    "#Appending all 4 df into 1\n",
    "df31 = df27.append(df28.append(df29.append(df30,ignore_index=True),ignore_index=True),ignore_index=True)\n",
    "df31.head()"
   ]
  },
  {
   "cell_type": "code",
   "execution_count": 78,
   "id": "ee3b292a",
   "metadata": {},
   "outputs": [
    {
     "data": {
      "text/html": [
       "<div>\n",
       "<style scoped>\n",
       "    .dataframe tbody tr th:only-of-type {\n",
       "        vertical-align: middle;\n",
       "    }\n",
       "\n",
       "    .dataframe tbody tr th {\n",
       "        vertical-align: top;\n",
       "    }\n",
       "\n",
       "    .dataframe thead th {\n",
       "        text-align: right;\n",
       "    }\n",
       "</style>\n",
       "<table border=\"1\" class=\"dataframe\">\n",
       "  <thead>\n",
       "    <tr style=\"text-align: right;\">\n",
       "      <th></th>\n",
       "      <th>Opening</th>\n",
       "      <th>Opening.1</th>\n",
       "      <th>Title</th>\n",
       "      <th>Production company</th>\n",
       "      <th>Cast and crew</th>\n",
       "      <th>.mw-parser-output .tooltip-dotted{border-bottom:1px dotted;cursor:help}Ref.</th>\n",
       "      <th>Ref.</th>\n",
       "      <th>id</th>\n",
       "      <th>genres</th>\n",
       "      <th>overview</th>\n",
       "    </tr>\n",
       "  </thead>\n",
       "  <tbody>\n",
       "    <tr>\n",
       "      <th>0</th>\n",
       "      <td>JANUARY</td>\n",
       "      <td>7.0</td>\n",
       "      <td>The 355</td>\n",
       "      <td>Universal Pictures / Freckle Films / FilmNatio...</td>\n",
       "      <td>Simon Kinberg (director/screenplay); Theresa R...</td>\n",
       "      <td>[2]</td>\n",
       "      <td>NaN</td>\n",
       "      <td>522016</td>\n",
       "      <td>Action Thriller</td>\n",
       "      <td>A group of top female agents from American, Br...</td>\n",
       "    </tr>\n",
       "    <tr>\n",
       "      <th>1</th>\n",
       "      <td>JANUARY</td>\n",
       "      <td>7.0</td>\n",
       "      <td>The Legend of La Llorona</td>\n",
       "      <td>Saban Films</td>\n",
       "      <td>Patricia Harris Seeley (director/screenplay); ...</td>\n",
       "      <td>[3]</td>\n",
       "      <td>NaN</td>\n",
       "      <td>631947</td>\n",
       "      <td>Horror Thriller</td>\n",
       "      <td>While vacationing in Mexico, a couple discover...</td>\n",
       "    </tr>\n",
       "  </tbody>\n",
       "</table>\n",
       "</div>"
      ],
      "text/plain": [
       "   Opening  Opening.1                     Title  \\\n",
       "0  JANUARY        7.0                   The 355   \n",
       "1  JANUARY        7.0  The Legend of La Llorona   \n",
       "\n",
       "                                  Production company  \\\n",
       "0  Universal Pictures / Freckle Films / FilmNatio...   \n",
       "1                                        Saban Films   \n",
       "\n",
       "                                       Cast and crew  \\\n",
       "0  Simon Kinberg (director/screenplay); Theresa R...   \n",
       "1  Patricia Harris Seeley (director/screenplay); ...   \n",
       "\n",
       "  .mw-parser-output .tooltip-dotted{border-bottom:1px dotted;cursor:help}Ref.  \\\n",
       "0                                                [2]                            \n",
       "1                                                [3]                            \n",
       "\n",
       "  Ref.      id           genres  \\\n",
       "0  NaN  522016  Action Thriller   \n",
       "1  NaN  631947  Horror Thriller   \n",
       "\n",
       "                                            overview  \n",
       "0  A group of top female agents from American, Br...  \n",
       "1  While vacationing in Mexico, a couple discover...  "
      ]
     },
     "execution_count": 78,
     "metadata": {},
     "output_type": "execute_result"
    }
   ],
   "source": [
    "#Creating the ID, Genres, overview Columns\n",
    "df31['id'] = df31['Title'].map(lambda x: get_id(str(x)))\n",
    "df31['genres'] = df31['Title'].map(lambda x: get_genre(str(x)))\n",
    "df31['overview'] = df31['Title'].map(lambda x: get_overview(str(x)))\n",
    "df31.head(2)"
   ]
  },
  {
   "cell_type": "code",
   "execution_count": 79,
   "id": "fe96b41c",
   "metadata": {},
   "outputs": [
    {
     "data": {
      "text/html": [
       "<div>\n",
       "<style scoped>\n",
       "    .dataframe tbody tr th:only-of-type {\n",
       "        vertical-align: middle;\n",
       "    }\n",
       "\n",
       "    .dataframe tbody tr th {\n",
       "        vertical-align: top;\n",
       "    }\n",
       "\n",
       "    .dataframe thead th {\n",
       "        text-align: right;\n",
       "    }\n",
       "</style>\n",
       "<table border=\"1\" class=\"dataframe\">\n",
       "  <thead>\n",
       "    <tr style=\"text-align: right;\">\n",
       "      <th></th>\n",
       "      <th>id</th>\n",
       "      <th>title</th>\n",
       "      <th>Cast and crew</th>\n",
       "      <th>genres</th>\n",
       "      <th>overview</th>\n",
       "    </tr>\n",
       "  </thead>\n",
       "  <tbody>\n",
       "    <tr>\n",
       "      <th>0</th>\n",
       "      <td>522016</td>\n",
       "      <td>The 355</td>\n",
       "      <td>Simon Kinberg (director/screenplay); Theresa R...</td>\n",
       "      <td>Action Thriller</td>\n",
       "      <td>A group of top female agents from American, Br...</td>\n",
       "    </tr>\n",
       "    <tr>\n",
       "      <th>1</th>\n",
       "      <td>631947</td>\n",
       "      <td>The Legend of La Llorona</td>\n",
       "      <td>Patricia Harris Seeley (director/screenplay); ...</td>\n",
       "      <td>Horror Thriller</td>\n",
       "      <td>While vacationing in Mexico, a couple discover...</td>\n",
       "    </tr>\n",
       "  </tbody>\n",
       "</table>\n",
       "</div>"
      ],
      "text/plain": [
       "       id                     title  \\\n",
       "0  522016                   The 355   \n",
       "1  631947  The Legend of La Llorona   \n",
       "\n",
       "                                       Cast and crew           genres  \\\n",
       "0  Simon Kinberg (director/screenplay); Theresa R...  Action Thriller   \n",
       "1  Patricia Harris Seeley (director/screenplay); ...  Horror Thriller   \n",
       "\n",
       "                                            overview  \n",
       "0  A group of top female agents from American, Br...  \n",
       "1  While vacationing in Mexico, a couple discover...  "
      ]
     },
     "execution_count": 79,
     "metadata": {},
     "output_type": "execute_result"
    }
   ],
   "source": [
    "#Taking the Important Columns\n",
    "df32 = df31[['id','Title','Cast and crew','genres','overview']]\n",
    "df32 = df32.rename(columns={'Title':'title'})\n",
    "df32.head(2)"
   ]
  },
  {
   "cell_type": "code",
   "execution_count": 80,
   "id": "eff7dd50",
   "metadata": {},
   "outputs": [
    {
     "data": {
      "text/plain": [
       "id               1\n",
       "title            1\n",
       "Cast and crew    1\n",
       "genres           2\n",
       "overview         1\n",
       "dtype: int64"
      ]
     },
     "execution_count": 80,
     "metadata": {},
     "output_type": "execute_result"
    }
   ],
   "source": [
    "#Checking NA Values.\n",
    "df32.isnull().sum()"
   ]
  },
  {
   "cell_type": "code",
   "execution_count": 81,
   "id": "7bf11727",
   "metadata": {},
   "outputs": [
    {
     "data": {
      "text/plain": [
       "(159, 5)"
      ]
     },
     "execution_count": 81,
     "metadata": {},
     "output_type": "execute_result"
    }
   ],
   "source": [
    "# Dropping the NA Values as Count of NA Value is Small\n",
    "df32.dropna(inplace=True)\n",
    "df32.shape"
   ]
  },
  {
   "cell_type": "code",
   "execution_count": 82,
   "id": "163ca633",
   "metadata": {},
   "outputs": [
    {
     "data": {
      "text/html": [
       "<div>\n",
       "<style scoped>\n",
       "    .dataframe tbody tr th:only-of-type {\n",
       "        vertical-align: middle;\n",
       "    }\n",
       "\n",
       "    .dataframe tbody tr th {\n",
       "        vertical-align: top;\n",
       "    }\n",
       "\n",
       "    .dataframe thead th {\n",
       "        text-align: right;\n",
       "    }\n",
       "</style>\n",
       "<table border=\"1\" class=\"dataframe\">\n",
       "  <thead>\n",
       "    <tr style=\"text-align: right;\">\n",
       "      <th></th>\n",
       "      <th>id</th>\n",
       "      <th>title</th>\n",
       "      <th>Cast and crew</th>\n",
       "      <th>genres</th>\n",
       "      <th>overview</th>\n",
       "      <th>cast</th>\n",
       "    </tr>\n",
       "  </thead>\n",
       "  <tbody>\n",
       "    <tr>\n",
       "      <th>0</th>\n",
       "      <td>522016</td>\n",
       "      <td>The 355</td>\n",
       "      <td>Simon Kinberg (director/screenplay); Theresa R...</td>\n",
       "      <td>Action Thriller</td>\n",
       "      <td>A group of top female agents from American, Br...</td>\n",
       "      <td>[Jessica Chastain, Lupita Nyong'o, Penélope Cruz]</td>\n",
       "    </tr>\n",
       "    <tr>\n",
       "      <th>1</th>\n",
       "      <td>631947</td>\n",
       "      <td>The Legend of La Llorona</td>\n",
       "      <td>Patricia Harris Seeley (director/screenplay); ...</td>\n",
       "      <td>Horror Thriller</td>\n",
       "      <td>While vacationing in Mexico, a couple discover...</td>\n",
       "      <td>[Autumn Reeser, Antonio Cupo, Danny Trejo]</td>\n",
       "    </tr>\n",
       "  </tbody>\n",
       "</table>\n",
       "</div>"
      ],
      "text/plain": [
       "       id                     title  \\\n",
       "0  522016                   The 355   \n",
       "1  631947  The Legend of La Llorona   \n",
       "\n",
       "                                       Cast and crew           genres  \\\n",
       "0  Simon Kinberg (director/screenplay); Theresa R...  Action Thriller   \n",
       "1  Patricia Harris Seeley (director/screenplay); ...  Horror Thriller   \n",
       "\n",
       "                                            overview  \\\n",
       "0  A group of top female agents from American, Br...   \n",
       "1  While vacationing in Mexico, a couple discover...   \n",
       "\n",
       "                                                cast  \n",
       "0  [Jessica Chastain, Lupita Nyong'o, Penélope Cruz]  \n",
       "1         [Autumn Reeser, Antonio Cupo, Danny Trejo]  "
      ]
     },
     "execution_count": 82,
     "metadata": {},
     "output_type": "execute_result"
    }
   ],
   "source": [
    "#Calling the get actor Function.\n",
    "df32['cast'] = df32['Cast and crew'].map(lambda x: get_actor(x))\n",
    "df32.head(2)"
   ]
  },
  {
   "cell_type": "code",
   "execution_count": 83,
   "id": "6ca45b46",
   "metadata": {},
   "outputs": [
    {
     "data": {
      "text/html": [
       "<div>\n",
       "<style scoped>\n",
       "    .dataframe tbody tr th:only-of-type {\n",
       "        vertical-align: middle;\n",
       "    }\n",
       "\n",
       "    .dataframe tbody tr th {\n",
       "        vertical-align: top;\n",
       "    }\n",
       "\n",
       "    .dataframe thead th {\n",
       "        text-align: right;\n",
       "    }\n",
       "</style>\n",
       "<table border=\"1\" class=\"dataframe\">\n",
       "  <thead>\n",
       "    <tr style=\"text-align: right;\">\n",
       "      <th></th>\n",
       "      <th>id</th>\n",
       "      <th>title</th>\n",
       "      <th>genres</th>\n",
       "      <th>overview</th>\n",
       "      <th>cast</th>\n",
       "      <th>crew</th>\n",
       "    </tr>\n",
       "  </thead>\n",
       "  <tbody>\n",
       "    <tr>\n",
       "      <th>0</th>\n",
       "      <td>522016</td>\n",
       "      <td>The 355</td>\n",
       "      <td>Action Thriller</td>\n",
       "      <td>A group of top female agents from American, Br...</td>\n",
       "      <td>[Jessica Chastain, Lupita Nyong'o, Penélope Cruz]</td>\n",
       "      <td>[Simon Kinberg]</td>\n",
       "    </tr>\n",
       "    <tr>\n",
       "      <th>1</th>\n",
       "      <td>631947</td>\n",
       "      <td>The Legend of La Llorona</td>\n",
       "      <td>Horror Thriller</td>\n",
       "      <td>While vacationing in Mexico, a couple discover...</td>\n",
       "      <td>[Autumn Reeser, Antonio Cupo, Danny Trejo]</td>\n",
       "      <td>[Patricia Harris Seeley]</td>\n",
       "    </tr>\n",
       "  </tbody>\n",
       "</table>\n",
       "</div>"
      ],
      "text/plain": [
       "       id                     title           genres  \\\n",
       "0  522016                   The 355  Action Thriller   \n",
       "1  631947  The Legend of La Llorona  Horror Thriller   \n",
       "\n",
       "                                            overview  \\\n",
       "0  A group of top female agents from American, Br...   \n",
       "1  While vacationing in Mexico, a couple discover...   \n",
       "\n",
       "                                                cast                      crew  \n",
       "0  [Jessica Chastain, Lupita Nyong'o, Penélope Cruz]           [Simon Kinberg]  \n",
       "1         [Autumn Reeser, Antonio Cupo, Danny Trejo]  [Patricia Harris Seeley]  "
      ]
     },
     "execution_count": 83,
     "metadata": {},
     "output_type": "execute_result"
    }
   ],
   "source": [
    "#Calling the get_director function to get Director Name's\n",
    "df32['crew'] = df32['Cast and crew'].map(lambda x: get_director(x))\n",
    "#Dropping Original Columns\n",
    "df32 = df32.drop(columns=['Cast and crew'])\n",
    "df32.head(2)"
   ]
  },
  {
   "cell_type": "markdown",
   "id": "8dac0d2d",
   "metadata": {},
   "source": [
    "Inference: Features is a String will Convert this into a List so we can concat with other Features."
   ]
  },
  {
   "cell_type": "code",
   "execution_count": 84,
   "id": "07f4261e",
   "metadata": {},
   "outputs": [
    {
     "data": {
      "text/html": [
       "<div>\n",
       "<style scoped>\n",
       "    .dataframe tbody tr th:only-of-type {\n",
       "        vertical-align: middle;\n",
       "    }\n",
       "\n",
       "    .dataframe tbody tr th {\n",
       "        vertical-align: top;\n",
       "    }\n",
       "\n",
       "    .dataframe thead th {\n",
       "        text-align: right;\n",
       "    }\n",
       "</style>\n",
       "<table border=\"1\" class=\"dataframe\">\n",
       "  <thead>\n",
       "    <tr style=\"text-align: right;\">\n",
       "      <th></th>\n",
       "      <th>id</th>\n",
       "      <th>title</th>\n",
       "      <th>genres</th>\n",
       "      <th>overview</th>\n",
       "      <th>cast</th>\n",
       "      <th>crew</th>\n",
       "    </tr>\n",
       "  </thead>\n",
       "  <tbody>\n",
       "    <tr>\n",
       "      <th>0</th>\n",
       "      <td>522016</td>\n",
       "      <td>The 355</td>\n",
       "      <td>[Action, Thriller]</td>\n",
       "      <td>[A, group, of, top, female, agents, from, Amer...</td>\n",
       "      <td>[Jessica Chastain, Lupita Nyong'o, Penélope Cruz]</td>\n",
       "      <td>[Simon Kinberg]</td>\n",
       "    </tr>\n",
       "    <tr>\n",
       "      <th>1</th>\n",
       "      <td>631947</td>\n",
       "      <td>The Legend of La Llorona</td>\n",
       "      <td>[Horror, Thriller]</td>\n",
       "      <td>[While, vacationing, in, Mexico,, a, couple, d...</td>\n",
       "      <td>[Autumn Reeser, Antonio Cupo, Danny Trejo]</td>\n",
       "      <td>[Patricia Harris Seeley]</td>\n",
       "    </tr>\n",
       "  </tbody>\n",
       "</table>\n",
       "</div>"
      ],
      "text/plain": [
       "       id                     title              genres  \\\n",
       "0  522016                   The 355  [Action, Thriller]   \n",
       "1  631947  The Legend of La Llorona  [Horror, Thriller]   \n",
       "\n",
       "                                            overview  \\\n",
       "0  [A, group, of, top, female, agents, from, Amer...   \n",
       "1  [While, vacationing, in, Mexico,, a, couple, d...   \n",
       "\n",
       "                                                cast                      crew  \n",
       "0  [Jessica Chastain, Lupita Nyong'o, Penélope Cruz]           [Simon Kinberg]  \n",
       "1         [Autumn Reeser, Antonio Cupo, Danny Trejo]  [Patricia Harris Seeley]  "
      ]
     },
     "execution_count": 84,
     "metadata": {},
     "output_type": "execute_result"
    }
   ],
   "source": [
    "#Converting Feature into a List\n",
    "df32['genres'] = df32['genres'].apply(lambda x:x.split())\n",
    "df32['overview'] = df32['overview'].apply(lambda x:x.split())\n",
    "df32.head(2)"
   ]
  },
  {
   "cell_type": "code",
   "execution_count": 85,
   "id": "e2363bcf",
   "metadata": {},
   "outputs": [
    {
     "data": {
      "text/html": [
       "<div>\n",
       "<style scoped>\n",
       "    .dataframe tbody tr th:only-of-type {\n",
       "        vertical-align: middle;\n",
       "    }\n",
       "\n",
       "    .dataframe tbody tr th {\n",
       "        vertical-align: top;\n",
       "    }\n",
       "\n",
       "    .dataframe thead th {\n",
       "        text-align: right;\n",
       "    }\n",
       "</style>\n",
       "<table border=\"1\" class=\"dataframe\">\n",
       "  <thead>\n",
       "    <tr style=\"text-align: right;\">\n",
       "      <th></th>\n",
       "      <th>id</th>\n",
       "      <th>title</th>\n",
       "      <th>genres</th>\n",
       "      <th>overview</th>\n",
       "      <th>cast</th>\n",
       "      <th>crew</th>\n",
       "    </tr>\n",
       "  </thead>\n",
       "  <tbody>\n",
       "    <tr>\n",
       "      <th>0</th>\n",
       "      <td>522016</td>\n",
       "      <td>The 355</td>\n",
       "      <td>[Action, Thriller]</td>\n",
       "      <td>[A, group, of, top, female, agents, from, Amer...</td>\n",
       "      <td>[JessicaChastain, LupitaNyong'o, PenélopeCruz]</td>\n",
       "      <td>[SimonKinberg]</td>\n",
       "    </tr>\n",
       "    <tr>\n",
       "      <th>1</th>\n",
       "      <td>631947</td>\n",
       "      <td>The Legend of La Llorona</td>\n",
       "      <td>[Horror, Thriller]</td>\n",
       "      <td>[While, vacationing, in, Mexico,, a, couple, d...</td>\n",
       "      <td>[AutumnReeser, AntonioCupo, DannyTrejo]</td>\n",
       "      <td>[PatriciaHarrisSeeley]</td>\n",
       "    </tr>\n",
       "    <tr>\n",
       "      <th>2</th>\n",
       "      <td>753232</td>\n",
       "      <td>The Commando</td>\n",
       "      <td>[Action, Crime, Thriller]</td>\n",
       "      <td>[An, elite, DEA, agent, returns, home, after, ...</td>\n",
       "      <td>[MickeyRourke, MichaelJaiWhite]</td>\n",
       "      <td>[AsifAkbar]</td>\n",
       "    </tr>\n",
       "  </tbody>\n",
       "</table>\n",
       "</div>"
      ],
      "text/plain": [
       "       id                     title                     genres  \\\n",
       "0  522016                   The 355         [Action, Thriller]   \n",
       "1  631947  The Legend of La Llorona         [Horror, Thriller]   \n",
       "2  753232              The Commando  [Action, Crime, Thriller]   \n",
       "\n",
       "                                            overview  \\\n",
       "0  [A, group, of, top, female, agents, from, Amer...   \n",
       "1  [While, vacationing, in, Mexico,, a, couple, d...   \n",
       "2  [An, elite, DEA, agent, returns, home, after, ...   \n",
       "\n",
       "                                             cast                    crew  \n",
       "0  [JessicaChastain, LupitaNyong'o, PenélopeCruz]          [SimonKinberg]  \n",
       "1         [AutumnReeser, AntonioCupo, DannyTrejo]  [PatriciaHarrisSeeley]  \n",
       "2                 [MickeyRourke, MichaelJaiWhite]             [AsifAkbar]  "
      ]
     },
     "execution_count": 85,
     "metadata": {},
     "output_type": "execute_result"
    }
   ],
   "source": [
    "#Making Single Entities by Removing Space\n",
    "df32['cast'] = df32['cast'].apply(collapse)\n",
    "df32['crew'] = df32['crew'].apply(collapse)\n",
    "df32['genres'] = df32['genres'].apply(collapse)\n",
    "df32.head(3)"
   ]
  },
  {
   "cell_type": "code",
   "execution_count": 86,
   "id": "5f7ebe60",
   "metadata": {},
   "outputs": [
    {
     "data": {
      "text/html": [
       "<div>\n",
       "<style scoped>\n",
       "    .dataframe tbody tr th:only-of-type {\n",
       "        vertical-align: middle;\n",
       "    }\n",
       "\n",
       "    .dataframe tbody tr th {\n",
       "        vertical-align: top;\n",
       "    }\n",
       "\n",
       "    .dataframe thead th {\n",
       "        text-align: right;\n",
       "    }\n",
       "</style>\n",
       "<table border=\"1\" class=\"dataframe\">\n",
       "  <thead>\n",
       "    <tr style=\"text-align: right;\">\n",
       "      <th></th>\n",
       "      <th>id</th>\n",
       "      <th>title</th>\n",
       "      <th>Detail</th>\n",
       "    </tr>\n",
       "  </thead>\n",
       "  <tbody>\n",
       "    <tr>\n",
       "      <th>0</th>\n",
       "      <td>522016</td>\n",
       "      <td>The 355</td>\n",
       "      <td>A group of top female agents from American, Br...</td>\n",
       "    </tr>\n",
       "    <tr>\n",
       "      <th>1</th>\n",
       "      <td>631947</td>\n",
       "      <td>The Legend of La Llorona</td>\n",
       "      <td>While vacationing in Mexico, a couple discover...</td>\n",
       "    </tr>\n",
       "    <tr>\n",
       "      <th>2</th>\n",
       "      <td>753232</td>\n",
       "      <td>The Commando</td>\n",
       "      <td>An elite DEA agent returns home after a failed...</td>\n",
       "    </tr>\n",
       "    <tr>\n",
       "      <th>3</th>\n",
       "      <td>646385</td>\n",
       "      <td>Scream</td>\n",
       "      <td>Twenty-five years after a streak of brutal mur...</td>\n",
       "    </tr>\n",
       "    <tr>\n",
       "      <th>4</th>\n",
       "      <td>585083</td>\n",
       "      <td>Hotel Transylvania: Transformania</td>\n",
       "      <td>When Van Helsing's mysterious invention, the \"...</td>\n",
       "    </tr>\n",
       "  </tbody>\n",
       "</table>\n",
       "</div>"
      ],
      "text/plain": [
       "       id                              title  \\\n",
       "0  522016                            The 355   \n",
       "1  631947           The Legend of La Llorona   \n",
       "2  753232                       The Commando   \n",
       "3  646385                             Scream   \n",
       "4  585083  Hotel Transylvania: Transformania   \n",
       "\n",
       "                                              Detail  \n",
       "0  A group of top female agents from American, Br...  \n",
       "1  While vacationing in Mexico, a couple discover...  \n",
       "2  An elite DEA agent returns home after a failed...  \n",
       "3  Twenty-five years after a streak of brutal mur...  \n",
       "4  When Van Helsing's mysterious invention, the \"...  "
      ]
     },
     "execution_count": 86,
     "metadata": {},
     "output_type": "execute_result"
    }
   ],
   "source": [
    "#Creating Detail Feature\n",
    "df32['Detail'] = df32['overview'] + df32['genres'] + df32['cast'] + df32['crew']\n",
    "#Dropping Original Columns\n",
    "final_df22 = df32.drop(columns=['overview','genres','cast','crew'])\n",
    "\n",
    "#Converting the Detail column back to string/Text\n",
    "final_df22['Detail'] = final_df22['Detail'].apply(lambda x: \" \".join(x))\n",
    "final_df22.head()"
   ]
  },
  {
   "cell_type": "code",
   "execution_count": 87,
   "id": "802c23f2",
   "metadata": {},
   "outputs": [
    {
     "data": {
      "text/plain": [
       "(6626, 3)"
      ]
     },
     "execution_count": 87,
     "metadata": {},
     "output_type": "execute_result"
    }
   ],
   "source": [
    "#Appending the Dataset (Previous + 2022 Movies)\n",
    "final_df = final_df.append(final_df22)\n",
    "#Checking the final_df\n",
    "final_df.shape"
   ]
  },
  {
   "cell_type": "markdown",
   "id": "1fa6aa5f",
   "metadata": {},
   "source": [
    "Inference: So This is Our Final Movies Data with 6624 Unique Movies, Now will Train Recommand System"
   ]
  },
  {
   "cell_type": "code",
   "execution_count": 88,
   "id": "3e60e358",
   "metadata": {},
   "outputs": [
    {
     "data": {
      "text/plain": [
       "(6625, 3)"
      ]
     },
     "execution_count": 88,
     "metadata": {},
     "output_type": "execute_result"
    }
   ],
   "source": [
    "#Dropping a Datapoints As it Doesn't Exist on TMDB \n",
    "final_df = final_df.drop([final_df.index[3297]])\n",
    "final_df.reset_index(inplace = True, drop = True)\n",
    "final_df.shape"
   ]
  },
  {
   "cell_type": "code",
   "execution_count": 89,
   "id": "dcea3b87",
   "metadata": {},
   "outputs": [
    {
     "data": {
      "text/plain": [
       "(6624, 3)"
      ]
     },
     "execution_count": 89,
     "metadata": {},
     "output_type": "execute_result"
    }
   ],
   "source": [
    "#Dropping a Datapoints As it Doesn't Exist on TMDB \n",
    "final_df = final_df.drop([final_df.index[4621]])\n",
    "final_df.reset_index(inplace = True, drop = True)\n",
    "final_df.shape"
   ]
  },
  {
   "cell_type": "code",
   "execution_count": 90,
   "id": "5e4bd482",
   "metadata": {},
   "outputs": [
    {
     "data": {
      "text/plain": [
       "(6624, 5000)"
      ]
     },
     "execution_count": 90,
     "metadata": {},
     "output_type": "execute_result"
    }
   ],
   "source": [
    "#Using Count Vectorizer to Get Vector of Movies\n",
    "cv = CountVectorizer(max_features=5000,stop_words='english')\n",
    "#Vectorizing\n",
    "vector = cv.fit_transform(final_df['Detail']).toarray()\n",
    "#shape\n",
    "vector.shape"
   ]
  },
  {
   "cell_type": "markdown",
   "id": "7fdd2cd8",
   "metadata": {},
   "source": [
    "#### Training System"
   ]
  },
  {
   "cell_type": "code",
   "execution_count": 91,
   "id": "2a7b2820",
   "metadata": {
    "scrolled": true
   },
   "outputs": [
    {
     "data": {
      "text/plain": [
       "array([[1.00000000e+00, 1.30066495e-01, 7.27392967e-02, ...,\n",
       "        0.00000000e+00, 7.95386898e-04, 0.00000000e+00],\n",
       "       [1.30066495e-01, 1.00000000e+00, 8.83021571e-02, ...,\n",
       "        0.00000000e+00, 9.65563073e-04, 5.12988695e-02],\n",
       "       [7.27392967e-02, 8.83021571e-02, 1.00000000e+00, ...,\n",
       "        0.00000000e+00, 5.22438629e-02, 0.00000000e+00],\n",
       "       ...,\n",
       "       [0.00000000e+00, 0.00000000e+00, 0.00000000e+00, ...,\n",
       "        1.00000000e+00, 0.00000000e+00, 1.18899866e-05],\n",
       "       [7.95386898e-04, 9.65563073e-04, 5.22438629e-02, ...,\n",
       "        0.00000000e+00, 1.00000000e+00, 5.97607128e-02],\n",
       "       [0.00000000e+00, 5.12988695e-02, 0.00000000e+00, ...,\n",
       "        1.18899866e-05, 5.97607128e-02, 1.00000000e+00]])"
      ]
     },
     "execution_count": 91,
     "metadata": {},
     "output_type": "execute_result"
    }
   ],
   "source": [
    "#Calculating Cosine Similarity\n",
    "similarity = cosine_similarity(vector)\n",
    "similarity"
   ]
  },
  {
   "cell_type": "code",
   "execution_count": 92,
   "id": "33533ac4",
   "metadata": {},
   "outputs": [],
   "source": [
    "#Saving the Model & Movies_data in a Pickle file.\n",
    "pickle.dump(final_df,open('C:/Users/Akaash/Downloads/movies_list.pkl','wb'))\n",
    "pickle.dump(similarity,open('C:/Users/Akaash/Downloads/recommand.pkl','wb'))"
   ]
  },
  {
   "cell_type": "code",
   "execution_count": 93,
   "id": "fdf62b4f",
   "metadata": {},
   "outputs": [
    {
     "data": {
      "text/plain": [
       "3870"
      ]
     },
     "execution_count": 93,
     "metadata": {},
     "output_type": "execute_result"
    }
   ],
   "source": [
    "#Getting a index of a Movie\n",
    "final_df[final_df['title'] == 'Whiplash'].index[0]"
   ]
  },
  {
   "cell_type": "code",
   "execution_count": 94,
   "id": "e0a15bfd",
   "metadata": {},
   "outputs": [],
   "source": [
    "#Recommend Function\n",
    "def recommend(movie,n):\n",
    "    index = final_df[final_df['title'] == movie].index[0]\n",
    "    distances = sorted(list(enumerate(similarity[index])),reverse=True,key = lambda x: x[1])\n",
    "    for i in distances[1:n]:\n",
    "        print(final_df.iloc[i[0]].title)"
   ]
  },
  {
   "cell_type": "code",
   "execution_count": 95,
   "id": "e9ce02d6",
   "metadata": {},
   "outputs": [
    {
     "name": "stdout",
     "output_type": "stream",
     "text": [
      "Alone With Her\n",
      "R100\n",
      "Selena\n"
     ]
    }
   ],
   "source": [
    "#Calling the Recommend Function to Recommend Movies\n",
    "recommend('Whiplash',4)"
   ]
  },
  {
   "cell_type": "code",
   "execution_count": 96,
   "id": "4a417cbc",
   "metadata": {},
   "outputs": [
    {
     "name": "stdout",
     "output_type": "stream",
     "text": [
      "Desert Dancer\n",
      "ABCD (Any Body Can Dance)\n",
      "Addicted\n",
      "Showgirls\n"
     ]
    }
   ],
   "source": [
    "recommend('Black Swan',5)"
   ]
  },
  {
   "cell_type": "code",
   "execution_count": null,
   "id": "c708ac48",
   "metadata": {},
   "outputs": [],
   "source": []
  }
 ],
 "metadata": {
  "kernelspec": {
   "display_name": "Python 3 (ipykernel)",
   "language": "python",
   "name": "python3"
  },
  "language_info": {
   "codemirror_mode": {
    "name": "ipython",
    "version": 3
   },
   "file_extension": ".py",
   "mimetype": "text/x-python",
   "name": "python",
   "nbconvert_exporter": "python",
   "pygments_lexer": "ipython3",
   "version": "3.9.7"
  }
 },
 "nbformat": 4,
 "nbformat_minor": 5
}
