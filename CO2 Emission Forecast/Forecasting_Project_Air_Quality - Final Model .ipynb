{
 "cells": [
  {
   "cell_type": "markdown",
   "id": "e4ebbe8d",
   "metadata": {
    "id": "e4ebbe8d"
   },
   "source": [
    "### Forecasting Project - Air Quality"
   ]
  },
  {
   "cell_type": "markdown",
   "id": "35d9dae0",
   "metadata": {
    "id": "35d9dae0"
   },
   "source": [
    "#### EDA"
   ]
  },
  {
   "cell_type": "code",
   "execution_count": 1,
   "id": "5ca917b4",
   "metadata": {
    "colab": {
     "base_uri": "https://localhost:8080/"
    },
    "id": "5ca917b4",
    "outputId": "7fea09a6-ed78-4d6d-c077-f736e65ccb1c"
   },
   "outputs": [],
   "source": [
    "#Importing the required Libraries\n",
    "import numpy as np\n",
    "import pandas as pd\n",
    "from pandas.tseries.offsets import DateOffset\n",
    "import scipy.stats as stats\n",
    "import matplotlib.pyplot as plt\n",
    "%matplotlib inline\n",
    "import seaborn as sns\n",
    "\n",
    "#Forecasting Plots\n",
    "from pandas.plotting import lag_plot\n",
    "from statsmodels.graphics.tsaplots import plot_acf\n",
    "from statsmodels.tsa.seasonal import seasonal_decompose\n",
    "\n",
    "#Transformation\n",
    "from scipy.stats import boxcox \n",
    "\n",
    "#Model Based Methods\n",
    "import statsmodels.formula.api as smf \n",
    "\n",
    "#Data Driven Methods\n",
    "import statsmodels\n",
    "from statsmodels.tsa.api import ExponentialSmoothing, SimpleExpSmoothing, Holt\n",
    "from statsmodels.tsa.arima_model import ARIMA\n",
    "from sklearn.metrics import mean_squared_error\n",
    "import warnings\n",
    "warnings.filterwarnings(\"ignore\")  #--to ignore warnings"
   ]
  },
  {
   "cell_type": "code",
   "execution_count": 2,
   "id": "ad325b75",
   "metadata": {
    "colab": {
     "base_uri": "https://localhost:8080/",
     "height": 363
    },
    "id": "ad325b75",
    "outputId": "e4e2fe4b-c910-49a8-9610-38d6c0e56d9f",
    "scrolled": true
   },
   "outputs": [
    {
     "data": {
      "text/html": [
       "<div>\n",
       "<style scoped>\n",
       "    .dataframe tbody tr th:only-of-type {\n",
       "        vertical-align: middle;\n",
       "    }\n",
       "\n",
       "    .dataframe tbody tr th {\n",
       "        vertical-align: top;\n",
       "    }\n",
       "\n",
       "    .dataframe thead th {\n",
       "        text-align: right;\n",
       "    }\n",
       "</style>\n",
       "<table border=\"1\" class=\"dataframe\">\n",
       "  <thead>\n",
       "    <tr style=\"text-align: right;\">\n",
       "      <th></th>\n",
       "      <th>Year</th>\n",
       "      <th>CO2</th>\n",
       "    </tr>\n",
       "  </thead>\n",
       "  <tbody>\n",
       "    <tr>\n",
       "      <th>0</th>\n",
       "      <td>1800.0</td>\n",
       "      <td>0.00568</td>\n",
       "    </tr>\n",
       "    <tr>\n",
       "      <th>1</th>\n",
       "      <td>1801.0</td>\n",
       "      <td>0.00561</td>\n",
       "    </tr>\n",
       "    <tr>\n",
       "      <th>2</th>\n",
       "      <td>1802.0</td>\n",
       "      <td>0.00555</td>\n",
       "    </tr>\n",
       "    <tr>\n",
       "      <th>3</th>\n",
       "      <td>1803.0</td>\n",
       "      <td>0.00548</td>\n",
       "    </tr>\n",
       "    <tr>\n",
       "      <th>4</th>\n",
       "      <td>1804.0</td>\n",
       "      <td>0.00542</td>\n",
       "    </tr>\n",
       "    <tr>\n",
       "      <th>5</th>\n",
       "      <td>1805.0</td>\n",
       "      <td>0.00536</td>\n",
       "    </tr>\n",
       "    <tr>\n",
       "      <th>6</th>\n",
       "      <td>1806.0</td>\n",
       "      <td>0.00529</td>\n",
       "    </tr>\n",
       "    <tr>\n",
       "      <th>7</th>\n",
       "      <td>1807.0</td>\n",
       "      <td>0.00523</td>\n",
       "    </tr>\n",
       "    <tr>\n",
       "      <th>8</th>\n",
       "      <td>1808.0</td>\n",
       "      <td>0.00517</td>\n",
       "    </tr>\n",
       "    <tr>\n",
       "      <th>9</th>\n",
       "      <td>1809.0</td>\n",
       "      <td>0.00511</td>\n",
       "    </tr>\n",
       "  </tbody>\n",
       "</table>\n",
       "</div>"
      ],
      "text/plain": [
       "     Year      CO2\n",
       "0  1800.0  0.00568\n",
       "1  1801.0  0.00561\n",
       "2  1802.0  0.00555\n",
       "3  1803.0  0.00548\n",
       "4  1804.0  0.00542\n",
       "5  1805.0  0.00536\n",
       "6  1806.0  0.00529\n",
       "7  1807.0  0.00523\n",
       "8  1808.0  0.00517\n",
       "9  1809.0  0.00511"
      ]
     },
     "execution_count": 2,
     "metadata": {},
     "output_type": "execute_result"
    }
   ],
   "source": [
    "#Loading the Dataset\n",
    "tsd = pd.read_excel(\"C:/Users/Akaash/Downloads/CO2 dataset.xlsx\")\n",
    "tsd.head(10)"
   ]
  },
  {
   "cell_type": "markdown",
   "id": "bc941f82",
   "metadata": {
    "id": "bc941f82"
   },
   "source": [
    "Inference: The Dataset is loaded, this is our original dataset"
   ]
  },
  {
   "cell_type": "code",
   "execution_count": 3,
   "id": "75b8b8d2",
   "metadata": {
    "colab": {
     "base_uri": "https://localhost:8080/"
    },
    "id": "75b8b8d2",
    "outputId": "211c4ee2-9cb2-4e15-cfef-e9beebc6c758"
   },
   "outputs": [
    {
     "data": {
      "text/plain": [
       "(215, 2)"
      ]
     },
     "execution_count": 3,
     "metadata": {},
     "output_type": "execute_result"
    }
   ],
   "source": [
    "#Checking the shape of the Dataset\n",
    "tsd.shape"
   ]
  },
  {
   "cell_type": "markdown",
   "id": "f8967c6d",
   "metadata": {
    "id": "f8967c6d"
   },
   "source": [
    "Inference: The Dataset consists of 215 rows & 2 columns, this means there is only one Yt variable corresponding to its time(t) variable"
   ]
  },
  {
   "cell_type": "code",
   "execution_count": 4,
   "id": "_DoK7EdQZi3H",
   "metadata": {
    "colab": {
     "base_uri": "https://localhost:8080/"
    },
    "id": "_DoK7EdQZi3H",
    "outputId": "e5ca7ee2-4c46-442b-8b12-8475f7b26677"
   },
   "outputs": [
    {
     "name": "stdout",
     "output_type": "stream",
     "text": [
      "No of Unique Values in CO2 170\n",
      "No of Unique Values in Year 215\n"
     ]
    }
   ],
   "source": [
    "#No of Unique Values\n",
    "print('No of Unique Values in CO2',len(tsd['CO2'].unique()))\n",
    "print('No of Unique Values in Year',len(tsd['Year'].unique()))"
   ]
  },
  {
   "cell_type": "code",
   "execution_count": 5,
   "id": "e678bc6c",
   "metadata": {
    "colab": {
     "base_uri": "https://localhost:8080/"
    },
    "id": "e678bc6c",
    "outputId": "07f26123-a454-4b31-ec83-2cc7defb7257",
    "scrolled": true
   },
   "outputs": [
    {
     "data": {
      "text/plain": [
       "Year    0\n",
       "CO2     0\n",
       "dtype: int64"
      ]
     },
     "execution_count": 5,
     "metadata": {},
     "output_type": "execute_result"
    }
   ],
   "source": [
    "#Checking for NA Values\n",
    "tsd.isnull().sum()"
   ]
  },
  {
   "cell_type": "markdown",
   "id": "6cedd5d8",
   "metadata": {
    "id": "6cedd5d8"
   },
   "source": [
    "Inference: There are no NA Values present in the Dataset"
   ]
  },
  {
   "cell_type": "code",
   "execution_count": 6,
   "id": "355782c8",
   "metadata": {
    "colab": {
     "base_uri": "https://localhost:8080/"
    },
    "id": "355782c8",
    "outputId": "5993bbcd-d1a6-47b1-babe-65c366332525"
   },
   "outputs": [
    {
     "data": {
      "text/plain": [
       "Year    float64\n",
       "CO2     float64\n",
       "dtype: object"
      ]
     },
     "execution_count": 6,
     "metadata": {},
     "output_type": "execute_result"
    }
   ],
   "source": [
    "#Checkinng the Dtypes of Column/Variable\n",
    "tsd.dtypes"
   ]
  },
  {
   "cell_type": "markdown",
   "id": "2c128359",
   "metadata": {
    "id": "2c128359"
   },
   "source": [
    "Inference: The \"Year\" columns i.e our t variable is of Float64 dtype,it should be of datetime dtype,so we will now convert it to datetime"
   ]
  },
  {
   "cell_type": "code",
   "execution_count": 7,
   "id": "c2c85663",
   "metadata": {
    "colab": {
     "base_uri": "https://localhost:8080/"
    },
    "id": "c2c85663",
    "outputId": "077fc033-8ea9-4637-8677-263952295f9d"
   },
   "outputs": [
    {
     "data": {
      "text/plain": [
       "Year    datetime64[ns]\n",
       "CO2            float64\n",
       "dtype: object"
      ]
     },
     "execution_count": 7,
     "metadata": {},
     "output_type": "execute_result"
    }
   ],
   "source": [
    "# Converting \"Year\" column (Yt variable) to datetime\n",
    "tsd['Year'] = pd.to_datetime(tsd['Year'],format='%Y')\n",
    "tsd.dtypes"
   ]
  },
  {
   "cell_type": "markdown",
   "id": "f6e547c1",
   "metadata": {
    "id": "f6e547c1"
   },
   "source": [
    "Inference: Now \"Year\" column i.e t variable is converted to datetime. So mostly EDA is Done we can Now Move to Descriptive Stats & Visualization Part."
   ]
  },
  {
   "cell_type": "code",
   "execution_count": 8,
   "id": "K1lxnK3Urvs2",
   "metadata": {
    "colab": {
     "base_uri": "https://localhost:8080/"
    },
    "id": "K1lxnK3Urvs2",
    "outputId": "084b480b-e7e0-45db-cf72-92cea8b9941b"
   },
   "outputs": [
    {
     "name": "stdout",
     "output_type": "stream",
     "text": [
      "Minimum Date is : 1800-01-01 00:00:00\n",
      "Maximum Date is : 2014-01-01 00:00:00\n"
     ]
    }
   ],
   "source": [
    "#Date Ranges\n",
    "print(\"Minimum Date is :\",min(tsd['Year']))\n",
    "print(\"Maximum Date is :\",max(tsd['Year']))"
   ]
  },
  {
   "cell_type": "markdown",
   "id": "p--Thxfe1wYO",
   "metadata": {
    "id": "p--Thxfe1wYO"
   },
   "source": [
    "#### Descriptive Stats"
   ]
  },
  {
   "cell_type": "code",
   "execution_count": 9,
   "id": "5dbc8119",
   "metadata": {
    "colab": {
     "base_uri": "https://localhost:8080/",
     "height": 300
    },
    "id": "5dbc8119",
    "outputId": "7c33f06c-ed3d-468c-999f-1e689f9ff803"
   },
   "outputs": [
    {
     "data": {
      "text/html": [
       "<div>\n",
       "<style scoped>\n",
       "    .dataframe tbody tr th:only-of-type {\n",
       "        vertical-align: middle;\n",
       "    }\n",
       "\n",
       "    .dataframe tbody tr th {\n",
       "        vertical-align: top;\n",
       "    }\n",
       "\n",
       "    .dataframe thead th {\n",
       "        text-align: right;\n",
       "    }\n",
       "</style>\n",
       "<table border=\"1\" class=\"dataframe\">\n",
       "  <thead>\n",
       "    <tr style=\"text-align: right;\">\n",
       "      <th></th>\n",
       "      <th>CO2</th>\n",
       "    </tr>\n",
       "  </thead>\n",
       "  <tbody>\n",
       "    <tr>\n",
       "      <th>count</th>\n",
       "      <td>215.000000</td>\n",
       "    </tr>\n",
       "    <tr>\n",
       "      <th>mean</th>\n",
       "      <td>6.741970</td>\n",
       "    </tr>\n",
       "    <tr>\n",
       "      <th>std</th>\n",
       "      <td>6.522437</td>\n",
       "    </tr>\n",
       "    <tr>\n",
       "      <th>min</th>\n",
       "      <td>0.001750</td>\n",
       "    </tr>\n",
       "    <tr>\n",
       "      <th>25%</th>\n",
       "      <td>0.041050</td>\n",
       "    </tr>\n",
       "    <tr>\n",
       "      <th>50%</th>\n",
       "      <td>6.390000</td>\n",
       "    </tr>\n",
       "    <tr>\n",
       "      <th>75%</th>\n",
       "      <td>11.500000</td>\n",
       "    </tr>\n",
       "    <tr>\n",
       "      <th>max</th>\n",
       "      <td>18.200000</td>\n",
       "    </tr>\n",
       "  </tbody>\n",
       "</table>\n",
       "</div>"
      ],
      "text/plain": [
       "              CO2\n",
       "count  215.000000\n",
       "mean     6.741970\n",
       "std      6.522437\n",
       "min      0.001750\n",
       "25%      0.041050\n",
       "50%      6.390000\n",
       "75%     11.500000\n",
       "max     18.200000"
      ]
     },
     "execution_count": 9,
     "metadata": {},
     "output_type": "execute_result"
    }
   ],
   "source": [
    "#Descritive Stats of the Dataset\n",
    "tsd.describe()"
   ]
  },
  {
   "cell_type": "markdown",
   "id": "q8pB7RG_2fBE",
   "metadata": {
    "id": "q8pB7RG_2fBE"
   },
   "source": [
    "Inference: We can see here, Minimum CO2 is 0.0017, Maximum CO2 is 18.2 with Average CO2 of 6.74 & std of 6.522"
   ]
  },
  {
   "cell_type": "markdown",
   "id": "qmfhyok93gmR",
   "metadata": {
    "id": "qmfhyok93gmR"
   },
   "source": [
    "#### Visualization"
   ]
  },
  {
   "cell_type": "code",
   "execution_count": 10,
   "id": "B2wkXqKG3TZ8",
   "metadata": {
    "colab": {
     "base_uri": "https://localhost:8080/",
     "height": 238
    },
    "id": "B2wkXqKG3TZ8",
    "outputId": "bc50d1ee-3a6c-41d0-f3b2-7589ae8d3570"
   },
   "outputs": [
    {
     "data": {
      "text/html": [
       "<div>\n",
       "<style scoped>\n",
       "    .dataframe tbody tr th:only-of-type {\n",
       "        vertical-align: middle;\n",
       "    }\n",
       "\n",
       "    .dataframe tbody tr th {\n",
       "        vertical-align: top;\n",
       "    }\n",
       "\n",
       "    .dataframe thead th {\n",
       "        text-align: right;\n",
       "    }\n",
       "</style>\n",
       "<table border=\"1\" class=\"dataframe\">\n",
       "  <thead>\n",
       "    <tr style=\"text-align: right;\">\n",
       "      <th></th>\n",
       "      <th>CO2</th>\n",
       "    </tr>\n",
       "    <tr>\n",
       "      <th>Year</th>\n",
       "      <th></th>\n",
       "    </tr>\n",
       "  </thead>\n",
       "  <tbody>\n",
       "    <tr>\n",
       "      <th>1800-01-01</th>\n",
       "      <td>0.00568</td>\n",
       "    </tr>\n",
       "    <tr>\n",
       "      <th>1801-01-01</th>\n",
       "      <td>0.00561</td>\n",
       "    </tr>\n",
       "    <tr>\n",
       "      <th>1802-01-01</th>\n",
       "      <td>0.00555</td>\n",
       "    </tr>\n",
       "    <tr>\n",
       "      <th>1803-01-01</th>\n",
       "      <td>0.00548</td>\n",
       "    </tr>\n",
       "    <tr>\n",
       "      <th>1804-01-01</th>\n",
       "      <td>0.00542</td>\n",
       "    </tr>\n",
       "  </tbody>\n",
       "</table>\n",
       "</div>"
      ],
      "text/plain": [
       "                CO2\n",
       "Year               \n",
       "1800-01-01  0.00568\n",
       "1801-01-01  0.00561\n",
       "1802-01-01  0.00555\n",
       "1803-01-01  0.00548\n",
       "1804-01-01  0.00542"
      ]
     },
     "execution_count": 10,
     "metadata": {},
     "output_type": "execute_result"
    }
   ],
   "source": [
    "#Converting the Year Column into Index For Visualization\n",
    "tsd1=tsd.set_index(['Year'])\n",
    "tsd1.head()"
   ]
  },
  {
   "cell_type": "markdown",
   "id": "yYIb0tG14jAH",
   "metadata": {
    "id": "yYIb0tG14jAH"
   },
   "source": [
    "Inference: Now Dataset is Ready to Visualize\n"
   ]
  },
  {
   "cell_type": "markdown",
   "id": "fW3AcwEX4j3T",
   "metadata": {
    "id": "fW3AcwEX4j3T"
   },
   "source": [
    "##### Line Plot"
   ]
  },
  {
   "cell_type": "code",
   "execution_count": 11,
   "id": "7cfE-1Q34Nf0",
   "metadata": {
    "colab": {
     "base_uri": "https://localhost:8080/",
     "height": 241
    },
    "id": "7cfE-1Q34Nf0",
    "outputId": "d54c3679-5f9d-4c68-ec04-b7852ae9f478"
   },
   "outputs": [
    {
     "data": {
      "image/png": "[encoded data removed]",
      "text/plain": [
       "<Figure size 864x216 with 1 Axes>"
      ]
     },
     "metadata": {
      "needs_background": "light"
     },
     "output_type": "display_data"
    }
   ],
   "source": [
    "# Line Plot\n",
    "fig = plt.figure(figsize=(12,3)) \n",
    "plt.plot(tsd1, color = 'r')\n",
    "plt.xlabel('Year')                                      \n",
    "plt.ylabel('CO2')                                    \n",
    "plt.title('Year Wise CO2')\n",
    "plt.show()"
   ]
  },
  {
   "cell_type": "markdown",
   "id": "FoibPq4N7W50",
   "metadata": {
    "id": "FoibPq4N7W50"
   },
   "source": [
    "Inference: A Line Plot Showing Year wise CO2 Emission,Here we can see Earlier (from the year 1800 to 1860) there was constant trend (A Flat line),After that the Trend started to go up Exponentially.\n",
    "\n",
    "we can also see there is no sign of seasonality(Fluctuations Changes Drastically over the period of time)\n",
    "\n",
    "So this Timeseries data has an Exponential Trend with No Seasonal Component"
   ]
  },
  {
   "cell_type": "markdown",
   "id": "oydcpXlU-IhY",
   "metadata": {
    "id": "oydcpXlU-IhY"
   },
   "source": [
    "##### Histogram & Density Plots"
   ]
  },
  {
   "cell_type": "code",
   "execution_count": 12,
   "id": "8-iEbPuQ46ZL",
   "metadata": {
    "colab": {
     "base_uri": "https://localhost:8080/",
     "height": 295
    },
    "id": "8-iEbPuQ46ZL",
    "outputId": "eb3e6503-5ac2-411d-fc0e-463ca54b857b"
   },
   "outputs": [
    {
     "data": {
      "image/png": "[encoded data removed]",
      "text/plain": [
       "<Figure size 432x288 with 1 Axes>"
      ]
     },
     "metadata": {
      "needs_background": "light"
     },
     "output_type": "display_data"
    }
   ],
   "source": [
    "# Histogram\n",
    "plt.hist(tsd1.CO2, color ='Red',edgecolor =\"black\")\n",
    "plt.xlabel('CO2 / Bin Ranges')                                      \n",
    "plt.ylabel('No of Datapoint')                                    \n",
    "plt.title('Histogram of CO2')\n",
    "plt.show()"
   ]
  },
  {
   "cell_type": "markdown",
   "id": "i_Zw2JSvCP1Z",
   "metadata": {
    "id": "i_Zw2JSvCP1Z"
   },
   "source": [
    "Inference: The Data is not normally Distribution More Values are Concentrated around 0 to 1.5 CO2 Range"
   ]
  },
  {
   "cell_type": "code",
   "execution_count": 13,
   "id": "10JpLPNc-ikv",
   "metadata": {
    "colab": {
     "base_uri": "https://localhost:8080/",
     "height": 295
    },
    "id": "10JpLPNc-ikv",
    "outputId": "66f8c1bc-4c8c-43c7-e931-d1aa63916678"
   },
   "outputs": [
    {
     "data": {
      "image/png": "[encoded data removed]",
      "text/plain": [
       "<Figure size 432x288 with 1 Axes>"
      ]
     },
     "metadata": {
      "needs_background": "light"
     },
     "output_type": "display_data"
    }
   ],
   "source": [
    "#Density plot\n",
    "tsd1.plot(kind='kde',color='r')\n",
    "plt.xlabel('CO2')\n",
    "plt.title('Density plot of CO2')\n",
    "plt.show()"
   ]
  },
  {
   "cell_type": "markdown",
   "id": "Tk-3TlDjCyEB",
   "metadata": {
    "id": "Tk-3TlDjCyEB"
   },
   "source": [
    "Inference: The Data Does Not follow normal distribution,most values are concentrated between 0 to 1.5 range of CO2"
   ]
  },
  {
   "cell_type": "markdown",
   "id": "BKLxM62KDQEZ",
   "metadata": {
    "id": "BKLxM62KDQEZ"
   },
   "source": [
    "##### Lag Plot"
   ]
  },
  {
   "cell_type": "code",
   "execution_count": 14,
   "id": "EPmQOh2IAXQN",
   "metadata": {
    "colab": {
     "base_uri": "https://localhost:8080/",
     "height": 295
    },
    "id": "EPmQOh2IAXQN",
    "outputId": "b4b8254a-fcac-404c-c7b7-898b98317067"
   },
   "outputs": [
    {
     "data": {
      "image/png": "[encoded data removed]",
      "text/plain": [
       "<Figure size 432x288 with 1 Axes>"
      ]
     },
     "metadata": {
      "needs_background": "light"
     },
     "output_type": "display_data"
    }
   ],
   "source": [
    "#A Lag Plot\n",
    "lag_plot(tsd1,c = 'r')\n",
    "plt.title('Lag Plot')\n",
    "plt.show()"
   ]
  },
  {
   "cell_type": "markdown",
   "id": "SXVhOPYGEvJF",
   "metadata": {
    "id": "SXVhOPYGEvJF"
   },
   "source": [
    "Inference:There is a Linear Relationship between the Y(t) & Y(t + 1) Variable"
   ]
  },
  {
   "cell_type": "markdown",
   "id": "ATUBF8YIE8fa",
   "metadata": {
    "id": "ATUBF8YIE8fa"
   },
   "source": [
    "##### Correlogram / ACF Plot"
   ]
  },
  {
   "cell_type": "code",
   "execution_count": 15,
   "id": "gXWWeQ5GBHAu",
   "metadata": {
    "colab": {
     "base_uri": "https://localhost:8080/",
     "height": 281
    },
    "id": "gXWWeQ5GBHAu",
    "outputId": "7fa90373-c72e-40b7-d0a8-2dab4667c862"
   },
   "outputs": [
    {
     "data": {
      "image/png": "[encoded data removed]",
      "text/plain": [
       "<Figure size 432x288 with 1 Axes>"
      ]
     },
     "metadata": {
      "needs_background": "light"
     },
     "output_type": "display_data"
    }
   ],
   "source": [
    "# A autocorrelation plot\n",
    "plot_acf(tsd1, c ='r')\n",
    "plt.show()"
   ]
  },
  {
   "cell_type": "markdown",
   "id": "Pz-cTCCmGTNU",
   "metadata": {
    "id": "Pz-cTCCmGTNU"
   },
   "source": [
    "Inference: This is An Autocorrelation Plot, here we can see the standard Error(SE) ranges from -0.75 to 0.75.\n",
    "\n",
    "The lag variable which are above the standard error range then those variables are statistically significant\n",
    "\n",
    "So in Our case the all the  lagged variable are significant except the last four lagged Variable"
   ]
  },
  {
   "cell_type": "markdown",
   "id": "ZSp4YIXfJiuA",
   "metadata": {
    "id": "ZSp4YIXfJiuA"
   },
   "source": [
    "##### Time series decomposition plot"
   ]
  },
  {
   "cell_type": "code",
   "execution_count": 16,
   "id": "Ija9RAZEFfp1",
   "metadata": {
    "colab": {
     "base_uri": "https://localhost:8080/",
     "height": 298
    },
    "id": "Ija9RAZEFfp1",
    "outputId": "735a5e22-67cc-49c6-fe4d-da8b63db5660"
   },
   "outputs": [
    {
     "data": {
      "image/png": "[encoded data removed]",
      "text/plain": [
       "<Figure size 432x288 with 4 Axes>"
      ]
     },
     "metadata": {
      "needs_background": "light"
     },
     "output_type": "display_data"
    }
   ],
   "source": [
    "decompose = seasonal_decompose(tsd1)\n",
    "decompose.plot()\n",
    "plt.title(\"Decomposition Plot\")\n",
    "plt.show()"
   ]
  },
  {
   "cell_type": "markdown",
   "id": "gwKbs7fVKkFF",
   "metadata": {
    "id": "gwKbs7fVKkFF"
   },
   "source": [
    "Inference: Now We can say its Confirm there is no Seasonality only Trend \n",
    "\n",
    "We Can Visualize it is a Exponential Trend & No Seasonality."
   ]
  },
  {
   "cell_type": "markdown",
   "id": "noi5ICJJC_1T",
   "metadata": {
    "id": "noi5ICJJC_1T"
   },
   "source": [
    "### Model Based Methods"
   ]
  },
  {
   "cell_type": "code",
   "execution_count": 17,
   "id": "ZQo3rjKDF5L8",
   "metadata": {
    "colab": {
     "base_uri": "https://localhost:8080/",
     "height": 238
    },
    "id": "ZQo3rjKDF5L8",
    "outputId": "c5ea0159-bab4-4176-8b91-0c2401ecf9b4"
   },
   "outputs": [
    {
     "data": {
      "text/html": [
       "<div>\n",
       "<style scoped>\n",
       "    .dataframe tbody tr th:only-of-type {\n",
       "        vertical-align: middle;\n",
       "    }\n",
       "\n",
       "    .dataframe tbody tr th {\n",
       "        vertical-align: top;\n",
       "    }\n",
       "\n",
       "    .dataframe thead th {\n",
       "        text-align: right;\n",
       "    }\n",
       "</style>\n",
       "<table border=\"1\" class=\"dataframe\">\n",
       "  <thead>\n",
       "    <tr style=\"text-align: right;\">\n",
       "      <th></th>\n",
       "      <th>CO2</th>\n",
       "      <th>t</th>\n",
       "      <th>t_squared</th>\n",
       "      <th>log_CO2</th>\n",
       "    </tr>\n",
       "    <tr>\n",
       "      <th>Year</th>\n",
       "      <th></th>\n",
       "      <th></th>\n",
       "      <th></th>\n",
       "      <th></th>\n",
       "    </tr>\n",
       "  </thead>\n",
       "  <tbody>\n",
       "    <tr>\n",
       "      <th>1800-01-01</th>\n",
       "      <td>0.00568</td>\n",
       "      <td>1</td>\n",
       "      <td>1</td>\n",
       "      <td>-5.170804</td>\n",
       "    </tr>\n",
       "    <tr>\n",
       "      <th>1801-01-01</th>\n",
       "      <td>0.00561</td>\n",
       "      <td>2</td>\n",
       "      <td>4</td>\n",
       "      <td>-5.183205</td>\n",
       "    </tr>\n",
       "    <tr>\n",
       "      <th>1802-01-01</th>\n",
       "      <td>0.00555</td>\n",
       "      <td>3</td>\n",
       "      <td>9</td>\n",
       "      <td>-5.193957</td>\n",
       "    </tr>\n",
       "    <tr>\n",
       "      <th>1803-01-01</th>\n",
       "      <td>0.00548</td>\n",
       "      <td>4</td>\n",
       "      <td>16</td>\n",
       "      <td>-5.206650</td>\n",
       "    </tr>\n",
       "    <tr>\n",
       "      <th>1804-01-01</th>\n",
       "      <td>0.00542</td>\n",
       "      <td>5</td>\n",
       "      <td>25</td>\n",
       "      <td>-5.217659</td>\n",
       "    </tr>\n",
       "  </tbody>\n",
       "</table>\n",
       "</div>"
      ],
      "text/plain": [
       "                CO2  t  t_squared   log_CO2\n",
       "Year                                       \n",
       "1800-01-01  0.00568  1          1 -5.170804\n",
       "1801-01-01  0.00561  2          4 -5.183205\n",
       "1802-01-01  0.00555  3          9 -5.193957\n",
       "1803-01-01  0.00548  4         16 -5.206650\n",
       "1804-01-01  0.00542  5         25 -5.217659"
      ]
     },
     "execution_count": 17,
     "metadata": {},
     "output_type": "execute_result"
    }
   ],
   "source": [
    "# Creating t & t2 Variable\n",
    "data = tsd1.copy()\n",
    "data [\"t\"] = np.arange(1,216)\n",
    "data[\"t_squared\"] = data[\"t\"]*data[\"t\"]\n",
    "data[\"log_CO2\"] = np.log(data['CO2'])\n",
    "data.head()"
   ]
  },
  {
   "cell_type": "markdown",
   "id": "DguDF4T5tauU",
   "metadata": {
    "id": "DguDF4T5tauU"
   },
   "source": [
    "#### Transformation\n",
    "Transforming the TimeSeries to get the Trend Reduce & get Normal Distribution"
   ]
  },
  {
   "cell_type": "code",
   "execution_count": 18,
   "id": "c3yQTjcOtpyz",
   "metadata": {
    "id": "c3yQTjcOtpyz"
   },
   "outputs": [],
   "source": [
    "#Log Transformation\n",
    "Log_ = pd.DataFrame(data.iloc[:,1:3])\n",
    "Log_['CO2']=np.log(data['CO2'])\n",
    "Log_['log_CO2']=np.log(Log_['CO2'])\n",
    "#Reciprocal Transformation\n",
    "Reci = pd.DataFrame(data.iloc[:,1:3])\n",
    "Reci['CO2']=1/(data['CO2'])\n",
    "Reci['log_CO2']=np.log(Reci['CO2'])\n",
    "#Square Root Transformation\n",
    "Sqrt_ = pd.DataFrame(data.iloc[:,1:3])\n",
    "Sqrt_['CO2']=np.sqrt(data['CO2'])\n",
    "Sqrt_['log_CO2']=np.log(Sqrt_['CO2'])\n",
    "#Box-cox Transformation\n",
    "Box = pd.DataFrame(data.iloc[:,1:3])\n",
    "Box['CO2'], param = stats.boxcox(data.CO2)\n",
    "Box['log_CO2']=np.log(Box['CO2'])"
   ]
  },
  {
   "cell_type": "code",
   "execution_count": 19,
   "id": "WgaeT8vPmsKR",
   "metadata": {
    "colab": {
     "base_uri": "https://localhost:8080/",
     "height": 624
    },
    "id": "WgaeT8vPmsKR",
    "outputId": "96ced4e4-29f7-42d6-9bb8-022831b727e4"
   },
   "outputs": [
    {
     "data": {
      "text/plain": [
       "Text(0.5, 1.0, 'Box')"
      ]
     },
     "execution_count": 19,
     "metadata": {},
     "output_type": "execute_result"
    },
    {
     "data": {
      "image/png": "[encoded data removed]",
      "text/plain": [
       "<Figure size 720x720 with 5 Axes>"
      ]
     },
     "metadata": {
      "needs_background": "light"
     },
     "output_type": "display_data"
    }
   ],
   "source": [
    "#Ploting the transformed data\n",
    "plt.figure(figsize=(10,10))\n",
    "plt.subplot(321)\n",
    "plt.plot(data.CO2)\n",
    "plt.title(\"original\")\n",
    "\n",
    "plt.subplot(322)\n",
    "plt.plot(Log_.CO2)\n",
    "plt.title(\"log\")\n",
    "\n",
    "plt.subplot(323)\n",
    "plt.plot(Reci.CO2)\n",
    "plt.title(\"Reci\")\n",
    "\n",
    "plt.subplot(324)\n",
    "plt.plot(Sqrt_.CO2)\n",
    "plt.title(\"Sqrt\")\n",
    "\n",
    "plt.subplot(325)\n",
    "plt.plot(Box.CO2)\n",
    "plt.title(\"Box\")"
   ]
  },
  {
   "cell_type": "markdown",
   "id": "M9eu1T8xugEW",
   "metadata": {
    "id": "M9eu1T8xugEW"
   },
   "source": [
    "Inference: From the the Line plot for all the Transformation, we can still see Trend to be present,any transformation made no difference.\n",
    "\n",
    "So for best practice will make models on all transform data and checks which model gives least error"
   ]
  },
  {
   "cell_type": "markdown",
   "id": "dksLkZaDHuxf",
   "metadata": {
    "id": "dksLkZaDHuxf"
   },
   "source": [
    "#### Data Partition\n",
    "Train - 80% , Test - 20%"
   ]
  },
  {
   "cell_type": "code",
   "execution_count": 20,
   "id": "kGCRY4Af-Vef",
   "metadata": {
    "id": "kGCRY4Af-Vef"
   },
   "outputs": [],
   "source": [
    "#For Original Data\n",
    "Ori_train = data.iloc[:,:4].head(172)\n",
    "Ori_test = data.iloc[:,:4].tail(43)\n",
    "#For Log Data\n",
    "Log_train = Log_.iloc[:,:4].head(172)\n",
    "Log_test = Log_.iloc[:,:4].tail(43)\n",
    "#For Reci Data\n",
    "Reci_train = Reci.iloc[:,:4].head(172)\n",
    "Reci_test = Reci.iloc[:,:4].tail(43)\n",
    "#For Sqrt Data\n",
    "Sqrt_train = Sqrt_.iloc[:,:4].head(172)\n",
    "Sqrt_test = Sqrt_.iloc[:,:4].tail(43)\n",
    "#For Box Data\n",
    "Box_train = Box.iloc[:,:4].head(172)\n",
    "Box_test = Box.iloc[:,:4].tail(43)"
   ]
  },
  {
   "cell_type": "code",
   "execution_count": 21,
   "id": "AZrtN3MOjV30",
   "metadata": {
    "colab": {
     "base_uri": "https://localhost:8080/",
     "height": 81
    },
    "id": "AZrtN3MOjV30",
    "outputId": "753cf269-0680-49cb-ee11-2b036c42d530"
   },
   "outputs": [
    {
     "data": {
      "text/html": [
       "<div>\n",
       "<style scoped>\n",
       "    .dataframe tbody tr th:only-of-type {\n",
       "        vertical-align: middle;\n",
       "    }\n",
       "\n",
       "    .dataframe tbody tr th {\n",
       "        vertical-align: top;\n",
       "    }\n",
       "\n",
       "    .dataframe thead th {\n",
       "        text-align: right;\n",
       "    }\n",
       "</style>\n",
       "<table border=\"1\" class=\"dataframe\">\n",
       "  <thead>\n",
       "    <tr style=\"text-align: right;\">\n",
       "      <th></th>\n",
       "      <th>Model</th>\n",
       "      <th>Ori_MAPE</th>\n",
       "      <th>Log_MAPE</th>\n",
       "      <th>Reci_MAPE</th>\n",
       "      <th>Sqrt_MAPE</th>\n",
       "      <th>Box_MAPE</th>\n",
       "    </tr>\n",
       "  </thead>\n",
       "  <tbody>\n",
       "    <tr>\n",
       "      <th>0</th>\n",
       "      <td>Linear Model</td>\n",
       "      <td>16.48392</td>\n",
       "      <td>108.404518</td>\n",
       "      <td>204300.419266</td>\n",
       "      <td>10.79555</td>\n",
       "      <td>46.136285</td>\n",
       "    </tr>\n",
       "  </tbody>\n",
       "</table>\n",
       "</div>"
      ],
      "text/plain": [
       "          Model  Ori_MAPE    Log_MAPE      Reci_MAPE  Sqrt_MAPE   Box_MAPE\n",
       "0  Linear Model  16.48392  108.404518  204300.419266   10.79555  46.136285"
      ]
     },
     "execution_count": 21,
     "metadata": {},
     "output_type": "execute_result"
    }
   ],
   "source": [
    "#Linear Model\n",
    "def liner_model(train,test):\n",
    "    linear_model = smf.ols('CO2~t',data=train).fit()\n",
    "    pred_linear =  pd.Series(linear_model.predict(pd.DataFrame(test['t'])))\n",
    "    result = np.mean(np.abs((pred_linear-test.CO2)/test.CO2)*100)\n",
    "    return result\n",
    "#Calling Function for all Data \n",
    "mape_olm = liner_model(Ori_train,Ori_test)\n",
    "mape_llm = liner_model(Log_train,Log_test)\n",
    "mape_rlm = liner_model(Reci_train,Reci_test)\n",
    "mape_slm = liner_model(Sqrt_train,Sqrt_test)\n",
    "mape_blm = liner_model(Box_train,Box_test)\n",
    "#Final Result DataFrame\n",
    "Linear_result_grid = {'Model':['Linear Model'],'Ori_MAPE':[mape_olm],'Log_MAPE':[mape_llm],'Reci_MAPE':[mape_rlm],'Sqrt_MAPE':[mape_slm],'Box_MAPE':[mape_blm]}\n",
    "Result_df = pd.DataFrame(Linear_result_grid)\n",
    "Result_df"
   ]
  },
  {
   "cell_type": "code",
   "execution_count": 22,
   "id": "jmm2rtK3-9Dw",
   "metadata": {
    "colab": {
     "base_uri": "https://localhost:8080/",
     "height": 112
    },
    "id": "jmm2rtK3-9Dw",
    "outputId": "7bf1948a-0507-44ce-f6eb-c97115fb397c"
   },
   "outputs": [
    {
     "data": {
      "text/html": [
       "<div>\n",
       "<style scoped>\n",
       "    .dataframe tbody tr th:only-of-type {\n",
       "        vertical-align: middle;\n",
       "    }\n",
       "\n",
       "    .dataframe tbody tr th {\n",
       "        vertical-align: top;\n",
       "    }\n",
       "\n",
       "    .dataframe thead th {\n",
       "        text-align: right;\n",
       "    }\n",
       "</style>\n",
       "<table border=\"1\" class=\"dataframe\">\n",
       "  <thead>\n",
       "    <tr style=\"text-align: right;\">\n",
       "      <th></th>\n",
       "      <th>Model</th>\n",
       "      <th>Ori_MAPE</th>\n",
       "      <th>Log_MAPE</th>\n",
       "      <th>Reci_MAPE</th>\n",
       "      <th>Sqrt_MAPE</th>\n",
       "      <th>Box_MAPE</th>\n",
       "    </tr>\n",
       "  </thead>\n",
       "  <tbody>\n",
       "    <tr>\n",
       "      <th>0</th>\n",
       "      <td>Linear Model</td>\n",
       "      <td>16.483920</td>\n",
       "      <td>108.404518</td>\n",
       "      <td>204300.419266</td>\n",
       "      <td>10.795550</td>\n",
       "      <td>46.136285</td>\n",
       "    </tr>\n",
       "    <tr>\n",
       "      <th>1</th>\n",
       "      <td>Exponential Model</td>\n",
       "      <td>64.469798</td>\n",
       "      <td>42.807310</td>\n",
       "      <td>9700.050232</td>\n",
       "      <td>28.047605</td>\n",
       "      <td>48.548968</td>\n",
       "    </tr>\n",
       "  </tbody>\n",
       "</table>\n",
       "</div>"
      ],
      "text/plain": [
       "               Model   Ori_MAPE    Log_MAPE      Reci_MAPE  Sqrt_MAPE  \\\n",
       "0       Linear Model  16.483920  108.404518  204300.419266  10.795550   \n",
       "1  Exponential Model  64.469798   42.807310    9700.050232  28.047605   \n",
       "\n",
       "    Box_MAPE  \n",
       "0  46.136285  \n",
       "1  48.548968  "
      ]
     },
     "execution_count": 22,
     "metadata": {},
     "output_type": "execute_result"
    }
   ],
   "source": [
    "#Exponential\n",
    "def Exp_model(train,test):\n",
    "    Exp = smf.ols('log_CO2~t',data=train).fit()\n",
    "    pred_Exp = pd.Series(Exp.predict(pd.DataFrame(test['t'])))\n",
    "    result = np.mean(np.abs((pred_Exp-test.CO2)/test.CO2)*100)\n",
    "    return result\n",
    "#Calling Function for all Data \n",
    "mape_oem = Exp_model(Ori_train,Ori_test)\n",
    "mape_lem = Exp_model(Log_train,Log_test)\n",
    "mape_rem = Exp_model(Reci_train,Reci_test)\n",
    "mape_sem = Exp_model(Sqrt_train,Sqrt_test)\n",
    "mape_bem = Exp_model(Box_train,Box_test)\n",
    "#Final Result Grid\n",
    "Exp_result_grid = ['Exponential Model', mape_oem, mape_lem, mape_rem, mape_sem, mape_bem]\n",
    "Result_df.loc[len(Result_df.index)] = Exp_result_grid \n",
    "Result_df"
   ]
  },
  {
   "cell_type": "code",
   "execution_count": 23,
   "id": "cpyRFvuzAbyR",
   "metadata": {
    "colab": {
     "base_uri": "https://localhost:8080/",
     "height": 143
    },
    "id": "cpyRFvuzAbyR",
    "outputId": "a0de081a-07b2-4042-a45d-a41b3621c761"
   },
   "outputs": [
    {
     "data": {
      "text/html": [
       "<div>\n",
       "<style scoped>\n",
       "    .dataframe tbody tr th:only-of-type {\n",
       "        vertical-align: middle;\n",
       "    }\n",
       "\n",
       "    .dataframe tbody tr th {\n",
       "        vertical-align: top;\n",
       "    }\n",
       "\n",
       "    .dataframe thead th {\n",
       "        text-align: right;\n",
       "    }\n",
       "</style>\n",
       "<table border=\"1\" class=\"dataframe\">\n",
       "  <thead>\n",
       "    <tr style=\"text-align: right;\">\n",
       "      <th></th>\n",
       "      <th>Model</th>\n",
       "      <th>Ori_MAPE</th>\n",
       "      <th>Log_MAPE</th>\n",
       "      <th>Reci_MAPE</th>\n",
       "      <th>Sqrt_MAPE</th>\n",
       "      <th>Box_MAPE</th>\n",
       "    </tr>\n",
       "  </thead>\n",
       "  <tbody>\n",
       "    <tr>\n",
       "      <th>0</th>\n",
       "      <td>Linear Model</td>\n",
       "      <td>16.483920</td>\n",
       "      <td>108.404518</td>\n",
       "      <td>204300.419266</td>\n",
       "      <td>10.795550</td>\n",
       "      <td>46.136285</td>\n",
       "    </tr>\n",
       "    <tr>\n",
       "      <th>1</th>\n",
       "      <td>Exponential Model</td>\n",
       "      <td>64.469798</td>\n",
       "      <td>42.807310</td>\n",
       "      <td>9700.050232</td>\n",
       "      <td>28.047605</td>\n",
       "      <td>48.548968</td>\n",
       "    </tr>\n",
       "    <tr>\n",
       "      <th>2</th>\n",
       "      <td>Quadratic Model</td>\n",
       "      <td>23.150158</td>\n",
       "      <td>18.788091</td>\n",
       "      <td>52980.627821</td>\n",
       "      <td>24.870353</td>\n",
       "      <td>33.364613</td>\n",
       "    </tr>\n",
       "  </tbody>\n",
       "</table>\n",
       "</div>"
      ],
      "text/plain": [
       "               Model   Ori_MAPE    Log_MAPE      Reci_MAPE  Sqrt_MAPE  \\\n",
       "0       Linear Model  16.483920  108.404518  204300.419266  10.795550   \n",
       "1  Exponential Model  64.469798   42.807310    9700.050232  28.047605   \n",
       "2    Quadratic Model  23.150158   18.788091   52980.627821  24.870353   \n",
       "\n",
       "    Box_MAPE  \n",
       "0  46.136285  \n",
       "1  48.548968  \n",
       "2  33.364613  "
      ]
     },
     "execution_count": 23,
     "metadata": {},
     "output_type": "execute_result"
    }
   ],
   "source": [
    "#Quadratic \n",
    "def Quad_model(train,test):\n",
    "    Quad = smf.ols('CO2~t+t_squared',data=train).fit()\n",
    "    pred_Quad = pd.Series(Quad.predict(test[[\"t\",\"t_squared\"]]))\n",
    "    result = np.mean(np.abs((pred_Quad-test.CO2)/test.CO2)*100)\n",
    "    return result\n",
    "#Calling Function for all Data \n",
    "mape_oqm = Quad_model(Ori_train,Ori_test)\n",
    "mape_lqm = Quad_model(Log_train,Log_test)\n",
    "mape_rqm = Quad_model(Reci_train,Reci_test)\n",
    "mape_sqm = Quad_model(Sqrt_train,Sqrt_test)\n",
    "mape_bqm = Quad_model(Box_train,Box_test)\n",
    "#Final Result Grid\n",
    "Quad_result_grid = ['Quadratic Model', mape_oqm, mape_lqm, mape_rqm, mape_sqm, mape_bqm]\n",
    "Result_df.loc[len(Result_df.index)] = Quad_result_grid \n",
    "Result_df"
   ]
  },
  {
   "cell_type": "markdown",
   "id": "T-bhAlBBJnnp",
   "metadata": {
    "id": "T-bhAlBBJnnp"
   },
   "source": [
    "Inference: Cannot Built \"Additive, Multiplicative Seasonality Model\" as no sign of Seasonality is present.\n",
    "\n",
    "So we stop the Model Based Methods\n",
    "\n",
    "So Far,The Best Model from Model Based Methods is Linear Model with Sqrt Root Transformation which gave Least MAPE = 10.795550"
   ]
  },
  {
   "cell_type": "markdown",
   "id": "MEfOSS0aNl1w",
   "metadata": {
    "id": "MEfOSS0aNl1w"
   },
   "source": [
    "### Data Driven Models"
   ]
  },
  {
   "cell_type": "markdown",
   "id": "1WcG05PaOCQt",
   "metadata": {
    "id": "1WcG05PaOCQt"
   },
   "source": [
    "#### Test Stationary\n",
    "Naive test for stationary by checking constant mean and variance"
   ]
  },
  {
   "cell_type": "code",
   "execution_count": 24,
   "id": "q40clilzOBJs",
   "metadata": {
    "colab": {
     "base_uri": "https://localhost:8080/"
    },
    "id": "q40clilzOBJs",
    "outputId": "0532132c-e611-4ce2-aab3-12940eb73d82"
   },
   "outputs": [
    {
     "name": "stdout",
     "output_type": "stream",
     "text": [
      "mean1=0.888644, mean2=12.650000\n",
      "variance1=2.399437, variance2=13.176064\n"
     ]
    }
   ],
   "source": [
    "#Checking For Stationary data\n",
    "X = data.CO2.values\n",
    "split = round(len(X) / 2)\n",
    "X1, X2 = X[0:split], X[split:]\n",
    "mean1, mean2 = X1.mean(), X2.mean()\n",
    "var1, var2 = X1.var(), X2.var()\n",
    "print('mean1=%f, mean2=%f' % (mean1, mean2))\n",
    "print('variance1=%f, variance2=%f' % (var1, var2))"
   ]
  },
  {
   "cell_type": "markdown",
   "id": "vZId8x3YORK_",
   "metadata": {
    "id": "vZId8x3YORK_"
   },
   "source": [
    "Since mean and variance changes drastically it is evident that out data is not stationary.\n",
    "\n",
    "So will Use \"Moving Average\" to Make the Data Stationary, But First Let Create a BenchMark \"Naive\" Model"
   ]
  },
  {
   "cell_type": "code",
   "execution_count": 25,
   "id": "YFja0fb0IbZa",
   "metadata": {
    "colab": {
     "base_uri": "https://localhost:8080/",
     "height": 175
    },
    "id": "YFja0fb0IbZa",
    "outputId": "3710a773-fa04-473e-c3b0-b79f003f4dcd"
   },
   "outputs": [
    {
     "data": {
      "text/html": [
       "<div>\n",
       "<style scoped>\n",
       "    .dataframe tbody tr th:only-of-type {\n",
       "        vertical-align: middle;\n",
       "    }\n",
       "\n",
       "    .dataframe tbody tr th {\n",
       "        vertical-align: top;\n",
       "    }\n",
       "\n",
       "    .dataframe thead th {\n",
       "        text-align: right;\n",
       "    }\n",
       "</style>\n",
       "<table border=\"1\" class=\"dataframe\">\n",
       "  <thead>\n",
       "    <tr style=\"text-align: right;\">\n",
       "      <th></th>\n",
       "      <th>Model</th>\n",
       "      <th>Ori_MAPE</th>\n",
       "      <th>Log_MAPE</th>\n",
       "      <th>Reci_MAPE</th>\n",
       "      <th>Sqrt_MAPE</th>\n",
       "      <th>Box_MAPE</th>\n",
       "    </tr>\n",
       "  </thead>\n",
       "  <tbody>\n",
       "    <tr>\n",
       "      <th>0</th>\n",
       "      <td>Linear Model</td>\n",
       "      <td>16.483920</td>\n",
       "      <td>108.404518</td>\n",
       "      <td>204300.419266</td>\n",
       "      <td>10.795550</td>\n",
       "      <td>46.136285</td>\n",
       "    </tr>\n",
       "    <tr>\n",
       "      <th>1</th>\n",
       "      <td>Exponential Model</td>\n",
       "      <td>64.469798</td>\n",
       "      <td>42.807310</td>\n",
       "      <td>9700.050232</td>\n",
       "      <td>28.047605</td>\n",
       "      <td>48.548968</td>\n",
       "    </tr>\n",
       "    <tr>\n",
       "      <th>2</th>\n",
       "      <td>Quadratic Model</td>\n",
       "      <td>23.150158</td>\n",
       "      <td>18.788091</td>\n",
       "      <td>52980.627821</td>\n",
       "      <td>24.870353</td>\n",
       "      <td>33.364613</td>\n",
       "    </tr>\n",
       "    <tr>\n",
       "      <th>3</th>\n",
       "      <td>Naive Model</td>\n",
       "      <td>4.649507</td>\n",
       "      <td>1.675075</td>\n",
       "      <td>4.766006</td>\n",
       "      <td>2.337979</td>\n",
       "      <td>2.237067</td>\n",
       "    </tr>\n",
       "  </tbody>\n",
       "</table>\n",
       "</div>"
      ],
      "text/plain": [
       "               Model   Ori_MAPE    Log_MAPE      Reci_MAPE  Sqrt_MAPE  \\\n",
       "0       Linear Model  16.483920  108.404518  204300.419266  10.795550   \n",
       "1  Exponential Model  64.469798   42.807310    9700.050232  28.047605   \n",
       "2    Quadratic Model  23.150158   18.788091   52980.627821  24.870353   \n",
       "3        Naive Model   4.649507    1.675075       4.766006   2.337979   \n",
       "\n",
       "    Box_MAPE  \n",
       "0  46.136285  \n",
       "1  48.548968  \n",
       "2  33.364613  \n",
       "3   2.237067  "
      ]
     },
     "execution_count": 25,
     "metadata": {},
     "output_type": "execute_result"
    }
   ],
   "source": [
    "#Naive / Baseline Model\n",
    "def Naive_model(train,test):\n",
    "    Naive = np.asarray(train.CO2)[len(np.asarray(train.CO2))-1]\n",
    "    result = np.mean(np.abs((Naive-test.CO2)/test.CO2)*100)\n",
    "    return result\n",
    "#Calling Function for all Data \n",
    "mape_onm = Naive_model(Ori_train,Ori_test)\n",
    "mape_lnm = Naive_model(Log_train,Log_test)\n",
    "mape_rnm = Naive_model(Reci_train,Reci_test)\n",
    "mape_snm = Naive_model(Sqrt_train,Sqrt_test)\n",
    "mape_bnm = Naive_model(Box_train,Box_test)\n",
    "#Final Result Grid\n",
    "Naive_result_grid = ['Naive Model', mape_onm, mape_lnm, mape_rnm, mape_snm, mape_bnm]\n",
    "Result_df.loc[len(Result_df.index)] = Naive_result_grid \n",
    "Result_df"
   ]
  },
  {
   "cell_type": "code",
   "execution_count": 26,
   "id": "7Ln67qtieDWk",
   "metadata": {
    "colab": {
     "base_uri": "https://localhost:8080/",
     "height": 206
    },
    "id": "7Ln67qtieDWk",
    "outputId": "dd0fc33a-3fa0-4180-eb37-a44bda5c3b1a"
   },
   "outputs": [
    {
     "data": {
      "text/html": [
       "<div>\n",
       "<style scoped>\n",
       "    .dataframe tbody tr th:only-of-type {\n",
       "        vertical-align: middle;\n",
       "    }\n",
       "\n",
       "    .dataframe tbody tr th {\n",
       "        vertical-align: top;\n",
       "    }\n",
       "\n",
       "    .dataframe thead th {\n",
       "        text-align: right;\n",
       "    }\n",
       "</style>\n",
       "<table border=\"1\" class=\"dataframe\">\n",
       "  <thead>\n",
       "    <tr style=\"text-align: right;\">\n",
       "      <th></th>\n",
       "      <th>Model</th>\n",
       "      <th>Ori_MAPE</th>\n",
       "      <th>Log_MAPE</th>\n",
       "      <th>Reci_MAPE</th>\n",
       "      <th>Sqrt_MAPE</th>\n",
       "      <th>Box_MAPE</th>\n",
       "    </tr>\n",
       "  </thead>\n",
       "  <tbody>\n",
       "    <tr>\n",
       "      <th>0</th>\n",
       "      <td>Linear Model</td>\n",
       "      <td>16.483920</td>\n",
       "      <td>108.404518</td>\n",
       "      <td>204300.419266</td>\n",
       "      <td>10.795550</td>\n",
       "      <td>46.136285</td>\n",
       "    </tr>\n",
       "    <tr>\n",
       "      <th>1</th>\n",
       "      <td>Exponential Model</td>\n",
       "      <td>64.469798</td>\n",
       "      <td>42.807310</td>\n",
       "      <td>9700.050232</td>\n",
       "      <td>28.047605</td>\n",
       "      <td>48.548968</td>\n",
       "    </tr>\n",
       "    <tr>\n",
       "      <th>2</th>\n",
       "      <td>Quadratic Model</td>\n",
       "      <td>23.150158</td>\n",
       "      <td>18.788091</td>\n",
       "      <td>52980.627821</td>\n",
       "      <td>24.870353</td>\n",
       "      <td>33.364613</td>\n",
       "    </tr>\n",
       "    <tr>\n",
       "      <th>3</th>\n",
       "      <td>Naive Model</td>\n",
       "      <td>4.649507</td>\n",
       "      <td>1.675075</td>\n",
       "      <td>4.766006</td>\n",
       "      <td>2.337979</td>\n",
       "      <td>2.237067</td>\n",
       "    </tr>\n",
       "    <tr>\n",
       "      <th>4</th>\n",
       "      <td>Simple Average</td>\n",
       "      <td>73.892246</td>\n",
       "      <td>131.961075</td>\n",
       "      <td>137792.336173</td>\n",
       "      <td>61.732583</td>\n",
       "      <td>96.683402</td>\n",
       "    </tr>\n",
       "  </tbody>\n",
       "</table>\n",
       "</div>"
      ],
      "text/plain": [
       "               Model   Ori_MAPE    Log_MAPE      Reci_MAPE  Sqrt_MAPE  \\\n",
       "0       Linear Model  16.483920  108.404518  204300.419266  10.795550   \n",
       "1  Exponential Model  64.469798   42.807310    9700.050232  28.047605   \n",
       "2    Quadratic Model  23.150158   18.788091   52980.627821  24.870353   \n",
       "3        Naive Model   4.649507    1.675075       4.766006   2.337979   \n",
       "4     Simple Average  73.892246  131.961075  137792.336173  61.732583   \n",
       "\n",
       "    Box_MAPE  \n",
       "0  46.136285  \n",
       "1  48.548968  \n",
       "2  33.364613  \n",
       "3   2.237067  \n",
       "4  96.683402  "
      ]
     },
     "execution_count": 26,
     "metadata": {},
     "output_type": "execute_result"
    }
   ],
   "source": [
    "#Simple Average \n",
    "def savg_model(train,test):\n",
    "    Savg = train['CO2'].mean()\n",
    "    result = np.mean(np.abs((Savg-test.CO2)/test.CO2)*100)\n",
    "    return result\n",
    "#Calling Function for all Data \n",
    "mape_osam = savg_model(Ori_train,Ori_test)\n",
    "mape_lsam = savg_model(Log_train,Log_test)\n",
    "mape_rsam = savg_model(Reci_train,Reci_test)\n",
    "mape_ssam = savg_model(Sqrt_train,Sqrt_test)\n",
    "mape_bsam = savg_model(Box_train,Box_test)\n",
    "#Final Result Grid\n",
    "Savg_result_grid = ['Simple Average', mape_osam, mape_lsam, mape_rsam, mape_ssam,mape_bsam]\n",
    "Result_df.loc[len(Result_df.index)] = Savg_result_grid \n",
    "Result_df"
   ]
  },
  {
   "cell_type": "code",
   "execution_count": 27,
   "id": "HutrAWjme7u3",
   "metadata": {
    "colab": {
     "base_uri": "https://localhost:8080/",
     "height": 238
    },
    "id": "HutrAWjme7u3",
    "outputId": "598f9d99-864e-4453-8f54-e5f9b393cfb8"
   },
   "outputs": [
    {
     "data": {
      "text/html": [
       "<div>\n",
       "<style scoped>\n",
       "    .dataframe tbody tr th:only-of-type {\n",
       "        vertical-align: middle;\n",
       "    }\n",
       "\n",
       "    .dataframe tbody tr th {\n",
       "        vertical-align: top;\n",
       "    }\n",
       "\n",
       "    .dataframe thead th {\n",
       "        text-align: right;\n",
       "    }\n",
       "</style>\n",
       "<table border=\"1\" class=\"dataframe\">\n",
       "  <thead>\n",
       "    <tr style=\"text-align: right;\">\n",
       "      <th></th>\n",
       "      <th>Model</th>\n",
       "      <th>Ori_MAPE</th>\n",
       "      <th>Log_MAPE</th>\n",
       "      <th>Reci_MAPE</th>\n",
       "      <th>Sqrt_MAPE</th>\n",
       "      <th>Box_MAPE</th>\n",
       "    </tr>\n",
       "  </thead>\n",
       "  <tbody>\n",
       "    <tr>\n",
       "      <th>0</th>\n",
       "      <td>Linear Model</td>\n",
       "      <td>16.483920</td>\n",
       "      <td>108.404518</td>\n",
       "      <td>204300.419266</td>\n",
       "      <td>10.795550</td>\n",
       "      <td>46.136285</td>\n",
       "    </tr>\n",
       "    <tr>\n",
       "      <th>1</th>\n",
       "      <td>Exponential Model</td>\n",
       "      <td>64.469798</td>\n",
       "      <td>42.807310</td>\n",
       "      <td>9700.050232</td>\n",
       "      <td>28.047605</td>\n",
       "      <td>48.548968</td>\n",
       "    </tr>\n",
       "    <tr>\n",
       "      <th>2</th>\n",
       "      <td>Quadratic Model</td>\n",
       "      <td>23.150158</td>\n",
       "      <td>18.788091</td>\n",
       "      <td>52980.627821</td>\n",
       "      <td>24.870353</td>\n",
       "      <td>33.364613</td>\n",
       "    </tr>\n",
       "    <tr>\n",
       "      <th>3</th>\n",
       "      <td>Naive Model</td>\n",
       "      <td>4.649507</td>\n",
       "      <td>1.675075</td>\n",
       "      <td>4.766006</td>\n",
       "      <td>2.337979</td>\n",
       "      <td>2.237067</td>\n",
       "    </tr>\n",
       "    <tr>\n",
       "      <th>4</th>\n",
       "      <td>Simple Average</td>\n",
       "      <td>73.892246</td>\n",
       "      <td>131.961075</td>\n",
       "      <td>137792.336173</td>\n",
       "      <td>61.732583</td>\n",
       "      <td>96.683402</td>\n",
       "    </tr>\n",
       "    <tr>\n",
       "      <th>5</th>\n",
       "      <td>Moving Average</td>\n",
       "      <td>4.972519</td>\n",
       "      <td>1.802127</td>\n",
       "      <td>5.183939</td>\n",
       "      <td>2.510991</td>\n",
       "      <td>2.403927</td>\n",
       "    </tr>\n",
       "  </tbody>\n",
       "</table>\n",
       "</div>"
      ],
      "text/plain": [
       "               Model   Ori_MAPE    Log_MAPE      Reci_MAPE  Sqrt_MAPE  \\\n",
       "0       Linear Model  16.483920  108.404518  204300.419266  10.795550   \n",
       "1  Exponential Model  64.469798   42.807310    9700.050232  28.047605   \n",
       "2    Quadratic Model  23.150158   18.788091   52980.627821  24.870353   \n",
       "3        Naive Model   4.649507    1.675075       4.766006   2.337979   \n",
       "4     Simple Average  73.892246  131.961075  137792.336173  61.732583   \n",
       "5     Moving Average   4.972519    1.802127       5.183939   2.510991   \n",
       "\n",
       "    Box_MAPE  \n",
       "0  46.136285  \n",
       "1  48.548968  \n",
       "2  33.364613  \n",
       "3   2.237067  \n",
       "4  96.683402  \n",
       "5   2.403927  "
      ]
     },
     "execution_count": 27,
     "metadata": {},
     "output_type": "execute_result"
    }
   ],
   "source": [
    "#Moving Average \n",
    "def mavg_model(train,test):\n",
    "    Mavg = train['CO2'].rolling(2).mean().iloc[-1]    # window of Two.\n",
    "    result = np.mean(np.abs((Mavg-test.CO2)/test.CO2)*100)\n",
    "    return result\n",
    "#Calling Function for all Data \n",
    "mape_omam = mavg_model(Ori_train,Ori_test)\n",
    "mape_lmam = mavg_model(Log_train,Log_test)\n",
    "mape_rmam = mavg_model(Reci_train,Reci_test)\n",
    "mape_smam = mavg_model(Sqrt_train,Sqrt_test)\n",
    "mape_bmam = mavg_model(Box_train,Box_test)\n",
    "#Final Result Grid\n",
    "Mavg_result_grid = ['Moving Average', mape_omam, mape_lmam, mape_rmam, mape_smam,mape_bmam]\n",
    "Result_df.loc[len(Result_df.index)] = Mavg_result_grid \n",
    "Result_df"
   ]
  },
  {
   "cell_type": "code",
   "execution_count": 28,
   "id": "l_6Tymtff1Qk",
   "metadata": {
    "colab": {
     "base_uri": "https://localhost:8080/",
     "height": 293
    },
    "id": "l_6Tymtff1Qk",
    "outputId": "251cca2e-c40c-498f-e0b6-3e49c1572926"
   },
   "outputs": [
    {
     "data": {
      "image/png": "[encoded data removed]",
      "text/plain": [
       "<Figure size 432x288 with 1 Axes>"
      ]
     },
     "metadata": {
      "needs_background": "light"
     },
     "output_type": "display_data"
    }
   ],
   "source": [
    "#As Exponential TransForm Data Gave least MAPE,So Will Visualize its Moving Average\n",
    "moving_avg = Log_.CO2.rolling(2).mean()\n",
    "plt.plot(Log_.CO2)\n",
    "plt.plot(moving_avg, color='red')\n",
    "plt.xticks(fontsize = 10)\n",
    "plt.yticks(fontsize = 10)\n",
    "plt.xlabel('Time (years)', fontsize = 10)\n",
    "plt.ylabel('CO2 Emission (MMT)', fontsize = 10)\n",
    "plt.title('CO2 emission', fontsize = 10)\n",
    "plt.show()"
   ]
  },
  {
   "cell_type": "markdown",
   "id": "7-P4Lvvrk-Gx",
   "metadata": {
    "id": "7-P4Lvvrk-Gx"
   },
   "source": [
    "Inference: So Far, The Best Model is Naive & Moving Average Model with Log Transformation which gave Least MAPE of 1.675075 & 1.802127 Respectively"
   ]
  },
  {
   "cell_type": "code",
   "execution_count": 29,
   "id": "Ir4GIxeSkFE_",
   "metadata": {
    "colab": {
     "base_uri": "https://localhost:8080/",
     "height": 269
    },
    "id": "Ir4GIxeSkFE_",
    "outputId": "5aed1f38-a471-4b83-e651-49dbe83fe914"
   },
   "outputs": [
    {
     "data": {
      "text/html": [
       "<div>\n",
       "<style scoped>\n",
       "    .dataframe tbody tr th:only-of-type {\n",
       "        vertical-align: middle;\n",
       "    }\n",
       "\n",
       "    .dataframe tbody tr th {\n",
       "        vertical-align: top;\n",
       "    }\n",
       "\n",
       "    .dataframe thead th {\n",
       "        text-align: right;\n",
       "    }\n",
       "</style>\n",
       "<table border=\"1\" class=\"dataframe\">\n",
       "  <thead>\n",
       "    <tr style=\"text-align: right;\">\n",
       "      <th></th>\n",
       "      <th>Model</th>\n",
       "      <th>Ori_MAPE</th>\n",
       "      <th>Log_MAPE</th>\n",
       "      <th>Reci_MAPE</th>\n",
       "      <th>Sqrt_MAPE</th>\n",
       "      <th>Box_MAPE</th>\n",
       "    </tr>\n",
       "  </thead>\n",
       "  <tbody>\n",
       "    <tr>\n",
       "      <th>0</th>\n",
       "      <td>Linear Model</td>\n",
       "      <td>16.483920</td>\n",
       "      <td>108.404518</td>\n",
       "      <td>204300.419266</td>\n",
       "      <td>10.795550</td>\n",
       "      <td>46.136285</td>\n",
       "    </tr>\n",
       "    <tr>\n",
       "      <th>1</th>\n",
       "      <td>Exponential Model</td>\n",
       "      <td>64.469798</td>\n",
       "      <td>42.807310</td>\n",
       "      <td>9700.050232</td>\n",
       "      <td>28.047605</td>\n",
       "      <td>48.548968</td>\n",
       "    </tr>\n",
       "    <tr>\n",
       "      <th>2</th>\n",
       "      <td>Quadratic Model</td>\n",
       "      <td>23.150158</td>\n",
       "      <td>18.788091</td>\n",
       "      <td>52980.627821</td>\n",
       "      <td>24.870353</td>\n",
       "      <td>33.364613</td>\n",
       "    </tr>\n",
       "    <tr>\n",
       "      <th>3</th>\n",
       "      <td>Naive Model</td>\n",
       "      <td>4.649507</td>\n",
       "      <td>1.675075</td>\n",
       "      <td>4.766006</td>\n",
       "      <td>2.337979</td>\n",
       "      <td>2.237067</td>\n",
       "    </tr>\n",
       "    <tr>\n",
       "      <th>4</th>\n",
       "      <td>Simple Average</td>\n",
       "      <td>73.892246</td>\n",
       "      <td>131.961075</td>\n",
       "      <td>137792.336173</td>\n",
       "      <td>61.732583</td>\n",
       "      <td>96.683402</td>\n",
       "    </tr>\n",
       "    <tr>\n",
       "      <th>5</th>\n",
       "      <td>Moving Average</td>\n",
       "      <td>4.972519</td>\n",
       "      <td>1.802127</td>\n",
       "      <td>5.183939</td>\n",
       "      <td>2.510991</td>\n",
       "      <td>2.403927</td>\n",
       "    </tr>\n",
       "    <tr>\n",
       "      <th>6</th>\n",
       "      <td>Simple Exp Smoothing</td>\n",
       "      <td>4.742296</td>\n",
       "      <td>1.712167</td>\n",
       "      <td>4.890105</td>\n",
       "      <td>2.388077</td>\n",
       "      <td>2.285605</td>\n",
       "    </tr>\n",
       "  </tbody>\n",
       "</table>\n",
       "</div>"
      ],
      "text/plain": [
       "                  Model   Ori_MAPE    Log_MAPE      Reci_MAPE  Sqrt_MAPE  \\\n",
       "0          Linear Model  16.483920  108.404518  204300.419266  10.795550   \n",
       "1     Exponential Model  64.469798   42.807310    9700.050232  28.047605   \n",
       "2       Quadratic Model  23.150158   18.788091   52980.627821  24.870353   \n",
       "3           Naive Model   4.649507    1.675075       4.766006   2.337979   \n",
       "4        Simple Average  73.892246  131.961075  137792.336173  61.732583   \n",
       "5        Moving Average   4.972519    1.802127       5.183939   2.510991   \n",
       "6  Simple Exp Smoothing   4.742296    1.712167       4.890105   2.388077   \n",
       "\n",
       "    Box_MAPE  \n",
       "0  46.136285  \n",
       "1  48.548968  \n",
       "2  33.364613  \n",
       "3   2.237067  \n",
       "4  96.683402  \n",
       "5   2.403927  \n",
       "6   2.285605  "
      ]
     },
     "execution_count": 29,
     "metadata": {},
     "output_type": "execute_result"
    }
   ],
   "source": [
    "#Simple Exponential Smoothing Model/Methods\n",
    "def ses_model(train,test):\n",
    "    fit_ = SimpleExpSmoothing(np.asarray(train['CO2'])).fit(smoothing_level=0.9,optimized=False)\n",
    "    SES = fit_.forecast(len(test))\n",
    "    result = np.mean(np.abs((SES-test.CO2)/test.CO2)*100)\n",
    "    return result\n",
    "#Calling Function for all Data \n",
    "mape_osesm = ses_model(Ori_train,Ori_test)\n",
    "mape_lsesm = ses_model(Log_train,Log_test)\n",
    "mape_rsesm = ses_model(Reci_train,Reci_test)\n",
    "mape_ssesm = ses_model(Sqrt_train,Sqrt_test)\n",
    "mape_bsesm = ses_model(Box_train,Box_test)\n",
    "#Final Result Grid\n",
    "Ses_result_grid = ['Simple Exp Smoothing', mape_osesm, mape_lsesm, mape_rsesm, mape_ssesm, mape_bsesm]\n",
    "Result_df.loc[len(Result_df.index)] = Ses_result_grid \n",
    "Result_df"
   ]
  },
  {
   "cell_type": "code",
   "execution_count": 30,
   "id": "L7PV8Ko0u1O-",
   "metadata": {
    "colab": {
     "base_uri": "https://localhost:8080/",
     "height": 300
    },
    "id": "L7PV8Ko0u1O-",
    "outputId": "b6170549-ee72-4dc6-90cd-48976ee9c637"
   },
   "outputs": [
    {
     "data": {
      "text/html": [
       "<div>\n",
       "<style scoped>\n",
       "    .dataframe tbody tr th:only-of-type {\n",
       "        vertical-align: middle;\n",
       "    }\n",
       "\n",
       "    .dataframe tbody tr th {\n",
       "        vertical-align: top;\n",
       "    }\n",
       "\n",
       "    .dataframe thead th {\n",
       "        text-align: right;\n",
       "    }\n",
       "</style>\n",
       "<table border=\"1\" class=\"dataframe\">\n",
       "  <thead>\n",
       "    <tr style=\"text-align: right;\">\n",
       "      <th></th>\n",
       "      <th>Model</th>\n",
       "      <th>Ori_MAPE</th>\n",
       "      <th>Log_MAPE</th>\n",
       "      <th>Reci_MAPE</th>\n",
       "      <th>Sqrt_MAPE</th>\n",
       "      <th>Box_MAPE</th>\n",
       "    </tr>\n",
       "  </thead>\n",
       "  <tbody>\n",
       "    <tr>\n",
       "      <th>0</th>\n",
       "      <td>Linear Model</td>\n",
       "      <td>16.483920</td>\n",
       "      <td>108.404518</td>\n",
       "      <td>204300.419266</td>\n",
       "      <td>10.795550</td>\n",
       "      <td>46.136285</td>\n",
       "    </tr>\n",
       "    <tr>\n",
       "      <th>1</th>\n",
       "      <td>Exponential Model</td>\n",
       "      <td>64.469798</td>\n",
       "      <td>42.807310</td>\n",
       "      <td>9700.050232</td>\n",
       "      <td>28.047605</td>\n",
       "      <td>48.548968</td>\n",
       "    </tr>\n",
       "    <tr>\n",
       "      <th>2</th>\n",
       "      <td>Quadratic Model</td>\n",
       "      <td>23.150158</td>\n",
       "      <td>18.788091</td>\n",
       "      <td>52980.627821</td>\n",
       "      <td>24.870353</td>\n",
       "      <td>33.364613</td>\n",
       "    </tr>\n",
       "    <tr>\n",
       "      <th>3</th>\n",
       "      <td>Naive Model</td>\n",
       "      <td>4.649507</td>\n",
       "      <td>1.675075</td>\n",
       "      <td>4.766006</td>\n",
       "      <td>2.337979</td>\n",
       "      <td>2.237067</td>\n",
       "    </tr>\n",
       "    <tr>\n",
       "      <th>4</th>\n",
       "      <td>Simple Average</td>\n",
       "      <td>73.892246</td>\n",
       "      <td>131.961075</td>\n",
       "      <td>137792.336173</td>\n",
       "      <td>61.732583</td>\n",
       "      <td>96.683402</td>\n",
       "    </tr>\n",
       "    <tr>\n",
       "      <th>5</th>\n",
       "      <td>Moving Average</td>\n",
       "      <td>4.972519</td>\n",
       "      <td>1.802127</td>\n",
       "      <td>5.183939</td>\n",
       "      <td>2.510991</td>\n",
       "      <td>2.403927</td>\n",
       "    </tr>\n",
       "    <tr>\n",
       "      <th>6</th>\n",
       "      <td>Simple Exp Smoothing</td>\n",
       "      <td>4.742296</td>\n",
       "      <td>1.712167</td>\n",
       "      <td>4.890105</td>\n",
       "      <td>2.388077</td>\n",
       "      <td>2.285605</td>\n",
       "    </tr>\n",
       "    <tr>\n",
       "      <th>7</th>\n",
       "      <td>Holt Smoothing</td>\n",
       "      <td>18.766422</td>\n",
       "      <td>10.030858</td>\n",
       "      <td>2788.653089</td>\n",
       "      <td>11.252373</td>\n",
       "      <td>12.181049</td>\n",
       "    </tr>\n",
       "  </tbody>\n",
       "</table>\n",
       "</div>"
      ],
      "text/plain": [
       "                  Model   Ori_MAPE    Log_MAPE      Reci_MAPE  Sqrt_MAPE  \\\n",
       "0          Linear Model  16.483920  108.404518  204300.419266  10.795550   \n",
       "1     Exponential Model  64.469798   42.807310    9700.050232  28.047605   \n",
       "2       Quadratic Model  23.150158   18.788091   52980.627821  24.870353   \n",
       "3           Naive Model   4.649507    1.675075       4.766006   2.337979   \n",
       "4        Simple Average  73.892246  131.961075  137792.336173  61.732583   \n",
       "5        Moving Average   4.972519    1.802127       5.183939   2.510991   \n",
       "6  Simple Exp Smoothing   4.742296    1.712167       4.890105   2.388077   \n",
       "7        Holt Smoothing  18.766422   10.030858    2788.653089  11.252373   \n",
       "\n",
       "    Box_MAPE  \n",
       "0  46.136285  \n",
       "1  48.548968  \n",
       "2  33.364613  \n",
       "3   2.237067  \n",
       "4  96.683402  \n",
       "5   2.403927  \n",
       "6   2.285605  \n",
       "7  12.181049  "
      ]
     },
     "execution_count": 30,
     "metadata": {},
     "output_type": "execute_result"
    }
   ],
   "source": [
    "#Holt's Smoothing Model/Methods\n",
    "def holt_model(train,test):\n",
    "    fit_ = Holt(np.asarray(train['CO2'])).fit(smoothing_level = 0.1,smoothing_slope = 0.1)\n",
    "    holt = fit_.forecast(len(test))\n",
    "    result = np.mean(np.abs((holt-test.CO2)/test.CO2)*100)\n",
    "    return result\n",
    "#Calling Function for all Data \n",
    "mape_ohsm = holt_model(Ori_train,Ori_test)\n",
    "mape_lhsm = holt_model(Log_train,Log_test)\n",
    "mape_rhsm = holt_model(Reci_train,Reci_test)\n",
    "mape_shsm = holt_model(Sqrt_train,Sqrt_test)\n",
    "mape_bhsm = holt_model(Box_train,Box_test)\n",
    "#Final Result Grid\n",
    "Holt_result_grid = ['Holt Smoothing', mape_ohsm, mape_lhsm, mape_rhsm, mape_shsm, mape_bhsm]\n",
    "Result_df.loc[len(Result_df.index)] = Holt_result_grid \n",
    "Result_df"
   ]
  },
  {
   "cell_type": "code",
   "execution_count": 31,
   "id": "fm6m3s1Pr0Jw",
   "metadata": {
    "colab": {
     "base_uri": "https://localhost:8080/",
     "height": 332
    },
    "id": "fm6m3s1Pr0Jw",
    "outputId": "6c455f71-e344-4b04-a545-cdf2e165a971"
   },
   "outputs": [
    {
     "data": {
      "text/html": [
       "<div>\n",
       "<style scoped>\n",
       "    .dataframe tbody tr th:only-of-type {\n",
       "        vertical-align: middle;\n",
       "    }\n",
       "\n",
       "    .dataframe tbody tr th {\n",
       "        vertical-align: top;\n",
       "    }\n",
       "\n",
       "    .dataframe thead th {\n",
       "        text-align: right;\n",
       "    }\n",
       "</style>\n",
       "<table border=\"1\" class=\"dataframe\">\n",
       "  <thead>\n",
       "    <tr style=\"text-align: right;\">\n",
       "      <th></th>\n",
       "      <th>Model</th>\n",
       "      <th>Ori_MAPE</th>\n",
       "      <th>Log_MAPE</th>\n",
       "      <th>Reci_MAPE</th>\n",
       "      <th>Sqrt_MAPE</th>\n",
       "      <th>Box_MAPE</th>\n",
       "    </tr>\n",
       "  </thead>\n",
       "  <tbody>\n",
       "    <tr>\n",
       "      <th>0</th>\n",
       "      <td>Linear Model</td>\n",
       "      <td>16.483920</td>\n",
       "      <td>108.404518</td>\n",
       "      <td>204300.419266</td>\n",
       "      <td>10.795550</td>\n",
       "      <td>46.136285</td>\n",
       "    </tr>\n",
       "    <tr>\n",
       "      <th>1</th>\n",
       "      <td>Exponential Model</td>\n",
       "      <td>64.469798</td>\n",
       "      <td>42.807310</td>\n",
       "      <td>9700.050232</td>\n",
       "      <td>28.047605</td>\n",
       "      <td>48.548968</td>\n",
       "    </tr>\n",
       "    <tr>\n",
       "      <th>2</th>\n",
       "      <td>Quadratic Model</td>\n",
       "      <td>23.150158</td>\n",
       "      <td>18.788091</td>\n",
       "      <td>52980.627821</td>\n",
       "      <td>24.870353</td>\n",
       "      <td>33.364613</td>\n",
       "    </tr>\n",
       "    <tr>\n",
       "      <th>3</th>\n",
       "      <td>Naive Model</td>\n",
       "      <td>4.649507</td>\n",
       "      <td>1.675075</td>\n",
       "      <td>4.766006</td>\n",
       "      <td>2.337979</td>\n",
       "      <td>2.237067</td>\n",
       "    </tr>\n",
       "    <tr>\n",
       "      <th>4</th>\n",
       "      <td>Simple Average</td>\n",
       "      <td>73.892246</td>\n",
       "      <td>131.961075</td>\n",
       "      <td>137792.336173</td>\n",
       "      <td>61.732583</td>\n",
       "      <td>96.683402</td>\n",
       "    </tr>\n",
       "    <tr>\n",
       "      <th>5</th>\n",
       "      <td>Moving Average</td>\n",
       "      <td>4.972519</td>\n",
       "      <td>1.802127</td>\n",
       "      <td>5.183939</td>\n",
       "      <td>2.510991</td>\n",
       "      <td>2.403927</td>\n",
       "    </tr>\n",
       "    <tr>\n",
       "      <th>6</th>\n",
       "      <td>Simple Exp Smoothing</td>\n",
       "      <td>4.742296</td>\n",
       "      <td>1.712167</td>\n",
       "      <td>4.890105</td>\n",
       "      <td>2.388077</td>\n",
       "      <td>2.285605</td>\n",
       "    </tr>\n",
       "    <tr>\n",
       "      <th>7</th>\n",
       "      <td>Holt Smoothing</td>\n",
       "      <td>18.766422</td>\n",
       "      <td>10.030858</td>\n",
       "      <td>2788.653089</td>\n",
       "      <td>11.252373</td>\n",
       "      <td>12.181049</td>\n",
       "    </tr>\n",
       "    <tr>\n",
       "      <th>8</th>\n",
       "      <td>Holt winter</td>\n",
       "      <td>4.694816</td>\n",
       "      <td>1.675075</td>\n",
       "      <td>4.766006</td>\n",
       "      <td>2.337979</td>\n",
       "      <td>2.237067</td>\n",
       "    </tr>\n",
       "  </tbody>\n",
       "</table>\n",
       "</div>"
      ],
      "text/plain": [
       "                  Model   Ori_MAPE    Log_MAPE      Reci_MAPE  Sqrt_MAPE  \\\n",
       "0          Linear Model  16.483920  108.404518  204300.419266  10.795550   \n",
       "1     Exponential Model  64.469798   42.807310    9700.050232  28.047605   \n",
       "2       Quadratic Model  23.150158   18.788091   52980.627821  24.870353   \n",
       "3           Naive Model   4.649507    1.675075       4.766006   2.337979   \n",
       "4        Simple Average  73.892246  131.961075  137792.336173  61.732583   \n",
       "5        Moving Average   4.972519    1.802127       5.183939   2.510991   \n",
       "6  Simple Exp Smoothing   4.742296    1.712167       4.890105   2.388077   \n",
       "7        Holt Smoothing  18.766422   10.030858    2788.653089  11.252373   \n",
       "8           Holt winter   4.694816    1.675075       4.766006   2.337979   \n",
       "\n",
       "    Box_MAPE  \n",
       "0  46.136285  \n",
       "1  48.548968  \n",
       "2  33.364613  \n",
       "3   2.237067  \n",
       "4  96.683402  \n",
       "5   2.403927  \n",
       "6   2.285605  \n",
       "7  12.181049  \n",
       "8   2.237067  "
      ]
     },
     "execution_count": 31,
     "metadata": {},
     "output_type": "execute_result"
    }
   ],
   "source": [
    "#Holt's Smoothing Model/Methods\n",
    "def holt_winter(train,test):\n",
    "    fit_ = ExponentialSmoothing(train['CO2']).fit()\n",
    "    holtw = fit_.forecast(len(test))\n",
    "    result = np.mean(np.abs((holtw-test.CO2)/test.CO2)*100)\n",
    "    return result\n",
    "#Calling Function for all Data \n",
    "mape_ohwm = holt_winter(Ori_train,Ori_test)\n",
    "mape_lhwm = holt_winter(Log_train,Log_test)\n",
    "mape_rhwm = holt_winter(Reci_train,Reci_test)\n",
    "mape_shwm = holt_winter(Sqrt_train,Sqrt_test)\n",
    "mape_bhwm = holt_winter(Box_train,Box_test)\n",
    "#Final Result Grid\n",
    "Holt_result_grid = ['Holt winter', mape_ohwm, mape_lhwm, mape_rhwm, mape_shwm, mape_bhwm]\n",
    "Result_df.loc[len(Result_df.index)] = Holt_result_grid \n",
    "Result_df"
   ]
  },
  {
   "cell_type": "markdown",
   "id": "XVK4sohCx7IZ",
   "metadata": {
    "id": "XVK4sohCx7IZ"
   },
   "source": [
    "Inference: So Far,  The Best Model is Naive & Holts Winter Model with Log Transformation which gave Least MAPE of 1.675075 Respectively"
   ]
  },
  {
   "cell_type": "markdown",
   "id": "kPPKbQfJz0og",
   "metadata": {
    "id": "kPPKbQfJz0og"
   },
   "source": [
    "#### Arima Models"
   ]
  },
  {
   "cell_type": "markdown",
   "id": "81qiJftp03bK",
   "metadata": {
    "id": "81qiJftp03bK"
   },
   "source": [
    "#### Hyper-parameter Tuning : Finding out optimal (p,d,q)"
   ]
  },
  {
   "cell_type": "code",
   "execution_count": 32,
   "id": "xvL7PxU_7sbl",
   "metadata": {
    "id": "xvL7PxU_7sbl"
   },
   "outputs": [],
   "source": [
    "#Original Data\n",
    "ori_data= pd.read_excel(\"C:/Users/Akaash/Downloads/CO2 dataset.xlsx\", header= 0, index_col=0, parse_dates=True,squeeze=True)\n",
    "#Log Data\n",
    "log_data = np.log(ori_data)\n",
    "#Reci Data\n",
    "reci_data = 1/(ori_data)\n",
    "#Sqrt Data\n",
    "sqrt_data = np.sqrt(ori_data)\n",
    "#Box Data\n",
    "box_data, param = stats.boxcox(ori_data)"
   ]
  },
  {
   "cell_type": "code",
   "execution_count": 33,
   "id": "uNlihT7U052D",
   "metadata": {
    "id": "uNlihT7U052D"
   },
   "outputs": [],
   "source": [
    "# evaluate an ARIMA model for a given order (p,d,q) and return RMSE\n",
    "def evaluate_arima_model(X, arima_order):\n",
    "# prepare training dataset\n",
    "    X = X.astype('float32')\n",
    "    train_size = int(len(X) * 0.20)\n",
    "    train, test = X[0:train_size], X[train_size:]\n",
    "    history = [x for x in train]\n",
    "# make predictions\n",
    "    predictions = list()\n",
    "    for t in range(len(test)):\n",
    "        model = ARIMA(history, order=arima_order)\n",
    "# model_fit = model.fit(disp=0)\n",
    "        model_fit = model.fit(disp=0)\n",
    "        yhat = model_fit.forecast()[0]\n",
    "        predictions.append(yhat)\n",
    "        history.append(test[t])\n",
    "# calculate out of sample error\n",
    "    mape = np.mean(np.abs((yhat-test)/test)*100)\n",
    "    return mape"
   ]
  },
  {
   "cell_type": "code",
   "execution_count": 34,
   "id": "XI3oFXr24mTr",
   "metadata": {
    "id": "XI3oFXr24mTr"
   },
   "outputs": [],
   "source": [
    "# evaluate combinations of p, d and q values for an ARIMA model\n",
    "def evaluate_models(dataset, p_values, d_values, q_values):\n",
    "    dataset = dataset.astype('float32')\n",
    "    best_score, best_cfg = float('inf'), None\n",
    "    for p in p_values:\n",
    "        for d in d_values:\n",
    "            for q in q_values:\n",
    "                order = (p,d,q)\n",
    "                try:\n",
    "                    mape = evaluate_arima_model(dataset, order)\n",
    "                    if mape < best_score:\n",
    "                        best_score, best_cfg = mape, order\n",
    "                    print('ARIMA%s MAPE=%.3f' % (order,mape))\n",
    "                except:\n",
    "                    continue\n",
    "    print('Best ARIMA%s MAPE=%.3f' % (best_cfg, best_score))"
   ]
  },
  {
   "cell_type": "code",
   "execution_count": 35,
   "id": "-HL1jTEBpiDL",
   "metadata": {
    "id": "-HL1jTEBpiDL"
   },
   "outputs": [],
   "source": [
    "# evaluate parameters\n",
    "p_values = range(0, 5)\n",
    "d_values = range(0, 5)\n",
    "q_values = range(0, 5)"
   ]
  },
  {
   "cell_type": "code",
   "execution_count": 36,
   "id": "Un0H2-jHqehQ",
   "metadata": {
    "colab": {
     "base_uri": "https://localhost:8080/"
    },
    "id": "Un0H2-jHqehQ",
    "outputId": "b704b526-69bb-483a-e813-9646b72e2928"
   },
   "outputs": [
    {
     "name": "stdout",
     "output_type": "stream",
     "text": [
      "Best ARIMANone MAPE=inf\n"
     ]
    }
   ],
   "source": [
    "#Grid Search Evaluate Arima For Original Data\n",
    "Best = evaluate_models(ori_data.values, p_values, d_values, q_values)"
   ]
  },
  {
   "cell_type": "code",
   "execution_count": 37,
   "id": "ACcJt2K40DAo",
   "metadata": {
    "colab": {
     "base_uri": "https://localhost:8080/"
    },
    "id": "ACcJt2K40DAo",
    "outputId": "8f8f4bf7-4766-4bd7-d1cd-754889c8e436"
   },
   "outputs": [
    {
     "name": "stdout",
     "output_type": "stream",
     "text": [
      "Best ARIMANone MAPE=inf\n"
     ]
    }
   ],
   "source": [
    "#Grid Search Evaluate Arima For Log Data\n",
    "evaluate_models(log_data.values, p_values, d_values, q_values)"
   ]
  },
  {
   "cell_type": "code",
   "execution_count": 38,
   "id": "RsbfqWCs0av8",
   "metadata": {
    "id": "RsbfqWCs0av8"
   },
   "outputs": [
    {
     "name": "stdout",
     "output_type": "stream",
     "text": [
      "Best ARIMANone MAPE=inf\n"
     ]
    }
   ],
   "source": [
    "#Grid Search Evaluate Arima For Reci Data\n",
    "evaluate_models(reci_data.values, p_values, d_values, q_values)"
   ]
  },
  {
   "cell_type": "code",
   "execution_count": 39,
   "id": "FSzWLHmm0nQy",
   "metadata": {
    "id": "FSzWLHmm0nQy"
   },
   "outputs": [
    {
     "name": "stdout",
     "output_type": "stream",
     "text": [
      "Best ARIMANone MAPE=inf\n"
     ]
    }
   ],
   "source": [
    "#Grid Search Evaluate Arima For Sqrt Data\n",
    "evaluate_models(sqrt_data.values, p_values, d_values, q_values)"
   ]
  },
  {
   "cell_type": "code",
   "execution_count": 40,
   "id": "cTQA6uDc00Np",
   "metadata": {
    "id": "cTQA6uDc00Np"
   },
   "outputs": [
    {
     "name": "stdout",
     "output_type": "stream",
     "text": [
      "Best ARIMANone MAPE=inf\n"
     ]
    }
   ],
   "source": [
    "#Grid Search Evaluate Arima For Box Data\n",
    "Best = evaluate_models(box_data, p_values, d_values, q_values)"
   ]
  },
  {
   "cell_type": "markdown",
   "id": "jJh08UkxB2GV",
   "metadata": {
    "id": "jJh08UkxB2GV"
   },
   "source": [
    "Inference: The Best Arima Model was of reciporal data with mape = 51.207, But the Best/Least mape we got is with Holts Winter  i.e 1.675075 So Our Final Model is Holts Winter"
   ]
  },
  {
   "cell_type": "markdown",
   "id": "fR39gN7R_nd8",
   "metadata": {
    "id": "fR39gN7R_nd8"
   },
   "source": [
    "#### Final model - Holt Winter Smoothing (MAPE)"
   ]
  },
  {
   "cell_type": "code",
   "execution_count": 41,
   "id": "wvY5CcPv_mU3",
   "metadata": {
    "id": "wvY5CcPv_mU3"
   },
   "outputs": [
    {
     "data": {
      "text/plain": [
       "5.894838614449087"
      ]
     },
     "execution_count": 41,
     "metadata": {},
     "output_type": "execute_result"
    }
   ],
   "source": [
    "#Model\n",
    "hw_model = ExponentialSmoothing(Log_['CO2'],seasonal=\"add\",trend=\"add\",seasonal_periods=12).fit()\n",
    "pred_hw = hw_model.predict(start = Log_.index[0],end = Log_.index[-1])\n",
    "tsd1['Forecast']=np.exp(pred_hw)\n",
    "#Final Model Mape\n",
    "final_mape = np.mean(np.abs((pred_hw-Log_.CO2)/Log_.CO2)*100)\n",
    "final_mape"
   ]
  },
  {
   "cell_type": "code",
   "execution_count": 42,
   "id": "cF1b788tAzOU",
   "metadata": {
    "id": "cF1b788tAzOU"
   },
   "outputs": [
    {
     "data": {
      "text/html": [
       "<div>\n",
       "<style scoped>\n",
       "    .dataframe tbody tr th:only-of-type {\n",
       "        vertical-align: middle;\n",
       "    }\n",
       "\n",
       "    .dataframe tbody tr th {\n",
       "        vertical-align: top;\n",
       "    }\n",
       "\n",
       "    .dataframe thead th {\n",
       "        text-align: right;\n",
       "    }\n",
       "</style>\n",
       "<table border=\"1\" class=\"dataframe\">\n",
       "  <thead>\n",
       "    <tr style=\"text-align: right;\">\n",
       "      <th></th>\n",
       "      <th>CO2</th>\n",
       "      <th>Forecast</th>\n",
       "    </tr>\n",
       "    <tr>\n",
       "      <th>Year</th>\n",
       "      <th></th>\n",
       "      <th></th>\n",
       "    </tr>\n",
       "  </thead>\n",
       "  <tbody>\n",
       "    <tr>\n",
       "      <th>1800-01-01</th>\n",
       "      <td>0.00568</td>\n",
       "      <td>0.005681</td>\n",
       "    </tr>\n",
       "    <tr>\n",
       "      <th>1801-01-01</th>\n",
       "      <td>0.00561</td>\n",
       "      <td>0.005349</td>\n",
       "    </tr>\n",
       "    <tr>\n",
       "      <th>1802-01-01</th>\n",
       "      <td>0.00555</td>\n",
       "      <td>0.005551</td>\n",
       "    </tr>\n",
       "    <tr>\n",
       "      <th>1803-01-01</th>\n",
       "      <td>0.00548</td>\n",
       "      <td>0.005688</td>\n",
       "    </tr>\n",
       "    <tr>\n",
       "      <th>1804-01-01</th>\n",
       "      <td>0.00542</td>\n",
       "      <td>0.005473</td>\n",
       "    </tr>\n",
       "    <tr>\n",
       "      <th>...</th>\n",
       "      <td>...</td>\n",
       "      <td>...</td>\n",
       "    </tr>\n",
       "    <tr>\n",
       "      <th>2010-01-01</th>\n",
       "      <td>15.60000</td>\n",
       "      <td>15.487164</td>\n",
       "    </tr>\n",
       "    <tr>\n",
       "      <th>2011-01-01</th>\n",
       "      <td>15.60000</td>\n",
       "      <td>15.610964</td>\n",
       "    </tr>\n",
       "    <tr>\n",
       "      <th>2012-01-01</th>\n",
       "      <td>14.80000</td>\n",
       "      <td>15.811241</td>\n",
       "    </tr>\n",
       "    <tr>\n",
       "      <th>2013-01-01</th>\n",
       "      <td>14.70000</td>\n",
       "      <td>14.284661</td>\n",
       "    </tr>\n",
       "    <tr>\n",
       "      <th>2014-01-01</th>\n",
       "      <td>15.10000</td>\n",
       "      <td>16.398927</td>\n",
       "    </tr>\n",
       "  </tbody>\n",
       "</table>\n",
       "<p>215 rows × 2 columns</p>\n",
       "</div>"
      ],
      "text/plain": [
       "                 CO2   Forecast\n",
       "Year                           \n",
       "1800-01-01   0.00568   0.005681\n",
       "1801-01-01   0.00561   0.005349\n",
       "1802-01-01   0.00555   0.005551\n",
       "1803-01-01   0.00548   0.005688\n",
       "1804-01-01   0.00542   0.005473\n",
       "...              ...        ...\n",
       "2010-01-01  15.60000  15.487164\n",
       "2011-01-01  15.60000  15.610964\n",
       "2012-01-01  14.80000  15.811241\n",
       "2013-01-01  14.70000  14.284661\n",
       "2014-01-01  15.10000  16.398927\n",
       "\n",
       "[215 rows x 2 columns]"
      ]
     },
     "execution_count": 42,
     "metadata": {},
     "output_type": "execute_result"
    }
   ],
   "source": [
    "#Forecast\n",
    "tsd1"
   ]
  },
  {
   "cell_type": "code",
   "execution_count": 43,
   "id": "13k3pSMQA-n6",
   "metadata": {
    "id": "13k3pSMQA-n6"
   },
   "outputs": [
    {
     "data": {
      "image/png": "[encoded data removed]",
      "text/plain": [
       "<Figure size 864x432 with 1 Axes>"
      ]
     },
     "metadata": {
      "needs_background": "light"
     },
     "output_type": "display_data"
    }
   ],
   "source": [
    "#Forecasted Data Line \n",
    "plt.figure(figsize=(12,6))\n",
    "plt.plot(tsd1['CO2'], label='Test')\n",
    "plt.plot(tsd1['Forecast'], label='HW')\n",
    "plt.legend(loc='best')\n",
    "plt.grid()\n",
    "plt.show()"
   ]
  },
  {
   "cell_type": "markdown",
   "id": "aHwBKpK7rG5c",
   "metadata": {
    "id": "aHwBKpK7rG5c"
   },
   "source": [
    "#### Forecast for 10 years"
   ]
  },
  {
   "cell_type": "code",
   "execution_count": 44,
   "id": "TJ-Ct5SLrF-p",
   "metadata": {
    "id": "TJ-Ct5SLrF-p"
   },
   "outputs": [
    {
     "data": {
      "text/plain": [
       "(10, 1)"
      ]
     },
     "execution_count": 44,
     "metadata": {},
     "output_type": "execute_result"
    }
   ],
   "source": [
    "future_dates_10 = [tsd1.index[-1] + DateOffset(years=x)for x in range(0,11)]\n",
    "future_df_10 = pd.DataFrame(index=future_dates_10[1:],columns=tsd1.columns)\n",
    "future_df_10 = future_df_10.drop(['Forecast'], axis = 'columns')\n",
    "future_df_10.index.name = \"Year\"\n",
    "future_df_10.shape"
   ]
  },
  {
   "cell_type": "code",
   "execution_count": 45,
   "id": "LuupUOkSz0Uh",
   "metadata": {
    "id": "LuupUOkSz0Uh"
   },
   "outputs": [
    {
     "data": {
      "text/html": [
       "<div>\n",
       "<style scoped>\n",
       "    .dataframe tbody tr th:only-of-type {\n",
       "        vertical-align: middle;\n",
       "    }\n",
       "\n",
       "    .dataframe tbody tr th {\n",
       "        vertical-align: top;\n",
       "    }\n",
       "\n",
       "    .dataframe thead th {\n",
       "        text-align: right;\n",
       "    }\n",
       "</style>\n",
       "<table border=\"1\" class=\"dataframe\">\n",
       "  <thead>\n",
       "    <tr style=\"text-align: right;\">\n",
       "      <th></th>\n",
       "      <th>CO2</th>\n",
       "    </tr>\n",
       "    <tr>\n",
       "      <th>Year</th>\n",
       "      <th></th>\n",
       "    </tr>\n",
       "  </thead>\n",
       "  <tbody>\n",
       "    <tr>\n",
       "      <th>2015-01-01</th>\n",
       "      <td>14.976164</td>\n",
       "    </tr>\n",
       "    <tr>\n",
       "      <th>2016-01-01</th>\n",
       "      <td>14.791402</td>\n",
       "    </tr>\n",
       "    <tr>\n",
       "      <th>2017-01-01</th>\n",
       "      <td>13.853309</td>\n",
       "    </tr>\n",
       "    <tr>\n",
       "      <th>2018-01-01</th>\n",
       "      <td>13.587498</td>\n",
       "    </tr>\n",
       "    <tr>\n",
       "      <th>2019-01-01</th>\n",
       "      <td>13.804055</td>\n",
       "    </tr>\n",
       "    <tr>\n",
       "      <th>2020-01-01</th>\n",
       "      <td>13.701170</td>\n",
       "    </tr>\n",
       "    <tr>\n",
       "      <th>2021-01-01</th>\n",
       "      <td>13.266196</td>\n",
       "    </tr>\n",
       "    <tr>\n",
       "      <th>2022-01-01</th>\n",
       "      <td>12.820284</td>\n",
       "    </tr>\n",
       "    <tr>\n",
       "      <th>2023-01-01</th>\n",
       "      <td>12.722137</td>\n",
       "    </tr>\n",
       "    <tr>\n",
       "      <th>2024-01-01</th>\n",
       "      <td>12.787331</td>\n",
       "    </tr>\n",
       "  </tbody>\n",
       "</table>\n",
       "</div>"
      ],
      "text/plain": [
       "                  CO2\n",
       "Year                 \n",
       "2015-01-01  14.976164\n",
       "2016-01-01  14.791402\n",
       "2017-01-01  13.853309\n",
       "2018-01-01  13.587498\n",
       "2019-01-01  13.804055\n",
       "2020-01-01  13.701170\n",
       "2021-01-01  13.266196\n",
       "2022-01-01  12.820284\n",
       "2023-01-01  12.722137\n",
       "2024-01-01  12.787331"
      ]
     },
     "execution_count": 45,
     "metadata": {},
     "output_type": "execute_result"
    }
   ],
   "source": [
    "#Predicting\n",
    "next_10 = hw_model.forecast(10)\n",
    "future_df_10['CO2']= np.exp(next_10)\n",
    "#Printing the DF\n",
    "future_df_10"
   ]
  },
  {
   "cell_type": "code",
   "execution_count": 46,
   "id": "ak8R9ubWBh6a",
   "metadata": {
    "id": "ak8R9ubWBh6a"
   },
   "outputs": [
    {
     "data": {
      "image/png": "[encoded data removed]",
      "text/plain": [
       "<Figure size 1200x500 with 1 Axes>"
      ]
     },
     "metadata": {
      "needs_background": "light"
     },
     "output_type": "display_data"
    }
   ],
   "source": [
    "#Original Data\n",
    "tsd2 = tsd1.drop(['Forecast'], axis='columns')\n",
    "#Plotting the Forecasted Data of Next 10 Years\n",
    "plt.figure(figsize=(12,5), dpi=100)\n",
    "plt.plot(tsd2, label='original')\n",
    "#plt.plot(test, label='actual')\n",
    "plt.plot(future_df_10['CO2'], label='forecast')\n",
    "plt.title('Forecast')\n",
    "plt.legend(loc='upper left', fontsize=8)\n",
    "plt.show()"
   ]
  },
  {
   "cell_type": "markdown",
   "id": "UzB6JUZQDC22",
   "metadata": {
    "id": "UzB6JUZQDC22"
   },
   "source": [
    "#### Saving the Forecasted Data for the Next 10 Years in CSV"
   ]
  },
  {
   "cell_type": "code",
   "execution_count": 47,
   "id": "BE0D5gvKCCfZ",
   "metadata": {
    "id": "BE0D5gvKCCfZ"
   },
   "outputs": [],
   "source": [
    "# Exporting to csv file\n",
    "future_df_10.to_csv(r'C:/Users/Akaash/Downloads/forecast_data_10years.csv',index=True)"
   ]
  },
  {
   "cell_type": "markdown",
   "id": "iJ-0sJVgDfDt",
   "metadata": {
    "id": "iJ-0sJVgDfDt"
   },
   "source": [
    "#### Saving the Trained Model"
   ]
  },
  {
   "cell_type": "code",
   "execution_count": 48,
   "id": "3_b-4JvoDPEH",
   "metadata": {
    "id": "3_b-4JvoDPEH"
   },
   "outputs": [],
   "source": [
    "# .sav file\n",
    "import pickle\n",
    "filename = 'C:/Users/Akaash/Downloads/air_quality_forecast.sav'\n",
    "pickle.dump(hw_model, open(filename, 'wb'))"
   ]
  },
  {
   "cell_type": "code",
   "execution_count": 49,
   "id": "Sl010y0fDyvb",
   "metadata": {
    "id": "Sl010y0fDyvb"
   },
   "outputs": [],
   "source": [
    "# .pickle file\n",
    "with open('C:/Users/Akaash/Downloads/air_quality_forecasts.pickle','wb') as f:\n",
    "    pickle.dump(hw_model,f)"
   ]
  },
  {
   "cell_type": "markdown",
   "id": "3c48892b",
   "metadata": {},
   "source": [
    "#### Saving for Deployment"
   ]
  },
  {
   "cell_type": "code",
   "execution_count": 50,
   "id": "94740855",
   "metadata": {},
   "outputs": [],
   "source": [
    "final_df = tsd1.drop(['Forecast'],axis=\"columns\")\n",
    "#For Deployment\n",
    "final_df.to_pickle(\"C:/Users/Akaash/Downloads/air_final_df.pickle\")\n",
    "final_df.to_csv(\"C:/Users/Akaash/Downloads/CO2_Cleaned_data.csv\")"
   ]
  }
 ],
 "metadata": {
  "colab": {
   "collapsed_sections": [],
   "name": "Forecasting Project - Air Quality.ipynb",
   "provenance": []
  },
  "kernelspec": {
   "display_name": "Python 3 (ipykernel)",
   "language": "python",
   "name": "python3"
  },
  "language_info": {
   "codemirror_mode": {
    "name": "ipython",
    "version": 3
   },
   "file_extension": ".py",
   "mimetype": "text/x-python",
   "name": "python",
   "nbconvert_exporter": "python",
   "pygments_lexer": "ipython3",
   "version": "3.9.7"
  }
 },
 "nbformat": 4,
 "nbformat_minor": 5
}
