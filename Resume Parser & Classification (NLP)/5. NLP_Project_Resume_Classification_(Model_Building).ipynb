{
  "cells": [
    {
      "cell_type": "markdown",
      "source": [
        "### NLP Project - Resume Classification"
      ],
      "metadata": {
        "id": "w50LY2MrdjRg"
      }
    },
    {
      "cell_type": "markdown",
      "source": [
        "#### Model Building"
      ],
      "metadata": {
        "id": "nF1bvm68doG_"
      }
    },
    {
      "cell_type": "code",
      "execution_count": 1,
      "metadata": {
        "colab": {
          "base_uri": "https://localhost:8080/"
        },
        "id": "WHweq5bW8nFG",
        "outputId": "37ada3a2-c14b-430f-de0c-a9d116d07c33"
      },
      "outputs": [
        {
          "output_type": "stream",
          "name": "stdout",
          "text": [
            "Mounted at /content/drive\n"
          ]
        }
      ],
      "source": [
        "# Mounting Google Drive\n",
        "from google.colab import drive\n",
        "drive.mount('/content/drive')"
      ]
    },
    {
      "cell_type": "code",
      "execution_count": 2,
      "metadata": {
        "id": "jZ--5XY68nzr",
        "colab": {
          "base_uri": "https://localhost:8080/"
        },
        "outputId": "94fe6556-8878-4e11-9ff8-8d5f253583a8"
      },
      "outputs": [
        {
          "output_type": "stream",
          "name": "stdout",
          "text": [
            "[nltk_data] Downloading package stopwords to /root/nltk_data...\n",
            "[nltk_data]   Unzipping corpora/stopwords.zip.\n",
            "[nltk_data] Downloading package punkt to /root/nltk_data...\n",
            "[nltk_data]   Unzipping tokenizers/punkt.zip.\n",
            "[nltk_data] Downloading package wordnet to /root/nltk_data...\n",
            "[nltk_data]   Unzipping corpora/wordnet.zip.\n"
          ]
        },
        {
          "output_type": "execute_result",
          "data": {
            "text/plain": [
              "True"
            ]
          },
          "metadata": {},
          "execution_count": 2
        }
      ],
      "source": [
        "# Importing Libraries\n",
        "import pandas as pd\n",
        "import numpy as np\n",
        "import os\n",
        "\n",
        "#Models\n",
        "from sklearn.linear_model import LogisticRegression\n",
        "from sklearn.tree import  DecisionTreeClassifier\n",
        "from sklearn.ensemble import RandomForestClassifier\n",
        "from sklearn.ensemble import AdaBoostClassifier\n",
        "from sklearn.ensemble import GradientBoostingClassifier\n",
        "from sklearn.multiclass import OneVsRestClassifier\n",
        "from xgboost import XGBClassifier\n",
        "from sklearn.svm import SVC\n",
        "from sklearn.neighbors import KNeighborsClassifier\n",
        "from sklearn.naive_bayes import MultinomialNB\n",
        "from sklearn.naive_bayes import GaussianNB \n",
        "\n",
        "from sklearn.preprocessing import LabelEncoder\n",
        "from sklearn.feature_extraction.text import CountVectorizer\n",
        "from sklearn.model_selection import train_test_split, KFold, GridSearchCV\n",
        "from sklearn.metrics import accuracy_score, confusion_matrix\n",
        "\n",
        "#NLP PreProcessing\n",
        "import nltk\n",
        "import re\n",
        "import string\n",
        "from nltk.stem import PorterStemmer, WordNetLemmatizer\n",
        "from nltk.corpus import stopwords\n",
        "from nltk.tokenize import word_tokenize\n",
        "nltk.download('stopwords')\n",
        "nltk.download('punkt')\n",
        "nltk.download('wordnet')"
      ]
    },
    {
      "cell_type": "code",
      "execution_count": 3,
      "metadata": {
        "id": "3S5EniP29Ycm"
      },
      "outputs": [],
      "source": [
        "#Declaring the Classess Name Based on Our Resumes\n",
        "ModelPath = '/content/drive/MyDrive/Original_Resumes'\n",
        "Resume_Classes = ['Peoplesoft resumes','React resumes','SQL Developer Lightning insight','Workday resumes','Different resumes']"
      ]
    },
    {
      "cell_type": "code",
      "execution_count": 4,
      "metadata": {
        "id": "F77SoDUP9ebH"
      },
      "outputs": [],
      "source": [
        "label = []\n",
        "key = []\n",
        "#Created a Function which will get a resume as 'key' & its coresponding class as 'labels'\n",
        "def create_training_data():\n",
        "    for category in Resume_Classes:\n",
        "        path = os.path.join(ModelPath,category)\n",
        "        class_num = Resume_Classes.index(category)\n",
        "        for resume in os.listdir(path):\n",
        "            label.append(category)\n",
        "            key.append(resume)            \n",
        "\n",
        "#Calling the Function\n",
        "create_training_data()        "
      ]
    },
    {
      "cell_type": "code",
      "execution_count": 5,
      "metadata": {
        "colab": {
          "base_uri": "https://localhost:8080/"
        },
        "id": "jIlfnFY-x5sI",
        "outputId": "a2d89606-eee8-4c88-a45f-2459c5613d03"
      },
      "outputs": [
        {
          "output_type": "stream",
          "name": "stdout",
          "text": [
            "Labels: \n",
            "['Peoplesoft resumes', 'Peoplesoft resumes', 'Peoplesoft resumes', 'Peoplesoft resumes', 'Peoplesoft resumes', 'Peoplesoft resumes', 'Peoplesoft resumes', 'Peoplesoft resumes', 'Peoplesoft resumes', 'Peoplesoft resumes']\n",
            "Length of Labels: 79\n",
            "Keys: \n",
            "['Resume_Subha Santosh_Peoplesoft FSCM.docx', 'Peoplesoft Finance_Arun Venu.doc', 'Peoplesoft FSCM_R Ahmed.doc', 'Peoplesoft Finance_Rahul Ahuja.doc', 'Peoplesoft Admin_Priyanka Ramadoss.doc', 'Peoplesoft Admin_Varkala Vikas.docx', 'PeopleSoft DBA_Ganesh Alladi.doc', 'Peoplesoft Admin_Gangareddy.doc', 'Peoplesoft Admin_AnubhavSingh.docx', 'Peoplesoft FSCM_Murali.docx']\n",
            "Length of Keys: 79\n"
          ]
        }
      ],
      "source": [
        "#Printing the Labels & Key First 10 Only.\n",
        "print('Labels: \\n{}\\nLength of Labels: {}\\nKeys: \\n{}\\nLength of Keys: {}'.format(label[:10], len(label), key[:10], len(key)))"
      ]
    },
    {
      "cell_type": "code",
      "execution_count": 6,
      "metadata": {
        "id": "-6TsXwAgzpeS"
      },
      "outputs": [],
      "source": [
        "# Creating a Dictionary of Key and Label (It will store Resumes as key & classs as value)\n",
        "labelDict = dict(zip(key, label))"
      ]
    },
    {
      "cell_type": "code",
      "execution_count": 7,
      "metadata": {
        "id": "OE2bCMxnJQKm"
      },
      "outputs": [],
      "source": [
        "# Now Sorting it in alphabetical order of keys\n",
        "finalDict = {}\n",
        "for i in sorted(labelDict.keys()):\n",
        "    finalDict[i] = labelDict[i]"
      ]
    },
    {
      "cell_type": "code",
      "execution_count": 8,
      "metadata": {
        "colab": {
          "base_uri": "https://localhost:8080/",
          "height": 372
        },
        "id": "kDcmvcl7z05W",
        "outputId": "bb1e0469-b7e1-4406-f454-020e8300a542"
      },
      "outputs": [
        {
          "output_type": "execute_result",
          "data": {
            "text/plain": [
              "                 Names  Mobile_Number        Email  \\\n",
              "0         kotani durga     9112345678  abc@xyz.com   \n",
              "1     developer/ react     9112345678  abc@xyz.com   \n",
              "2       mareedu lokesh     9112345678  abc@xyz.com   \n",
              "3      kamalakar reddy      777682196  abc@xyz.com   \n",
              "4  thirupathamma balla     9112345678  abc@xyz.com   \n",
              "\n",
              "                                              Skills          Education  \\\n",
              "0  ['Visual', 'Interactive', 'Usability', 'Html',...          ['BTech']   \n",
              "1  ['Scrum', 'Html', 'Website', 'Technical skills...         ['B-Tech']   \n",
              "2  ['Sales', 'Visual', 'Database', 'Testing', 'Se...          ['BTech']   \n",
              "3  ['Visual', 'Ubuntu', 'Html', 'Html5', 'Js', 'U...                 []   \n",
              "4  ['Engineering', 'Technical skills', 'Electrica...  [('SSC', '2014')]   \n",
              "\n",
              "  Years_of_Experience                                              links  \\\n",
              "0                 3.1  ['https://www.linkedin.com/fake', 'https://www...   \n",
              "1                 3.2  ['https://www.linkedin.com/fake', 'https://www...   \n",
              "2                   2  ['https://www.linkedin.com/fake', 'https://www...   \n",
              "3                   3  ['https://www.linkedin.com/fake', 'https://www...   \n",
              "4                 2.8  ['https://www.linkedin.com/fake', 'https://www...   \n",
              "\n",
              "                                  Universities_Names  \n",
              "0  ['Education Details:  B.Tech (Computer Science...  \n",
              "1  ['QUALIFICATION: B-Tech from JNTU-Kakinada Uni...  \n",
              "2                                                 []  \n",
              "3  ['TITLE : lernbook  DESCRIPTION: Fortunapix wo...  \n",
              "4  [\"Education Course Institution Percentage Year...  "
            ],
            "text/html": [
              "\n",
              "  <div id=\"df-393d13df-1ccc-4c58-91fe-7d88dc531e5c\">\n",
              "    <div class=\"colab-df-container\">\n",
              "      <div>\n",
              "<style scoped>\n",
              "    .dataframe tbody tr th:only-of-type {\n",
              "        vertical-align: middle;\n",
              "    }\n",
              "\n",
              "    .dataframe tbody tr th {\n",
              "        vertical-align: top;\n",
              "    }\n",
              "\n",
              "    .dataframe thead th {\n",
              "        text-align: right;\n",
              "    }\n",
              "</style>\n",
              "<table border=\"1\" class=\"dataframe\">\n",
              "  <thead>\n",
              "    <tr style=\"text-align: right;\">\n",
              "      <th></th>\n",
              "      <th>Names</th>\n",
              "      <th>Mobile_Number</th>\n",
              "      <th>Email</th>\n",
              "      <th>Skills</th>\n",
              "      <th>Education</th>\n",
              "      <th>Years_of_Experience</th>\n",
              "      <th>links</th>\n",
              "      <th>Universities_Names</th>\n",
              "    </tr>\n",
              "  </thead>\n",
              "  <tbody>\n",
              "    <tr>\n",
              "      <th>0</th>\n",
              "      <td>kotani durga</td>\n",
              "      <td>9112345678</td>\n",
              "      <td>abc@xyz.com</td>\n",
              "      <td>['Visual', 'Interactive', 'Usability', 'Html',...</td>\n",
              "      <td>['BTech']</td>\n",
              "      <td>3.1</td>\n",
              "      <td>['https://www.linkedin.com/fake', 'https://www...</td>\n",
              "      <td>['Education Details:  B.Tech (Computer Science...</td>\n",
              "    </tr>\n",
              "    <tr>\n",
              "      <th>1</th>\n",
              "      <td>developer/ react</td>\n",
              "      <td>9112345678</td>\n",
              "      <td>abc@xyz.com</td>\n",
              "      <td>['Scrum', 'Html', 'Website', 'Technical skills...</td>\n",
              "      <td>['B-Tech']</td>\n",
              "      <td>3.2</td>\n",
              "      <td>['https://www.linkedin.com/fake', 'https://www...</td>\n",
              "      <td>['QUALIFICATION: B-Tech from JNTU-Kakinada Uni...</td>\n",
              "    </tr>\n",
              "    <tr>\n",
              "      <th>2</th>\n",
              "      <td>mareedu lokesh</td>\n",
              "      <td>9112345678</td>\n",
              "      <td>abc@xyz.com</td>\n",
              "      <td>['Sales', 'Visual', 'Database', 'Testing', 'Se...</td>\n",
              "      <td>['BTech']</td>\n",
              "      <td>2</td>\n",
              "      <td>['https://www.linkedin.com/fake', 'https://www...</td>\n",
              "      <td>[]</td>\n",
              "    </tr>\n",
              "    <tr>\n",
              "      <th>3</th>\n",
              "      <td>kamalakar reddy</td>\n",
              "      <td>777682196</td>\n",
              "      <td>abc@xyz.com</td>\n",
              "      <td>['Visual', 'Ubuntu', 'Html', 'Html5', 'Js', 'U...</td>\n",
              "      <td>[]</td>\n",
              "      <td>3</td>\n",
              "      <td>['https://www.linkedin.com/fake', 'https://www...</td>\n",
              "      <td>['TITLE : lernbook  DESCRIPTION: Fortunapix wo...</td>\n",
              "    </tr>\n",
              "    <tr>\n",
              "      <th>4</th>\n",
              "      <td>thirupathamma balla</td>\n",
              "      <td>9112345678</td>\n",
              "      <td>abc@xyz.com</td>\n",
              "      <td>['Engineering', 'Technical skills', 'Electrica...</td>\n",
              "      <td>[('SSC', '2014')]</td>\n",
              "      <td>2.8</td>\n",
              "      <td>['https://www.linkedin.com/fake', 'https://www...</td>\n",
              "      <td>[\"Education Course Institution Percentage Year...</td>\n",
              "    </tr>\n",
              "  </tbody>\n",
              "</table>\n",
              "</div>\n",
              "      <button class=\"colab-df-convert\" onclick=\"convertToInteractive('df-393d13df-1ccc-4c58-91fe-7d88dc531e5c')\"\n",
              "              title=\"Convert this dataframe to an interactive table.\"\n",
              "              style=\"display:none;\">\n",
              "        \n",
              "  <svg xmlns=\"http://www.w3.org/2000/svg\" height=\"24px\"viewBox=\"0 0 24 24\"\n",
              "       width=\"24px\">\n",
              "    <path d=\"M0 0h24v24H0V0z\" fill=\"none\"/>\n",
              "    <path d=\"M18.56 5.44l.94 2.06.94-2.06 2.06-.94-2.06-.94-.94-2.06-.94 2.06-2.06.94zm-11 1L8.5 8.5l.94-2.06 2.06-.94-2.06-.94L8.5 2.5l-.94 2.06-2.06.94zm10 10l.94 2.06.94-2.06 2.06-.94-2.06-.94-.94-2.06-.94 2.06-2.06.94z\"/><path d=\"M17.41 7.96l-1.37-1.37c-.4-.4-.92-.59-1.43-.59-.52 0-1.04.2-1.43.59L10.3 9.45l-7.72 7.72c-.78.78-.78 2.05 0 2.83L4 21.41c.39.39.9.59 1.41.59.51 0 1.02-.2 1.41-.59l7.78-7.78 2.81-2.81c.8-.78.8-2.07 0-2.86zM5.41 20L4 18.59l7.72-7.72 1.47 1.35L5.41 20z\"/>\n",
              "  </svg>\n",
              "      </button>\n",
              "      \n",
              "  <style>\n",
              "    .colab-df-container {\n",
              "      display:flex;\n",
              "      flex-wrap:wrap;\n",
              "      gap: 12px;\n",
              "    }\n",
              "\n",
              "    .colab-df-convert {\n",
              "      background-color: #E8F0FE;\n",
              "      border: none;\n",
              "      border-radius: 50%;\n",
              "      cursor: pointer;\n",
              "      display: none;\n",
              "      fill: #1967D2;\n",
              "      height: 32px;\n",
              "      padding: 0 0 0 0;\n",
              "      width: 32px;\n",
              "    }\n",
              "\n",
              "    .colab-df-convert:hover {\n",
              "      background-color: #E2EBFA;\n",
              "      box-shadow: 0px 1px 2px rgba(60, 64, 67, 0.3), 0px 1px 3px 1px rgba(60, 64, 67, 0.15);\n",
              "      fill: #174EA6;\n",
              "    }\n",
              "\n",
              "    [theme=dark] .colab-df-convert {\n",
              "      background-color: #3B4455;\n",
              "      fill: #D2E3FC;\n",
              "    }\n",
              "\n",
              "    [theme=dark] .colab-df-convert:hover {\n",
              "      background-color: #434B5C;\n",
              "      box-shadow: 0px 1px 3px 1px rgba(0, 0, 0, 0.15);\n",
              "      filter: drop-shadow(0px 1px 2px rgba(0, 0, 0, 0.3));\n",
              "      fill: #FFFFFF;\n",
              "    }\n",
              "  </style>\n",
              "\n",
              "      <script>\n",
              "        const buttonEl =\n",
              "          document.querySelector('#df-393d13df-1ccc-4c58-91fe-7d88dc531e5c button.colab-df-convert');\n",
              "        buttonEl.style.display =\n",
              "          google.colab.kernel.accessAllowed ? 'block' : 'none';\n",
              "\n",
              "        async function convertToInteractive(key) {\n",
              "          const element = document.querySelector('#df-393d13df-1ccc-4c58-91fe-7d88dc531e5c');\n",
              "          const dataTable =\n",
              "            await google.colab.kernel.invokeFunction('convertToInteractive',\n",
              "                                                     [key], {});\n",
              "          if (!dataTable) return;\n",
              "\n",
              "          const docLinkHtml = 'Like what you see? Visit the ' +\n",
              "            '<a target=\"_blank\" href=https://colab.research.google.com/notebooks/data_table.ipynb>data table notebook</a>'\n",
              "            + ' to learn more about interactive tables.';\n",
              "          element.innerHTML = '';\n",
              "          dataTable['output_type'] = 'display_data';\n",
              "          await google.colab.output.renderOutput(dataTable, element);\n",
              "          const docLink = document.createElement('div');\n",
              "          docLink.innerHTML = docLinkHtml;\n",
              "          element.appendChild(docLink);\n",
              "        }\n",
              "      </script>\n",
              "    </div>\n",
              "  </div>\n",
              "  "
            ]
          },
          "metadata": {},
          "execution_count": 8
        }
      ],
      "source": [
        "# Let's Import Features.csv in which we had did feature extraction\n",
        "Features = pd.read_csv('/content/Features.csv')\n",
        "Features.head()"
      ]
    },
    {
      "cell_type": "code",
      "execution_count": 9,
      "metadata": {
        "colab": {
          "base_uri": "https://localhost:8080/"
        },
        "id": "2zhtQcUi007u",
        "outputId": "f994415b-5e72-4bd1-f2e2-2da236d43f0a"
      },
      "outputs": [
        {
          "output_type": "execute_result",
          "data": {
            "text/plain": [
              "Names                   0\n",
              "Mobile_Number           0\n",
              "Email                   0\n",
              "Skills                  0\n",
              "Education               0\n",
              "Years_of_Experience    10\n",
              "links                   0\n",
              "Universities_Names      0\n",
              "dtype: int64"
            ]
          },
          "metadata": {},
          "execution_count": 9
        }
      ],
      "source": [
        "#Checking for NA Values\n",
        "Features.isnull().sum()"
      ]
    },
    {
      "cell_type": "code",
      "execution_count": 10,
      "metadata": {
        "id": "Ya9S--xY05DT",
        "colab": {
          "base_uri": "https://localhost:8080/",
          "height": 206
        },
        "outputId": "25a9eccf-c36f-4e7e-f013-6b4a2332aeb9"
      },
      "outputs": [
        {
          "output_type": "execute_result",
          "data": {
            "text/plain": [
              "                 Names                                             Skills  \\\n",
              "0         kotani durga  ['Visual', 'Interactive', 'Usability', 'Html',...   \n",
              "1     developer/ react  ['Scrum', 'Html', 'Website', 'Technical skills...   \n",
              "2       mareedu lokesh  ['Sales', 'Visual', 'Database', 'Testing', 'Se...   \n",
              "3      kamalakar reddy  ['Visual', 'Ubuntu', 'Html', 'Html5', 'Js', 'U...   \n",
              "4  thirupathamma balla  ['Engineering', 'Technical skills', 'Electrica...   \n",
              "\n",
              "                Label  \n",
              "0  Peoplesoft resumes  \n",
              "1  Peoplesoft resumes  \n",
              "2  Peoplesoft resumes  \n",
              "3  Peoplesoft resumes  \n",
              "4  Peoplesoft resumes  "
            ],
            "text/html": [
              "\n",
              "  <div id=\"df-8c1bb4af-8583-4d04-9d7f-bff7ba3fafe7\">\n",
              "    <div class=\"colab-df-container\">\n",
              "      <div>\n",
              "<style scoped>\n",
              "    .dataframe tbody tr th:only-of-type {\n",
              "        vertical-align: middle;\n",
              "    }\n",
              "\n",
              "    .dataframe tbody tr th {\n",
              "        vertical-align: top;\n",
              "    }\n",
              "\n",
              "    .dataframe thead th {\n",
              "        text-align: right;\n",
              "    }\n",
              "</style>\n",
              "<table border=\"1\" class=\"dataframe\">\n",
              "  <thead>\n",
              "    <tr style=\"text-align: right;\">\n",
              "      <th></th>\n",
              "      <th>Names</th>\n",
              "      <th>Skills</th>\n",
              "      <th>Label</th>\n",
              "    </tr>\n",
              "  </thead>\n",
              "  <tbody>\n",
              "    <tr>\n",
              "      <th>0</th>\n",
              "      <td>kotani durga</td>\n",
              "      <td>['Visual', 'Interactive', 'Usability', 'Html',...</td>\n",
              "      <td>Peoplesoft resumes</td>\n",
              "    </tr>\n",
              "    <tr>\n",
              "      <th>1</th>\n",
              "      <td>developer/ react</td>\n",
              "      <td>['Scrum', 'Html', 'Website', 'Technical skills...</td>\n",
              "      <td>Peoplesoft resumes</td>\n",
              "    </tr>\n",
              "    <tr>\n",
              "      <th>2</th>\n",
              "      <td>mareedu lokesh</td>\n",
              "      <td>['Sales', 'Visual', 'Database', 'Testing', 'Se...</td>\n",
              "      <td>Peoplesoft resumes</td>\n",
              "    </tr>\n",
              "    <tr>\n",
              "      <th>3</th>\n",
              "      <td>kamalakar reddy</td>\n",
              "      <td>['Visual', 'Ubuntu', 'Html', 'Html5', 'Js', 'U...</td>\n",
              "      <td>Peoplesoft resumes</td>\n",
              "    </tr>\n",
              "    <tr>\n",
              "      <th>4</th>\n",
              "      <td>thirupathamma balla</td>\n",
              "      <td>['Engineering', 'Technical skills', 'Electrica...</td>\n",
              "      <td>Peoplesoft resumes</td>\n",
              "    </tr>\n",
              "  </tbody>\n",
              "</table>\n",
              "</div>\n",
              "      <button class=\"colab-df-convert\" onclick=\"convertToInteractive('df-8c1bb4af-8583-4d04-9d7f-bff7ba3fafe7')\"\n",
              "              title=\"Convert this dataframe to an interactive table.\"\n",
              "              style=\"display:none;\">\n",
              "        \n",
              "  <svg xmlns=\"http://www.w3.org/2000/svg\" height=\"24px\"viewBox=\"0 0 24 24\"\n",
              "       width=\"24px\">\n",
              "    <path d=\"M0 0h24v24H0V0z\" fill=\"none\"/>\n",
              "    <path d=\"M18.56 5.44l.94 2.06.94-2.06 2.06-.94-2.06-.94-.94-2.06-.94 2.06-2.06.94zm-11 1L8.5 8.5l.94-2.06 2.06-.94-2.06-.94L8.5 2.5l-.94 2.06-2.06.94zm10 10l.94 2.06.94-2.06 2.06-.94-2.06-.94-.94-2.06-.94 2.06-2.06.94z\"/><path d=\"M17.41 7.96l-1.37-1.37c-.4-.4-.92-.59-1.43-.59-.52 0-1.04.2-1.43.59L10.3 9.45l-7.72 7.72c-.78.78-.78 2.05 0 2.83L4 21.41c.39.39.9.59 1.41.59.51 0 1.02-.2 1.41-.59l7.78-7.78 2.81-2.81c.8-.78.8-2.07 0-2.86zM5.41 20L4 18.59l7.72-7.72 1.47 1.35L5.41 20z\"/>\n",
              "  </svg>\n",
              "      </button>\n",
              "      \n",
              "  <style>\n",
              "    .colab-df-container {\n",
              "      display:flex;\n",
              "      flex-wrap:wrap;\n",
              "      gap: 12px;\n",
              "    }\n",
              "\n",
              "    .colab-df-convert {\n",
              "      background-color: #E8F0FE;\n",
              "      border: none;\n",
              "      border-radius: 50%;\n",
              "      cursor: pointer;\n",
              "      display: none;\n",
              "      fill: #1967D2;\n",
              "      height: 32px;\n",
              "      padding: 0 0 0 0;\n",
              "      width: 32px;\n",
              "    }\n",
              "\n",
              "    .colab-df-convert:hover {\n",
              "      background-color: #E2EBFA;\n",
              "      box-shadow: 0px 1px 2px rgba(60, 64, 67, 0.3), 0px 1px 3px 1px rgba(60, 64, 67, 0.15);\n",
              "      fill: #174EA6;\n",
              "    }\n",
              "\n",
              "    [theme=dark] .colab-df-convert {\n",
              "      background-color: #3B4455;\n",
              "      fill: #D2E3FC;\n",
              "    }\n",
              "\n",
              "    [theme=dark] .colab-df-convert:hover {\n",
              "      background-color: #434B5C;\n",
              "      box-shadow: 0px 1px 3px 1px rgba(0, 0, 0, 0.15);\n",
              "      filter: drop-shadow(0px 1px 2px rgba(0, 0, 0, 0.3));\n",
              "      fill: #FFFFFF;\n",
              "    }\n",
              "  </style>\n",
              "\n",
              "      <script>\n",
              "        const buttonEl =\n",
              "          document.querySelector('#df-8c1bb4af-8583-4d04-9d7f-bff7ba3fafe7 button.colab-df-convert');\n",
              "        buttonEl.style.display =\n",
              "          google.colab.kernel.accessAllowed ? 'block' : 'none';\n",
              "\n",
              "        async function convertToInteractive(key) {\n",
              "          const element = document.querySelector('#df-8c1bb4af-8583-4d04-9d7f-bff7ba3fafe7');\n",
              "          const dataTable =\n",
              "            await google.colab.kernel.invokeFunction('convertToInteractive',\n",
              "                                                     [key], {});\n",
              "          if (!dataTable) return;\n",
              "\n",
              "          const docLinkHtml = 'Like what you see? Visit the ' +\n",
              "            '<a target=\"_blank\" href=https://colab.research.google.com/notebooks/data_table.ipynb>data table notebook</a>'\n",
              "            + ' to learn more about interactive tables.';\n",
              "          element.innerHTML = '';\n",
              "          dataTable['output_type'] = 'display_data';\n",
              "          await google.colab.output.renderOutput(dataTable, element);\n",
              "          const docLink = document.createElement('div');\n",
              "          docLink.innerHTML = docLinkHtml;\n",
              "          element.appendChild(docLink);\n",
              "        }\n",
              "      </script>\n",
              "    </div>\n",
              "  </div>\n",
              "  "
            ]
          },
          "metadata": {},
          "execution_count": 10
        }
      ],
      "source": [
        "# Creating a Dataframe for Modelling\n",
        "Model_Features = pd.DataFrame(Features['Names'])\n",
        "Model_Features['Skills'] = Features['Skills']\n",
        "Model_Features['Label'] = labelDict.values()\n",
        "Model_Features.head()"
      ]
    },
    {
      "cell_type": "code",
      "execution_count": 11,
      "metadata": {
        "id": "pkB9Chu31PK_"
      },
      "outputs": [],
      "source": [
        "# Store the file into a csv file\n",
        "Model_Features.to_csv('Model_features.csv', index = None)"
      ]
    },
    {
      "cell_type": "code",
      "source": [
        "#Loading the Dataset we created\n",
        "df = pd.read_csv('/content/Model_features.csv')\n",
        "df.head()"
      ],
      "metadata": {
        "colab": {
          "base_uri": "https://localhost:8080/",
          "height": 206
        },
        "id": "YXfm8LV_jwyi",
        "outputId": "a94e34a2-3b92-4c2f-c562-6eabf3ae4366"
      },
      "execution_count": 12,
      "outputs": [
        {
          "output_type": "execute_result",
          "data": {
            "text/plain": [
              "                 Names                                             Skills  \\\n",
              "0         kotani durga  ['Visual', 'Interactive', 'Usability', 'Html',...   \n",
              "1     developer/ react  ['Scrum', 'Html', 'Website', 'Technical skills...   \n",
              "2       mareedu lokesh  ['Sales', 'Visual', 'Database', 'Testing', 'Se...   \n",
              "3      kamalakar reddy  ['Visual', 'Ubuntu', 'Html', 'Html5', 'Js', 'U...   \n",
              "4  thirupathamma balla  ['Engineering', 'Technical skills', 'Electrica...   \n",
              "\n",
              "                Label  \n",
              "0  Peoplesoft resumes  \n",
              "1  Peoplesoft resumes  \n",
              "2  Peoplesoft resumes  \n",
              "3  Peoplesoft resumes  \n",
              "4  Peoplesoft resumes  "
            ],
            "text/html": [
              "\n",
              "  <div id=\"df-4f76f575-5654-4d03-8603-704760dbbbf5\">\n",
              "    <div class=\"colab-df-container\">\n",
              "      <div>\n",
              "<style scoped>\n",
              "    .dataframe tbody tr th:only-of-type {\n",
              "        vertical-align: middle;\n",
              "    }\n",
              "\n",
              "    .dataframe tbody tr th {\n",
              "        vertical-align: top;\n",
              "    }\n",
              "\n",
              "    .dataframe thead th {\n",
              "        text-align: right;\n",
              "    }\n",
              "</style>\n",
              "<table border=\"1\" class=\"dataframe\">\n",
              "  <thead>\n",
              "    <tr style=\"text-align: right;\">\n",
              "      <th></th>\n",
              "      <th>Names</th>\n",
              "      <th>Skills</th>\n",
              "      <th>Label</th>\n",
              "    </tr>\n",
              "  </thead>\n",
              "  <tbody>\n",
              "    <tr>\n",
              "      <th>0</th>\n",
              "      <td>kotani durga</td>\n",
              "      <td>['Visual', 'Interactive', 'Usability', 'Html',...</td>\n",
              "      <td>Peoplesoft resumes</td>\n",
              "    </tr>\n",
              "    <tr>\n",
              "      <th>1</th>\n",
              "      <td>developer/ react</td>\n",
              "      <td>['Scrum', 'Html', 'Website', 'Technical skills...</td>\n",
              "      <td>Peoplesoft resumes</td>\n",
              "    </tr>\n",
              "    <tr>\n",
              "      <th>2</th>\n",
              "      <td>mareedu lokesh</td>\n",
              "      <td>['Sales', 'Visual', 'Database', 'Testing', 'Se...</td>\n",
              "      <td>Peoplesoft resumes</td>\n",
              "    </tr>\n",
              "    <tr>\n",
              "      <th>3</th>\n",
              "      <td>kamalakar reddy</td>\n",
              "      <td>['Visual', 'Ubuntu', 'Html', 'Html5', 'Js', 'U...</td>\n",
              "      <td>Peoplesoft resumes</td>\n",
              "    </tr>\n",
              "    <tr>\n",
              "      <th>4</th>\n",
              "      <td>thirupathamma balla</td>\n",
              "      <td>['Engineering', 'Technical skills', 'Electrica...</td>\n",
              "      <td>Peoplesoft resumes</td>\n",
              "    </tr>\n",
              "  </tbody>\n",
              "</table>\n",
              "</div>\n",
              "      <button class=\"colab-df-convert\" onclick=\"convertToInteractive('df-4f76f575-5654-4d03-8603-704760dbbbf5')\"\n",
              "              title=\"Convert this dataframe to an interactive table.\"\n",
              "              style=\"display:none;\">\n",
              "        \n",
              "  <svg xmlns=\"http://www.w3.org/2000/svg\" height=\"24px\"viewBox=\"0 0 24 24\"\n",
              "       width=\"24px\">\n",
              "    <path d=\"M0 0h24v24H0V0z\" fill=\"none\"/>\n",
              "    <path d=\"M18.56 5.44l.94 2.06.94-2.06 2.06-.94-2.06-.94-.94-2.06-.94 2.06-2.06.94zm-11 1L8.5 8.5l.94-2.06 2.06-.94-2.06-.94L8.5 2.5l-.94 2.06-2.06.94zm10 10l.94 2.06.94-2.06 2.06-.94-2.06-.94-.94-2.06-.94 2.06-2.06.94z\"/><path d=\"M17.41 7.96l-1.37-1.37c-.4-.4-.92-.59-1.43-.59-.52 0-1.04.2-1.43.59L10.3 9.45l-7.72 7.72c-.78.78-.78 2.05 0 2.83L4 21.41c.39.39.9.59 1.41.59.51 0 1.02-.2 1.41-.59l7.78-7.78 2.81-2.81c.8-.78.8-2.07 0-2.86zM5.41 20L4 18.59l7.72-7.72 1.47 1.35L5.41 20z\"/>\n",
              "  </svg>\n",
              "      </button>\n",
              "      \n",
              "  <style>\n",
              "    .colab-df-container {\n",
              "      display:flex;\n",
              "      flex-wrap:wrap;\n",
              "      gap: 12px;\n",
              "    }\n",
              "\n",
              "    .colab-df-convert {\n",
              "      background-color: #E8F0FE;\n",
              "      border: none;\n",
              "      border-radius: 50%;\n",
              "      cursor: pointer;\n",
              "      display: none;\n",
              "      fill: #1967D2;\n",
              "      height: 32px;\n",
              "      padding: 0 0 0 0;\n",
              "      width: 32px;\n",
              "    }\n",
              "\n",
              "    .colab-df-convert:hover {\n",
              "      background-color: #E2EBFA;\n",
              "      box-shadow: 0px 1px 2px rgba(60, 64, 67, 0.3), 0px 1px 3px 1px rgba(60, 64, 67, 0.15);\n",
              "      fill: #174EA6;\n",
              "    }\n",
              "\n",
              "    [theme=dark] .colab-df-convert {\n",
              "      background-color: #3B4455;\n",
              "      fill: #D2E3FC;\n",
              "    }\n",
              "\n",
              "    [theme=dark] .colab-df-convert:hover {\n",
              "      background-color: #434B5C;\n",
              "      box-shadow: 0px 1px 3px 1px rgba(0, 0, 0, 0.15);\n",
              "      filter: drop-shadow(0px 1px 2px rgba(0, 0, 0, 0.3));\n",
              "      fill: #FFFFFF;\n",
              "    }\n",
              "  </style>\n",
              "\n",
              "      <script>\n",
              "        const buttonEl =\n",
              "          document.querySelector('#df-4f76f575-5654-4d03-8603-704760dbbbf5 button.colab-df-convert');\n",
              "        buttonEl.style.display =\n",
              "          google.colab.kernel.accessAllowed ? 'block' : 'none';\n",
              "\n",
              "        async function convertToInteractive(key) {\n",
              "          const element = document.querySelector('#df-4f76f575-5654-4d03-8603-704760dbbbf5');\n",
              "          const dataTable =\n",
              "            await google.colab.kernel.invokeFunction('convertToInteractive',\n",
              "                                                     [key], {});\n",
              "          if (!dataTable) return;\n",
              "\n",
              "          const docLinkHtml = 'Like what you see? Visit the ' +\n",
              "            '<a target=\"_blank\" href=https://colab.research.google.com/notebooks/data_table.ipynb>data table notebook</a>'\n",
              "            + ' to learn more about interactive tables.';\n",
              "          element.innerHTML = '';\n",
              "          dataTable['output_type'] = 'display_data';\n",
              "          await google.colab.output.renderOutput(dataTable, element);\n",
              "          const docLink = document.createElement('div');\n",
              "          docLink.innerHTML = docLinkHtml;\n",
              "          element.appendChild(docLink);\n",
              "        }\n",
              "      </script>\n",
              "    </div>\n",
              "  </div>\n",
              "  "
            ]
          },
          "metadata": {},
          "execution_count": 12
        }
      ]
    },
    {
      "cell_type": "code",
      "execution_count": 13,
      "metadata": {
        "colab": {
          "base_uri": "https://localhost:8080/"
        },
        "id": "QOHb3HUOLnnE",
        "outputId": "a91f3b69-f409-47ea-ec80-5d4eb39daeb6"
      },
      "outputs": [
        {
          "output_type": "execute_result",
          "data": {
            "text/plain": [
              "Names     0\n",
              "Skills    0\n",
              "Label     0\n",
              "dtype: int64"
            ]
          },
          "metadata": {},
          "execution_count": 13
        }
      ],
      "source": [
        "#Checking for NA Values\n",
        "df.isnull().sum()"
      ]
    },
    {
      "cell_type": "markdown",
      "metadata": {
        "id": "Drr_BaccLASo"
      },
      "source": [
        "##### Data cleaning"
      ]
    },
    {
      "cell_type": "code",
      "execution_count": 14,
      "metadata": {
        "id": "YmeYCKlMMHao"
      },
      "outputs": [],
      "source": [
        "#Initializing the Stop Words\n",
        "lemmetizer = WordNetLemmatizer()\n",
        "stop_words = stopwords.words('english')"
      ]
    },
    {
      "cell_type": "code",
      "execution_count": 15,
      "metadata": {
        "id": "Yi3VvBlJMdqN"
      },
      "outputs": [],
      "source": [
        "#Function to get clean Skills\n",
        "cleaned_data = []\n",
        "def clean_data(text):\n",
        "    text_clean = []\n",
        "    text_tokens = word_tokenize(text)\n",
        "    for word in text_tokens:\n",
        "        if (word not in stop_words and # remove stopwords\n",
        "            word not in string.punctuation): # remove punctuation\n",
        "            stem_word = lemmetizer.lemmatize(word) # stemming word\n",
        "            text_clean.append(stem_word)\n",
        "    list_to_str = ' '.join([str(ele) for ele in text_clean])\n",
        "    list_to_str = re.sub(\"'\",'',list_to_str)   \n",
        "    return list_to_str.lower() \n",
        "\n",
        "#Calling Function\n",
        "for text in df['Skills']:\n",
        "    cleaned_data.append(clean_data(text))"
      ]
    },
    {
      "cell_type": "code",
      "execution_count": 16,
      "metadata": {
        "colab": {
          "base_uri": "https://localhost:8080/",
          "height": 206
        },
        "id": "uaUXm4AVMYC9",
        "outputId": "5d4c439c-c3cf-4885-8b48-e1f95a5e12e7"
      },
      "outputs": [
        {
          "output_type": "execute_result",
          "data": {
            "text/plain": [
              "                 Names                                             Skills  \\\n",
              "0         kotani durga  ['Visual', 'Interactive', 'Usability', 'Html',...   \n",
              "1     developer/ react  ['Scrum', 'Html', 'Website', 'Technical skills...   \n",
              "2       mareedu lokesh  ['Sales', 'Visual', 'Database', 'Testing', 'Se...   \n",
              "3      kamalakar reddy  ['Visual', 'Ubuntu', 'Html', 'Html5', 'Js', 'U...   \n",
              "4  thirupathamma balla  ['Engineering', 'Technical skills', 'Electrica...   \n",
              "\n",
              "                Label                                     Cleaned Skills  \n",
              "0  Peoplesoft resumes  visual interactive usability html routing webs...  \n",
              "1  Peoplesoft resumes  scrum html website technical skill programming...  \n",
              "2  Peoplesoft resumes  sales visual database testing servers end user...  \n",
              "3  Peoplesoft resumes  visual ubuntu html html5 js ui coding communic...  \n",
              "4  Peoplesoft resumes  engineering technical skill electrical program...  "
            ],
            "text/html": [
              "\n",
              "  <div id=\"df-cb0f835d-5695-4605-8ce0-fd32ebe978ce\">\n",
              "    <div class=\"colab-df-container\">\n",
              "      <div>\n",
              "<style scoped>\n",
              "    .dataframe tbody tr th:only-of-type {\n",
              "        vertical-align: middle;\n",
              "    }\n",
              "\n",
              "    .dataframe tbody tr th {\n",
              "        vertical-align: top;\n",
              "    }\n",
              "\n",
              "    .dataframe thead th {\n",
              "        text-align: right;\n",
              "    }\n",
              "</style>\n",
              "<table border=\"1\" class=\"dataframe\">\n",
              "  <thead>\n",
              "    <tr style=\"text-align: right;\">\n",
              "      <th></th>\n",
              "      <th>Names</th>\n",
              "      <th>Skills</th>\n",
              "      <th>Label</th>\n",
              "      <th>Cleaned Skills</th>\n",
              "    </tr>\n",
              "  </thead>\n",
              "  <tbody>\n",
              "    <tr>\n",
              "      <th>0</th>\n",
              "      <td>kotani durga</td>\n",
              "      <td>['Visual', 'Interactive', 'Usability', 'Html',...</td>\n",
              "      <td>Peoplesoft resumes</td>\n",
              "      <td>visual interactive usability html routing webs...</td>\n",
              "    </tr>\n",
              "    <tr>\n",
              "      <th>1</th>\n",
              "      <td>developer/ react</td>\n",
              "      <td>['Scrum', 'Html', 'Website', 'Technical skills...</td>\n",
              "      <td>Peoplesoft resumes</td>\n",
              "      <td>scrum html website technical skill programming...</td>\n",
              "    </tr>\n",
              "    <tr>\n",
              "      <th>2</th>\n",
              "      <td>mareedu lokesh</td>\n",
              "      <td>['Sales', 'Visual', 'Database', 'Testing', 'Se...</td>\n",
              "      <td>Peoplesoft resumes</td>\n",
              "      <td>sales visual database testing servers end user...</td>\n",
              "    </tr>\n",
              "    <tr>\n",
              "      <th>3</th>\n",
              "      <td>kamalakar reddy</td>\n",
              "      <td>['Visual', 'Ubuntu', 'Html', 'Html5', 'Js', 'U...</td>\n",
              "      <td>Peoplesoft resumes</td>\n",
              "      <td>visual ubuntu html html5 js ui coding communic...</td>\n",
              "    </tr>\n",
              "    <tr>\n",
              "      <th>4</th>\n",
              "      <td>thirupathamma balla</td>\n",
              "      <td>['Engineering', 'Technical skills', 'Electrica...</td>\n",
              "      <td>Peoplesoft resumes</td>\n",
              "      <td>engineering technical skill electrical program...</td>\n",
              "    </tr>\n",
              "  </tbody>\n",
              "</table>\n",
              "</div>\n",
              "      <button class=\"colab-df-convert\" onclick=\"convertToInteractive('df-cb0f835d-5695-4605-8ce0-fd32ebe978ce')\"\n",
              "              title=\"Convert this dataframe to an interactive table.\"\n",
              "              style=\"display:none;\">\n",
              "        \n",
              "  <svg xmlns=\"http://www.w3.org/2000/svg\" height=\"24px\"viewBox=\"0 0 24 24\"\n",
              "       width=\"24px\">\n",
              "    <path d=\"M0 0h24v24H0V0z\" fill=\"none\"/>\n",
              "    <path d=\"M18.56 5.44l.94 2.06.94-2.06 2.06-.94-2.06-.94-.94-2.06-.94 2.06-2.06.94zm-11 1L8.5 8.5l.94-2.06 2.06-.94-2.06-.94L8.5 2.5l-.94 2.06-2.06.94zm10 10l.94 2.06.94-2.06 2.06-.94-2.06-.94-.94-2.06-.94 2.06-2.06.94z\"/><path d=\"M17.41 7.96l-1.37-1.37c-.4-.4-.92-.59-1.43-.59-.52 0-1.04.2-1.43.59L10.3 9.45l-7.72 7.72c-.78.78-.78 2.05 0 2.83L4 21.41c.39.39.9.59 1.41.59.51 0 1.02-.2 1.41-.59l7.78-7.78 2.81-2.81c.8-.78.8-2.07 0-2.86zM5.41 20L4 18.59l7.72-7.72 1.47 1.35L5.41 20z\"/>\n",
              "  </svg>\n",
              "      </button>\n",
              "      \n",
              "  <style>\n",
              "    .colab-df-container {\n",
              "      display:flex;\n",
              "      flex-wrap:wrap;\n",
              "      gap: 12px;\n",
              "    }\n",
              "\n",
              "    .colab-df-convert {\n",
              "      background-color: #E8F0FE;\n",
              "      border: none;\n",
              "      border-radius: 50%;\n",
              "      cursor: pointer;\n",
              "      display: none;\n",
              "      fill: #1967D2;\n",
              "      height: 32px;\n",
              "      padding: 0 0 0 0;\n",
              "      width: 32px;\n",
              "    }\n",
              "\n",
              "    .colab-df-convert:hover {\n",
              "      background-color: #E2EBFA;\n",
              "      box-shadow: 0px 1px 2px rgba(60, 64, 67, 0.3), 0px 1px 3px 1px rgba(60, 64, 67, 0.15);\n",
              "      fill: #174EA6;\n",
              "    }\n",
              "\n",
              "    [theme=dark] .colab-df-convert {\n",
              "      background-color: #3B4455;\n",
              "      fill: #D2E3FC;\n",
              "    }\n",
              "\n",
              "    [theme=dark] .colab-df-convert:hover {\n",
              "      background-color: #434B5C;\n",
              "      box-shadow: 0px 1px 3px 1px rgba(0, 0, 0, 0.15);\n",
              "      filter: drop-shadow(0px 1px 2px rgba(0, 0, 0, 0.3));\n",
              "      fill: #FFFFFF;\n",
              "    }\n",
              "  </style>\n",
              "\n",
              "      <script>\n",
              "        const buttonEl =\n",
              "          document.querySelector('#df-cb0f835d-5695-4605-8ce0-fd32ebe978ce button.colab-df-convert');\n",
              "        buttonEl.style.display =\n",
              "          google.colab.kernel.accessAllowed ? 'block' : 'none';\n",
              "\n",
              "        async function convertToInteractive(key) {\n",
              "          const element = document.querySelector('#df-cb0f835d-5695-4605-8ce0-fd32ebe978ce');\n",
              "          const dataTable =\n",
              "            await google.colab.kernel.invokeFunction('convertToInteractive',\n",
              "                                                     [key], {});\n",
              "          if (!dataTable) return;\n",
              "\n",
              "          const docLinkHtml = 'Like what you see? Visit the ' +\n",
              "            '<a target=\"_blank\" href=https://colab.research.google.com/notebooks/data_table.ipynb>data table notebook</a>'\n",
              "            + ' to learn more about interactive tables.';\n",
              "          element.innerHTML = '';\n",
              "          dataTable['output_type'] = 'display_data';\n",
              "          await google.colab.output.renderOutput(dataTable, element);\n",
              "          const docLink = document.createElement('div');\n",
              "          docLink.innerHTML = docLinkHtml;\n",
              "          element.appendChild(docLink);\n",
              "        }\n",
              "      </script>\n",
              "    </div>\n",
              "  </div>\n",
              "  "
            ]
          },
          "metadata": {},
          "execution_count": 16
        }
      ],
      "source": [
        "#Adding the Clean Skills to the Df\n",
        "df['Cleaned Skills'] = cleaned_data\n",
        "df.head()"
      ]
    },
    {
      "cell_type": "markdown",
      "metadata": {
        "id": "zJgAEIiJLGDr"
      },
      "source": [
        "##### Label Encoding"
      ]
    },
    {
      "cell_type": "code",
      "execution_count": 17,
      "metadata": {
        "id": "LhmF0QfINFnH",
        "colab": {
          "base_uri": "https://localhost:8080/",
          "height": 206
        },
        "outputId": "0d882fc6-75f1-4f38-9859-894642d15896"
      },
      "outputs": [
        {
          "output_type": "execute_result",
          "data": {
            "text/plain": [
              "                 Names                                             Skills  \\\n",
              "0         kotani durga  ['Visual', 'Interactive', 'Usability', 'Html',...   \n",
              "1     developer/ react  ['Scrum', 'Html', 'Website', 'Technical skills...   \n",
              "2       mareedu lokesh  ['Sales', 'Visual', 'Database', 'Testing', 'Se...   \n",
              "3      kamalakar reddy  ['Visual', 'Ubuntu', 'Html', 'Html5', 'Js', 'U...   \n",
              "4  thirupathamma balla  ['Engineering', 'Technical skills', 'Electrica...   \n",
              "\n",
              "   Label                                     Cleaned Skills  \n",
              "0      1  visual interactive usability html routing webs...  \n",
              "1      1  scrum html website technical skill programming...  \n",
              "2      1  sales visual database testing servers end user...  \n",
              "3      1  visual ubuntu html html5 js ui coding communic...  \n",
              "4      1  engineering technical skill electrical program...  "
            ],
            "text/html": [
              "\n",
              "  <div id=\"df-2379c7ad-131a-4ca1-a064-8de749a6dcb4\">\n",
              "    <div class=\"colab-df-container\">\n",
              "      <div>\n",
              "<style scoped>\n",
              "    .dataframe tbody tr th:only-of-type {\n",
              "        vertical-align: middle;\n",
              "    }\n",
              "\n",
              "    .dataframe tbody tr th {\n",
              "        vertical-align: top;\n",
              "    }\n",
              "\n",
              "    .dataframe thead th {\n",
              "        text-align: right;\n",
              "    }\n",
              "</style>\n",
              "<table border=\"1\" class=\"dataframe\">\n",
              "  <thead>\n",
              "    <tr style=\"text-align: right;\">\n",
              "      <th></th>\n",
              "      <th>Names</th>\n",
              "      <th>Skills</th>\n",
              "      <th>Label</th>\n",
              "      <th>Cleaned Skills</th>\n",
              "    </tr>\n",
              "  </thead>\n",
              "  <tbody>\n",
              "    <tr>\n",
              "      <th>0</th>\n",
              "      <td>kotani durga</td>\n",
              "      <td>['Visual', 'Interactive', 'Usability', 'Html',...</td>\n",
              "      <td>1</td>\n",
              "      <td>visual interactive usability html routing webs...</td>\n",
              "    </tr>\n",
              "    <tr>\n",
              "      <th>1</th>\n",
              "      <td>developer/ react</td>\n",
              "      <td>['Scrum', 'Html', 'Website', 'Technical skills...</td>\n",
              "      <td>1</td>\n",
              "      <td>scrum html website technical skill programming...</td>\n",
              "    </tr>\n",
              "    <tr>\n",
              "      <th>2</th>\n",
              "      <td>mareedu lokesh</td>\n",
              "      <td>['Sales', 'Visual', 'Database', 'Testing', 'Se...</td>\n",
              "      <td>1</td>\n",
              "      <td>sales visual database testing servers end user...</td>\n",
              "    </tr>\n",
              "    <tr>\n",
              "      <th>3</th>\n",
              "      <td>kamalakar reddy</td>\n",
              "      <td>['Visual', 'Ubuntu', 'Html', 'Html5', 'Js', 'U...</td>\n",
              "      <td>1</td>\n",
              "      <td>visual ubuntu html html5 js ui coding communic...</td>\n",
              "    </tr>\n",
              "    <tr>\n",
              "      <th>4</th>\n",
              "      <td>thirupathamma balla</td>\n",
              "      <td>['Engineering', 'Technical skills', 'Electrica...</td>\n",
              "      <td>1</td>\n",
              "      <td>engineering technical skill electrical program...</td>\n",
              "    </tr>\n",
              "  </tbody>\n",
              "</table>\n",
              "</div>\n",
              "      <button class=\"colab-df-convert\" onclick=\"convertToInteractive('df-2379c7ad-131a-4ca1-a064-8de749a6dcb4')\"\n",
              "              title=\"Convert this dataframe to an interactive table.\"\n",
              "              style=\"display:none;\">\n",
              "        \n",
              "  <svg xmlns=\"http://www.w3.org/2000/svg\" height=\"24px\"viewBox=\"0 0 24 24\"\n",
              "       width=\"24px\">\n",
              "    <path d=\"M0 0h24v24H0V0z\" fill=\"none\"/>\n",
              "    <path d=\"M18.56 5.44l.94 2.06.94-2.06 2.06-.94-2.06-.94-.94-2.06-.94 2.06-2.06.94zm-11 1L8.5 8.5l.94-2.06 2.06-.94-2.06-.94L8.5 2.5l-.94 2.06-2.06.94zm10 10l.94 2.06.94-2.06 2.06-.94-2.06-.94-.94-2.06-.94 2.06-2.06.94z\"/><path d=\"M17.41 7.96l-1.37-1.37c-.4-.4-.92-.59-1.43-.59-.52 0-1.04.2-1.43.59L10.3 9.45l-7.72 7.72c-.78.78-.78 2.05 0 2.83L4 21.41c.39.39.9.59 1.41.59.51 0 1.02-.2 1.41-.59l7.78-7.78 2.81-2.81c.8-.78.8-2.07 0-2.86zM5.41 20L4 18.59l7.72-7.72 1.47 1.35L5.41 20z\"/>\n",
              "  </svg>\n",
              "      </button>\n",
              "      \n",
              "  <style>\n",
              "    .colab-df-container {\n",
              "      display:flex;\n",
              "      flex-wrap:wrap;\n",
              "      gap: 12px;\n",
              "    }\n",
              "\n",
              "    .colab-df-convert {\n",
              "      background-color: #E8F0FE;\n",
              "      border: none;\n",
              "      border-radius: 50%;\n",
              "      cursor: pointer;\n",
              "      display: none;\n",
              "      fill: #1967D2;\n",
              "      height: 32px;\n",
              "      padding: 0 0 0 0;\n",
              "      width: 32px;\n",
              "    }\n",
              "\n",
              "    .colab-df-convert:hover {\n",
              "      background-color: #E2EBFA;\n",
              "      box-shadow: 0px 1px 2px rgba(60, 64, 67, 0.3), 0px 1px 3px 1px rgba(60, 64, 67, 0.15);\n",
              "      fill: #174EA6;\n",
              "    }\n",
              "\n",
              "    [theme=dark] .colab-df-convert {\n",
              "      background-color: #3B4455;\n",
              "      fill: #D2E3FC;\n",
              "    }\n",
              "\n",
              "    [theme=dark] .colab-df-convert:hover {\n",
              "      background-color: #434B5C;\n",
              "      box-shadow: 0px 1px 3px 1px rgba(0, 0, 0, 0.15);\n",
              "      filter: drop-shadow(0px 1px 2px rgba(0, 0, 0, 0.3));\n",
              "      fill: #FFFFFF;\n",
              "    }\n",
              "  </style>\n",
              "\n",
              "      <script>\n",
              "        const buttonEl =\n",
              "          document.querySelector('#df-2379c7ad-131a-4ca1-a064-8de749a6dcb4 button.colab-df-convert');\n",
              "        buttonEl.style.display =\n",
              "          google.colab.kernel.accessAllowed ? 'block' : 'none';\n",
              "\n",
              "        async function convertToInteractive(key) {\n",
              "          const element = document.querySelector('#df-2379c7ad-131a-4ca1-a064-8de749a6dcb4');\n",
              "          const dataTable =\n",
              "            await google.colab.kernel.invokeFunction('convertToInteractive',\n",
              "                                                     [key], {});\n",
              "          if (!dataTable) return;\n",
              "\n",
              "          const docLinkHtml = 'Like what you see? Visit the ' +\n",
              "            '<a target=\"_blank\" href=https://colab.research.google.com/notebooks/data_table.ipynb>data table notebook</a>'\n",
              "            + ' to learn more about interactive tables.';\n",
              "          element.innerHTML = '';\n",
              "          dataTable['output_type'] = 'display_data';\n",
              "          await google.colab.output.renderOutput(dataTable, element);\n",
              "          const docLink = document.createElement('div');\n",
              "          docLink.innerHTML = docLinkHtml;\n",
              "          element.appendChild(docLink);\n",
              "        }\n",
              "      </script>\n",
              "    </div>\n",
              "  </div>\n",
              "  "
            ]
          },
          "metadata": {},
          "execution_count": 17
        }
      ],
      "source": [
        "# Label Encoder\n",
        "le = LabelEncoder()\n",
        "df['Label'] = le.fit_transform(df['Label'])\n",
        "df.head()"
      ]
    },
    {
      "cell_type": "code",
      "source": [
        "#Checking the Class value count\n",
        "df['Label'].value_counts()"
      ],
      "metadata": {
        "colab": {
          "base_uri": "https://localhost:8080/"
        },
        "id": "2kBcQpeQlwRs",
        "outputId": "ba725798-20d2-46ec-ae84-e4cebff4e36b"
      },
      "execution_count": 18,
      "outputs": [
        {
          "output_type": "execute_result",
          "data": {
            "text/plain": [
              "2    22\n",
              "4    21\n",
              "1    20\n",
              "3    14\n",
              "0     2\n",
              "Name: Label, dtype: int64"
            ]
          },
          "metadata": {},
          "execution_count": 18
        }
      ]
    },
    {
      "cell_type": "code",
      "source": [
        "df.info()"
      ],
      "metadata": {
        "colab": {
          "base_uri": "https://localhost:8080/"
        },
        "id": "vbSxY1bj8H2V",
        "outputId": "0a1f1572-f032-4f00-c77d-84ea3604748f"
      },
      "execution_count": 19,
      "outputs": [
        {
          "output_type": "stream",
          "name": "stdout",
          "text": [
            "<class 'pandas.core.frame.DataFrame'>\n",
            "RangeIndex: 79 entries, 0 to 78\n",
            "Data columns (total 4 columns):\n",
            " #   Column          Non-Null Count  Dtype \n",
            "---  ------          --------------  ----- \n",
            " 0   Names           79 non-null     object\n",
            " 1   Skills          79 non-null     object\n",
            " 2   Label           79 non-null     int64 \n",
            " 3   Cleaned Skills  79 non-null     object\n",
            "dtypes: int64(1), object(3)\n",
            "memory usage: 2.6+ KB\n"
          ]
        }
      ]
    },
    {
      "cell_type": "code",
      "source": [
        "# Store the file into a csv file\n",
        "df.to_csv('Final_features.csv', index = None)"
      ],
      "metadata": {
        "id": "j6JC_BQ-yn8Z"
      },
      "execution_count": 20,
      "outputs": []
    },
    {
      "cell_type": "markdown",
      "metadata": {
        "id": "TkIYxy2DLOFS"
      },
      "source": [
        "##### Train Test Split"
      ]
    },
    {
      "cell_type": "code",
      "execution_count": 21,
      "metadata": {
        "colab": {
          "base_uri": "https://localhost:8080/"
        },
        "id": "f8CvNnPCNhWM",
        "outputId": "b7d0d980-d63e-4261-bf6b-b7623f931bba"
      },
      "outputs": [
        {
          "output_type": "execute_result",
          "data": {
            "text/plain": [
              "((63,), (16,), (63,), (16,))"
            ]
          },
          "metadata": {},
          "execution_count": 21
        }
      ],
      "source": [
        "#Taking only Skills & Label\n",
        "x = df['Cleaned Skills'].values\n",
        "y = df['Label'].values\n",
        "#Splitting 80%-20%\n",
        "x_train, x_test, y_train, y_test = train_test_split(x,y, test_size= 0.20, random_state= 38)\n",
        "x_train.shape, x_test.shape, y_train.shape, y_test.shape"
      ]
    },
    {
      "cell_type": "markdown",
      "metadata": {
        "id": "Zco0xsX_pmdR"
      },
      "source": [
        "##### Model Building"
      ]
    },
    {
      "cell_type": "code",
      "source": [
        "#Vectoriation \n",
        "CV = CountVectorizer(max_features=20,stop_words = 'english')\n",
        "x_train_cv = CV.fit_transform(x_train)\n",
        "x_test_cv = CV.transform(x_test)"
      ],
      "metadata": {
        "id": "a4alNDDepx-Q"
      },
      "execution_count": 22,
      "outputs": []
    },
    {
      "cell_type": "code",
      "source": [
        "#Logistic regression and fit the model\n",
        "classifier = LogisticRegression()\n",
        "classifier.fit(x_train_cv,y_train)\n",
        "classifier.score(x_test_cv, y_test)*100"
      ],
      "metadata": {
        "colab": {
          "base_uri": "https://localhost:8080/"
        },
        "id": "Dn_oqbS-nY9c",
        "outputId": "d7401141-a74a-4919-e6b8-95314d4d367d"
      },
      "execution_count": 23,
      "outputs": [
        {
          "output_type": "execute_result",
          "data": {
            "text/plain": [
              "37.5"
            ]
          },
          "metadata": {},
          "execution_count": 23
        }
      ]
    },
    {
      "cell_type": "markdown",
      "source": [
        "##### Find best Algorithms using GridSearchCV"
      ],
      "metadata": {
        "id": "lfWJaw_LsOym"
      }
    },
    {
      "cell_type": "code",
      "source": [
        "#Vectorizing x & y\n",
        "x_cv = CV.fit_transform(x).toarray()"
      ],
      "metadata": {
        "id": "933_5P8Dvqyk"
      },
      "execution_count": 24,
      "outputs": []
    },
    {
      "cell_type": "code",
      "source": [
        "#GridSearchCV\n",
        "\n",
        "def find_best_model_using_gridsearchcv(x,y):\n",
        "    algos = {\n",
        "        'Logistic' :{'Classifier': LogisticRegression(),'params':{'max_iter': [120,130,150]}\n",
        "        },\n",
        "        'Decision Tree': {'Classifier': DecisionTreeClassifier(),'params': {'criterion': ['gini','entropy'],'max_depth': [3,4,5]}\n",
        "        },\n",
        "        'Random Forest': {'Classifier': RandomForestClassifier(),'params':{'n_estimators':[100,125,150,175,200],'max_features': [4,5,6],'random_state':[7]}\n",
        "        },\n",
        "        'AdaBoost': {'Classifier': AdaBoostClassifier(),'params': {'n_estimators' : [10,15,20],'random_state':[7]}\n",
        "        },\n",
        "        'Gradient Boosting': {'Classifier': GradientBoostingClassifier(),'params': {'learning_rate':[0.1,0.01,0.2],'random_state':[7]}\n",
        "        },\n",
        "        'XGBM': {'Classifier': XGBClassifier(),'params': {'n_estimators' : [70,80,90,100],'max_depth': [3,4,5,7],\n",
        "                                                          'learning_rate':[0.1,0.2],'random_state':[7]}\n",
        "        },\n",
        "        'SVM': {'Classifier': SVC(),'params': {'kernel':['rbf','poly'],'gamma':[50,100],'C':[10,15,20]}\n",
        "        },\n",
        "        'KNN': {'Classifier': KNeighborsClassifier(),'params': {'n_neighbors':[5,10,15,20]}\n",
        "        },\n",
        "        'MNB': {'Classifier': MultinomialNB(),'params': {'alpha':[0.5,1.0],'fit_prior':['True','False']}\n",
        "        }\n",
        "    }\n",
        "    scores = []\n",
        "    kfold = KFold(n_splits=5, random_state=10, shuffle=True)\n",
        "    for algo_name, config in algos.items():\n",
        "        gs =  GridSearchCV(config['Classifier'], config['params'], cv=kfold)\n",
        "        gs.fit(x,y)\n",
        "        scores.append({\n",
        "            'Classifier': algo_name,\n",
        "            'best_score': gs.best_score_,\n",
        "            'best_params': gs.best_params_\n",
        "        })\n",
        "\n",
        "    return pd.DataFrame(scores,columns=['Classifier','best_score','best_params'])\n",
        "\n",
        "find_best_model_using_gridsearchcv(x_cv,y)"
      ],
      "metadata": {
        "colab": {
          "base_uri": "https://localhost:8080/",
          "height": 332
        },
        "id": "l0GCbgaGsOJu",
        "outputId": "fcb1e32b-4c64-4644-d476-32fe65a3a80d"
      },
      "execution_count": 25,
      "outputs": [
        {
          "output_type": "execute_result",
          "data": {
            "text/plain": [
              "          Classifier  best_score  \\\n",
              "0           Logistic    0.482500   \n",
              "1      Decision Tree    0.608333   \n",
              "2      Random Forest    0.533333   \n",
              "3           AdaBoost    0.457500   \n",
              "4  Gradient Boosting    0.470000   \n",
              "5               XGBM    0.520833   \n",
              "6                SVM    0.470000   \n",
              "7                KNN    0.548333   \n",
              "8                MNB    0.445000   \n",
              "\n",
              "                                         best_params  \n",
              "0                                  {'max_iter': 120}  \n",
              "1              {'criterion': 'gini', 'max_depth': 5}  \n",
              "2  {'max_features': 6, 'n_estimators': 175, 'rand...  \n",
              "3            {'n_estimators': 10, 'random_state': 7}  \n",
              "4          {'learning_rate': 0.2, 'random_state': 7}  \n",
              "5  {'learning_rate': 0.1, 'max_depth': 3, 'n_esti...  \n",
              "6           {'C': 10, 'gamma': 50, 'kernel': 'poly'}  \n",
              "7                                {'n_neighbors': 15}  \n",
              "8                {'alpha': 0.5, 'fit_prior': 'True'}  "
            ],
            "text/html": [
              "\n",
              "  <div id=\"df-f32ba71e-ef9a-4ddc-a853-7c5f0ad2f67d\">\n",
              "    <div class=\"colab-df-container\">\n",
              "      <div>\n",
              "<style scoped>\n",
              "    .dataframe tbody tr th:only-of-type {\n",
              "        vertical-align: middle;\n",
              "    }\n",
              "\n",
              "    .dataframe tbody tr th {\n",
              "        vertical-align: top;\n",
              "    }\n",
              "\n",
              "    .dataframe thead th {\n",
              "        text-align: right;\n",
              "    }\n",
              "</style>\n",
              "<table border=\"1\" class=\"dataframe\">\n",
              "  <thead>\n",
              "    <tr style=\"text-align: right;\">\n",
              "      <th></th>\n",
              "      <th>Classifier</th>\n",
              "      <th>best_score</th>\n",
              "      <th>best_params</th>\n",
              "    </tr>\n",
              "  </thead>\n",
              "  <tbody>\n",
              "    <tr>\n",
              "      <th>0</th>\n",
              "      <td>Logistic</td>\n",
              "      <td>0.482500</td>\n",
              "      <td>{'max_iter': 120}</td>\n",
              "    </tr>\n",
              "    <tr>\n",
              "      <th>1</th>\n",
              "      <td>Decision Tree</td>\n",
              "      <td>0.608333</td>\n",
              "      <td>{'criterion': 'gini', 'max_depth': 5}</td>\n",
              "    </tr>\n",
              "    <tr>\n",
              "      <th>2</th>\n",
              "      <td>Random Forest</td>\n",
              "      <td>0.533333</td>\n",
              "      <td>{'max_features': 6, 'n_estimators': 175, 'rand...</td>\n",
              "    </tr>\n",
              "    <tr>\n",
              "      <th>3</th>\n",
              "      <td>AdaBoost</td>\n",
              "      <td>0.457500</td>\n",
              "      <td>{'n_estimators': 10, 'random_state': 7}</td>\n",
              "    </tr>\n",
              "    <tr>\n",
              "      <th>4</th>\n",
              "      <td>Gradient Boosting</td>\n",
              "      <td>0.470000</td>\n",
              "      <td>{'learning_rate': 0.2, 'random_state': 7}</td>\n",
              "    </tr>\n",
              "    <tr>\n",
              "      <th>5</th>\n",
              "      <td>XGBM</td>\n",
              "      <td>0.520833</td>\n",
              "      <td>{'learning_rate': 0.1, 'max_depth': 3, 'n_esti...</td>\n",
              "    </tr>\n",
              "    <tr>\n",
              "      <th>6</th>\n",
              "      <td>SVM</td>\n",
              "      <td>0.470000</td>\n",
              "      <td>{'C': 10, 'gamma': 50, 'kernel': 'poly'}</td>\n",
              "    </tr>\n",
              "    <tr>\n",
              "      <th>7</th>\n",
              "      <td>KNN</td>\n",
              "      <td>0.548333</td>\n",
              "      <td>{'n_neighbors': 15}</td>\n",
              "    </tr>\n",
              "    <tr>\n",
              "      <th>8</th>\n",
              "      <td>MNB</td>\n",
              "      <td>0.445000</td>\n",
              "      <td>{'alpha': 0.5, 'fit_prior': 'True'}</td>\n",
              "    </tr>\n",
              "  </tbody>\n",
              "</table>\n",
              "</div>\n",
              "      <button class=\"colab-df-convert\" onclick=\"convertToInteractive('df-f32ba71e-ef9a-4ddc-a853-7c5f0ad2f67d')\"\n",
              "              title=\"Convert this dataframe to an interactive table.\"\n",
              "              style=\"display:none;\">\n",
              "        \n",
              "  <svg xmlns=\"http://www.w3.org/2000/svg\" height=\"24px\"viewBox=\"0 0 24 24\"\n",
              "       width=\"24px\">\n",
              "    <path d=\"M0 0h24v24H0V0z\" fill=\"none\"/>\n",
              "    <path d=\"M18.56 5.44l.94 2.06.94-2.06 2.06-.94-2.06-.94-.94-2.06-.94 2.06-2.06.94zm-11 1L8.5 8.5l.94-2.06 2.06-.94-2.06-.94L8.5 2.5l-.94 2.06-2.06.94zm10 10l.94 2.06.94-2.06 2.06-.94-2.06-.94-.94-2.06-.94 2.06-2.06.94z\"/><path d=\"M17.41 7.96l-1.37-1.37c-.4-.4-.92-.59-1.43-.59-.52 0-1.04.2-1.43.59L10.3 9.45l-7.72 7.72c-.78.78-.78 2.05 0 2.83L4 21.41c.39.39.9.59 1.41.59.51 0 1.02-.2 1.41-.59l7.78-7.78 2.81-2.81c.8-.78.8-2.07 0-2.86zM5.41 20L4 18.59l7.72-7.72 1.47 1.35L5.41 20z\"/>\n",
              "  </svg>\n",
              "      </button>\n",
              "      \n",
              "  <style>\n",
              "    .colab-df-container {\n",
              "      display:flex;\n",
              "      flex-wrap:wrap;\n",
              "      gap: 12px;\n",
              "    }\n",
              "\n",
              "    .colab-df-convert {\n",
              "      background-color: #E8F0FE;\n",
              "      border: none;\n",
              "      border-radius: 50%;\n",
              "      cursor: pointer;\n",
              "      display: none;\n",
              "      fill: #1967D2;\n",
              "      height: 32px;\n",
              "      padding: 0 0 0 0;\n",
              "      width: 32px;\n",
              "    }\n",
              "\n",
              "    .colab-df-convert:hover {\n",
              "      background-color: #E2EBFA;\n",
              "      box-shadow: 0px 1px 2px rgba(60, 64, 67, 0.3), 0px 1px 3px 1px rgba(60, 64, 67, 0.15);\n",
              "      fill: #174EA6;\n",
              "    }\n",
              "\n",
              "    [theme=dark] .colab-df-convert {\n",
              "      background-color: #3B4455;\n",
              "      fill: #D2E3FC;\n",
              "    }\n",
              "\n",
              "    [theme=dark] .colab-df-convert:hover {\n",
              "      background-color: #434B5C;\n",
              "      box-shadow: 0px 1px 3px 1px rgba(0, 0, 0, 0.15);\n",
              "      filter: drop-shadow(0px 1px 2px rgba(0, 0, 0, 0.3));\n",
              "      fill: #FFFFFF;\n",
              "    }\n",
              "  </style>\n",
              "\n",
              "      <script>\n",
              "        const buttonEl =\n",
              "          document.querySelector('#df-f32ba71e-ef9a-4ddc-a853-7c5f0ad2f67d button.colab-df-convert');\n",
              "        buttonEl.style.display =\n",
              "          google.colab.kernel.accessAllowed ? 'block' : 'none';\n",
              "\n",
              "        async function convertToInteractive(key) {\n",
              "          const element = document.querySelector('#df-f32ba71e-ef9a-4ddc-a853-7c5f0ad2f67d');\n",
              "          const dataTable =\n",
              "            await google.colab.kernel.invokeFunction('convertToInteractive',\n",
              "                                                     [key], {});\n",
              "          if (!dataTable) return;\n",
              "\n",
              "          const docLinkHtml = 'Like what you see? Visit the ' +\n",
              "            '<a target=\"_blank\" href=https://colab.research.google.com/notebooks/data_table.ipynb>data table notebook</a>'\n",
              "            + ' to learn more about interactive tables.';\n",
              "          element.innerHTML = '';\n",
              "          dataTable['output_type'] = 'display_data';\n",
              "          await google.colab.output.renderOutput(dataTable, element);\n",
              "          const docLink = document.createElement('div');\n",
              "          docLink.innerHTML = docLinkHtml;\n",
              "          element.appendChild(docLink);\n",
              "        }\n",
              "      </script>\n",
              "    </div>\n",
              "  </div>\n",
              "  "
            ]
          },
          "metadata": {},
          "execution_count": 25
        }
      ]
    },
    {
      "cell_type": "markdown",
      "source": [
        "Inference: The Best Algorithm we got from Grid Search is Decision Tree so will Create the final Model on Decision Tree Algorithms"
      ],
      "metadata": {
        "id": "-84lwLn33pOS"
      }
    },
    {
      "cell_type": "markdown",
      "source": [
        "##### Final Model (Decision Tree)"
      ],
      "metadata": {
        "id": "pPqezJI33yP3"
      }
    },
    {
      "cell_type": "code",
      "source": [
        "#Decision Tree Classifier and fit the model\n",
        "DT_classifier = DecisionTreeClassifier(criterion = 'gini', max_depth = 5)\n",
        "DT_classifier.fit(x_cv,y)\n",
        "#Prediction Score\n",
        "DT_classifier.score(x_cv,y)*100"
      ],
      "metadata": {
        "colab": {
          "base_uri": "https://localhost:8080/"
        },
        "id": "taa8psll3vZB",
        "outputId": "3ca4a031-cef2-4c3a-9fcf-c343f78be478"
      },
      "execution_count": 26,
      "outputs": [
        {
          "output_type": "execute_result",
          "data": {
            "text/plain": [
              "87.34177215189874"
            ]
          },
          "metadata": {},
          "execution_count": 26
        }
      ]
    },
    {
      "cell_type": "markdown",
      "source": [
        "#### Saving the Model"
      ],
      "metadata": {
        "id": "L_8V-bBM9Aeg"
      }
    },
    {
      "cell_type": "code",
      "source": [
        "import pickle\n",
        "filename = \"resume.pickle\"\n",
        "pickle.dump(DT_classifier,open(filename,'wb'))"
      ],
      "metadata": {
        "id": "JdOLqd0T8_Ws"
      },
      "execution_count": 27,
      "outputs": []
    },
    {
      "cell_type": "code",
      "source": [
        "#Prediction\n",
        "DT_classifier.predict(x_cv)"
      ],
      "metadata": {
        "colab": {
          "base_uri": "https://localhost:8080/"
        },
        "id": "NJtx4C2fQ-kd",
        "outputId": "20402dbd-039d-46a6-b7f0-c37b7b9ed585"
      },
      "execution_count": 28,
      "outputs": [
        {
          "output_type": "execute_result",
          "data": {
            "text/plain": [
              "array([0, 1, 1, 1, 1, 1, 1, 1, 1, 1, 1, 1, 1, 1, 1, 1, 1, 1, 1, 1, 1, 2,\n",
              "       2, 2, 2, 2, 2, 2, 2, 4, 2, 2, 2, 2, 2, 2, 2, 4, 2, 2, 2, 2, 3, 3,\n",
              "       3, 3, 3, 3, 3, 3, 3, 3, 3, 3, 3, 4, 2, 1, 4, 4, 4, 4, 4, 4, 4, 4,\n",
              "       2, 4, 4, 4, 2, 4, 4, 4, 4, 4, 3, 0, 0])"
            ]
          },
          "metadata": {},
          "execution_count": 28
        }
      ]
    },
    {
      "cell_type": "code",
      "source": [
        "#Function to Get the Skills as a single list for Deployment\n",
        "match = []\n",
        "def match_words(text):\n",
        "    lower = [x.lower() for x in text]\n",
        "\n",
        "    for temp in lower:\n",
        "        f_text = temp.split()\n",
        "        found = False\n",
        "        for text_word in f_text:\n",
        "            match.append(text_word)\n",
        "                                \n",
        "#Calling the Function\n",
        "match_words(df['Cleaned Skills'])\n",
        "\n",
        "#Removing Duplicates From List \n",
        "final_skills = []\n",
        "for i in match:\n",
        "  if i not in final_skills:\n",
        "    final_skills.append(i)\n",
        "\n",
        "#Checking length of Final List\n",
        "len(final_skills)"
      ],
      "metadata": {
        "id": "31VJhl4RgdRR",
        "colab": {
          "base_uri": "https://localhost:8080/"
        },
        "outputId": "d5c4f2a5-878e-4450-bfd8-3846f3a9da3b"
      },
      "execution_count": 29,
      "outputs": [
        {
          "output_type": "execute_result",
          "data": {
            "text/plain": [
              "273"
            ]
          },
          "metadata": {},
          "execution_count": 29
        }
      ]
    },
    {
      "cell_type": "code",
      "source": [
        "#Adding Data Science Skills Too.\n",
        "DS = ['python','sql','excel','tableau','statistics','eda','feature engineering','machine learning','deep learning',\n",
        "      'nlp','time series analysis','deployment']\n",
        "final_skills.extend(DS)\n",
        "len(final_skills)"
      ],
      "metadata": {
        "id": "ACf_dFvuh8wB",
        "colab": {
          "base_uri": "https://localhost:8080/"
        },
        "outputId": "4f36553f-2669-4821-eb92-38362bd72fa0"
      },
      "execution_count": 30,
      "outputs": [
        {
          "output_type": "execute_result",
          "data": {
            "text/plain": [
              "285"
            ]
          },
          "metadata": {},
          "execution_count": 30
        }
      ]
    },
    {
      "cell_type": "code",
      "source": [
        "#saving this skills in a text file to use for deployment\n",
        "for skills in final_skills:\n",
        "  with open(\"skills.txt\", \"a\") as text_file:\n",
        "      print(skills, file=text_file)"
      ],
      "metadata": {
        "id": "C04HSo1_iyi8"
      },
      "execution_count": 31,
      "outputs": []
    }
  ],
  "metadata": {
    "colab": {
      "collapsed_sections": [],
      "name": "NLP Project - Resume Classification (Model Building).ipynb",
      "provenance": [],
      "machine_shape": "hm"
    },
    "kernelspec": {
      "display_name": "Python 3 (ipykernel)",
      "language": "python",
      "name": "python3"
    },
    "language_info": {
      "codemirror_mode": {
        "name": "ipython",
        "version": 3
      },
      "file_extension": ".py",
      "mimetype": "text/x-python",
      "name": "python",
      "nbconvert_exporter": "python",
      "pygments_lexer": "ipython3",
      "version": "3.9.7"
    }
  },
  "nbformat": 4,
  "nbformat_minor": 0
}