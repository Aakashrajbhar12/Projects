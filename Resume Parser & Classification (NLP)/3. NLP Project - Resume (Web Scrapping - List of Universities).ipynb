{
 "cells": [
  {
   "cell_type": "markdown",
   "id": "e81b6366",
   "metadata": {},
   "source": [
    "### NLP Project - Resume (Web Scrapping - List of Universities)\n",
    "\n",
    "To Get List of Universities"
   ]
  },
  {
   "cell_type": "code",
   "execution_count": 1,
   "id": "920085a7",
   "metadata": {},
   "outputs": [],
   "source": [
    "# import module\n",
    "import requests\n",
    "from bs4 import BeautifulSoup\n",
    "\n",
    "import warnings\n",
    "warnings.filterwarnings(\"ignore\")  #--to ignore warnings\n",
    "\n",
    "HEADERS = ({'User-Agent':\n",
    "            'Mozilla/5.0 (Windows NT 10.0; Win64; x64) \\\n",
    "            AppleWebKit/537.36 (KHTML, like Gecko) \\\n",
    "            Chrome/90.0.4430.212 Safari/537.36',\n",
    "            'Accept-Language': 'en-US, en;q=0.5'})\n",
    "\n",
    "# user define function\n",
    "# Scrape the data\n",
    "def getdata(url):\n",
    "    r = requests.get(url, headers=HEADERS)\n",
    "    return r.text\n",
    "\n",
    "\n",
    "def html_code(url):\n",
    "\n",
    "    # pass the url\n",
    "    # into getdata function\n",
    "    htmldata = getdata(url)\n",
    "    soup = BeautifulSoup(htmldata, 'html.parser')\n",
    "\n",
    "    #display html code\n",
    "    return (soup)\n",
    "\n",
    "\n",
    "url = \"https://www.4icu.org/in/a-z/\"\n",
    "\n",
    "soup = html_code(url)"
   ]
  },
  {
   "cell_type": "code",
   "execution_count": 2,
   "id": "887895a2",
   "metadata": {},
   "outputs": [],
   "source": [
    "#Getting university Names\n",
    "\n",
    "def uni_data(soup):\n",
    "# find the Html tag\n",
    "# with find()\n",
    "# and convert into string\n",
    "    data_str = \"\"\n",
    "    uni_list = []\n",
    "\n",
    "    for item in soup.find_all(\"a\"):\n",
    "        data_str = data_str + item.get_text()\n",
    "        uni_list.append(data_str)\n",
    "        data_str = \"\"\n",
    "    return uni_list\n",
    "\n",
    "#Listing the Universities\n",
    "uni_res = uni_data(soup.body.tbody)"
   ]
  },
  {
   "cell_type": "code",
   "execution_count": 3,
   "id": "4fc9c590",
   "metadata": {},
   "outputs": [],
   "source": [
    "#To Save the Universities in CSV\n",
    "import pandas as pd\n",
    "\n",
    "# initialise data of lists.\n",
    "data = {'University Name': uni_res,\n",
    "        }\n",
    "\n",
    "# Create DataFrame\n",
    "df = pd.DataFrame(data)\n",
    "\n",
    "# Save the output.\n",
    "df.to_csv('C:/Users/Akaash/Downloads/List_of_universities.csv', index = None)"
   ]
  }
 ],
 "metadata": {
  "kernelspec": {
   "display_name": "Python 3 (ipykernel)",
   "language": "python",
   "name": "python3"
  },
  "language_info": {
   "codemirror_mode": {
    "name": "ipython",
    "version": 3
   },
   "file_extension": ".py",
   "mimetype": "text/x-python",
   "name": "python",
   "nbconvert_exporter": "python",
   "pygments_lexer": "ipython3",
   "version": "3.9.7"
  }
 },
 "nbformat": 4,
 "nbformat_minor": 5
}
