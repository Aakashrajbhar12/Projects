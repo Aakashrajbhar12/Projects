{
 "cells": [
  {
   "cell_type": "markdown",
   "id": "4a9db35f",
   "metadata": {},
   "source": [
    "## Regression Project - House Price Prediction\n",
    "\n",
    "Using Regression Models going to Predict House Prices of Mumbai\n",
    "\n",
    "Dataset --> Mumbai_House_Prices.csv (Taken From Kaggle) (June 2021 to July 2021)"
   ]
  },
  {
   "cell_type": "markdown",
   "id": "942c92c3",
   "metadata": {},
   "source": [
    "#### Dataset Description\n",
    "price--> Price of the house in (INR) \n",
    "\n",
    "Address--> Location of the house\n",
    "\n",
    "area--> area of the house in sqft\n",
    "\n",
    "latitude--> No Description\n",
    "\n",
    "longitude--> No Description\n",
    "\n",
    "Bedrooms --> Number of bedrooms.\n",
    "\n",
    "Bathrooms --> Number of Bathrooms\n",
    "\n",
    "Balcony --> Number of Balconys\n",
    "\n",
    "Status --> Is the house ready to move or under construction.\n",
    "\n",
    "neworold --> house is for resale or new\n",
    "\n",
    "parking --> Number of Parking\n",
    "\n",
    "Furnished_status --> Status of Furnished\n",
    "\n",
    "Lift --> Number of Lifts\n",
    "\n",
    "Landmarks --> Landmarks Names\n",
    "\n",
    "Type_of_Buliding --> Flat / Room\n",
    "\n",
    "desc --> Small Description of House\n",
    "\n",
    "Price_sqft --> Price Per Sqft"
   ]
  },
  {
   "cell_type": "code",
   "execution_count": 1,
   "id": "c732d5bd",
   "metadata": {},
   "outputs": [],
   "source": [
    "# Importing the Required Labaries\n",
    "import numpy as np\n",
    "import pandas as pd\n",
    "import matplotlib.pyplot as plt\n",
    "import seaborn as sns\n",
    "import matplotlib \n",
    "\n",
    "#For Models\n",
    "from sklearn.model_selection import train_test_split\n",
    "from sklearn.linear_model import LinearRegression\n",
    "from sklearn.linear_model import Ridge \n",
    "from sklearn.linear_model import Lasso\n",
    "from sklearn.tree import DecisionTreeRegressor\n",
    "from sklearn.model_selection import ShuffleSplit\n",
    "from sklearn.model_selection import cross_val_score\n",
    "from sklearn.model_selection import GridSearchCV\n",
    "\n",
    "import warnings\n",
    "warnings.filterwarnings(\"ignore\")  #--to ignore warnings"
   ]
  },
  {
   "cell_type": "markdown",
   "id": "a08fd2ee",
   "metadata": {},
   "source": [
    "#### Load the Dataset"
   ]
  },
  {
   "cell_type": "code",
   "execution_count": 2,
   "id": "1306b311",
   "metadata": {},
   "outputs": [
    {
     "data": {
      "text/html": [
       "<div>\n",
       "<style scoped>\n",
       "    .dataframe tbody tr th:only-of-type {\n",
       "        vertical-align: middle;\n",
       "    }\n",
       "\n",
       "    .dataframe tbody tr th {\n",
       "        vertical-align: top;\n",
       "    }\n",
       "\n",
       "    .dataframe thead th {\n",
       "        text-align: right;\n",
       "    }\n",
       "</style>\n",
       "<table border=\"1\" class=\"dataframe\">\n",
       "  <thead>\n",
       "    <tr style=\"text-align: right;\">\n",
       "      <th></th>\n",
       "      <th>price</th>\n",
       "      <th>Address</th>\n",
       "      <th>area</th>\n",
       "      <th>latitude</th>\n",
       "      <th>longitude</th>\n",
       "      <th>Bedrooms</th>\n",
       "      <th>Bathrooms</th>\n",
       "      <th>Balcony</th>\n",
       "      <th>Status</th>\n",
       "      <th>neworold</th>\n",
       "      <th>parking</th>\n",
       "      <th>Furnished_status</th>\n",
       "      <th>Lift</th>\n",
       "      <th>Landmarks</th>\n",
       "      <th>type_of_building</th>\n",
       "      <th>desc</th>\n",
       "      <th>Price_sqft</th>\n",
       "    </tr>\n",
       "  </thead>\n",
       "  <tbody>\n",
       "    <tr>\n",
       "      <th>0</th>\n",
       "      <td>22400000.0</td>\n",
       "      <td>Chembur, Mumbai - Harbour Line, Maharashtra</td>\n",
       "      <td>629.0</td>\n",
       "      <td>19.0328</td>\n",
       "      <td>72.896357</td>\n",
       "      <td>2.0</td>\n",
       "      <td>2.0</td>\n",
       "      <td>NaN</td>\n",
       "      <td>Under Construction</td>\n",
       "      <td>New Property</td>\n",
       "      <td>NaN</td>\n",
       "      <td>NaN</td>\n",
       "      <td>2.0</td>\n",
       "      <td>NaN</td>\n",
       "      <td>Flat</td>\n",
       "      <td>\\n\\n\\n                                Right fr...</td>\n",
       "      <td>35612.082671</td>\n",
       "    </tr>\n",
       "    <tr>\n",
       "      <th>1</th>\n",
       "      <td>35000000.0</td>\n",
       "      <td>Chembur, Mumbai - Harbour Line, Maharashtra</td>\n",
       "      <td>974.0</td>\n",
       "      <td>19.0328</td>\n",
       "      <td>72.896357</td>\n",
       "      <td>3.0</td>\n",
       "      <td>2.0</td>\n",
       "      <td>NaN</td>\n",
       "      <td>Under Construction</td>\n",
       "      <td>New Property</td>\n",
       "      <td>NaN</td>\n",
       "      <td>NaN</td>\n",
       "      <td>2.0</td>\n",
       "      <td>NaN</td>\n",
       "      <td>Flat</td>\n",
       "      <td>\\n\\n\\n                                Right fr...</td>\n",
       "      <td>35934.291581</td>\n",
       "    </tr>\n",
       "    <tr>\n",
       "      <th>2</th>\n",
       "      <td>31700000.0</td>\n",
       "      <td>Ghatkopar East, Mumbai - Central Line, Maharas...</td>\n",
       "      <td>968.0</td>\n",
       "      <td>19.0856</td>\n",
       "      <td>72.909277</td>\n",
       "      <td>3.0</td>\n",
       "      <td>3.0</td>\n",
       "      <td>NaN</td>\n",
       "      <td>Under Construction</td>\n",
       "      <td>New Property</td>\n",
       "      <td>1.0</td>\n",
       "      <td>NaN</td>\n",
       "      <td>2.0</td>\n",
       "      <td>NaN</td>\n",
       "      <td>Flat</td>\n",
       "      <td>\\n                    \\n                    \\n...</td>\n",
       "      <td>32747.933884</td>\n",
       "    </tr>\n",
       "  </tbody>\n",
       "</table>\n",
       "</div>"
      ],
      "text/plain": [
       "        price                                            Address   area  \\\n",
       "0  22400000.0        Chembur, Mumbai - Harbour Line, Maharashtra  629.0   \n",
       "1  35000000.0        Chembur, Mumbai - Harbour Line, Maharashtra  974.0   \n",
       "2  31700000.0  Ghatkopar East, Mumbai - Central Line, Maharas...  968.0   \n",
       "\n",
       "   latitude  longitude  Bedrooms  Bathrooms  Balcony              Status  \\\n",
       "0   19.0328  72.896357       2.0        2.0      NaN  Under Construction   \n",
       "1   19.0328  72.896357       3.0        2.0      NaN  Under Construction   \n",
       "2   19.0856  72.909277       3.0        3.0      NaN  Under Construction   \n",
       "\n",
       "       neworold  parking Furnished_status  Lift Landmarks type_of_building  \\\n",
       "0  New Property      NaN              NaN   2.0       NaN             Flat   \n",
       "1  New Property      NaN              NaN   2.0       NaN             Flat   \n",
       "2  New Property      1.0              NaN   2.0       NaN             Flat   \n",
       "\n",
       "                                                desc    Price_sqft  \n",
       "0  \\n\\n\\n                                Right fr...  35612.082671  \n",
       "1  \\n\\n\\n                                Right fr...  35934.291581  \n",
       "2  \\n                    \\n                    \\n...  32747.933884  "
      ]
     },
     "execution_count": 2,
     "metadata": {},
     "output_type": "execute_result"
    }
   ],
   "source": [
    "#Loading The Dataset\n",
    "df1 = pd.read_csv(\"C:/Users/Akaash/Downloads/Mumbai_House_Prices.csv\")\n",
    "df1.head(3)"
   ]
  },
  {
   "cell_type": "code",
   "execution_count": 3,
   "id": "c953084a",
   "metadata": {
    "scrolled": true
   },
   "outputs": [
    {
     "data": {
      "text/plain": [
       "(6255, 17)"
      ]
     },
     "execution_count": 3,
     "metadata": {},
     "output_type": "execute_result"
    }
   ],
   "source": [
    "#Checking the shape of Dataset\n",
    "df1.shape"
   ]
  },
  {
   "cell_type": "markdown",
   "id": "f67831c9",
   "metadata": {},
   "source": [
    "Inference: We have 6255 rows & 17 columns."
   ]
  },
  {
   "cell_type": "markdown",
   "id": "2a86c505",
   "metadata": {},
   "source": [
    "#### Drop features that are not required to build our model\n",
    "\n",
    "Based on My Assumption "
   ]
  },
  {
   "cell_type": "code",
   "execution_count": 4,
   "id": "cd607a58",
   "metadata": {},
   "outputs": [
    {
     "data": {
      "text/plain": [
       "(6255, 13)"
      ]
     },
     "execution_count": 4,
     "metadata": {},
     "output_type": "execute_result"
    }
   ],
   "source": [
    "df2 = df1.drop(['latitude','longitude','Landmarks','desc'],axis='columns')\n",
    "df2.shape"
   ]
  },
  {
   "cell_type": "code",
   "execution_count": 5,
   "id": "cada3158",
   "metadata": {
    "scrolled": true
   },
   "outputs": [
    {
     "data": {
      "text/plain": [
       "Ready to Move         5771\n",
       "Under Construction       3\n",
       "Name: Status, dtype: int64"
      ]
     },
     "execution_count": 5,
     "metadata": {},
     "output_type": "execute_result"
    }
   ],
   "source": [
    "#Checking Value Counts of \"Status\" column\n",
    "df2['Status'].value_counts()"
   ]
  },
  {
   "cell_type": "markdown",
   "id": "ba4b689e",
   "metadata": {},
   "source": [
    "Inference: As there is very less variance in the \"Status\" column so will drop it"
   ]
  },
  {
   "cell_type": "code",
   "execution_count": 6,
   "id": "c7452622",
   "metadata": {},
   "outputs": [
    {
     "data": {
      "text/plain": [
       "(6255, 12)"
      ]
     },
     "execution_count": 6,
     "metadata": {},
     "output_type": "execute_result"
    }
   ],
   "source": [
    "#Dropping \"Status\" column\n",
    "df2 = df2.drop(['Status'],axis='columns')\n",
    "df2.shape"
   ]
  },
  {
   "cell_type": "markdown",
   "id": "e7a980cc",
   "metadata": {},
   "source": [
    "#### Data Imputation: Handle NA values"
   ]
  },
  {
   "cell_type": "code",
   "execution_count": 7,
   "id": "51417090",
   "metadata": {
    "scrolled": false
   },
   "outputs": [
    {
     "data": {
      "text/plain": [
       "price                  0\n",
       "Address                0\n",
       "area                   0\n",
       "Bedrooms               0\n",
       "Bathrooms              0\n",
       "Balcony             3879\n",
       "neworold               0\n",
       "parking             4126\n",
       "Furnished_status    2655\n",
       "Lift                4577\n",
       "type_of_building       0\n",
       "Price_sqft             0\n",
       "dtype: int64"
      ]
     },
     "execution_count": 7,
     "metadata": {},
     "output_type": "execute_result"
    }
   ],
   "source": [
    "# checking NA Values\n",
    "df2.isnull().sum()"
   ]
  },
  {
   "cell_type": "markdown",
   "id": "aa8b927d",
   "metadata": {},
   "source": [
    "Inference: Will Impute NA Values of Columns \"Balcony\",\"parking\",\"Furnished_status\",\"Lift\" by using Data Science Concept & some Logic of Estate "
   ]
  },
  {
   "cell_type": "markdown",
   "id": "c90a559e",
   "metadata": {},
   "source": [
    "#### Imputing \"Balcony\" Feature"
   ]
  },
  {
   "cell_type": "code",
   "execution_count": 8,
   "id": "b29dce01",
   "metadata": {
    "scrolled": true
   },
   "outputs": [
    {
     "data": {
      "text/plain": [
       "1.0    949\n",
       "2.0    583\n",
       "3.0    468\n",
       "4.0    297\n",
       "5.0     56\n",
       "6.0     12\n",
       "7.0      8\n",
       "8.0      3\n",
       "Name: Balcony, dtype: int64"
      ]
     },
     "execution_count": 8,
     "metadata": {},
     "output_type": "execute_result"
    }
   ],
   "source": [
    "# Checking Value Count\n",
    "df2['Balcony'].value_counts()"
   ]
  },
  {
   "cell_type": "markdown",
   "id": "ecfaccb2",
   "metadata": {},
   "source": [
    "Inference: In Most Cases Number of Balcony Depends Number of Bedrooms,like if a house has 3 or more bedrooms then for sure it will have 3 balcony & if less then 3 bedrooms like 2 bedrooms then 2 balcony \n",
    "#### Note: But In Our Dataset Most Houses have 1 or 2 balcony so if bedroom >= 3 then 2 balcony else 1 balcony (Will impute using this logic)\n"
   ]
  },
  {
   "cell_type": "code",
   "execution_count": 9,
   "id": "90599d93",
   "metadata": {},
   "outputs": [],
   "source": [
    "#Condition\n",
    "Cond = df2['Bedrooms'] >= 3\n",
    "#Imputing NA for Balcony\n",
    "df2['Balcony'] = df2['Balcony'].fillna(Cond.map({True:2,False:1}))"
   ]
  },
  {
   "cell_type": "markdown",
   "id": "8402cc85",
   "metadata": {},
   "source": [
    "#### Imputing \"parking\" Feature"
   ]
  },
  {
   "cell_type": "code",
   "execution_count": 10,
   "id": "ee337ff1",
   "metadata": {
    "scrolled": false
   },
   "outputs": [
    {
     "data": {
      "text/plain": [
       "1.0      1421\n",
       "2.0       509\n",
       "3.0        87\n",
       "4.0        33\n",
       "5.0         9\n",
       "10.0        9\n",
       "20.0        5\n",
       "12.0        4\n",
       "18.0        3\n",
       "30.0        3\n",
       "6.0         3\n",
       "14.0        2\n",
       "15.0        2\n",
       "9.0         2\n",
       "401.0       2\n",
       "7.0         2\n",
       "40.0        2\n",
       "205.0       2\n",
       "105.0       2\n",
       "11.0        2\n",
       "104.0       2\n",
       "65.0        1\n",
       "24.0        1\n",
       "601.0       1\n",
       "22.0        1\n",
       "60.0        1\n",
       "26.0        1\n",
       "801.0       1\n",
       "102.0       1\n",
       "302.0       1\n",
       "125.0       1\n",
       "163.0       1\n",
       "418.0       1\n",
       "101.0       1\n",
       "21.0        1\n",
       "702.0       1\n",
       "55.0        1\n",
       "202.0       1\n",
       "150.0       1\n",
       "185.0       1\n",
       "75.0        1\n",
       "603.0       1\n",
       "8.0         1\n",
       "16.0        1\n",
       "Name: parking, dtype: int64"
      ]
     },
     "execution_count": 10,
     "metadata": {},
     "output_type": "execute_result"
    }
   ],
   "source": [
    "# Checking Value Count\n",
    "df2['parking'].value_counts()"
   ]
  },
  {
   "cell_type": "markdown",
   "id": "13611d0e",
   "metadata": {},
   "source": [
    "Inference: Will Assume More then 5 parking are outliers will handle them in the later stage.\n",
    "    \n",
    "In our Dataset Most Houses have 1 parking facility so will go will this logic"
   ]
  },
  {
   "cell_type": "code",
   "execution_count": 11,
   "id": "82c629d0",
   "metadata": {},
   "outputs": [],
   "source": [
    "#To fill NA value of \"parking\" with its most occuring value 1\n",
    "df2['parking'] = df2['parking'].fillna(1.0)"
   ]
  },
  {
   "cell_type": "markdown",
   "id": "42abdcf8",
   "metadata": {},
   "source": [
    "#### Imputing \"Furnished_status\" Feature"
   ]
  },
  {
   "cell_type": "code",
   "execution_count": 12,
   "id": "a55d36c4",
   "metadata": {},
   "outputs": [
    {
     "data": {
      "text/plain": [
       "Unfurnished       1384\n",
       "Semi-Furnished    1195\n",
       "Furnished         1021\n",
       "Name: Furnished_status, dtype: int64"
      ]
     },
     "execution_count": 12,
     "metadata": {},
     "output_type": "execute_result"
    }
   ],
   "source": [
    "# Checking Value Count\n",
    "df2['Furnished_status'].value_counts()"
   ]
  },
  {
   "cell_type": "markdown",
   "id": "5acbc152",
   "metadata": {},
   "source": [
    "Inference: As it is categorial column will take mode "
   ]
  },
  {
   "cell_type": "code",
   "execution_count": 13,
   "id": "cbdabd1d",
   "metadata": {},
   "outputs": [],
   "source": [
    "#Missing value imputation for categorical vlaue\n",
    "df2['Furnished_status']=df2['Furnished_status'].fillna(df2['Furnished_status'].mode().iloc[0])"
   ]
  },
  {
   "cell_type": "markdown",
   "id": "468e56b3",
   "metadata": {},
   "source": [
    "\n",
    "#### Imputing \"Lift\" Feature"
   ]
  },
  {
   "cell_type": "code",
   "execution_count": 14,
   "id": "f8190a4c",
   "metadata": {},
   "outputs": [
    {
     "data": {
      "text/plain": [
       "2.0     758\n",
       "1.0     327\n",
       "3.0     220\n",
       "4.0     174\n",
       "0.0      55\n",
       "5.0      51\n",
       "6.0      49\n",
       "7.0      18\n",
       "8.0      11\n",
       "10.0     11\n",
       "9.0       4\n",
       "Name: Lift, dtype: int64"
      ]
     },
     "execution_count": 14,
     "metadata": {},
     "output_type": "execute_result"
    }
   ],
   "source": [
    "# Checking Value Count\n",
    "df2['Lift'].value_counts()"
   ]
  },
  {
   "cell_type": "markdown",
   "id": "2ac2ada2",
   "metadata": {},
   "source": [
    "Inference: Lift More then 6 are mostly outliers will handle them later\n",
    "\n",
    "In Most Building / Houses there are 2 Lift only,Also the Dataset says the Same will use this logic to impute"
   ]
  },
  {
   "cell_type": "code",
   "execution_count": 15,
   "id": "f07d48ef",
   "metadata": {},
   "outputs": [],
   "source": [
    "#To fill NA value of \"parking\" with its most occuring value 1\n",
    "df2['Lift'] = df2['Lift'].fillna(2.0)"
   ]
  },
  {
   "cell_type": "code",
   "execution_count": 16,
   "id": "5253ad64",
   "metadata": {},
   "outputs": [
    {
     "data": {
      "text/plain": [
       "price               0\n",
       "Address             0\n",
       "area                0\n",
       "Bedrooms            0\n",
       "Bathrooms           0\n",
       "Balcony             0\n",
       "neworold            0\n",
       "parking             0\n",
       "Furnished_status    0\n",
       "Lift                0\n",
       "type_of_building    0\n",
       "Price_sqft          0\n",
       "dtype: int64"
      ]
     },
     "execution_count": 16,
     "metadata": {},
     "output_type": "execute_result"
    }
   ],
   "source": [
    "#Checking NA Values after Imputation\n",
    "df2.isnull().sum()"
   ]
  },
  {
   "cell_type": "markdown",
   "id": "0d0bcce5",
   "metadata": {},
   "source": [
    "Inference: There are No NA Values Now."
   ]
  },
  {
   "cell_type": "code",
   "execution_count": 17,
   "id": "1fe867a0",
   "metadata": {},
   "outputs": [],
   "source": [
    "#Saving the DataFrame into Excel\n",
    "#df2.to_csv(\"C:/Users/Akaash/Downloads/Mumbai_house_prices_cleaned.csv\")"
   ]
  },
  {
   "cell_type": "markdown",
   "id": "865f8e5f",
   "metadata": {},
   "source": [
    "#### Feature Engineering\n",
    "\"Address\",\"neworold\",\"Furnished\",\"type_of_building\" are Categorial variable,So when I will apply dummies on them it will cause \"Curse of Dimensionality\" Effect, Thatwhy I need to apply some Dimensionality Reduction Technique Based on Some Creteria to Reduce the number of Catergory in these column/Variable"
   ]
  },
  {
   "cell_type": "markdown",
   "id": "d265735b",
   "metadata": {},
   "source": [
    "#### Address column feature Engineering\n",
    "\n",
    "Save the Dataframe into excel, then for Address Column\n",
    "\n",
    "using find & replace In Excel\n",
    "\n",
    "First remove the \",\" with \" \".\n",
    "\n",
    "Also \"-\" from no dash in Furnished_status"
   ]
  },
  {
   "cell_type": "code",
   "execution_count": 18,
   "id": "a1c56f2c",
   "metadata": {},
   "outputs": [
    {
     "data": {
      "text/html": [
       "<div>\n",
       "<style scoped>\n",
       "    .dataframe tbody tr th:only-of-type {\n",
       "        vertical-align: middle;\n",
       "    }\n",
       "\n",
       "    .dataframe tbody tr th {\n",
       "        vertical-align: top;\n",
       "    }\n",
       "\n",
       "    .dataframe thead th {\n",
       "        text-align: right;\n",
       "    }\n",
       "</style>\n",
       "<table border=\"1\" class=\"dataframe\">\n",
       "  <thead>\n",
       "    <tr style=\"text-align: right;\">\n",
       "      <th></th>\n",
       "      <th>Unnamed: 0</th>\n",
       "      <th>price</th>\n",
       "      <th>Address</th>\n",
       "      <th>area</th>\n",
       "      <th>Bedrooms</th>\n",
       "      <th>Bathrooms</th>\n",
       "      <th>Balcony</th>\n",
       "      <th>neworold</th>\n",
       "      <th>parking</th>\n",
       "      <th>Furnished_status</th>\n",
       "      <th>Lift</th>\n",
       "      <th>type_of_building</th>\n",
       "      <th>Price_sqft</th>\n",
       "    </tr>\n",
       "  </thead>\n",
       "  <tbody>\n",
       "    <tr>\n",
       "      <th>0</th>\n",
       "      <td>0</td>\n",
       "      <td>22400000</td>\n",
       "      <td>Chembur  Mumbai   Harbour Line  Maharashtra</td>\n",
       "      <td>629</td>\n",
       "      <td>2</td>\n",
       "      <td>2</td>\n",
       "      <td>1</td>\n",
       "      <td>New Property</td>\n",
       "      <td>1</td>\n",
       "      <td>Unfurnished</td>\n",
       "      <td>2</td>\n",
       "      <td>Flat</td>\n",
       "      <td>35612.08267</td>\n",
       "    </tr>\n",
       "    <tr>\n",
       "      <th>1</th>\n",
       "      <td>1</td>\n",
       "      <td>35000000</td>\n",
       "      <td>Chembur  Mumbai   Harbour Line  Maharashtra</td>\n",
       "      <td>974</td>\n",
       "      <td>3</td>\n",
       "      <td>2</td>\n",
       "      <td>2</td>\n",
       "      <td>New Property</td>\n",
       "      <td>1</td>\n",
       "      <td>Unfurnished</td>\n",
       "      <td>2</td>\n",
       "      <td>Flat</td>\n",
       "      <td>35934.29158</td>\n",
       "    </tr>\n",
       "    <tr>\n",
       "      <th>2</th>\n",
       "      <td>2</td>\n",
       "      <td>31700000</td>\n",
       "      <td>Ghatkopar East  Mumbai   Central Line  Maharas...</td>\n",
       "      <td>968</td>\n",
       "      <td>3</td>\n",
       "      <td>3</td>\n",
       "      <td>2</td>\n",
       "      <td>New Property</td>\n",
       "      <td>1</td>\n",
       "      <td>Unfurnished</td>\n",
       "      <td>2</td>\n",
       "      <td>Flat</td>\n",
       "      <td>32747.93388</td>\n",
       "    </tr>\n",
       "  </tbody>\n",
       "</table>\n",
       "</div>"
      ],
      "text/plain": [
       "   Unnamed: 0     price                                            Address  \\\n",
       "0           0  22400000        Chembur  Mumbai   Harbour Line  Maharashtra   \n",
       "1           1  35000000        Chembur  Mumbai   Harbour Line  Maharashtra   \n",
       "2           2  31700000  Ghatkopar East  Mumbai   Central Line  Maharas...   \n",
       "\n",
       "   area  Bedrooms  Bathrooms  Balcony      neworold  parking Furnished_status  \\\n",
       "0   629         2          2        1  New Property        1      Unfurnished   \n",
       "1   974         3          2        2  New Property        1      Unfurnished   \n",
       "2   968         3          3        2  New Property        1      Unfurnished   \n",
       "\n",
       "   Lift type_of_building   Price_sqft  \n",
       "0     2             Flat  35612.08267  \n",
       "1     2             Flat  35934.29158  \n",
       "2     2             Flat  32747.93388  "
      ]
     },
     "execution_count": 18,
     "metadata": {},
     "output_type": "execute_result"
    }
   ],
   "source": [
    "#Now Loading the Dataset (for Address Handled)\n",
    "df3 = pd.read_csv(\"C:/Users/Akaash/Downloads/Mumbai_house_prices_cleaned.csv\")\n",
    "df3.head(3)"
   ]
  },
  {
   "cell_type": "code",
   "execution_count": 19,
   "id": "b79ef465",
   "metadata": {},
   "outputs": [
    {
     "name": "stdout",
     "output_type": "stream",
     "text": [
      "['and', 'andheri', 'apartment', 'around', 'bandra', 'behind', 'beyond', 'bhandup', 'bhayandar', 'bldg', 'borivali', 'building', 'central', 'chandivali', 'charkop', 'chembur', 'chs', 'city', 'colony', 'complex', 'cooperative', 'dadar', 'dahisar', 'dombivli', 'east', 'estate', 'flat', 'floor', 'garden', 'ghatkopar', 'gorai', 'goregaon', 'harbour', 'hill', 'housing', 'india', 'jogeshwari', 'juhu', 'kalyan', 'kandivali', 'kanjurmarg', 'khar', 'kurla', 'lane', 'lbs', 'line', 'link', 'lokhandwala', 'ltd', 'maharashtra', 'mahim', 'malad', 'marg', 'marol', 'matunga', 'mira', 'mulund', 'mumbai', 'nagar', 'nalasopara', 'near', 'new', 'no', 'north', 'number', 'off', 'opp', 'parel', 'park', 'parle', 'plot', 'powai', 'prabhadevi', 'rd', 'road', 'santacruz', 'school', 'sector', 'sion', 'society', 'south', 'station', 'suburbs', 'thakur', 'thane', 'tilak', 'to', 'tower', 'ulhasnagar', 'vasai', 'versova', 'vikhroli', 'vile', 'village', 'virar', 'wadala', 'west', 'western', 'wing', 'worli']\n"
     ]
    }
   ],
   "source": [
    "#Getting the Most Common Occuring Words - Using TFIDF Vectorizer\n",
    "from sklearn.feature_extraction.text import TfidfVectorizer\n",
    "Address_max_features = TfidfVectorizer(norm=\"l2\",analyzer='word', ngram_range=(1,1), max_features = 100)\n",
    "Address_max_matrix = Address_max_features.fit_transform(df3['Address'])\n",
    "#Getting Feature Names\n",
    "Address_list = Address_max_features.get_feature_names()\n",
    "print(Address_list)"
   ]
  },
  {
   "cell_type": "code",
   "execution_count": 20,
   "id": "3e4642b1",
   "metadata": {},
   "outputs": [],
   "source": [
    "#Remove / Unwanted (Stopwords)\n",
    "Remove = ['and','apartment','around','behind','beyond','bldg','building','chs','city','colony','complex','cooperative','east',\n",
    "          'estate','flat','floor','garden','hill','housing','india','lane','lbs','line','link','ltd','maharashtra','marg',\n",
    "          'nagar','near','new','no','north','number','off','opp','park','plot','rd','road','school','sector','society','south',\n",
    "          'station','tilak','to','tower','village','west','western','wing','central','harbour','suburbs']\n",
    "#This For Loop will Remove all the stopwords\n",
    "Location = []\n",
    "for x in Address_list:\n",
    "    if x not in Remove:\n",
    "        Location.append(x)"
   ]
  },
  {
   "cell_type": "code",
   "execution_count": 21,
   "id": "7151a5a8",
   "metadata": {},
   "outputs": [],
   "source": [
    "#Function to Get the Location Names From the Address Column\n",
    "match = []\n",
    "def match_words(text, search):\n",
    "    lower = [x.lower() for x in text]\n",
    "\n",
    "    for temp in lower:\n",
    "        f_text = temp.split()\n",
    "        found = False\n",
    "        for text_word in f_text:\n",
    "            for search_word in search:\n",
    "                if search_word == text_word:\n",
    "                    match.append(search_word)\n",
    "                    found = True\n",
    "                    break\n",
    "\n",
    "            if (found): break\n",
    "                \n",
    "#Calling the Function\n",
    "match_words(df3['Address'],Location)"
   ]
  },
  {
   "cell_type": "code",
   "execution_count": 22,
   "id": "a9e3f61d",
   "metadata": {
    "scrolled": true
   },
   "outputs": [
    {
     "name": "stdout",
     "output_type": "stream",
     "text": [
      "Total No of Location Matched = 6255\n",
      "Total No of Original Address = 6255\n"
     ]
    }
   ],
   "source": [
    "print('Total No of Location Matched =',len(match))\n",
    "print('Total No of Original Address =',len(df3['Address']))"
   ]
  },
  {
   "cell_type": "markdown",
   "id": "3cafd22d",
   "metadata": {},
   "source": [
    "Inference: All the Address Has been Matched with a Location name which was obtained using TFIDF Vectorizer, now will convert this Matched_list to Dataframe & Concat it with the original Dataset"
   ]
  },
  {
   "cell_type": "code",
   "execution_count": 23,
   "id": "715a9713",
   "metadata": {
    "scrolled": true
   },
   "outputs": [
    {
     "data": {
      "text/html": [
       "<div>\n",
       "<style scoped>\n",
       "    .dataframe tbody tr th:only-of-type {\n",
       "        vertical-align: middle;\n",
       "    }\n",
       "\n",
       "    .dataframe tbody tr th {\n",
       "        vertical-align: top;\n",
       "    }\n",
       "\n",
       "    .dataframe thead th {\n",
       "        text-align: right;\n",
       "    }\n",
       "</style>\n",
       "<table border=\"1\" class=\"dataframe\">\n",
       "  <thead>\n",
       "    <tr style=\"text-align: right;\">\n",
       "      <th></th>\n",
       "      <th>Location</th>\n",
       "    </tr>\n",
       "  </thead>\n",
       "  <tbody>\n",
       "    <tr>\n",
       "      <th>0</th>\n",
       "      <td>chembur</td>\n",
       "    </tr>\n",
       "    <tr>\n",
       "      <th>1</th>\n",
       "      <td>chembur</td>\n",
       "    </tr>\n",
       "    <tr>\n",
       "      <th>2</th>\n",
       "      <td>ghatkopar</td>\n",
       "    </tr>\n",
       "    <tr>\n",
       "      <th>3</th>\n",
       "      <td>goregaon</td>\n",
       "    </tr>\n",
       "    <tr>\n",
       "      <th>4</th>\n",
       "      <td>malad</td>\n",
       "    </tr>\n",
       "  </tbody>\n",
       "</table>\n",
       "</div>"
      ],
      "text/plain": [
       "    Location\n",
       "0    chembur\n",
       "1    chembur\n",
       "2  ghatkopar\n",
       "3   goregaon\n",
       "4      malad"
      ]
     },
     "execution_count": 23,
     "metadata": {},
     "output_type": "execute_result"
    }
   ],
   "source": [
    "#Converting the List of Match Location into Dataframe\n",
    "Loc = pd.DataFrame(match,columns = [\"Location\"])\n",
    "Loc.head()"
   ]
  },
  {
   "cell_type": "code",
   "execution_count": 24,
   "id": "f330c18b",
   "metadata": {},
   "outputs": [
    {
     "data": {
      "text/html": [
       "<div>\n",
       "<style scoped>\n",
       "    .dataframe tbody tr th:only-of-type {\n",
       "        vertical-align: middle;\n",
       "    }\n",
       "\n",
       "    .dataframe tbody tr th {\n",
       "        vertical-align: top;\n",
       "    }\n",
       "\n",
       "    .dataframe thead th {\n",
       "        text-align: right;\n",
       "    }\n",
       "</style>\n",
       "<table border=\"1\" class=\"dataframe\">\n",
       "  <thead>\n",
       "    <tr style=\"text-align: right;\">\n",
       "      <th></th>\n",
       "      <th>Unnamed: 0</th>\n",
       "      <th>price</th>\n",
       "      <th>Address</th>\n",
       "      <th>area</th>\n",
       "      <th>Bedrooms</th>\n",
       "      <th>Bathrooms</th>\n",
       "      <th>Balcony</th>\n",
       "      <th>neworold</th>\n",
       "      <th>parking</th>\n",
       "      <th>Furnished_status</th>\n",
       "      <th>Lift</th>\n",
       "      <th>type_of_building</th>\n",
       "      <th>Price_sqft</th>\n",
       "      <th>Location</th>\n",
       "    </tr>\n",
       "  </thead>\n",
       "  <tbody>\n",
       "    <tr>\n",
       "      <th>0</th>\n",
       "      <td>0</td>\n",
       "      <td>22400000</td>\n",
       "      <td>Chembur  Mumbai   Harbour Line  Maharashtra</td>\n",
       "      <td>629</td>\n",
       "      <td>2</td>\n",
       "      <td>2</td>\n",
       "      <td>1</td>\n",
       "      <td>New Property</td>\n",
       "      <td>1</td>\n",
       "      <td>Unfurnished</td>\n",
       "      <td>2</td>\n",
       "      <td>Flat</td>\n",
       "      <td>35612.08267</td>\n",
       "      <td>chembur</td>\n",
       "    </tr>\n",
       "    <tr>\n",
       "      <th>1</th>\n",
       "      <td>1</td>\n",
       "      <td>35000000</td>\n",
       "      <td>Chembur  Mumbai   Harbour Line  Maharashtra</td>\n",
       "      <td>974</td>\n",
       "      <td>3</td>\n",
       "      <td>2</td>\n",
       "      <td>2</td>\n",
       "      <td>New Property</td>\n",
       "      <td>1</td>\n",
       "      <td>Unfurnished</td>\n",
       "      <td>2</td>\n",
       "      <td>Flat</td>\n",
       "      <td>35934.29158</td>\n",
       "      <td>chembur</td>\n",
       "    </tr>\n",
       "  </tbody>\n",
       "</table>\n",
       "</div>"
      ],
      "text/plain": [
       "   Unnamed: 0     price                                      Address  area  \\\n",
       "0           0  22400000  Chembur  Mumbai   Harbour Line  Maharashtra   629   \n",
       "1           1  35000000  Chembur  Mumbai   Harbour Line  Maharashtra   974   \n",
       "\n",
       "   Bedrooms  Bathrooms  Balcony      neworold  parking Furnished_status  Lift  \\\n",
       "0         2          2        1  New Property        1      Unfurnished     2   \n",
       "1         3          2        2  New Property        1      Unfurnished     2   \n",
       "\n",
       "  type_of_building   Price_sqft Location  \n",
       "0             Flat  35612.08267  chembur  \n",
       "1             Flat  35934.29158  chembur  "
      ]
     },
     "execution_count": 24,
     "metadata": {},
     "output_type": "execute_result"
    }
   ],
   "source": [
    "#Concat the Location Dataframe with orginal Dataset's DataFrame\n",
    "df4 = pd.concat([df3,Loc],axis = 'columns')\n",
    "df4.head(2)"
   ]
  },
  {
   "cell_type": "markdown",
   "id": "ff0be0bc",
   "metadata": {},
   "source": [
    "Inference: Location Matches With the Address, will Dropped the unnamed & Actual \"Address\" column Now"
   ]
  },
  {
   "cell_type": "code",
   "execution_count": 25,
   "id": "5e2503ac",
   "metadata": {},
   "outputs": [
    {
     "data": {
      "text/plain": [
       "(6255, 12)"
      ]
     },
     "execution_count": 25,
     "metadata": {},
     "output_type": "execute_result"
    }
   ],
   "source": [
    "#Dropping Columns\n",
    "df4 = df4.iloc[:,1:]\n",
    "df5 = df4.drop(['Address'],axis='columns')\n",
    "df5.shape"
   ]
  },
  {
   "cell_type": "code",
   "execution_count": 26,
   "id": "2ae01e93",
   "metadata": {},
   "outputs": [
    {
     "data": {
      "text/plain": [
       "mumbai         1054\n",
       "andheri         520\n",
       "mira            398\n",
       "goregaon        305\n",
       "kandivali       298\n",
       "malad           293\n",
       "mulund          289\n",
       "borivali        240\n",
       "chembur         227\n",
       "virar           202\n",
       "ghatkopar       199\n",
       "vasai           138\n",
       "santacruz       131\n",
       "bhandup         125\n",
       "bandra          103\n",
       "vile            103\n",
       "powai           100\n",
       "dahisar          92\n",
       "parel            91\n",
       "worli            81\n",
       "sion             74\n",
       "wadala           69\n",
       "charkop          68\n",
       "thane            65\n",
       "juhu             65\n",
       "kanjurmarg       63\n",
       "bhayandar        61\n",
       "kurla            60\n",
       "kalyan           58\n",
       "dadar            57\n",
       "marol            54\n",
       "thakur           53\n",
       "khar             53\n",
       "lokhandwala      52\n",
       "chandivali       51\n",
       "jogeshwari       46\n",
       "vikhroli         45\n",
       "nalasopara       41\n",
       "mahim            40\n",
       "ulhasnagar       40\n",
       "matunga          39\n",
       "gorai            36\n",
       "prabhadevi       35\n",
       "versova          35\n",
       "dombivli          6\n",
       "Name: Location, dtype: int64"
      ]
     },
     "execution_count": 26,
     "metadata": {},
     "output_type": "execute_result"
    }
   ],
   "source": [
    "#Checking the Count of Each Values of the Location\n",
    "Location = df5['Location'].value_counts(ascending=False)\n",
    "Location"
   ]
  },
  {
   "cell_type": "code",
   "execution_count": 27,
   "id": "b26754ff",
   "metadata": {},
   "outputs": [
    {
     "data": {
      "text/plain": [
       "45"
      ]
     },
     "execution_count": 27,
     "metadata": {},
     "output_type": "execute_result"
    }
   ],
   "source": [
    "#Count of Original location\n",
    "len(df5.Location.unique())"
   ]
  },
  {
   "cell_type": "markdown",
   "id": "b12b995c",
   "metadata": {},
   "source": [
    "#### Outlier Removal Using Business Logic"
   ]
  },
  {
   "cell_type": "markdown",
   "id": "5fc684c5",
   "metadata": {},
   "source": [
    "#### For parking column \n",
    "\n",
    "In this Dataset parking column records are very wrong im guessing as it ranges from 1.0 to 800. i dont understand what this means actually, so as per business logic most building / society has atmost 5 parking, so will then 5 parking as Outliers"
   ]
  },
  {
   "cell_type": "code",
   "execution_count": 28,
   "id": "038dc6d0",
   "metadata": {},
   "outputs": [
    {
     "data": {
      "text/plain": [
       "(6255, 12)"
      ]
     },
     "execution_count": 28,
     "metadata": {},
     "output_type": "execute_result"
    }
   ],
   "source": [
    "#Original shape Before Outlier removal\n",
    "df5.shape"
   ]
  },
  {
   "cell_type": "code",
   "execution_count": 29,
   "id": "3c693f9f",
   "metadata": {
    "scrolled": true
   },
   "outputs": [
    {
     "data": {
      "text/plain": [
       "70"
      ]
     },
     "execution_count": 29,
     "metadata": {},
     "output_type": "execute_result"
    }
   ],
   "source": [
    "# Parking More then 5\n",
    "len(df5[df5.parking>5.0])"
   ]
  },
  {
   "cell_type": "markdown",
   "id": "35ed8889",
   "metadata": {},
   "source": [
    "Inference: There are 70 records with parking more then 5.0 so will remove them"
   ]
  },
  {
   "cell_type": "code",
   "execution_count": 30,
   "id": "30dd158c",
   "metadata": {},
   "outputs": [
    {
     "data": {
      "text/plain": [
       "(6185, 12)"
      ]
     },
     "execution_count": 30,
     "metadata": {},
     "output_type": "execute_result"
    }
   ],
   "source": [
    "#Removing Outliers of Parking\n",
    "df6 = df5[~(df5.parking>5.0)]\n",
    "df6.shape"
   ]
  },
  {
   "cell_type": "markdown",
   "id": "294fd4d2",
   "metadata": {},
   "source": [
    "#### For Lift column\n",
    "In this Dataset Lift column has value for Lift Ranges from 1 to 10, but in general / business logic is it very odds to have more then 6 lift in mumbai or any building, so Lift more then 6 are outliers"
   ]
  },
  {
   "cell_type": "code",
   "execution_count": 31,
   "id": "230fbc56",
   "metadata": {},
   "outputs": [
    {
     "data": {
      "text/plain": [
       "43"
      ]
     },
     "execution_count": 31,
     "metadata": {},
     "output_type": "execute_result"
    }
   ],
   "source": [
    "len(df6[df6.Lift>6])"
   ]
  },
  {
   "cell_type": "markdown",
   "id": "a9abe832",
   "metadata": {},
   "source": [
    "Inference: There are 43 records with Lift more then 6 so will remove them"
   ]
  },
  {
   "cell_type": "code",
   "execution_count": 32,
   "id": "9e79e8ab",
   "metadata": {},
   "outputs": [
    {
     "data": {
      "text/plain": [
       "(6142, 12)"
      ]
     },
     "execution_count": 32,
     "metadata": {},
     "output_type": "execute_result"
    }
   ],
   "source": [
    "#Removing Outliers of Lift\n",
    "df7 = df6[~(df6.Lift>6)]\n",
    "df7.shape"
   ]
  },
  {
   "cell_type": "markdown",
   "id": "a54c88b5",
   "metadata": {},
   "source": [
    "#### For Bedrooms column\n",
    "normally square ft per bedroom is 300 (i.e. 2 bhk apartment is minimum 600 sqft. If you have for example 400 sqft apartment with 2 bhk than that seems suspicious and can be removed as an outlier. We will remove such outliers by keeping our minimum thresold per bhk to be 300 sqft"
   ]
  },
  {
   "cell_type": "code",
   "execution_count": 33,
   "id": "e8a06909",
   "metadata": {},
   "outputs": [
    {
     "data": {
      "text/plain": [
       "261"
      ]
     },
     "execution_count": 33,
     "metadata": {},
     "output_type": "execute_result"
    }
   ],
   "source": [
    "len(df7[df7.area/df7.Bedrooms<300])"
   ]
  },
  {
   "cell_type": "markdown",
   "id": "b6f51450",
   "metadata": {},
   "source": [
    "Inference: There are 261 records with area less then 300 sqft per Bedrooms, So will remove them\n"
   ]
  },
  {
   "cell_type": "code",
   "execution_count": 34,
   "id": "921d12e6",
   "metadata": {},
   "outputs": [
    {
     "data": {
      "text/plain": [
       "(5881, 12)"
      ]
     },
     "execution_count": 34,
     "metadata": {},
     "output_type": "execute_result"
    }
   ],
   "source": [
    "#Removing Outliers of Bedrooms\n",
    "df8 = df7[~(df7.area/df7.Bedrooms<300)]\n",
    "df8.shape"
   ]
  },
  {
   "cell_type": "markdown",
   "id": "9b076e81",
   "metadata": {},
   "source": [
    "#### For Bathroom column\n",
    "Let Check the Value Counts For it"
   ]
  },
  {
   "cell_type": "code",
   "execution_count": 35,
   "id": "450057a2",
   "metadata": {},
   "outputs": [
    {
     "data": {
      "text/plain": [
       "2    4066\n",
       "3    1316\n",
       "4     364\n",
       "5     102\n",
       "6      26\n",
       "7       5\n",
       "0       1\n",
       "8       1\n",
       "Name: Bathrooms, dtype: int64"
      ]
     },
     "execution_count": 35,
     "metadata": {},
     "output_type": "execute_result"
    }
   ],
   "source": [
    "# Checking Value Count\n",
    "df8['Bathrooms'].value_counts()"
   ]
  },
  {
   "cell_type": "code",
   "execution_count": 36,
   "id": "b01d95c6",
   "metadata": {
    "scrolled": true
   },
   "outputs": [
    {
     "data": {
      "text/html": [
       "<div>\n",
       "<style scoped>\n",
       "    .dataframe tbody tr th:only-of-type {\n",
       "        vertical-align: middle;\n",
       "    }\n",
       "\n",
       "    .dataframe tbody tr th {\n",
       "        vertical-align: top;\n",
       "    }\n",
       "\n",
       "    .dataframe thead th {\n",
       "        text-align: right;\n",
       "    }\n",
       "</style>\n",
       "<table border=\"1\" class=\"dataframe\">\n",
       "  <thead>\n",
       "    <tr style=\"text-align: right;\">\n",
       "      <th></th>\n",
       "      <th>price</th>\n",
       "      <th>area</th>\n",
       "      <th>Bedrooms</th>\n",
       "      <th>Bathrooms</th>\n",
       "      <th>Balcony</th>\n",
       "      <th>neworold</th>\n",
       "      <th>parking</th>\n",
       "      <th>Furnished_status</th>\n",
       "      <th>Lift</th>\n",
       "      <th>type_of_building</th>\n",
       "      <th>Price_sqft</th>\n",
       "      <th>Location</th>\n",
       "    </tr>\n",
       "  </thead>\n",
       "  <tbody>\n",
       "    <tr>\n",
       "      <th>3021</th>\n",
       "      <td>12000000</td>\n",
       "      <td>812</td>\n",
       "      <td>2</td>\n",
       "      <td>0</td>\n",
       "      <td>1</td>\n",
       "      <td>Resale</td>\n",
       "      <td>1</td>\n",
       "      <td>Unfurnished</td>\n",
       "      <td>2</td>\n",
       "      <td>Flat</td>\n",
       "      <td>14778.32512</td>\n",
       "      <td>mumbai</td>\n",
       "    </tr>\n",
       "  </tbody>\n",
       "</table>\n",
       "</div>"
      ],
      "text/plain": [
       "         price  area  Bedrooms  Bathrooms  Balcony neworold  parking  \\\n",
       "3021  12000000   812         2          0        1   Resale        1   \n",
       "\n",
       "     Furnished_status  Lift type_of_building   Price_sqft Location  \n",
       "3021      Unfurnished     2             Flat  14778.32512   mumbai  "
      ]
     },
     "execution_count": 36,
     "metadata": {},
     "output_type": "execute_result"
    }
   ],
   "source": [
    "#Checking the Datapoint \n",
    "df8[df8.Bathrooms == 0]"
   ]
  },
  {
   "cell_type": "markdown",
   "id": "ff8c6c6b",
   "metadata": {},
   "source": [
    "Inference: All other datapoints are okay for business logic only this datapoint has 0 bathrooms that is clearly an outlier, so will remove it"
   ]
  },
  {
   "cell_type": "code",
   "execution_count": 37,
   "id": "43b12c25",
   "metadata": {},
   "outputs": [
    {
     "data": {
      "text/plain": [
       "(5880, 12)"
      ]
     },
     "execution_count": 37,
     "metadata": {},
     "output_type": "execute_result"
    }
   ],
   "source": [
    "#Removing Outliers of Bedrooms\n",
    "df9 = df8[~(df8.Bathrooms == 0)]\n",
    "df9.shape"
   ]
  },
  {
   "cell_type": "markdown",
   "id": "0be87aca",
   "metadata": {},
   "source": [
    "#### Outlier Removal Using Standard Deviation and Mean"
   ]
  },
  {
   "cell_type": "code",
   "execution_count": 38,
   "id": "b7af7eba",
   "metadata": {
    "scrolled": false
   },
   "outputs": [
    {
     "data": {
      "text/plain": [
       "count      5880.000000\n",
       "mean      21344.227188\n",
       "std       12679.441625\n",
       "min        1500.000000\n",
       "25%       13703.579915\n",
       "50%       19230.769230\n",
       "75%       26354.422603\n",
       "max      119047.619000\n",
       "Name: Price_sqft, dtype: float64"
      ]
     },
     "execution_count": 38,
     "metadata": {},
     "output_type": "execute_result"
    }
   ],
   "source": [
    "# Price_sqft column Descriptive stats\n",
    "df9.Price_sqft.describe()"
   ]
  },
  {
   "cell_type": "markdown",
   "id": "98927b44",
   "metadata": {},
   "source": [
    "Inference: Here we find that min price_sqft is 1500 rs/sqft whereas max is 119047, this shows a wide variation in property prices. We should remove outliers per location using mean and one standard deviation"
   ]
  },
  {
   "cell_type": "code",
   "execution_count": 39,
   "id": "870dfbe0",
   "metadata": {
    "scrolled": false
   },
   "outputs": [
    {
     "data": {
      "text/plain": [
       "(4434, 12)"
      ]
     },
     "execution_count": 39,
     "metadata": {},
     "output_type": "execute_result"
    }
   ],
   "source": [
    "#Function to remove outliers based on Price_sqft\n",
    "def remove_ps_outliers(df):\n",
    "    df_out = pd.DataFrame()\n",
    "    for x, y in df.groupby('Location'):\n",
    "        m = np.mean(y.Price_sqft)\n",
    "        st = np.std(y.Price_sqft)\n",
    "        reduced_df = y[(y.Price_sqft>(m-st)) & (y.Price_sqft<=(m+st))]\n",
    "        df_out = pd.concat([df_out,reduced_df],ignore_index=True)\n",
    "    return df_out\n",
    "df10 = remove_ps_outliers(df9)\n",
    "df10.shape"
   ]
  },
  {
   "cell_type": "markdown",
   "id": "2e9e969e",
   "metadata": {},
   "source": [
    "#### Outlier Removal\n",
    "Now we can remove those 3 BHK apartments whose price_sqft is less than mean price_sqft of 2 BHK apartment"
   ]
  },
  {
   "cell_type": "code",
   "execution_count": 40,
   "id": "f075bac8",
   "metadata": {},
   "outputs": [
    {
     "data": {
      "text/plain": [
       "(3808, 12)"
      ]
     },
     "execution_count": 40,
     "metadata": {},
     "output_type": "execute_result"
    }
   ],
   "source": [
    "def remove_bhk_outliers(df):\n",
    "    exclude_indices = np.array([])\n",
    "    for location, location_df in df.groupby('Location'):\n",
    "        bhk_stats = {}\n",
    "        for bhk, bhk_df in location_df.groupby('Bedrooms'):\n",
    "            bhk_stats[bhk] = {\n",
    "                'mean': np.mean(bhk_df.Price_sqft),\n",
    "                'std': np.std(bhk_df.Price_sqft),\n",
    "                'count': bhk_df.shape[0]\n",
    "            }\n",
    "        for bhk, bhk_df in location_df.groupby('Bedrooms'):\n",
    "            stats = bhk_stats.get(bhk-1)\n",
    "            if stats and stats['count']>10:\n",
    "                exclude_indices = np.append(exclude_indices, bhk_df[bhk_df.Price_sqft<(stats['mean'])].index.values)\n",
    "    return df.drop(exclude_indices,axis='index')\n",
    "df11 = remove_bhk_outliers(df10)\n",
    "df11.shape"
   ]
  },
  {
   "cell_type": "markdown",
   "id": "e0dfb525",
   "metadata": {},
   "source": [
    "Inference: Now Dropping Price_sqft column as it is not required for our model building"
   ]
  },
  {
   "cell_type": "code",
   "execution_count": 41,
   "id": "de592148",
   "metadata": {},
   "outputs": [
    {
     "data": {
      "text/plain": [
       "(3808, 11)"
      ]
     },
     "execution_count": 41,
     "metadata": {},
     "output_type": "execute_result"
    }
   ],
   "source": [
    "#Dropping the Price_sqft column \n",
    "df12 = df11.drop(['Price_sqft'],axis='columns')\n",
    "df12.shape"
   ]
  },
  {
   "cell_type": "markdown",
   "id": "813374c0",
   "metadata": {},
   "source": [
    "#### Final Dataset After EDA"
   ]
  },
  {
   "cell_type": "code",
   "execution_count": 42,
   "id": "fc4d0599",
   "metadata": {},
   "outputs": [
    {
     "data": {
      "text/html": [
       "<div>\n",
       "<style scoped>\n",
       "    .dataframe tbody tr th:only-of-type {\n",
       "        vertical-align: middle;\n",
       "    }\n",
       "\n",
       "    .dataframe tbody tr th {\n",
       "        vertical-align: top;\n",
       "    }\n",
       "\n",
       "    .dataframe thead th {\n",
       "        text-align: right;\n",
       "    }\n",
       "</style>\n",
       "<table border=\"1\" class=\"dataframe\">\n",
       "  <thead>\n",
       "    <tr style=\"text-align: right;\">\n",
       "      <th></th>\n",
       "      <th>price</th>\n",
       "      <th>area</th>\n",
       "      <th>Bedrooms</th>\n",
       "      <th>Bathrooms</th>\n",
       "      <th>Balcony</th>\n",
       "      <th>neworold</th>\n",
       "      <th>parking</th>\n",
       "      <th>Furnished_status</th>\n",
       "      <th>Lift</th>\n",
       "      <th>type_of_building</th>\n",
       "      <th>Location</th>\n",
       "    </tr>\n",
       "  </thead>\n",
       "  <tbody>\n",
       "    <tr>\n",
       "      <th>0</th>\n",
       "      <td>23900000</td>\n",
       "      <td>950</td>\n",
       "      <td>2</td>\n",
       "      <td>2</td>\n",
       "      <td>1</td>\n",
       "      <td>Resale</td>\n",
       "      <td>1</td>\n",
       "      <td>Furnished</td>\n",
       "      <td>2</td>\n",
       "      <td>Flat</td>\n",
       "      <td>andheri</td>\n",
       "    </tr>\n",
       "    <tr>\n",
       "      <th>1</th>\n",
       "      <td>25000000</td>\n",
       "      <td>900</td>\n",
       "      <td>2</td>\n",
       "      <td>2</td>\n",
       "      <td>1</td>\n",
       "      <td>Resale</td>\n",
       "      <td>2</td>\n",
       "      <td>Furnished</td>\n",
       "      <td>2</td>\n",
       "      <td>Flat</td>\n",
       "      <td>andheri</td>\n",
       "    </tr>\n",
       "    <tr>\n",
       "      <th>2</th>\n",
       "      <td>34000000</td>\n",
       "      <td>1355</td>\n",
       "      <td>3</td>\n",
       "      <td>3</td>\n",
       "      <td>1</td>\n",
       "      <td>Resale</td>\n",
       "      <td>1</td>\n",
       "      <td>Unfurnished</td>\n",
       "      <td>3</td>\n",
       "      <td>Flat</td>\n",
       "      <td>andheri</td>\n",
       "    </tr>\n",
       "    <tr>\n",
       "      <th>3</th>\n",
       "      <td>55000000</td>\n",
       "      <td>1866</td>\n",
       "      <td>4</td>\n",
       "      <td>6</td>\n",
       "      <td>1</td>\n",
       "      <td>New Property</td>\n",
       "      <td>2</td>\n",
       "      <td>Unfurnished</td>\n",
       "      <td>3</td>\n",
       "      <td>Flat</td>\n",
       "      <td>andheri</td>\n",
       "    </tr>\n",
       "    <tr>\n",
       "      <th>5</th>\n",
       "      <td>33500000</td>\n",
       "      <td>1450</td>\n",
       "      <td>3</td>\n",
       "      <td>3</td>\n",
       "      <td>2</td>\n",
       "      <td>New Property</td>\n",
       "      <td>1</td>\n",
       "      <td>Semi Furnished</td>\n",
       "      <td>2</td>\n",
       "      <td>Flat</td>\n",
       "      <td>andheri</td>\n",
       "    </tr>\n",
       "  </tbody>\n",
       "</table>\n",
       "</div>"
      ],
      "text/plain": [
       "      price  area  Bedrooms  Bathrooms  Balcony      neworold  parking  \\\n",
       "0  23900000   950         2          2        1        Resale        1   \n",
       "1  25000000   900         2          2        1        Resale        2   \n",
       "2  34000000  1355         3          3        1        Resale        1   \n",
       "3  55000000  1866         4          6        1  New Property        2   \n",
       "5  33500000  1450         3          3        2  New Property        1   \n",
       "\n",
       "  Furnished_status  Lift type_of_building Location  \n",
       "0        Furnished     2             Flat  andheri  \n",
       "1        Furnished     2             Flat  andheri  \n",
       "2      Unfurnished     3             Flat  andheri  \n",
       "3      Unfurnished     3             Flat  andheri  \n",
       "5   Semi Furnished     2             Flat  andheri  "
      ]
     },
     "execution_count": 42,
     "metadata": {},
     "output_type": "execute_result"
    }
   ],
   "source": [
    "# Dataset After EDA\n",
    "df12.head()"
   ]
  },
  {
   "cell_type": "markdown",
   "id": "4fbb6bb6",
   "metadata": {},
   "source": [
    "#### Detecting Collinearity \n",
    "Correlation Matrix -- using this method to get a overlook of collinearity present in the dataset"
   ]
  },
  {
   "cell_type": "code",
   "execution_count": 43,
   "id": "9093ac9b",
   "metadata": {},
   "outputs": [
    {
     "data": {
      "text/html": [
       "<div>\n",
       "<style scoped>\n",
       "    .dataframe tbody tr th:only-of-type {\n",
       "        vertical-align: middle;\n",
       "    }\n",
       "\n",
       "    .dataframe tbody tr th {\n",
       "        vertical-align: top;\n",
       "    }\n",
       "\n",
       "    .dataframe thead th {\n",
       "        text-align: right;\n",
       "    }\n",
       "</style>\n",
       "<table border=\"1\" class=\"dataframe\">\n",
       "  <thead>\n",
       "    <tr style=\"text-align: right;\">\n",
       "      <th></th>\n",
       "      <th>price</th>\n",
       "      <th>area</th>\n",
       "      <th>Bedrooms</th>\n",
       "      <th>Bathrooms</th>\n",
       "      <th>Balcony</th>\n",
       "      <th>parking</th>\n",
       "      <th>Lift</th>\n",
       "    </tr>\n",
       "  </thead>\n",
       "  <tbody>\n",
       "    <tr>\n",
       "      <th>price</th>\n",
       "      <td>1.000000</td>\n",
       "      <td>0.822005</td>\n",
       "      <td>0.670577</td>\n",
       "      <td>0.665678</td>\n",
       "      <td>0.176235</td>\n",
       "      <td>0.321138</td>\n",
       "      <td>0.129730</td>\n",
       "    </tr>\n",
       "    <tr>\n",
       "      <th>area</th>\n",
       "      <td>0.822005</td>\n",
       "      <td>1.000000</td>\n",
       "      <td>0.768449</td>\n",
       "      <td>0.734263</td>\n",
       "      <td>0.287006</td>\n",
       "      <td>0.344925</td>\n",
       "      <td>0.170101</td>\n",
       "    </tr>\n",
       "    <tr>\n",
       "      <th>Bedrooms</th>\n",
       "      <td>0.670577</td>\n",
       "      <td>0.768449</td>\n",
       "      <td>1.000000</td>\n",
       "      <td>0.833753</td>\n",
       "      <td>0.312656</td>\n",
       "      <td>0.333068</td>\n",
       "      <td>0.097397</td>\n",
       "    </tr>\n",
       "    <tr>\n",
       "      <th>Bathrooms</th>\n",
       "      <td>0.665678</td>\n",
       "      <td>0.734263</td>\n",
       "      <td>0.833753</td>\n",
       "      <td>1.000000</td>\n",
       "      <td>0.274294</td>\n",
       "      <td>0.339145</td>\n",
       "      <td>0.133982</td>\n",
       "    </tr>\n",
       "    <tr>\n",
       "      <th>Balcony</th>\n",
       "      <td>0.176235</td>\n",
       "      <td>0.287006</td>\n",
       "      <td>0.312656</td>\n",
       "      <td>0.274294</td>\n",
       "      <td>1.000000</td>\n",
       "      <td>0.115525</td>\n",
       "      <td>0.077914</td>\n",
       "    </tr>\n",
       "    <tr>\n",
       "      <th>parking</th>\n",
       "      <td>0.321138</td>\n",
       "      <td>0.344925</td>\n",
       "      <td>0.333068</td>\n",
       "      <td>0.339145</td>\n",
       "      <td>0.115525</td>\n",
       "      <td>1.000000</td>\n",
       "      <td>0.194299</td>\n",
       "    </tr>\n",
       "    <tr>\n",
       "      <th>Lift</th>\n",
       "      <td>0.129730</td>\n",
       "      <td>0.170101</td>\n",
       "      <td>0.097397</td>\n",
       "      <td>0.133982</td>\n",
       "      <td>0.077914</td>\n",
       "      <td>0.194299</td>\n",
       "      <td>1.000000</td>\n",
       "    </tr>\n",
       "  </tbody>\n",
       "</table>\n",
       "</div>"
      ],
      "text/plain": [
       "              price      area  Bedrooms  Bathrooms   Balcony   parking  \\\n",
       "price      1.000000  0.822005  0.670577   0.665678  0.176235  0.321138   \n",
       "area       0.822005  1.000000  0.768449   0.734263  0.287006  0.344925   \n",
       "Bedrooms   0.670577  0.768449  1.000000   0.833753  0.312656  0.333068   \n",
       "Bathrooms  0.665678  0.734263  0.833753   1.000000  0.274294  0.339145   \n",
       "Balcony    0.176235  0.287006  0.312656   0.274294  1.000000  0.115525   \n",
       "parking    0.321138  0.344925  0.333068   0.339145  0.115525  1.000000   \n",
       "Lift       0.129730  0.170101  0.097397   0.133982  0.077914  0.194299   \n",
       "\n",
       "               Lift  \n",
       "price      0.129730  \n",
       "area       0.170101  \n",
       "Bedrooms   0.097397  \n",
       "Bathrooms  0.133982  \n",
       "Balcony    0.077914  \n",
       "parking    0.194299  \n",
       "Lift       1.000000  "
      ]
     },
     "execution_count": 43,
     "metadata": {},
     "output_type": "execute_result"
    }
   ],
   "source": [
    "#corr()\n",
    "df12.corr()"
   ]
  },
  {
   "cell_type": "markdown",
   "id": "817a9a02",
   "metadata": {},
   "source": [
    "Inference: All Variable have positive Correlation, \"area\", \"Bedrooms\",\"Bathrooms\" have Strong positive Correlation, & \"Balcony\", \"parking\" & \"lift\" have low positive correlation,But going to Keep all of these Variable as they all have positive Correlation"
   ]
  },
  {
   "cell_type": "markdown",
   "id": "f94fa7a1",
   "metadata": {},
   "source": [
    "#### Visualization\n",
    "Scatterplot between variables"
   ]
  },
  {
   "cell_type": "code",
   "execution_count": 44,
   "id": "a2a4d820",
   "metadata": {},
   "outputs": [
    {
     "data": {
      "text/plain": [
       "<seaborn.axisgrid.PairGrid at 0x164675da3a0>"
      ]
     },
     "execution_count": 44,
     "metadata": {},
     "output_type": "execute_result"
    },
    {
     "data": {
      "image/png": "[encoded data removed]",
      "text/plain": [
       "<Figure size 1260x1260 with 56 Axes>"
      ]
     },
     "metadata": {},
     "output_type": "display_data"
    }
   ],
   "source": [
    "#Format the plot background and scatter plots for all the variables\n",
    "sns.set_style(style='darkgrid')\n",
    "sns.pairplot(df12)"
   ]
  },
  {
   "cell_type": "markdown",
   "id": "e3ef61a5",
   "metadata": {},
   "source": [
    "#### One Hot Encoding For Categorial Columns"
   ]
  },
  {
   "cell_type": "code",
   "execution_count": 45,
   "id": "1dcd5898",
   "metadata": {
    "scrolled": true
   },
   "outputs": [
    {
     "data": {
      "text/html": [
       "<div>\n",
       "<style scoped>\n",
       "    .dataframe tbody tr th:only-of-type {\n",
       "        vertical-align: middle;\n",
       "    }\n",
       "\n",
       "    .dataframe tbody tr th {\n",
       "        vertical-align: top;\n",
       "    }\n",
       "\n",
       "    .dataframe thead th {\n",
       "        text-align: right;\n",
       "    }\n",
       "</style>\n",
       "<table border=\"1\" class=\"dataframe\">\n",
       "  <thead>\n",
       "    <tr style=\"text-align: right;\">\n",
       "      <th></th>\n",
       "      <th>andheri</th>\n",
       "      <th>bandra</th>\n",
       "      <th>bhandup</th>\n",
       "      <th>bhayandar</th>\n",
       "      <th>borivali</th>\n",
       "      <th>chandivali</th>\n",
       "      <th>charkop</th>\n",
       "      <th>chembur</th>\n",
       "      <th>dadar</th>\n",
       "      <th>dahisar</th>\n",
       "      <th>...</th>\n",
       "      <th>thakur</th>\n",
       "      <th>thane</th>\n",
       "      <th>ulhasnagar</th>\n",
       "      <th>vasai</th>\n",
       "      <th>versova</th>\n",
       "      <th>vikhroli</th>\n",
       "      <th>vile</th>\n",
       "      <th>virar</th>\n",
       "      <th>wadala</th>\n",
       "      <th>worli</th>\n",
       "    </tr>\n",
       "  </thead>\n",
       "  <tbody>\n",
       "    <tr>\n",
       "      <th>0</th>\n",
       "      <td>1</td>\n",
       "      <td>0</td>\n",
       "      <td>0</td>\n",
       "      <td>0</td>\n",
       "      <td>0</td>\n",
       "      <td>0</td>\n",
       "      <td>0</td>\n",
       "      <td>0</td>\n",
       "      <td>0</td>\n",
       "      <td>0</td>\n",
       "      <td>...</td>\n",
       "      <td>0</td>\n",
       "      <td>0</td>\n",
       "      <td>0</td>\n",
       "      <td>0</td>\n",
       "      <td>0</td>\n",
       "      <td>0</td>\n",
       "      <td>0</td>\n",
       "      <td>0</td>\n",
       "      <td>0</td>\n",
       "      <td>0</td>\n",
       "    </tr>\n",
       "    <tr>\n",
       "      <th>1</th>\n",
       "      <td>1</td>\n",
       "      <td>0</td>\n",
       "      <td>0</td>\n",
       "      <td>0</td>\n",
       "      <td>0</td>\n",
       "      <td>0</td>\n",
       "      <td>0</td>\n",
       "      <td>0</td>\n",
       "      <td>0</td>\n",
       "      <td>0</td>\n",
       "      <td>...</td>\n",
       "      <td>0</td>\n",
       "      <td>0</td>\n",
       "      <td>0</td>\n",
       "      <td>0</td>\n",
       "      <td>0</td>\n",
       "      <td>0</td>\n",
       "      <td>0</td>\n",
       "      <td>0</td>\n",
       "      <td>0</td>\n",
       "      <td>0</td>\n",
       "    </tr>\n",
       "    <tr>\n",
       "      <th>2</th>\n",
       "      <td>1</td>\n",
       "      <td>0</td>\n",
       "      <td>0</td>\n",
       "      <td>0</td>\n",
       "      <td>0</td>\n",
       "      <td>0</td>\n",
       "      <td>0</td>\n",
       "      <td>0</td>\n",
       "      <td>0</td>\n",
       "      <td>0</td>\n",
       "      <td>...</td>\n",
       "      <td>0</td>\n",
       "      <td>0</td>\n",
       "      <td>0</td>\n",
       "      <td>0</td>\n",
       "      <td>0</td>\n",
       "      <td>0</td>\n",
       "      <td>0</td>\n",
       "      <td>0</td>\n",
       "      <td>0</td>\n",
       "      <td>0</td>\n",
       "    </tr>\n",
       "  </tbody>\n",
       "</table>\n",
       "<p>3 rows × 45 columns</p>\n",
       "</div>"
      ],
      "text/plain": [
       "   andheri  bandra  bhandup  bhayandar  borivali  chandivali  charkop  \\\n",
       "0        1       0        0          0         0           0        0   \n",
       "1        1       0        0          0         0           0        0   \n",
       "2        1       0        0          0         0           0        0   \n",
       "\n",
       "   chembur  dadar  dahisar  ...  thakur  thane  ulhasnagar  vasai  versova  \\\n",
       "0        0      0        0  ...       0      0           0      0        0   \n",
       "1        0      0        0  ...       0      0           0      0        0   \n",
       "2        0      0        0  ...       0      0           0      0        0   \n",
       "\n",
       "   vikhroli  vile  virar  wadala  worli  \n",
       "0         0     0      0       0      0  \n",
       "1         0     0      0       0      0  \n",
       "2         0     0      0       0      0  \n",
       "\n",
       "[3 rows x 45 columns]"
      ]
     },
     "execution_count": 45,
     "metadata": {},
     "output_type": "execute_result"
    }
   ],
   "source": [
    "loc_dummies = pd.get_dummies(df12.Location)\n",
    "loc_dummies.head(3)"
   ]
  },
  {
   "cell_type": "code",
   "execution_count": 46,
   "id": "193cd64e",
   "metadata": {},
   "outputs": [
    {
     "data": {
      "text/html": [
       "<div>\n",
       "<style scoped>\n",
       "    .dataframe tbody tr th:only-of-type {\n",
       "        vertical-align: middle;\n",
       "    }\n",
       "\n",
       "    .dataframe tbody tr th {\n",
       "        vertical-align: top;\n",
       "    }\n",
       "\n",
       "    .dataframe thead th {\n",
       "        text-align: right;\n",
       "    }\n",
       "</style>\n",
       "<table border=\"1\" class=\"dataframe\">\n",
       "  <thead>\n",
       "    <tr style=\"text-align: right;\">\n",
       "      <th></th>\n",
       "      <th>New Property</th>\n",
       "      <th>Resale</th>\n",
       "    </tr>\n",
       "  </thead>\n",
       "  <tbody>\n",
       "    <tr>\n",
       "      <th>0</th>\n",
       "      <td>0</td>\n",
       "      <td>1</td>\n",
       "    </tr>\n",
       "    <tr>\n",
       "      <th>1</th>\n",
       "      <td>0</td>\n",
       "      <td>1</td>\n",
       "    </tr>\n",
       "    <tr>\n",
       "      <th>2</th>\n",
       "      <td>0</td>\n",
       "      <td>1</td>\n",
       "    </tr>\n",
       "  </tbody>\n",
       "</table>\n",
       "</div>"
      ],
      "text/plain": [
       "   New Property  Resale\n",
       "0             0       1\n",
       "1             0       1\n",
       "2             0       1"
      ]
     },
     "execution_count": 46,
     "metadata": {},
     "output_type": "execute_result"
    }
   ],
   "source": [
    "nro_dummies = pd.get_dummies(df12.neworold)\n",
    "nro_dummies.head(3)"
   ]
  },
  {
   "cell_type": "code",
   "execution_count": 47,
   "id": "0f670d5a",
   "metadata": {},
   "outputs": [
    {
     "data": {
      "text/html": [
       "<div>\n",
       "<style scoped>\n",
       "    .dataframe tbody tr th:only-of-type {\n",
       "        vertical-align: middle;\n",
       "    }\n",
       "\n",
       "    .dataframe tbody tr th {\n",
       "        vertical-align: top;\n",
       "    }\n",
       "\n",
       "    .dataframe thead th {\n",
       "        text-align: right;\n",
       "    }\n",
       "</style>\n",
       "<table border=\"1\" class=\"dataframe\">\n",
       "  <thead>\n",
       "    <tr style=\"text-align: right;\">\n",
       "      <th></th>\n",
       "      <th>Furnished</th>\n",
       "      <th>Semi Furnished</th>\n",
       "      <th>Unfurnished</th>\n",
       "    </tr>\n",
       "  </thead>\n",
       "  <tbody>\n",
       "    <tr>\n",
       "      <th>0</th>\n",
       "      <td>1</td>\n",
       "      <td>0</td>\n",
       "      <td>0</td>\n",
       "    </tr>\n",
       "    <tr>\n",
       "      <th>1</th>\n",
       "      <td>1</td>\n",
       "      <td>0</td>\n",
       "      <td>0</td>\n",
       "    </tr>\n",
       "    <tr>\n",
       "      <th>2</th>\n",
       "      <td>0</td>\n",
       "      <td>0</td>\n",
       "      <td>1</td>\n",
       "    </tr>\n",
       "  </tbody>\n",
       "</table>\n",
       "</div>"
      ],
      "text/plain": [
       "   Furnished  Semi Furnished  Unfurnished\n",
       "0          1               0            0\n",
       "1          1               0            0\n",
       "2          0               0            1"
      ]
     },
     "execution_count": 47,
     "metadata": {},
     "output_type": "execute_result"
    }
   ],
   "source": [
    "fus_dummies = pd.get_dummies(df12.Furnished_status)\n",
    "fus_dummies.head(3)"
   ]
  },
  {
   "cell_type": "code",
   "execution_count": 48,
   "id": "a31b8a41",
   "metadata": {
    "scrolled": false
   },
   "outputs": [
    {
     "data": {
      "text/html": [
       "<div>\n",
       "<style scoped>\n",
       "    .dataframe tbody tr th:only-of-type {\n",
       "        vertical-align: middle;\n",
       "    }\n",
       "\n",
       "    .dataframe tbody tr th {\n",
       "        vertical-align: top;\n",
       "    }\n",
       "\n",
       "    .dataframe thead th {\n",
       "        text-align: right;\n",
       "    }\n",
       "</style>\n",
       "<table border=\"1\" class=\"dataframe\">\n",
       "  <thead>\n",
       "    <tr style=\"text-align: right;\">\n",
       "      <th></th>\n",
       "      <th>Flat</th>\n",
       "      <th>Individual House</th>\n",
       "    </tr>\n",
       "  </thead>\n",
       "  <tbody>\n",
       "    <tr>\n",
       "      <th>0</th>\n",
       "      <td>1</td>\n",
       "      <td>0</td>\n",
       "    </tr>\n",
       "    <tr>\n",
       "      <th>1</th>\n",
       "      <td>1</td>\n",
       "      <td>0</td>\n",
       "    </tr>\n",
       "    <tr>\n",
       "      <th>2</th>\n",
       "      <td>1</td>\n",
       "      <td>0</td>\n",
       "    </tr>\n",
       "  </tbody>\n",
       "</table>\n",
       "</div>"
      ],
      "text/plain": [
       "   Flat  Individual House\n",
       "0     1                 0\n",
       "1     1                 0\n",
       "2     1                 0"
      ]
     },
     "execution_count": 48,
     "metadata": {},
     "output_type": "execute_result"
    }
   ],
   "source": [
    "tob_dummies = pd.get_dummies(df12.type_of_building)\n",
    "tob_dummies.head(3)"
   ]
  },
  {
   "cell_type": "markdown",
   "id": "fa0118e3",
   "metadata": {},
   "source": [
    "Inference: Created Dummies Will Merge with original Data & remove one Dummy of each Variable to escape dummy variable trap"
   ]
  },
  {
   "cell_type": "raw",
   "id": "50c90df7",
   "metadata": {
    "scrolled": true
   },
   "source": [
    "df13 = pd.concat([df12,nro_dummies.drop('Resale',axis='columns'),fus_dummies.drop('Unfurnished',axis='columns'),\n",
    "                  tob_dummies.drop('Individual House',axis='columns'),loc_dummies.drop('worli',axis='columns'),],axis='columns')\n",
    "df13.head()"
   ]
  },
  {
   "cell_type": "code",
   "execution_count": 49,
   "id": "1ab9cc9a",
   "metadata": {},
   "outputs": [
    {
     "data": {
      "text/html": [
       "<div>\n",
       "<style scoped>\n",
       "    .dataframe tbody tr th:only-of-type {\n",
       "        vertical-align: middle;\n",
       "    }\n",
       "\n",
       "    .dataframe tbody tr th {\n",
       "        vertical-align: top;\n",
       "    }\n",
       "\n",
       "    .dataframe thead th {\n",
       "        text-align: right;\n",
       "    }\n",
       "</style>\n",
       "<table border=\"1\" class=\"dataframe\">\n",
       "  <thead>\n",
       "    <tr style=\"text-align: right;\">\n",
       "      <th></th>\n",
       "      <th>price</th>\n",
       "      <th>area</th>\n",
       "      <th>Bedrooms</th>\n",
       "      <th>Bathrooms</th>\n",
       "      <th>Balcony</th>\n",
       "      <th>neworold</th>\n",
       "      <th>parking</th>\n",
       "      <th>Furnished_status</th>\n",
       "      <th>Lift</th>\n",
       "      <th>type_of_building</th>\n",
       "      <th>...</th>\n",
       "      <th>thakur</th>\n",
       "      <th>thane</th>\n",
       "      <th>ulhasnagar</th>\n",
       "      <th>vasai</th>\n",
       "      <th>versova</th>\n",
       "      <th>vikhroli</th>\n",
       "      <th>vile</th>\n",
       "      <th>virar</th>\n",
       "      <th>wadala</th>\n",
       "      <th>worli</th>\n",
       "    </tr>\n",
       "  </thead>\n",
       "  <tbody>\n",
       "    <tr>\n",
       "      <th>0</th>\n",
       "      <td>23900000</td>\n",
       "      <td>950</td>\n",
       "      <td>2</td>\n",
       "      <td>2</td>\n",
       "      <td>1</td>\n",
       "      <td>Resale</td>\n",
       "      <td>1</td>\n",
       "      <td>Furnished</td>\n",
       "      <td>2</td>\n",
       "      <td>Flat</td>\n",
       "      <td>...</td>\n",
       "      <td>0</td>\n",
       "      <td>0</td>\n",
       "      <td>0</td>\n",
       "      <td>0</td>\n",
       "      <td>0</td>\n",
       "      <td>0</td>\n",
       "      <td>0</td>\n",
       "      <td>0</td>\n",
       "      <td>0</td>\n",
       "      <td>0</td>\n",
       "    </tr>\n",
       "    <tr>\n",
       "      <th>1</th>\n",
       "      <td>25000000</td>\n",
       "      <td>900</td>\n",
       "      <td>2</td>\n",
       "      <td>2</td>\n",
       "      <td>1</td>\n",
       "      <td>Resale</td>\n",
       "      <td>2</td>\n",
       "      <td>Furnished</td>\n",
       "      <td>2</td>\n",
       "      <td>Flat</td>\n",
       "      <td>...</td>\n",
       "      <td>0</td>\n",
       "      <td>0</td>\n",
       "      <td>0</td>\n",
       "      <td>0</td>\n",
       "      <td>0</td>\n",
       "      <td>0</td>\n",
       "      <td>0</td>\n",
       "      <td>0</td>\n",
       "      <td>0</td>\n",
       "      <td>0</td>\n",
       "    </tr>\n",
       "    <tr>\n",
       "      <th>2</th>\n",
       "      <td>34000000</td>\n",
       "      <td>1355</td>\n",
       "      <td>3</td>\n",
       "      <td>3</td>\n",
       "      <td>1</td>\n",
       "      <td>Resale</td>\n",
       "      <td>1</td>\n",
       "      <td>Unfurnished</td>\n",
       "      <td>3</td>\n",
       "      <td>Flat</td>\n",
       "      <td>...</td>\n",
       "      <td>0</td>\n",
       "      <td>0</td>\n",
       "      <td>0</td>\n",
       "      <td>0</td>\n",
       "      <td>0</td>\n",
       "      <td>0</td>\n",
       "      <td>0</td>\n",
       "      <td>0</td>\n",
       "      <td>0</td>\n",
       "      <td>0</td>\n",
       "    </tr>\n",
       "    <tr>\n",
       "      <th>3</th>\n",
       "      <td>55000000</td>\n",
       "      <td>1866</td>\n",
       "      <td>4</td>\n",
       "      <td>6</td>\n",
       "      <td>1</td>\n",
       "      <td>New Property</td>\n",
       "      <td>2</td>\n",
       "      <td>Unfurnished</td>\n",
       "      <td>3</td>\n",
       "      <td>Flat</td>\n",
       "      <td>...</td>\n",
       "      <td>0</td>\n",
       "      <td>0</td>\n",
       "      <td>0</td>\n",
       "      <td>0</td>\n",
       "      <td>0</td>\n",
       "      <td>0</td>\n",
       "      <td>0</td>\n",
       "      <td>0</td>\n",
       "      <td>0</td>\n",
       "      <td>0</td>\n",
       "    </tr>\n",
       "    <tr>\n",
       "      <th>5</th>\n",
       "      <td>33500000</td>\n",
       "      <td>1450</td>\n",
       "      <td>3</td>\n",
       "      <td>3</td>\n",
       "      <td>2</td>\n",
       "      <td>New Property</td>\n",
       "      <td>1</td>\n",
       "      <td>Semi Furnished</td>\n",
       "      <td>2</td>\n",
       "      <td>Flat</td>\n",
       "      <td>...</td>\n",
       "      <td>0</td>\n",
       "      <td>0</td>\n",
       "      <td>0</td>\n",
       "      <td>0</td>\n",
       "      <td>0</td>\n",
       "      <td>0</td>\n",
       "      <td>0</td>\n",
       "      <td>0</td>\n",
       "      <td>0</td>\n",
       "      <td>0</td>\n",
       "    </tr>\n",
       "  </tbody>\n",
       "</table>\n",
       "<p>5 rows × 63 columns</p>\n",
       "</div>"
      ],
      "text/plain": [
       "      price  area  Bedrooms  Bathrooms  Balcony      neworold  parking  \\\n",
       "0  23900000   950         2          2        1        Resale        1   \n",
       "1  25000000   900         2          2        1        Resale        2   \n",
       "2  34000000  1355         3          3        1        Resale        1   \n",
       "3  55000000  1866         4          6        1  New Property        2   \n",
       "5  33500000  1450         3          3        2  New Property        1   \n",
       "\n",
       "  Furnished_status  Lift type_of_building  ... thakur  thane  ulhasnagar  \\\n",
       "0        Furnished     2             Flat  ...      0      0           0   \n",
       "1        Furnished     2             Flat  ...      0      0           0   \n",
       "2      Unfurnished     3             Flat  ...      0      0           0   \n",
       "3      Unfurnished     3             Flat  ...      0      0           0   \n",
       "5   Semi Furnished     2             Flat  ...      0      0           0   \n",
       "\n",
       "   vasai  versova  vikhroli  vile  virar  wadala  worli  \n",
       "0      0        0         0     0      0       0      0  \n",
       "1      0        0         0     0      0       0      0  \n",
       "2      0        0         0     0      0       0      0  \n",
       "3      0        0         0     0      0       0      0  \n",
       "5      0        0         0     0      0       0      0  \n",
       "\n",
       "[5 rows x 63 columns]"
      ]
     },
     "execution_count": 49,
     "metadata": {},
     "output_type": "execute_result"
    }
   ],
   "source": [
    "df13 = pd.concat([df12,nro_dummies,fus_dummies,tob_dummies,loc_dummies],axis='columns')\n",
    "df13.head()"
   ]
  },
  {
   "cell_type": "code",
   "execution_count": 50,
   "id": "898380d1",
   "metadata": {},
   "outputs": [
    {
     "data": {
      "text/html": [
       "<div>\n",
       "<style scoped>\n",
       "    .dataframe tbody tr th:only-of-type {\n",
       "        vertical-align: middle;\n",
       "    }\n",
       "\n",
       "    .dataframe tbody tr th {\n",
       "        vertical-align: top;\n",
       "    }\n",
       "\n",
       "    .dataframe thead th {\n",
       "        text-align: right;\n",
       "    }\n",
       "</style>\n",
       "<table border=\"1\" class=\"dataframe\">\n",
       "  <thead>\n",
       "    <tr style=\"text-align: right;\">\n",
       "      <th></th>\n",
       "      <th>price</th>\n",
       "      <th>area</th>\n",
       "      <th>Bedrooms</th>\n",
       "      <th>Bathrooms</th>\n",
       "      <th>Balcony</th>\n",
       "      <th>parking</th>\n",
       "      <th>Lift</th>\n",
       "      <th>New Property</th>\n",
       "      <th>Resale</th>\n",
       "      <th>Furnished</th>\n",
       "      <th>...</th>\n",
       "      <th>thakur</th>\n",
       "      <th>thane</th>\n",
       "      <th>ulhasnagar</th>\n",
       "      <th>vasai</th>\n",
       "      <th>versova</th>\n",
       "      <th>vikhroli</th>\n",
       "      <th>vile</th>\n",
       "      <th>virar</th>\n",
       "      <th>wadala</th>\n",
       "      <th>worli</th>\n",
       "    </tr>\n",
       "  </thead>\n",
       "  <tbody>\n",
       "    <tr>\n",
       "      <th>0</th>\n",
       "      <td>23900000</td>\n",
       "      <td>950</td>\n",
       "      <td>2</td>\n",
       "      <td>2</td>\n",
       "      <td>1</td>\n",
       "      <td>1</td>\n",
       "      <td>2</td>\n",
       "      <td>0</td>\n",
       "      <td>1</td>\n",
       "      <td>1</td>\n",
       "      <td>...</td>\n",
       "      <td>0</td>\n",
       "      <td>0</td>\n",
       "      <td>0</td>\n",
       "      <td>0</td>\n",
       "      <td>0</td>\n",
       "      <td>0</td>\n",
       "      <td>0</td>\n",
       "      <td>0</td>\n",
       "      <td>0</td>\n",
       "      <td>0</td>\n",
       "    </tr>\n",
       "    <tr>\n",
       "      <th>1</th>\n",
       "      <td>25000000</td>\n",
       "      <td>900</td>\n",
       "      <td>2</td>\n",
       "      <td>2</td>\n",
       "      <td>1</td>\n",
       "      <td>2</td>\n",
       "      <td>2</td>\n",
       "      <td>0</td>\n",
       "      <td>1</td>\n",
       "      <td>1</td>\n",
       "      <td>...</td>\n",
       "      <td>0</td>\n",
       "      <td>0</td>\n",
       "      <td>0</td>\n",
       "      <td>0</td>\n",
       "      <td>0</td>\n",
       "      <td>0</td>\n",
       "      <td>0</td>\n",
       "      <td>0</td>\n",
       "      <td>0</td>\n",
       "      <td>0</td>\n",
       "    </tr>\n",
       "    <tr>\n",
       "      <th>2</th>\n",
       "      <td>34000000</td>\n",
       "      <td>1355</td>\n",
       "      <td>3</td>\n",
       "      <td>3</td>\n",
       "      <td>1</td>\n",
       "      <td>1</td>\n",
       "      <td>3</td>\n",
       "      <td>0</td>\n",
       "      <td>1</td>\n",
       "      <td>0</td>\n",
       "      <td>...</td>\n",
       "      <td>0</td>\n",
       "      <td>0</td>\n",
       "      <td>0</td>\n",
       "      <td>0</td>\n",
       "      <td>0</td>\n",
       "      <td>0</td>\n",
       "      <td>0</td>\n",
       "      <td>0</td>\n",
       "      <td>0</td>\n",
       "      <td>0</td>\n",
       "    </tr>\n",
       "    <tr>\n",
       "      <th>3</th>\n",
       "      <td>55000000</td>\n",
       "      <td>1866</td>\n",
       "      <td>4</td>\n",
       "      <td>6</td>\n",
       "      <td>1</td>\n",
       "      <td>2</td>\n",
       "      <td>3</td>\n",
       "      <td>1</td>\n",
       "      <td>0</td>\n",
       "      <td>0</td>\n",
       "      <td>...</td>\n",
       "      <td>0</td>\n",
       "      <td>0</td>\n",
       "      <td>0</td>\n",
       "      <td>0</td>\n",
       "      <td>0</td>\n",
       "      <td>0</td>\n",
       "      <td>0</td>\n",
       "      <td>0</td>\n",
       "      <td>0</td>\n",
       "      <td>0</td>\n",
       "    </tr>\n",
       "    <tr>\n",
       "      <th>5</th>\n",
       "      <td>33500000</td>\n",
       "      <td>1450</td>\n",
       "      <td>3</td>\n",
       "      <td>3</td>\n",
       "      <td>2</td>\n",
       "      <td>1</td>\n",
       "      <td>2</td>\n",
       "      <td>1</td>\n",
       "      <td>0</td>\n",
       "      <td>0</td>\n",
       "      <td>...</td>\n",
       "      <td>0</td>\n",
       "      <td>0</td>\n",
       "      <td>0</td>\n",
       "      <td>0</td>\n",
       "      <td>0</td>\n",
       "      <td>0</td>\n",
       "      <td>0</td>\n",
       "      <td>0</td>\n",
       "      <td>0</td>\n",
       "      <td>0</td>\n",
       "    </tr>\n",
       "  </tbody>\n",
       "</table>\n",
       "<p>5 rows × 59 columns</p>\n",
       "</div>"
      ],
      "text/plain": [
       "      price  area  Bedrooms  Bathrooms  Balcony  parking  Lift  New Property  \\\n",
       "0  23900000   950         2          2        1        1     2             0   \n",
       "1  25000000   900         2          2        1        2     2             0   \n",
       "2  34000000  1355         3          3        1        1     3             0   \n",
       "3  55000000  1866         4          6        1        2     3             1   \n",
       "5  33500000  1450         3          3        2        1     2             1   \n",
       "\n",
       "   Resale  Furnished  ...  thakur  thane  ulhasnagar  vasai  versova  \\\n",
       "0       1          1  ...       0      0           0      0        0   \n",
       "1       1          1  ...       0      0           0      0        0   \n",
       "2       1          0  ...       0      0           0      0        0   \n",
       "3       0          0  ...       0      0           0      0        0   \n",
       "5       0          0  ...       0      0           0      0        0   \n",
       "\n",
       "   vikhroli  vile  virar  wadala  worli  \n",
       "0         0     0      0       0      0  \n",
       "1         0     0      0       0      0  \n",
       "2         0     0      0       0      0  \n",
       "3         0     0      0       0      0  \n",
       "5         0     0      0       0      0  \n",
       "\n",
       "[5 rows x 59 columns]"
      ]
     },
     "execution_count": 50,
     "metadata": {},
     "output_type": "execute_result"
    }
   ],
   "source": [
    "#Final Dataset\n",
    "final_df = df13.drop(['Location','neworold','Furnished_status','type_of_building'],axis=\"columns\")\n",
    "final_df.head()"
   ]
  },
  {
   "cell_type": "markdown",
   "id": "ccc48352",
   "metadata": {},
   "source": [
    "#### Model Building"
   ]
  },
  {
   "cell_type": "code",
   "execution_count": 51,
   "id": "5dff6f7b",
   "metadata": {},
   "outputs": [
    {
     "data": {
      "text/plain": [
       "(3808, 59)"
      ]
     },
     "execution_count": 51,
     "metadata": {},
     "output_type": "execute_result"
    }
   ],
   "source": [
    "#Final Dataset Shape\n",
    "final_df.shape"
   ]
  },
  {
   "cell_type": "code",
   "execution_count": 52,
   "id": "24a1f29a",
   "metadata": {},
   "outputs": [
    {
     "name": "stdout",
     "output_type": "stream",
     "text": [
      "X : (3808, 58)\n",
      "Y : 3808\n"
     ]
    }
   ],
   "source": [
    "#Splitting X & Y Variable\n",
    "# X Vaiable\n",
    "X = final_df.drop(['price'], axis = 'columns')\n",
    "# Y Variable\n",
    "Y = final_df.price\n",
    "#printing shape of both\n",
    "print(\"X :\",X.shape)\n",
    "print(\"Y :\",len(Y))"
   ]
  },
  {
   "cell_type": "code",
   "execution_count": 53,
   "id": "a734feb6",
   "metadata": {},
   "outputs": [],
   "source": [
    "# Train & Test Split\n",
    "X_train, X_test, Y_train, Y_test = train_test_split(X,Y,test_size=0.2,random_state=10)"
   ]
  },
  {
   "cell_type": "markdown",
   "id": "e6942894",
   "metadata": {},
   "source": [
    "#### Linear model"
   ]
  },
  {
   "cell_type": "code",
   "execution_count": 54,
   "id": "28e26f36",
   "metadata": {},
   "outputs": [
    {
     "data": {
      "text/plain": [
       "84.74486121790936"
      ]
     },
     "execution_count": 54,
     "metadata": {},
     "output_type": "execute_result"
    }
   ],
   "source": [
    "#Model\n",
    "Lmodel = LinearRegression()\n",
    "Lmodel.fit(X_train,Y_train)\n",
    "Lmodel.score(X_test,Y_test)*100"
   ]
  },
  {
   "cell_type": "markdown",
   "id": "1d6687a4",
   "metadata": {},
   "source": [
    "#### Model Validation - KFold\n"
   ]
  },
  {
   "cell_type": "code",
   "execution_count": 55,
   "id": "e75070c5",
   "metadata": {},
   "outputs": [
    {
     "data": {
      "text/plain": [
       "array([0.86041468, 0.87154877, 0.89254076, 0.85526314, 0.89645182])"
      ]
     },
     "execution_count": 55,
     "metadata": {},
     "output_type": "execute_result"
    }
   ],
   "source": [
    "#Kfold of Linear model\n",
    "kfold = ShuffleSplit(n_splits=5, test_size=0.2, random_state=0)\n",
    "cross_val_score(LinearRegression(), X, Y, cv=kfold)"
   ]
  },
  {
   "cell_type": "markdown",
   "id": "bf854fc7",
   "metadata": {},
   "source": [
    "Inference: We can see that in 5 iterations we get a score above 75% all the time. This is pretty good but we want to test few other algorithms for regression to see if we can get even better score. We will use GridSearchCV for this purpose"
   ]
  },
  {
   "cell_type": "markdown",
   "id": "25f44285",
   "metadata": {},
   "source": [
    "#### Find best Algorithms using GridSearchCV"
   ]
  },
  {
   "cell_type": "code",
   "execution_count": 56,
   "id": "52c9cf9f",
   "metadata": {
    "scrolled": true
   },
   "outputs": [
    {
     "data": {
      "text/html": [
       "<div>\n",
       "<style scoped>\n",
       "    .dataframe tbody tr th:only-of-type {\n",
       "        vertical-align: middle;\n",
       "    }\n",
       "\n",
       "    .dataframe tbody tr th {\n",
       "        vertical-align: top;\n",
       "    }\n",
       "\n",
       "    .dataframe thead th {\n",
       "        text-align: right;\n",
       "    }\n",
       "</style>\n",
       "<table border=\"1\" class=\"dataframe\">\n",
       "  <thead>\n",
       "    <tr style=\"text-align: right;\">\n",
       "      <th></th>\n",
       "      <th>model</th>\n",
       "      <th>best_score</th>\n",
       "      <th>best_params</th>\n",
       "    </tr>\n",
       "  </thead>\n",
       "  <tbody>\n",
       "    <tr>\n",
       "      <th>0</th>\n",
       "      <td>linear_regression</td>\n",
       "      <td>0.848349</td>\n",
       "      <td>{'normalize': False}</td>\n",
       "    </tr>\n",
       "    <tr>\n",
       "      <th>1</th>\n",
       "      <td>ridge</td>\n",
       "      <td>0.848343</td>\n",
       "      <td>{'alpha': 0.1}</td>\n",
       "    </tr>\n",
       "    <tr>\n",
       "      <th>2</th>\n",
       "      <td>lasso</td>\n",
       "      <td>0.848349</td>\n",
       "      <td>{'alpha': 0.1, 'selection': 'cyclic'}</td>\n",
       "    </tr>\n",
       "    <tr>\n",
       "      <th>3</th>\n",
       "      <td>decision_tree</td>\n",
       "      <td>0.734327</td>\n",
       "      <td>{'criterion': 'friedman_mse', 'splitter': 'ran...</td>\n",
       "    </tr>\n",
       "  </tbody>\n",
       "</table>\n",
       "</div>"
      ],
      "text/plain": [
       "               model  best_score  \\\n",
       "0  linear_regression    0.848349   \n",
       "1              ridge    0.848343   \n",
       "2              lasso    0.848349   \n",
       "3      decision_tree    0.734327   \n",
       "\n",
       "                                         best_params  \n",
       "0                               {'normalize': False}  \n",
       "1                                     {'alpha': 0.1}  \n",
       "2              {'alpha': 0.1, 'selection': 'cyclic'}  \n",
       "3  {'criterion': 'friedman_mse', 'splitter': 'ran...  "
      ]
     },
     "execution_count": 56,
     "metadata": {},
     "output_type": "execute_result"
    }
   ],
   "source": [
    "#GridSearchCV\n",
    "\n",
    "def find_best_model_using_gridsearchcv(x,y):\n",
    "    algos = {\n",
    "        'linear_regression' :{'model': LinearRegression(),'params':{'normalize': [True,False]}\n",
    "        },\n",
    "        'ridge': {'model': Ridge(),'params': { 'alpha': [0.1,0.5,1]}\n",
    "        },\n",
    "        'lasso': {'model': Lasso(),'params': {'alpha': [0.1,0.5,1],'selection': ['random', 'cyclic']}\n",
    "        },\n",
    "        'decision_tree': {'model': DecisionTreeRegressor(),'params': {'criterion' : ['mse','friedman_mse'],\n",
    "                                                                      'splitter': ['best','random']}\n",
    "        }\n",
    "    }\n",
    "    scores = []\n",
    "    cv = ShuffleSplit(n_splits=5, test_size=0.2, random_state=10)\n",
    "    for algo_name, config in algos.items():\n",
    "        gs =  GridSearchCV(config['model'], config['params'], cv=cv)\n",
    "        gs.fit(x,y)\n",
    "        scores.append({\n",
    "            'model': algo_name,\n",
    "            'best_score': gs.best_score_,\n",
    "            'best_params': gs.best_params_\n",
    "        })\n",
    "\n",
    "    return pd.DataFrame(scores,columns=['model','best_score','best_params'])\n",
    "\n",
    "find_best_model_using_gridsearchcv(X,Y)"
   ]
  },
  {
   "cell_type": "markdown",
   "id": "f3a09098",
   "metadata": {},
   "source": [
    "Inference: From this GridSearch it Seems Linear & Ridge_Regression has the Best Accuracy so our final model will be Ridge Regression model"
   ]
  },
  {
   "cell_type": "code",
   "execution_count": 57,
   "id": "ecd298fc",
   "metadata": {},
   "outputs": [
    {
     "data": {
      "text/plain": [
       "84.74486212358352"
      ]
     },
     "execution_count": 57,
     "metadata": {},
     "output_type": "execute_result"
    }
   ],
   "source": [
    "#Lasso\n",
    "La_model = Lasso(alpha = 0.1,selection='random')\n",
    "La_model.fit(X_train, Y_train) \n",
    "La_model.score(X_test,Y_test)*100"
   ]
  },
  {
   "cell_type": "markdown",
   "id": "c509a056",
   "metadata": {},
   "source": [
    "#### Testing The Model on New Datapoint"
   ]
  },
  {
   "cell_type": "code",
   "execution_count": 58,
   "id": "d522b3c0",
   "metadata": {},
   "outputs": [],
   "source": [
    "# Function to Gets New input/Datapoint\n",
    "def predict_price(area,Bedrooms,Bathrooms,Balcony,parking,Lift,neworold,Furnished_status,type_of_building,Location):    \n",
    "    nro_index = np.where(X.columns==neworold)[0]\n",
    "    fus_index = np.where(X.columns==Furnished_status)[0]\n",
    "    tob_index = np.where(X.columns==type_of_building)[0]\n",
    "    loc_index = np.where(X.columns==Location)[0]\n",
    "\n",
    "    x = np.zeros(len(X.columns))\n",
    "    x[0] = area\n",
    "    x[1] = Bedrooms\n",
    "    x[2] = Bathrooms\n",
    "    x[3] = Balcony\n",
    "    x[4] = parking\n",
    "    x[5] = Lift\n",
    "    if nro_index >= 0:\n",
    "        x[nro_index] = 1\n",
    "    if fus_index >= 0:\n",
    "        x[fus_index] = 1\n",
    "    if [np.logical_and(tob_index > 0 , tob_index == 0)] :\n",
    "        x[tob_index] = 1\n",
    "    if loc_index >= 0:\n",
    "        x[loc_index] = 1\n",
    "\n",
    "    return round(La_model.predict([x])[0],2)"
   ]
  },
  {
   "cell_type": "code",
   "execution_count": 59,
   "id": "523a713b",
   "metadata": {
    "scrolled": true
   },
   "outputs": [
    {
     "data": {
      "text/html": [
       "<div>\n",
       "<style scoped>\n",
       "    .dataframe tbody tr th:only-of-type {\n",
       "        vertical-align: middle;\n",
       "    }\n",
       "\n",
       "    .dataframe tbody tr th {\n",
       "        vertical-align: top;\n",
       "    }\n",
       "\n",
       "    .dataframe thead th {\n",
       "        text-align: right;\n",
       "    }\n",
       "</style>\n",
       "<table border=\"1\" class=\"dataframe\">\n",
       "  <thead>\n",
       "    <tr style=\"text-align: right;\">\n",
       "      <th></th>\n",
       "      <th>area</th>\n",
       "      <th>Bedrooms</th>\n",
       "      <th>Bathrooms</th>\n",
       "      <th>Balcony</th>\n",
       "      <th>parking</th>\n",
       "      <th>Lift</th>\n",
       "      <th>New Property</th>\n",
       "      <th>Resale</th>\n",
       "      <th>Furnished</th>\n",
       "      <th>Semi Furnished</th>\n",
       "      <th>...</th>\n",
       "      <th>thakur</th>\n",
       "      <th>thane</th>\n",
       "      <th>ulhasnagar</th>\n",
       "      <th>vasai</th>\n",
       "      <th>versova</th>\n",
       "      <th>vikhroli</th>\n",
       "      <th>vile</th>\n",
       "      <th>virar</th>\n",
       "      <th>wadala</th>\n",
       "      <th>worli</th>\n",
       "    </tr>\n",
       "  </thead>\n",
       "  <tbody>\n",
       "    <tr>\n",
       "      <th>0</th>\n",
       "      <td>950</td>\n",
       "      <td>2</td>\n",
       "      <td>2</td>\n",
       "      <td>1</td>\n",
       "      <td>1</td>\n",
       "      <td>2</td>\n",
       "      <td>0</td>\n",
       "      <td>1</td>\n",
       "      <td>1</td>\n",
       "      <td>0</td>\n",
       "      <td>...</td>\n",
       "      <td>0</td>\n",
       "      <td>0</td>\n",
       "      <td>0</td>\n",
       "      <td>0</td>\n",
       "      <td>0</td>\n",
       "      <td>0</td>\n",
       "      <td>0</td>\n",
       "      <td>0</td>\n",
       "      <td>0</td>\n",
       "      <td>0</td>\n",
       "    </tr>\n",
       "    <tr>\n",
       "      <th>1</th>\n",
       "      <td>900</td>\n",
       "      <td>2</td>\n",
       "      <td>2</td>\n",
       "      <td>1</td>\n",
       "      <td>2</td>\n",
       "      <td>2</td>\n",
       "      <td>0</td>\n",
       "      <td>1</td>\n",
       "      <td>1</td>\n",
       "      <td>0</td>\n",
       "      <td>...</td>\n",
       "      <td>0</td>\n",
       "      <td>0</td>\n",
       "      <td>0</td>\n",
       "      <td>0</td>\n",
       "      <td>0</td>\n",
       "      <td>0</td>\n",
       "      <td>0</td>\n",
       "      <td>0</td>\n",
       "      <td>0</td>\n",
       "      <td>0</td>\n",
       "    </tr>\n",
       "    <tr>\n",
       "      <th>2</th>\n",
       "      <td>1355</td>\n",
       "      <td>3</td>\n",
       "      <td>3</td>\n",
       "      <td>1</td>\n",
       "      <td>1</td>\n",
       "      <td>3</td>\n",
       "      <td>0</td>\n",
       "      <td>1</td>\n",
       "      <td>0</td>\n",
       "      <td>0</td>\n",
       "      <td>...</td>\n",
       "      <td>0</td>\n",
       "      <td>0</td>\n",
       "      <td>0</td>\n",
       "      <td>0</td>\n",
       "      <td>0</td>\n",
       "      <td>0</td>\n",
       "      <td>0</td>\n",
       "      <td>0</td>\n",
       "      <td>0</td>\n",
       "      <td>0</td>\n",
       "    </tr>\n",
       "  </tbody>\n",
       "</table>\n",
       "<p>3 rows × 58 columns</p>\n",
       "</div>"
      ],
      "text/plain": [
       "   area  Bedrooms  Bathrooms  Balcony  parking  Lift  New Property  Resale  \\\n",
       "0   950         2          2        1        1     2             0       1   \n",
       "1   900         2          2        1        2     2             0       1   \n",
       "2  1355         3          3        1        1     3             0       1   \n",
       "\n",
       "   Furnished  Semi Furnished  ...  thakur  thane  ulhasnagar  vasai  versova  \\\n",
       "0          1               0  ...       0      0           0      0        0   \n",
       "1          1               0  ...       0      0           0      0        0   \n",
       "2          0               0  ...       0      0           0      0        0   \n",
       "\n",
       "   vikhroli  vile  virar  wadala  worli  \n",
       "0         0     0      0       0      0  \n",
       "1         0     0      0       0      0  \n",
       "2         0     0      0       0      0  \n",
       "\n",
       "[3 rows x 58 columns]"
      ]
     },
     "execution_count": 59,
     "metadata": {},
     "output_type": "execute_result"
    }
   ],
   "source": [
    "X.head(3)"
   ]
  },
  {
   "cell_type": "code",
   "execution_count": 60,
   "id": "b53249f2",
   "metadata": {
    "scrolled": true
   },
   "outputs": [
    {
     "data": {
      "text/plain": [
       "0    23900000\n",
       "1    25000000\n",
       "2    34000000\n",
       "Name: price, dtype: int64"
      ]
     },
     "execution_count": 60,
     "metadata": {},
     "output_type": "execute_result"
    }
   ],
   "source": [
    "Y.head(3)"
   ]
  },
  {
   "cell_type": "code",
   "execution_count": 61,
   "id": "5fddbdb4",
   "metadata": {
    "scrolled": false
   },
   "outputs": [
    {
     "data": {
      "text/plain": [
       "22217363.2"
      ]
     },
     "execution_count": 61,
     "metadata": {},
     "output_type": "execute_result"
    }
   ],
   "source": [
    "#0th\n",
    "predict_price(950,2,2,1,1,2,'Resale','Furnished','Flat','andheri')"
   ]
  },
  {
   "cell_type": "code",
   "execution_count": 62,
   "id": "5fb69f17",
   "metadata": {},
   "outputs": [
    {
     "data": {
      "text/plain": [
       "18920737.59"
      ]
     },
     "execution_count": 62,
     "metadata": {},
     "output_type": "execute_result"
    }
   ],
   "source": [
    "#4093th\n",
    "predict_price(950,2,2,1,1,2,'Resale','Unfurnished','Flat','vikroli')"
   ]
  },
  {
   "cell_type": "code",
   "execution_count": 63,
   "id": "169b949c",
   "metadata": {
    "scrolled": true
   },
   "outputs": [
    {
     "data": {
      "text/plain": [
       "47083292.75"
      ]
     },
     "execution_count": 63,
     "metadata": {},
     "output_type": "execute_result"
    }
   ],
   "source": [
    "#New Dataspoint\n",
    "predict_price(1450,3,3,2,1,2,'Resale','Unfurnished','Flat','mahim')"
   ]
  },
  {
   "cell_type": "markdown",
   "id": "78527ba1",
   "metadata": {},
   "source": [
    "#### Saving the Trained Model"
   ]
  },
  {
   "cell_type": "code",
   "execution_count": 64,
   "id": "2231a3a7",
   "metadata": {},
   "outputs": [],
   "source": [
    "# .sav file\n",
    "import pickle\n",
    "filename = 'C:/Users/Akaash/Downloads/house_price_model.sav'\n",
    "pickle.dump(La_model, open(filename, 'wb'))"
   ]
  },
  {
   "cell_type": "code",
   "execution_count": 65,
   "id": "560615fc",
   "metadata": {},
   "outputs": [],
   "source": [
    "# .pickle file\n",
    "with open('C:/Users/Akaash/Downloads/house_prices_model.pickle','wb') as f:\n",
    "    pickle.dump(La_model,f)"
   ]
  },
  {
   "cell_type": "markdown",
   "id": "be2a4d17",
   "metadata": {},
   "source": [
    "#### Exporting column information to a file that will be useful later on in our Deployment"
   ]
  },
  {
   "cell_type": "code",
   "execution_count": 66,
   "id": "fdfaafb8",
   "metadata": {},
   "outputs": [],
   "source": [
    "import json\n",
    "columns = {\n",
    "    'data_columns' : [col.lower() for col in X.columns]\n",
    "}\n",
    "with open(\"C:/Users/Akaash/Downloads/columns.json\",\"w\") as f:\n",
    "    f.write(json.dumps(columns))"
   ]
  }
 ],
 "metadata": {
  "kernelspec": {
   "display_name": "Python 3 (ipykernel)",
   "language": "python",
   "name": "python3"
  },
  "language_info": {
   "codemirror_mode": {
    "name": "ipython",
    "version": 3
   },
   "file_extension": ".py",
   "mimetype": "text/x-python",
   "name": "python",
   "nbconvert_exporter": "python",
   "pygments_lexer": "ipython3",
   "version": "3.9.7"
  }
 },
 "nbformat": 4,
 "nbformat_minor": 5
}
